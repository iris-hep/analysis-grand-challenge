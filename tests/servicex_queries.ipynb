{
 "cells": [
  {
   "cell_type": "markdown",
   "id": "d7492051",
   "metadata": {},
   "source": [
    "# reading remote data: examples\n",
    "\n",
    "dataset to use: PP8 ttbar from 2015 CMS Open Data, converted to flat ntuple"
   ]
  },
  {
   "cell_type": "code",
   "execution_count": 1,
   "id": "10f550aa",
   "metadata": {},
   "outputs": [],
   "source": [
    "import matplotlib.pyplot as plt\n",
    "import awkward as ak\n",
    "import numpy as np\n",
    "\n",
    "dataset_opendata = \"http://xrootd-local.unl.edu:1094//store/user/AGC/datasets/RunIIFall15MiniAODv2/TT_TuneCUETP8M1_13TeV-powheg-pythia8/MINIAODSIM//PU25nsData2015v1_76X_mcRun2_asymptotic_v12_ext3-v1/00000/00DF0A73-17C2-E511-B086-E41D2D08DE30.root\"\n",
    "treename = \"events\"\n",
    "bins = np.linspace(0, 250, 26)"
   ]
  },
  {
   "cell_type": "markdown",
   "id": "3b68c225",
   "metadata": {},
   "source": [
    "#### using `uproot`"
   ]
  },
  {
   "cell_type": "code",
   "execution_count": 2,
   "id": "88ed6c38",
   "metadata": {},
   "outputs": [
    {
     "name": "stdout",
     "output_type": "stream",
     "text": [
      "[[96.6, 90.3, 66.4, 57.2, 35.4, 16.4, 16.1, ... 16, 14.9, 13.9, 13.6, 10.4, 10.1]]\n"
     ]
    },
    {
     "data": {
      "image/png": "[encoded data removed]",
      "text/plain": [
       "<Figure size 432x288 with 1 Axes>"
      ]
     },
     "metadata": {
      "needs_background": "light"
     },
     "output_type": "display_data"
    }
   ],
   "source": [
    "import uproot\n",
    "\n",
    "f = uproot.open(dataset_opendata)\n",
    "jet_pt = f[treename][\"jet_pt\"].array()\n",
    "print(jet_pt)\n",
    "plt.hist(ak.flatten(jet_pt), bins=bins);"
   ]
  },
  {
   "cell_type": "markdown",
   "id": "09818da0",
   "metadata": {},
   "source": [
    "#### using `func_adl_uproot`"
   ]
  },
  {
   "cell_type": "code",
   "execution_count": 3,
   "id": "f4206330",
   "metadata": {},
   "outputs": [
    {
     "name": "stdout",
     "output_type": "stream",
     "text": [
      "[[96.6, 90.3, 66.4, 57.2, 35.4, 16.4, 16.1, ... 16, 14.9, 13.9, 13.6, 10.4, 10.1]]\n"
     ]
    },
    {
     "data": {
      "image/png": "[encoded data removed]",
      "text/plain": [
       "<Figure size 432x288 with 1 Axes>"
      ]
     },
     "metadata": {
      "needs_background": "light"
     },
     "output_type": "display_data"
    }
   ],
   "source": [
    "from func_adl_uproot import UprootDataset\n",
    "\n",
    "ds = UprootDataset(dataset_opendata, treename)\n",
    "jet_pt_query = ds.Select(lambda event: event.jet_pt)\n",
    "jet_pt = jet_pt_query.value()\n",
    "print(jet_pt)\n",
    "plt.hist(ak.flatten(jet_pt), bins=bins);"
   ]
  },
  {
   "cell_type": "markdown",
   "id": "69613ce0",
   "metadata": {},
   "source": [
    "#### using `func_adl_servicex`\n",
    "\n",
    "querying e.g. https://uproot-atlas.servicex.af.uchicago.edu/"
   ]
  },
  {
   "cell_type": "code",
   "execution_count": 4,
   "id": "4c09eb08",
   "metadata": {},
   "outputs": [
    {
     "data": {
      "application/vnd.jupyter.widget-view+json": {
       "model_id": "",
       "version_major": 2,
       "version_minor": 0
      },
      "text/plain": [
       "http://xrootd-local....:   0%|                                                                                …"
      ]
     },
     "metadata": {},
     "output_type": "display_data"
    },
    {
     "data": {
      "application/vnd.jupyter.widget-view+json": {
       "model_id": "",
       "version_major": 2,
       "version_minor": 0
      },
      "text/plain": [
       "        http://xrootd-local.... Downloaded:   0%|                                                             …"
      ]
     },
     "metadata": {},
     "output_type": "display_data"
    },
    {
     "name": "stdout",
     "output_type": "stream",
     "text": [
      "[[96.6, 90.3, 66.4, 57.2, 35.4, 16.4, 16.1, ... 16, 14.9, 13.9, 13.6, 10.4, 10.1]]\n"
     ]
    },
    {
     "data": {
      "image/png": "[encoded data removed]",
      "text/plain": [
       "<Figure size 432x288 with 1 Axes>"
      ]
     },
     "metadata": {
      "needs_background": "light"
     },
     "output_type": "display_data"
    }
   ],
   "source": [
    "from servicex import ServiceXDataset\n",
    "from func_adl_servicex import ServiceXSourceUpROOT\n",
    "\n",
    "sx_dataset = ServiceXDataset(dataset_opendata, backend_name='uproot', ignore_cache=True)\n",
    "ds = ServiceXSourceUpROOT(sx_dataset, treename)\n",
    "jet_pt_query = ds.Select(lambda event: event.jet_pt)\n",
    "\n",
    "jet_pt = jet_pt_query.AsAwkwardArray().value()\n",
    "print(jet_pt)\n",
    "plt.hist(ak.flatten(jet_pt), bins=bins);"
   ]
  },
  {
   "cell_type": "markdown",
   "id": "ad71b1fe",
   "metadata": {},
   "source": [
    "#### xAOD backend\n",
    "\n",
    "taken from https://github.com/iris-hep/func_adl_servicex#using-the-xaod-backend"
   ]
  },
  {
   "cell_type": "code",
   "execution_count": null,
   "id": "19e6ee1e",
   "metadata": {},
   "outputs": [],
   "source": [
    "from func_adl_servicex import ServiceXSourceXAOD\n",
    "\n",
    "dataset_xaod = \"mc15_13TeV:mc15_13TeV.361106.PowhegPythia8EvtGen_AZNLOCTEQ6L1_Zee.merge.DAOD_STDM3.e3601_s2576_s2132_r6630_r6264_p2363_tid05630052_00\"\n",
    "ds = ServiceXSourceXAOD(dataset_xaod)\n",
    "data = (\n",
    "    ds\n",
    "    .SelectMany('lambda e: (e.Jets(\"AntiKt4EMTopoJets\"))')\n",
    "    .Where('lambda j: (j.pt()/1000)>30')\n",
    "    .Select('lambda j: j.pt()')\n",
    "    .AsAwkwardArray([\"JetPt\"])\n",
    "    .value()\n",
    ")\n",
    "\n",
    "print(data['JetPt'])"
   ]
  }
 ],
 "metadata": {
  "kernelspec": {
   "display_name": "Python 3 (ipykernel)",
   "language": "python",
   "name": "python3"
  },
  "language_info": {
   "codemirror_mode": {
    "name": "ipython",
    "version": 3
   },
   "file_extension": ".py",
   "mimetype": "text/x-python",
   "name": "python",
   "nbconvert_exporter": "python",
   "pygments_lexer": "ipython3",
   "version": "3.9.13"
  }
 },
 "nbformat": 4,
 "nbformat_minor": 5
}
