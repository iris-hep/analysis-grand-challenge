{
 "cells": [
  {
   "cell_type": "code",
   "execution_count": 1,
   "id": "ae51dee0-813f-4edf-95a9-8d3b89c48f9b",
   "metadata": {},
   "outputs": [
    {
     "name": "stdout",
     "output_type": "stream",
     "text": [
      "Requirement already satisfied: servicex-databinder in /opt/conda/lib/python3.8/site-packages (0.2.8)\n",
      "Requirement already satisfied: backoff>=1.11.1 in /opt/conda/lib/python3.8/site-packages (from servicex-databinder) (2.1.2)\n",
      "Requirement already satisfied: func-adl-servicex>=1.1 in /opt/conda/lib/python3.8/site-packages (from servicex-databinder) (2.0)\n",
      "Requirement already satisfied: pyarrow>=3.0.0 in /opt/conda/lib/python3.8/site-packages (from servicex-databinder) (4.0.1)\n",
      "Requirement already satisfied: tqdm>=4.60.0 in /opt/conda/lib/python3.8/site-packages (from servicex-databinder) (4.62.3)\n",
      "Requirement already satisfied: servicex>=2.5 in /opt/conda/lib/python3.8/site-packages (from servicex-databinder) (2.5.4)\n",
      "Requirement already satisfied: nest-asyncio>=1.5.1 in /opt/conda/lib/python3.8/site-packages (from servicex-databinder) (1.5.5)\n",
      "Requirement already satisfied: tcut-to-qastle>=0.7 in /opt/conda/lib/python3.8/site-packages (from servicex-databinder) (0.7)\n",
      "Requirement already satisfied: qastle<1.0,>=0.10 in /opt/conda/lib/python3.8/site-packages (from func-adl-servicex>=1.1->servicex-databinder) (0.15.0)\n",
      "Requirement already satisfied: func-adl>=3.0b1 in /opt/conda/lib/python3.8/site-packages (from func-adl-servicex>=1.1->servicex-databinder) (3.0)\n",
      "Requirement already satisfied: numpy>=1.16.6 in /opt/conda/lib/python3.8/site-packages (from pyarrow>=3.0.0->servicex-databinder) (1.21.6)\n",
      "Requirement already satisfied: confuse==1.3.0 in /opt/conda/lib/python3.8/site-packages (from servicex>=2.5->servicex-databinder) (1.3.0)\n",
      "Requirement already satisfied: aiohttp~=3.6 in /opt/conda/lib/python3.8/site-packages (from servicex>=2.5->servicex-databinder) (3.8.1)\n",
      "Requirement already satisfied: pandas~=1.0 in /opt/conda/lib/python3.8/site-packages (from servicex>=2.5->servicex-databinder) (1.4.2)\n",
      "Requirement already satisfied: google-auth in /opt/conda/lib/python3.8/site-packages (from servicex>=2.5->servicex-databinder) (2.8.0)\n",
      "Requirement already satisfied: make-it-sync==1.0.0 in /opt/conda/lib/python3.8/site-packages (from servicex>=2.5->servicex-databinder) (1.0.0)\n",
      "Requirement already satisfied: idna==2.10 in /opt/conda/lib/python3.8/site-packages (from servicex>=2.5->servicex-databinder) (2.10)\n",
      "Requirement already satisfied: minio~=5.0 in /opt/conda/lib/python3.8/site-packages (from servicex>=2.5->servicex-databinder) (5.0.10)\n",
      "Requirement already satisfied: uproot<5,>=4.0.1 in /opt/conda/lib/python3.8/site-packages (from servicex>=2.5->servicex-databinder) (4.2.3)\n",
      "Requirement already satisfied: awkward<2,>=1.0.1 in /opt/conda/lib/python3.8/site-packages (from servicex>=2.5->servicex-databinder) (1.8.0)\n",
      "Requirement already satisfied: pyyaml in /opt/conda/lib/python3.8/site-packages (from confuse==1.3.0->servicex>=2.5->servicex-databinder) (6.0)\n",
      "Requirement already satisfied: attrs>=17.3.0 in /opt/conda/lib/python3.8/site-packages (from aiohttp~=3.6->servicex>=2.5->servicex-databinder) (21.4.0)\n",
      "Requirement already satisfied: multidict<7.0,>=4.5 in /opt/conda/lib/python3.8/site-packages (from aiohttp~=3.6->servicex>=2.5->servicex-databinder) (6.0.2)\n",
      "Requirement already satisfied: frozenlist>=1.1.1 in /opt/conda/lib/python3.8/site-packages (from aiohttp~=3.6->servicex>=2.5->servicex-databinder) (1.3.0)\n",
      "Requirement already satisfied: aiosignal>=1.1.2 in /opt/conda/lib/python3.8/site-packages (from aiohttp~=3.6->servicex>=2.5->servicex-databinder) (1.2.0)\n",
      "Requirement already satisfied: yarl<2.0,>=1.0 in /opt/conda/lib/python3.8/site-packages (from aiohttp~=3.6->servicex>=2.5->servicex-databinder) (1.7.2)\n",
      "Requirement already satisfied: async-timeout<5.0,>=4.0.0a3 in /opt/conda/lib/python3.8/site-packages (from aiohttp~=3.6->servicex>=2.5->servicex-databinder) (4.0.2)\n",
      "Requirement already satisfied: charset-normalizer<3.0,>=2.0 in /opt/conda/lib/python3.8/site-packages (from aiohttp~=3.6->servicex>=2.5->servicex-databinder) (2.0.9)\n",
      "Requirement already satisfied: setuptools in /opt/conda/lib/python3.8/site-packages (from awkward<2,>=1.0.1->servicex>=2.5->servicex-databinder) (62.2.0)\n",
      "Requirement already satisfied: pytz in /opt/conda/lib/python3.8/site-packages (from minio~=5.0->servicex>=2.5->servicex-databinder) (2022.1)\n",
      "Requirement already satisfied: urllib3 in /opt/conda/lib/python3.8/site-packages (from minio~=5.0->servicex>=2.5->servicex-databinder) (1.26.7)\n",
      "Requirement already satisfied: certifi in /opt/conda/lib/python3.8/site-packages (from minio~=5.0->servicex>=2.5->servicex-databinder) (2022.6.15)\n",
      "Requirement already satisfied: configparser in /opt/conda/lib/python3.8/site-packages (from minio~=5.0->servicex>=2.5->servicex-databinder) (5.2.0)\n",
      "Requirement already satisfied: python-dateutil in /opt/conda/lib/python3.8/site-packages (from minio~=5.0->servicex>=2.5->servicex-databinder) (2.8.2)\n",
      "Requirement already satisfied: lark-parser>=0.6.5 in /opt/conda/lib/python3.8/site-packages (from qastle<1.0,>=0.10->func-adl-servicex>=1.1->servicex-databinder) (0.12.0)\n",
      "Requirement already satisfied: cachetools<6.0,>=2.0.0 in /opt/conda/lib/python3.8/site-packages (from google-auth->servicex>=2.5->servicex-databinder) (5.0.0)\n",
      "Requirement already satisfied: rsa<5,>=3.1.4 in /opt/conda/lib/python3.8/site-packages (from google-auth->servicex>=2.5->servicex-databinder) (4.8)\n",
      "Requirement already satisfied: pyasn1-modules>=0.2.1 in /opt/conda/lib/python3.8/site-packages (from google-auth->servicex>=2.5->servicex-databinder) (0.2.8)\n",
      "Requirement already satisfied: six>=1.9.0 in /opt/conda/lib/python3.8/site-packages (from google-auth->servicex>=2.5->servicex-databinder) (1.16.0)\n",
      "Requirement already satisfied: pyasn1<0.5.0,>=0.4.6 in /opt/conda/lib/python3.8/site-packages (from pyasn1-modules>=0.2.1->google-auth->servicex>=2.5->servicex-databinder) (0.4.8)\n"
     ]
    }
   ],
   "source": [
    "!pip install --upgrade servicex-databinder"
   ]
  },
  {
   "cell_type": "code",
   "execution_count": 2,
   "id": "4a4f1543-c40a-44ca-9f35-e7db6f064055",
   "metadata": {},
   "outputs": [
    {
     "name": "stderr",
     "output_type": "stream",
     "text": [
      "INFO - retrieving data via uproot ServiceX..\n",
      "INFO - complete ServiceX data delivery..\n",
      "INFO - post-processing..\n",
      "INFO - done.\n"
     ]
    },
    {
     "name": "stdout",
     "output_type": "stream",
     "text": [
      "1.0255610942840576 seconds\n"
     ]
    }
   ],
   "source": [
    "import time\n",
    "t0=time.time()\n",
    "\n",
    "from servicex_databinder import DataBinder\n",
    "\n",
    "query_string = \"\"\"Where(\n",
    "    lambda event: event.electron_pt.Where(lambda pT: pT > 25).Count() + event.muon_pt.Where(lambda pT: pT > 25).Count() == 1\n",
    "    ).Where(lambda event: event.jet_pt.Where(lambda pT: pT > 25).Count() >= 4\n",
    "    ).Where(lambda event: event.jet_btag.Where(lambda btag: btag > 0.5).Count() >= 1\n",
    "    ).Select(\n",
    "        lambda e: {\"electron_pt\": e.electron_pt, \"muon_pt\": e.muon_pt,\n",
    "                   \"jet_pt\": e.jet_pt, \"jet_eta\": e.jet_eta, \"jet_phi\": e.jet_phi, \"jet_mass\": e.jet_mass, \"jet_btag\": e.jet_btag}\n",
    "    )\"\"\"\n",
    "\n",
    "query_string = \"\"\"Where(lambda event: event.electron_pt.Where(lambda pT: pT > 25).Count() + event.muon_pt.Where(lambda pT: pT > 25).Count() == 1).Select(lambda e: {\"electron_pt\": e.electron_pt, \"muon_pt\": e.muon_pt, \"jet_pt\": e.jet_pt, \"jet_eta\": e.jet_eta, \"jet_phi\": e.jet_phi, \"jet_mass\": e.jet_mass, \"jet_btag\": e.jet_btag})\"\"\"\n",
    "\n",
    "sample_names = [\"ttbar__nominal\", \"ttbar__scaledown\", \"ttbar__scaleup\", \"ttbar__ME_var\", \"ttbar__PS_var\", \"single_top_s_chan__nominal\", \"single_top_t_chan__nominal\", \"single_top_tW__nominal\", \"wjets__nominal\"]\n",
    "sample_names = [\"single_top_tW__nominal\"]\n",
    "sample_list = []\n",
    "\n",
    "\n",
    "\n",
    "for sample_name in sample_names:\n",
    "    sample_list.append({\"Name\": sample_name, \"RucioDID\": f\"user.ivukotic:user.ivukotic.{sample_name}\", \"Tree\": \"events\", \"FuncADL\": query_string})\n",
    "\n",
    "\n",
    "databinder_config = {\n",
    "                        \"General\": {\n",
    "                                       \"ServiceXBackendName\": \"uproot\",\n",
    "                                        \"OutputDirectory\": \"outputs_small\",\n",
    "                                        \"OutputFormat\": \"parquet\",\n",
    "                                        \"IgnoreServiceXCache\": False\n",
    "                        },\n",
    "                        \"Sample\": sample_list\n",
    "                    }\n",
    "\n",
    "sx_db = DataBinder(databinder_config)\n",
    "out = sx_db.deliver()\n",
    "\n",
    "print(f\"{time.time()-t0} seconds\")"
   ]
  },
  {
   "cell_type": "markdown",
   "id": "b8d50976-aebd-40df-856a-f27a430434cd",
   "metadata": {},
   "source": [
    "for progress, see e.g. https://uproot-atlas.servicex.af.uchicago.edu/dashboard (or whatever endpoint you are using)"
   ]
  },
  {
   "cell_type": "code",
   "execution_count": 3,
   "id": "4991c61f-5d2c-4db7-9832-95d3ffad96a3",
   "metadata": {},
   "outputs": [],
   "source": [
    "import json\n",
    "\n",
    "with open(\"databinder_files_filtered.json\", \"w\") as f:\n",
    "    f.write(json.dumps(out))"
   ]
  },
  {
   "cell_type": "code",
   "execution_count": 4,
   "id": "642a23be-f2ed-47ca-947c-550dd1f7f709",
   "metadata": {},
   "outputs": [
    {
     "name": "stdout",
     "output_type": "stream",
     "text": [
      "['/home/atlas-coffea/analysis-grand-challenge/analyses/cms-open-data-ttbar/outputs_small/single_top_tW__nominal/events/6fda30024832f85040f0e1433f1116a0-pnfs_lrz-muenchen.de_data_atlas_dq2_atlaslocalgroupdisk_rucio_user_ivukotic_7a_a7_54C278A6-56B9-E511-86BB-E41D2D08DDB0.root.parquet', '/home/atlas-coffea/analysis-grand-challenge/analyses/cms-open-data-ttbar/outputs_small/single_top_tW__nominal/events/2784c06e3cf9e1f7cb57507ddf8bac7f-pnfs_lrz-muenchen.de_data_atlas_dq2_atlaslocalgroupdisk_rucio_user_ivukotic_06_96_3E9888D3-4FB9-E511-A079-00259073E53E.root.parquet', '/home/atlas-coffea/analysis-grand-challenge/analyses/cms-open-data-ttbar/outputs_small/single_top_tW__nominal/events/f1472a5993cd5b50d93a6e6d158373df-pnfs_lrz-muenchen.de_data_atlas_dq2_atlaslocalgroupdisk_rucio_user_ivukotic_8f_6a_00D0925F-56B9-E511-8A71-0025907FD2B2.root.parquet', '/home/atlas-coffea/analysis-grand-challenge/analyses/cms-open-data-ttbar/outputs_small/single_top_tW__nominal/events/8da883e7e1ad8a6d200a7a41d6bc3baf-pnfs_lrz-muenchen.de_data_atlas_dq2_atlaslocalgroupdisk_rucio_user_ivukotic_5a_31_9C42AD5E-56B9-E511-B449-E41D2D08E010.root.parquet', '/home/atlas-coffea/analysis-grand-challenge/analyses/cms-open-data-ttbar/outputs_small/single_top_tW__nominal/events/8d28dd0b0f2d8b66baac05654dc95b50-pnfs_lrz-muenchen.de_data_atlas_dq2_atlaslocalgroupdisk_rucio_user_ivukotic_0a_5a_22CE10D0-56B9-E511-A81D-00266CFFA7C0.root.parquet', '/home/atlas-coffea/analysis-grand-challenge/analyses/cms-open-data-ttbar/outputs_small/single_top_tW__nominal/events/2986b69298e9fe376adb7edc5f1ddd23-pnfs_lrz-muenchen.de_data_atlas_dq2_atlaslocalgroupdisk_rucio_user_ivukotic_ca_1f_FCB5EFAB-C6B8-E511-8354-0025901AC0FC.root.parquet', '/home/atlas-coffea/analysis-grand-challenge/analyses/cms-open-data-ttbar/outputs_small/single_top_tW__nominal/events/c5665ae359d59a1c09c94637d8899726-pnfs_lrz-muenchen.de_data_atlas_dq2_atlaslocalgroupdisk_rucio_user_ivukotic_8f_71_A08F7871-CDB8-E511-B6B8-0025902BD8CE.root.parquet', '/home/atlas-coffea/analysis-grand-challenge/analyses/cms-open-data-ttbar/outputs_small/single_top_tW__nominal/events/3d5ccb69c11c3c0cd7b09cd50fccad89-pnfs_lrz-muenchen.de_data_atlas_dq2_atlaslocalgroupdisk_rucio_user_ivukotic_47_bb_DE9FE21F-20B9-E511-A259-0025907D2000.root.parquet', '/home/atlas-coffea/analysis-grand-challenge/analyses/cms-open-data-ttbar/outputs_small/single_top_tW__nominal/events/6698cfa449478c64d02c09524e81b16c-pnfs_lrz-muenchen.de_data_atlas_dq2_atlaslocalgroupdisk_rucio_user_ivukotic_40_c9_104F0605-BEB8-E511-804E-00259075D6B4.root.parquet', '/home/atlas-coffea/analysis-grand-challenge/analyses/cms-open-data-ttbar/outputs_small/single_top_tW__nominal/events/4a57b00cf56e57a2657253011014d950-pnfs_lrz-muenchen.de_data_atlas_dq2_atlaslocalgroupdisk_rucio_user_ivukotic_e9_6b_12264C70-56B9-E511-A89E-E41D2D08DE30.root.parquet']\n"
     ]
    }
   ],
   "source": [
    "print(out[\"single_top_tW__nominal\"][\"events\"][0:10])"
   ]
  },
  {
   "cell_type": "code",
   "execution_count": null,
   "id": "3295c2a7-8a2e-4029-9b83-fc1a227d2a27",
   "metadata": {},
   "outputs": [],
   "source": []
  }
 ],
 "metadata": {
  "kernelspec": {
   "display_name": "Python 3 (ipykernel)",
   "language": "python",
   "name": "python3"
  },
  "language_info": {
   "codemirror_mode": {
    "name": "ipython",
    "version": 3
   },
   "file_extension": ".py",
   "mimetype": "text/x-python",
   "name": "python",
   "nbconvert_exporter": "python",
   "pygments_lexer": "ipython3",
   "version": "3.8.13"
  }
 },
 "nbformat": 4,
 "nbformat_minor": 5
}
