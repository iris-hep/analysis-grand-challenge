{
 "cells": [
  {
   "cell_type": "code",
   "execution_count": 1,
   "id": "c8dc945e-0f70-4542-8725-7fbfa7b47865",
   "metadata": {},
   "outputs": [],
   "source": [
    "import asyncio\n",
    "import time\n",
    "\n",
    "import awkward as ak\n",
    "from coffea.processor import servicex\n",
    "from func_adl import ObjectStream\n",
    "from func_adl_servicex import ServiceXSourceUpROOT\n",
    "import hist\n",
    "import matplotlib.pyplot as plt\n",
    "from servicex import ServiceXDataset"
   ]
  },
  {
   "cell_type": "markdown",
   "id": "8d8fd413-6c3e-46a0-9945-75a4c1bc6725",
   "metadata": {},
   "source": [
    "Configuration options: enable / disable `dask` and the use of caching with `ServiceX` (to force re-running transforms)."
   ]
  },
  {
   "cell_type": "code",
   "execution_count": 2,
   "id": "9900ed24-64ac-4661-aa31-0f4714c7db4e",
   "metadata": {},
   "outputs": [],
   "source": [
    "# enable Dask\n",
    "USE_DASK = False\n",
    "\n",
    "# ServiceX behavior: ignore cache with repeated queries\n",
    "SERVICEX_IGNORE_CACHE = True"
   ]
  },
  {
   "cell_type": "markdown",
   "id": "545eacca-c610-4069-b96d-6c44d8083abf",
   "metadata": {},
   "source": [
    "The processor used here: select jets with $p_T > 25$ GeV and calculate $\\textrm{H}_\\textrm{T}^{\\textrm{had}}$ (scalar sum of jet $p_T$) as observable."
   ]
  },
  {
   "cell_type": "code",
   "execution_count": 3,
   "id": "d4e60d23-795c-4417-86c6-1696be3b65ec",
   "metadata": {},
   "outputs": [],
   "source": [
    "class TtbarAnalysis(servicex.Analysis):\n",
    "    def __init__(self):\n",
    "        self.hist = hist.Hist.new.Reg(50, 0, 1000, name=\"ht\", label=\"HT\").Weight()\n",
    "\n",
    "    def process(self, events):\n",
    "        histogram = self.hist.copy()\n",
    "\n",
    "        # select jets with pT > 25 GeV\n",
    "        selected_jets = events.jet[events.jet.pt > 25]\n",
    "\n",
    "        # use HT (scalar sum of jet pT) as observable\n",
    "        ht = ak.sum(selected_jets.pt, axis=-1)\n",
    "        histogram.fill(ht=ht, weight=1.0)\n",
    "\n",
    "        return histogram\n",
    "\n",
    "    def postprocess(self, accumulator):\n",
    "        return accumulator"
   ]
  },
  {
   "cell_type": "markdown",
   "id": "6702d39b-70b2-4252-a569-d9db01444469",
   "metadata": {},
   "source": [
    "Specify which data to process, using a small public file here taken from 2015 CMS Open Data."
   ]
  },
  {
   "cell_type": "code",
   "execution_count": 4,
   "id": "34588fe7-67dd-4b87-9306-b05334fc86d4",
   "metadata": {},
   "outputs": [],
   "source": [
    "# input data to process\n",
    "fileset = {\n",
    "    \"ttbar\": {\n",
    "        \"files\": [\"https://xrootd-local.unl.edu:1094//store/user/AGC/datasets/RunIIFall15MiniAODv2/TT_TuneCUETP8M1_13TeV-powheg-pythia8/MINIAODSIM//PU25nsData2015v1_76X_mcRun2_asymptotic_v12_ext3-v1/00000/00DF0A73-17C2-E511-B086-E41D2D08DE30.root\"],\n",
    "        \"metadata\": {\"process\": \"ttbar\"}\n",
    "    }\n",
    "}"
   ]
  },
  {
   "cell_type": "markdown",
   "id": "1bbe9b7b-19dd-4945-92e8-1757bb1b6d73",
   "metadata": {},
   "source": [
    "Set up the query: only requesting specific columns here without any filtering applied."
   ]
  },
  {
   "cell_type": "code",
   "execution_count": 5,
   "id": "13b93c01-24ae-49a3-a91b-3a432c7d2f2b",
   "metadata": {},
   "outputs": [],
   "source": [
    "def get_query(source: ObjectStream) -> ObjectStream:\n",
    "    \"\"\"Query for event / column selection: no filter, select single jet column\n",
    "    \"\"\"\n",
    "    return source.Select(lambda e: {\"jet_pt\": e.jet_pt})"
   ]
  },
  {
   "cell_type": "markdown",
   "id": "2b55e5ac-885f-455c-a742-b30b364559c3",
   "metadata": {},
   "source": [
    "The following cell is mostly boilerplate, which can hopefully be improved in the future."
   ]
  },
  {
   "cell_type": "code",
   "execution_count": 6,
   "id": "4022b82b-1aee-43d8-8958-b6947e5ed975",
   "metadata": {},
   "outputs": [],
   "source": [
    "def make_datasource(fileset:dict, name: str, query: ObjectStream, ignore_cache: bool):\n",
    "    \"\"\"Creates a ServiceX datasource for a particular Open Data file.\"\"\"\n",
    "    datasets = [ServiceXDataset(fileset[name][\"files\"], backend_name=\"uproot\", ignore_cache=ignore_cache)]\n",
    "    return servicex.DataSource(\n",
    "        query=query, metadata=fileset[name][\"metadata\"], datasets=datasets\n",
    "    )\n",
    "\n",
    "\n",
    "async def produce_all_histograms(fileset, query, procesor_class, use_dask=False, ignore_cache=False):\n",
    "    \"\"\"Runs the histogram production, processing input files with ServiceX and\n",
    "    producing histograms with coffea.\n",
    "    \"\"\"\n",
    "    # create the query\n",
    "    ds = ServiceXSourceUpROOT(\"cernopendata://dummy\", \"events\", backend_name=\"uproot\")\n",
    "    ds.return_qastle = True\n",
    "    data_query = query(ds)\n",
    "\n",
    "    # executor: local or Dask\n",
    "    if not use_dask:\n",
    "        executor = servicex.LocalExecutor()\n",
    "    else:\n",
    "        executor = servicex.DaskExecutor()\n",
    "\n",
    "    datasources = [\n",
    "        make_datasource(fileset, ds_name, data_query, ignore_cache=ignore_cache)\n",
    "        for ds_name in fileset.keys()\n",
    "    ]\n",
    "\n",
    "    # create the analysis processor\n",
    "    analysis_processor = procesor_class()\n",
    "\n",
    "    async def run_updates_stream(accumulator_stream):\n",
    "        \"\"\"Run to get the last item in the stream\"\"\"\n",
    "        coffea_info = None\n",
    "        try:\n",
    "            async for coffea_info in accumulator_stream:\n",
    "                pass\n",
    "        except Exception as e:\n",
    "            raise Exception(f\"Failure while processing\") from e\n",
    "        return coffea_info\n",
    "\n",
    "    output = await asyncio.gather(\n",
    "        *[\n",
    "            run_updates_stream(executor.execute(analysis_processor, source, title=source.metadata['process']))\n",
    "            for source in datasources\n",
    "        ]\n",
    "    )\n",
    "\n",
    "    return output"
   ]
  },
  {
   "cell_type": "markdown",
   "id": "908d64f0-bbfa-4f75-9da4-9b5ee3e1745e",
   "metadata": {},
   "source": [
    "Execute everything: query `ServiceX`, which sends columns back to `coffea` processors asynchronously, collect the aggregated histogram built by `coffea`."
   ]
  },
  {
   "cell_type": "code",
   "execution_count": 7,
   "id": "5b1d63a1-d9e5-4f23-a709-a73eeb0460ab",
   "metadata": {},
   "outputs": [
    {
     "data": {
      "application/vnd.jupyter.widget-view+json": {
       "model_id": "",
       "version_major": 2,
       "version_minor": 0
      },
      "text/plain": [
       "ttbar:   0%|                                                                                                  …"
      ]
     },
     "metadata": {},
     "output_type": "display_data"
    },
    {
     "data": {
      "application/vnd.jupyter.widget-view+json": {
       "model_id": "",
       "version_major": 2,
       "version_minor": 0
      },
      "text/plain": [
       "        ttbar Downloaded:   0%|                                                                               …"
      ]
     },
     "metadata": {},
     "output_type": "display_data"
    },
    {
     "name": "stdout",
     "output_type": "stream",
     "text": [
      "execution took 16.60 seconds\n"
     ]
    }
   ],
   "source": [
    "t0 = time.time()\n",
    "\n",
    "# in a notebook\n",
    "output = await produce_all_histograms(\n",
    "    fileset, get_query, TtbarAnalysis, use_dask=USE_DASK, ignore_cache=SERVICEX_IGNORE_CACHE\n",
    ")\n",
    "\n",
    "# as a script:\n",
    "# async def produce_all_the_histograms():\n",
    "#     return await produce_all_histograms(\n",
    "#         fileset, get_query, TtbarAnalysis, use_dask=USE_DASK, ignore_cache=SERVICEX_IGNORE_CACHE\n",
    "#     )\n",
    "# output = asyncio.run(produce_all_the_histograms())\n",
    "\n",
    "print(f\"execution took {time.time()-t0:.2f} seconds\")"
   ]
  },
  {
   "cell_type": "code",
   "execution_count": 8,
   "id": "f9e969b9-9925-4d43-9d0f-201d1547681f",
   "metadata": {},
   "outputs": [
    {
     "data": {
      "image/png": "[encoded data removed]",
      "text/plain": [
       "<Figure size 432x288 with 1 Axes>"
      ]
     },
     "metadata": {
      "needs_background": "light"
     },
     "output_type": "display_data"
    }
   ],
   "source": [
    "output[0].plot(label=\"ttbar\")\n",
    "plt.legend();"
   ]
  },
  {
   "cell_type": "code",
   "execution_count": null,
   "id": "a3619716",
   "metadata": {},
   "outputs": [],
   "source": []
  }
 ],
 "metadata": {
  "kernelspec": {
   "display_name": "coffea",
   "language": "python",
   "name": "coffea"
  },
  "language_info": {
   "codemirror_mode": {
    "name": "ipython",
    "version": 3
   },
   "file_extension": ".py",
   "mimetype": "text/x-python",
   "name": "python",
   "nbconvert_exporter": "python",
   "pygments_lexer": "ipython3",
   "version": "3.9.13"
  }
 },
 "nbformat": 4,
 "nbformat_minor": 5
}
