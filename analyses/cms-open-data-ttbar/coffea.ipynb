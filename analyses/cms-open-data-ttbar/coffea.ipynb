{
 "cells": [
  {
   "cell_type": "markdown",
   "id": "c40fe12f",
   "metadata": {},
   "source": [
    "# CMS Open Data $t\\bar{t}$: from data delivery to statistical inference\n",
    "\n",
    "<span style=\"color:red\"> *NOTE: this is an old version of the CMS ttbar analysis notebook. Development on this notebook has moved to `analyses/cms-open-data-ttbar/ttbar_analysis_pipeline.ipynb`.* </span>"
   ]
  }
 ],
 "metadata": {
  "kernelspec": {
   "display_name": "Python 3 (ipykernel)",
   "language": "python",
   "name": "python3"
  },
  "language_info": {
   "codemirror_mode": {
    "name": "ipython",
    "version": 3
   },
   "file_extension": ".py",
   "mimetype": "text/x-python",
   "name": "python",
   "nbconvert_exporter": "python",
   "pygments_lexer": "ipython3",
   "version": "3.8.15"
  }
 },
 "nbformat": 4,
 "nbformat_minor": 5
}
