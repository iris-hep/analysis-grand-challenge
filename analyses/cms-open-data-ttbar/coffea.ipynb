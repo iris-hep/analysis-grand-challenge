{
 "cells": [
  {
   "cell_type": "code",
   "execution_count": 1,
   "id": "b547996c",
   "metadata": {},
   "outputs": [],
   "source": [
    "N_FILES_MAX_PER_SAMPLE = 1  # input files per process, set to -1 for no limit / 1 or 10 for quick debugging  "
   ]
  },
  {
   "cell_type": "code",
   "execution_count": 2,
   "id": "cfda82b1",
   "metadata": {},
   "outputs": [],
   "source": [
    "import awkward as ak\n",
    "from coffea import processor\n",
    "import hist\n",
    "import json\n",
    "import numpy as np\n",
    "import uproot\n",
    "import cabinetry\n",
    "\n",
    "class Processor(processor.ProcessorABC):\n",
    "    def __init__(self):\n",
    "        num_bins = 23\n",
    "        bin_low = 20\n",
    "        bin_high = 250\n",
    "        name = \"mass\"\n",
    "        label = \"m [GeV]\"\n",
    "        self.hist = (\n",
    "            hist.Hist.new.Reg(num_bins, bin_low, bin_high, name=name, label=label)\n",
    "            .StrCat([], name=\"process\", label=\"Process\", growth=True)\n",
    "            .StrCat([], name=\"variation\", label=\"Systematic variation\", growth=True)\n",
    "            .Weight()\n",
    "        )\n",
    "\n",
    "    def process(self, events):\n",
    "        histogram = self.hist.copy()\n",
    "\n",
    "        process = events.metadata[\"process\"]  # \"ttbar\" etc.\n",
    "        variation = events.metadata[\"variation\"]  # \"nominal\" etc.\n",
    "\n",
    "        # normalization for MC\n",
    "        x_sec = events.metadata[\"xsec\"]\n",
    "        nevts_total = events.metadata[\"nevts\"]\n",
    "        lumi = 3378 # /pb\n",
    "        if process != \"data\":\n",
    "            xsec_weight = x_sec * lumi / nevts_total\n",
    "        else:\n",
    "            xsec_weight = 1\n",
    "        \n",
    "        \n",
    "        # pT > 25 GeV for leptons & jets    \n",
    "        selected_electrons = events.electron[events.electron.pt > 25]\n",
    "        selected_muons = events.muon[events.muon.pt > 25]\n",
    "        selected_jets = events.jet[events.jet.pt > 25]  # pT > 25 GeV for jets\n",
    "        \n",
    "        # single lepton requirement\n",
    "        event_filters = (ak.count(selected_electrons.pt, axis=1) & ak.count(selected_muons.pt, axis=1) == 1)\n",
    "        # at least four jets\n",
    "        event_filters = event_filters & (ak.count(selected_jets.pt, axis=1) >= 4)\n",
    "        # at least two b-tagged jets (\"tag\" means > 0.15 score here)\n",
    "        event_filters = event_filters & (ak.sum(selected_jets.btag > 0.15, axis=1) > 2)\n",
    "        \n",
    "        # apply filters\n",
    "        selected_events = events[event_filters]\n",
    "\n",
    "        histogram.fill(\n",
    "            mass=ak.sum(selected_events.jet, axis=-1).mass, process=process, variation=variation, weight=xsec_weight\n",
    "        )\n",
    "\n",
    "        output = {\"nevents\": {events.metadata[\"dataset\"]: len(events)}, \"hist\": histogram}\n",
    "\n",
    "        return output\n",
    "\n",
    "    def postprocess(self, accumulator):\n",
    "        return accumulator"
   ]
  },
  {
   "cell_type": "code",
   "execution_count": 3,
   "id": "8e9417d6",
   "metadata": {},
   "outputs": [],
   "source": [
    "from coffea.nanoevents.schemas.base import BaseSchema, zip_forms\n",
    "from coffea.nanoevents.methods import base, vector\n",
    "from coffea.nanoevents import transforms\n",
    "\n",
    "\n",
    "# https://github.com/mat-adamec/agc_coffea/blob/main/agc_schema.py\n",
    "class AGCSchema(BaseSchema):\n",
    "    def __init__(self, base_form):\n",
    "        super().__init__(base_form)\n",
    "        self._form[\"contents\"] = self._build_collections(self._form[\"contents\"])\n",
    "\n",
    "    def _build_collections(self, branch_forms):\n",
    "        names = set([k.split('_')[0] for k in branch_forms.keys() if not (k.startswith('number'))])\n",
    "        # Remove n(names) from consideration. It's safe to just remove names that start with n, as nothing else begins with n in our fields.\n",
    "        # Also remove GenPart, PV and MET because they deviate from the pattern of having a 'number' field.\n",
    "        names = [k for k in names if not (k.startswith('n') | k.startswith('met') | k.startswith('GenPart') | k.startswith('PV'))]\n",
    "        output = {}\n",
    "        for name in names:\n",
    "            offsets = transforms.counts2offsets_form(branch_forms['number' + name])\n",
    "            content = {k[len(name)+1:]: branch_forms[k] for k in branch_forms if (k.startswith(name + \"_\") & (k[len(name)+1:] != 'e'))}\n",
    "            # Add energy separately so its treated correctly by the p4 vector.\n",
    "            content['energy'] = branch_forms[name+'_e']\n",
    "            # Check for LorentzVector\n",
    "            output[name] = zip_forms(content, name, 'PtEtaPhiELorentzVector', offsets=offsets)\n",
    "\n",
    "        # Handle GenPart, PV, MET. Note that all the nPV_*'s should be the same. We just use one.\n",
    "        output['met'] = zip_forms({k[len('met')+1:]: branch_forms[k] for k in branch_forms if k.startswith('met_')}, 'met')\n",
    "        #output['GenPart'] = zip_forms({k[len('GenPart')+1:]: branch_forms[k] for k in branch_forms if k.startswith('GenPart_')}, 'GenPart', offsets=transforms.counts2offsets_form(branch_forms['numGenPart']))\n",
    "        output['PV'] = zip_forms({k[len('PV')+1:]: branch_forms[k] for k in branch_forms if (k.startswith('PV_') & ('npvs' not in k))}, 'PV', offsets=transforms.counts2offsets_form(branch_forms['nPV_x']))\n",
    "        return output\n",
    "\n",
    "    @property\n",
    "    def behavior(self):\n",
    "        behavior = {}\n",
    "        behavior.update(base.behavior)\n",
    "        behavior.update(vector.behavior)\n",
    "        return behavior"
   ]
  },
  {
   "cell_type": "code",
   "execution_count": 4,
   "id": "e5b1f8fa",
   "metadata": {},
   "outputs": [],
   "source": [
    "# using https://atlas-groupdata.web.cern.ch/atlas-groupdata/dev/AnalysisTop/TopDataPreparation/XSection-MC15-13TeV.data\n",
    "# x-secs are in pb\n",
    "xsec_info = {\n",
    "    \"ttbar\": 396.87 + 332.97, # nonallhad + allhad, keep same x-sec for all\n",
    "    \"single_top_s_chan\": 2.0268 + 1.2676,\n",
    "    \"single_top_t_chan\": (36.993 + 22.175)/0.252,  # scale from lepton filter to inclusive\n",
    "    \"single_top_tW\": 37.936 + 37.906,\n",
    "    \"wjets\": 61457 * 0.252,  # e/mu+nu final states\n",
    "    \"data\": None\n",
    "}\n",
    "\n",
    "# list of files\n",
    "with open(\"ntuples.json\") as f:\n",
    "    file_info = json.load(f)\n",
    "\n",
    "# process into \"fileset\" summarizing all info\n",
    "fileset = {}\n",
    "for process in file_info.keys():\n",
    "    if process == \"data\":\n",
    "        continue  # skip data\n",
    "\n",
    "    for variation in file_info[process].keys():\n",
    "        file_list = file_info[process][variation][\"files\"]\n",
    "        if N_FILES_MAX_PER_SAMPLE != -1:\n",
    "            file_list = file_list[:N_FILES_MAX_PER_SAMPLE]  # use partial set of samples\n",
    "\n",
    "        file_paths = [f[\"path\"] for f in file_list]\n",
    "        nevts_total = sum([f[\"nevts\"] for f in file_list])\n",
    "        metadata = {\"process\": process, \"variation\": variation, \"nevts\": nevts_total, \"xsec\": xsec_info[process]}\n",
    "        fileset.update({f\"{process}__{variation}\": {\"files\": file_paths, \"metadata\": metadata}})"
   ]
  },
  {
   "cell_type": "code",
   "execution_count": 5,
   "id": "78fce979",
   "metadata": {},
   "outputs": [
    {
     "data": {
      "application/vnd.jupyter.widget-view+json": {
       "model_id": "a5283b2027d84c02ad112c26c7f4d6fb",
       "version_major": 2,
       "version_minor": 0
      },
      "text/plain": [
       "Output()"
      ]
     },
     "metadata": {},
     "output_type": "display_data"
    },
    {
     "data": {
      "text/html": [
       "<pre style=\"white-space:pre;overflow-x:auto;line-height:normal;font-family:Menlo,'DejaVu Sans Mono',consolas,'Courier New',monospace\"></pre>\n"
      ],
      "text/plain": []
     },
     "metadata": {},
     "output_type": "display_data"
    },
    {
     "data": {
      "text/html": [
       "<pre style=\"white-space:pre;overflow-x:auto;line-height:normal;font-family:Menlo,'DejaVu Sans Mono',consolas,'Courier New',monospace\">\n",
       "</pre>\n"
      ],
      "text/plain": [
       "\n"
      ]
     },
     "metadata": {},
     "output_type": "display_data"
    },
    {
     "data": {
      "application/vnd.jupyter.widget-view+json": {
       "model_id": "e654bbaa4ebc40e199eb5b747ae902bc",
       "version_major": 2,
       "version_minor": 0
      },
      "text/plain": [
       "Output()"
      ]
     },
     "metadata": {},
     "output_type": "display_data"
    },
    {
     "data": {
      "text/html": [
       "<pre style=\"white-space:pre;overflow-x:auto;line-height:normal;font-family:Menlo,'DejaVu Sans Mono',consolas,'Courier New',monospace\"></pre>\n"
      ],
      "text/plain": []
     },
     "metadata": {},
     "output_type": "display_data"
    },
    {
     "data": {
      "text/html": [
       "<pre style=\"white-space:pre;overflow-x:auto;line-height:normal;font-family:Menlo,'DejaVu Sans Mono',consolas,'Courier New',monospace\">\n",
       "</pre>\n"
      ],
      "text/plain": [
       "\n"
      ]
     },
     "metadata": {},
     "output_type": "display_data"
    }
   ],
   "source": [
    "USE_DASK = False\n",
    "\n",
    "if USE_DASK:\n",
    "    from dask.distributed import Client\n",
    "\n",
    "    client = Client(\"tls://localhost:8786\")\n",
    "    executor = processor.DaskExecutor(client=client)\n",
    "else:\n",
    "    executor = processor.IterativeExecutor()\n",
    "\n",
    "run = processor.Runner(executor=executor, schema=AGCSchema, savemetrics=True, metadata_cache={})\n",
    "\n",
    "all_histograms, metrics = run(fileset, \"events\", processor_instance=Processor())"
   ]
  },
  {
   "cell_type": "code",
   "execution_count": 6,
   "id": "81b41cf4",
   "metadata": {},
   "outputs": [
    {
     "data": {
      "text/plain": [
       "<matplotlib.legend.Legend at 0x1783b35e0>"
      ]
     },
     "execution_count": 6,
     "metadata": {},
     "output_type": "execute_result"
    },
    {
     "data": {
      "image/png": "[encoded data removed]",
      "text/plain": [
       "<Figure size 432x288 with 1 Axes>"
      ]
     },
     "metadata": {
      "needs_background": "light"
     },
     "output_type": "display_data"
    }
   ],
   "source": [
    "all_histograms[\"hist\"][:, \"ttbar\", \"nominal\"].plot(stack=True, label=\"ttbar\")\n",
    "all_histograms[\"hist\"][:, \"wjets\", \"nominal\"].plot(stack=True, label=\"wjets\")\n",
    "all_histograms[\"hist\"][:, \"single_top_s_chan\", \"nominal\"].plot(stack=True, label=\"s-chan\")\n",
    "all_histograms[\"hist\"][:, \"single_top_t_chan\", \"nominal\"].plot(stack=True, label=\"t-chan\")\n",
    "all_histograms[\"hist\"][:, \"single_top_tW\", \"nominal\"].plot(stack=True, label=\"tW\")\n",
    "\n",
    "#all_histograms[\"hist\"][:, \"data\", \"nominal\"].plot(label=\"data\")\n",
    "\n",
    "\n",
    "import matplotlib.pyplot as plt\n",
    "fig = plt.gcf()\n",
    "fig.legend()\n",
    "#fig.axes[0].set_yscale(\"log\")\n",
    "\n",
    "#print(\"data\", sum(all_histograms[\"hist\"][:, \"data\", \"nominal\"].values()/1e6), \"M\")\n",
    "#print(\"ttbar\", sum(all_histograms[\"hist\"][:, \"ttbar\", \"nominal\"].values()/1e6), \"M\")"
   ]
  },
  {
   "cell_type": "code",
   "execution_count": 7,
   "id": "9e796239",
   "metadata": {},
   "outputs": [
    {
     "data": {
      "text/plain": [
       "<matplotlib.legend.Legend at 0x1784f4070>"
      ]
     },
     "execution_count": 7,
     "metadata": {},
     "output_type": "execute_result"
    },
    {
     "data": {
      "image/png": "[encoded data removed]",
      "text/plain": [
       "<Figure size 432x288 with 1 Axes>"
      ]
     },
     "metadata": {
      "needs_background": "light"
     },
     "output_type": "display_data"
    }
   ],
   "source": [
    "all_histograms[\"hist\"][:, \"ttbar\", \"nominal\"].plot(label=\"ttbar nominal\")\n",
    "all_histograms[\"hist\"][:, \"ttbar\", \"ME_var\"].plot(label=\"ttbar ME var\")\n",
    "all_histograms[\"hist\"][:, \"ttbar\", \"PS_var\"].plot(label=\"ttbar PS var\")\n",
    "all_histograms[\"hist\"][:, \"ttbar\", \"scaledown\"].plot(label=\"ttbar scale down\")\n",
    "all_histograms[\"hist\"][:, \"ttbar\", \"scaleup\"].plot(label=\"ttbar scale up\")\n",
    "\n",
    "fig = plt.gcf()\n",
    "fig.legend()"
   ]
  },
  {
   "cell_type": "markdown",
   "id": "7d2bb804",
   "metadata": {},
   "source": [
    "## Saving histograms & cabinetry"
   ]
  },
  {
   "cell_type": "code",
   "execution_count": 8,
   "id": "804ef793",
   "metadata": {},
   "outputs": [],
   "source": [
    "file_name = \"histograms.root\"\n",
    "with uproot.recreate(file_name) as f:\n",
    "    f[\"ttbar\"] = all_histograms[\"hist\"][:, \"ttbar\", \"nominal\"]\n",
    "    f[\"ttbar_ME_var\"] = all_histograms[\"hist\"][:, \"ttbar\", \"ME_var\"]\n",
    "    f[\"ttbar_PS_var\"] = all_histograms[\"hist\"][:, \"ttbar\", \"PS_var\"]\n",
    "    f[\"ttbar_scaledown\"] = all_histograms[\"hist\"][:, \"ttbar\", \"scaledown\"]\n",
    "    f[\"ttbar_scaleup\"] = all_histograms[\"hist\"][:, \"ttbar\", \"scaleup\"]\n",
    "    \n",
    "    f[\"wjets\"] = all_histograms[\"hist\"][:, \"wjets\", \"nominal\"]\n",
    "    f[\"single_top_s_chan\"] = all_histograms[\"hist\"][:, \"single_top_s_chan\", \"nominal\"]\n",
    "    f[\"single_top_t_chan\"] = all_histograms[\"hist\"][:, \"single_top_t_chan\", \"nominal\"]\n",
    "    f[\"single_top_tW\"] = all_histograms[\"hist\"][:, \"single_top_tW\", \"nominal\"]"
   ]
  },
  {
   "cell_type": "code",
   "execution_count": 9,
   "id": "486ad228",
   "metadata": {},
   "outputs": [
    {
     "name": "stderr",
     "output_type": "stream",
     "text": [
      "Signal_region_Data has empty bins: [22]\n",
      "Signal_region_ttbar has empty bins: [22]\n",
      "Signal_region_ttbar_PS-variation_Up has empty bins: [22]\n",
      "Signal_region_ttbar_scale-variation_Up has empty bins: [19 20 21]\n",
      "Signal_region_W+jets has empty bins: [ 0  1  2  4  5  7  8  9 10 11 12 13 14 15 16 17 19 20 21 22]\n",
      "Signal_region_single-top,-s-channel has empty bins: [14 16 17 19 20 21 22]\n",
      "Signal_region_single-top,-t-channel has empty bins: [14 16 17 19 20 21 22]\n",
      "Signal_region_tW has empty bins: [18]\n",
      "Signal_region_Data has empty bins: [22]\n",
      "Signal_region_ttbar has empty bins: [22]\n",
      "Signal_region_ttbar_PS-variation_Up has empty bins: [22]\n",
      "Signal_region_ttbar_scale-variation_Up has empty bins: [19 20 21]\n",
      "Signal_region_W+jets has empty bins: [ 0  1  2  4  5  7  8  9 10 11 12 13 14 15 16 17 19 20 21 22]\n",
      "Signal_region_single-top,-s-channel has empty bins: [14 16 17 19 20 21 22]\n",
      "Signal_region_single-top,-t-channel has empty bins: [14 16 17 19 20 21 22]\n",
      "Signal_region_tW has empty bins: [18]\n"
     ]
    },
    {
     "data": {
      "image/png": "[encoded data removed]",
      "text/plain": [
       "<Figure size 600x200 with 1 Axes>"
      ]
     },
     "execution_count": 9,
     "metadata": {},
     "output_type": "execute_result"
    }
   ],
   "source": [
    "config = cabinetry.configuration.load(\"config.yml\")\n",
    "cabinetry.templates.collect(config)\n",
    "cabinetry.templates.postprocess(config)  # optional post-processing (e.g. smoothing)\n",
    "ws = cabinetry.workspace.build(config)\n",
    "\n",
    "model, data = cabinetry.model_utils.model_and_data(ws)\n",
    "fit_results = cabinetry.fit.fit(model, data)\n",
    "\n",
    "cabinetry.visualize.pulls(\n",
    "    fit_results, exclude=\"ttbar_norm\", close_figure=True, save_figure=False\n",
    ")\n"
   ]
  },
  {
   "cell_type": "code",
   "execution_count": 10,
   "id": "aee58d3d",
   "metadata": {},
   "outputs": [
    {
     "name": "stdout",
     "output_type": "stream",
     "text": [
      "number of files processed: 9\n",
      "data read: 1.2 GB\n"
     ]
    }
   ],
   "source": [
    "print(f\"number of files processed: {metrics['chunks']}\")\n",
    "\n",
    "print(f\"data read: {metrics['bytesread']/1024/1024:.1f} GB\")"
   ]
  },
  {
   "cell_type": "code",
   "execution_count": 11,
   "id": "c887fb6a",
   "metadata": {},
   "outputs": [
    {
     "data": {
      "text/plain": [
       "{'bytesread': 1292783,\n",
       " 'columns': ['jet_py',\n",
       "  'jet_px',\n",
       "  'electron_pt',\n",
       "  'jet_btag',\n",
       "  'jet_pt_uncorr',\n",
       "  'numberelectron',\n",
       "  'jet_ch',\n",
       "  'jet_pz',\n",
       "  'muon_pt',\n",
       "  'numberjet',\n",
       "  'jet_mass',\n",
       "  'numbermuon',\n",
       "  'jet_eta',\n",
       "  'jet_pt',\n",
       "  'jet_phi',\n",
       "  'jet_e'],\n",
       " 'entries': 391912,\n",
       " 'processtime': 192.9278862476349,\n",
       " 'chunks': 9}"
      ]
     },
     "execution_count": 11,
     "metadata": {},
     "output_type": "execute_result"
    }
   ],
   "source": [
    "metrics"
   ]
  }
 ],
 "metadata": {
  "kernelspec": {
   "display_name": "Python 3 (ipykernel)",
   "language": "python",
   "name": "python3"
  },
  "language_info": {
   "codemirror_mode": {
    "name": "ipython",
    "version": 3
   },
   "file_extension": ".py",
   "mimetype": "text/x-python",
   "name": "python",
   "nbconvert_exporter": "python",
   "pygments_lexer": "ipython3",
   "version": "3.9.12"
  }
 },
 "nbformat": 4,
 "nbformat_minor": 5
}
