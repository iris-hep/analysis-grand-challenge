{
 "cells": [
  {
   "cell_type": "markdown",
   "id": "82f3c55c-3159-4120-9705-e9ffd194b822",
   "metadata": {},
   "source": [
    "### Configuration: number of files and ServiceX usage"
   ]
  },
  {
   "cell_type": "code",
   "execution_count": 1,
   "id": "b547996c",
   "metadata": {},
   "outputs": [],
   "source": [
    "# GLOBAL CONFIGURATION\n",
    "N_FILES_MAX_PER_SAMPLE = 1  # input files per process, set to -1 for no limit / 1 or 10 for quick debugging\n",
    "USE_SERVICEX = False\n",
    "USE_DASK = False\n",
    "SERVICEX_IGNORE_CACHE = False  # set to True to force re-running of transforms\n",
    "AF = \"coffea_casa\"  # set to \"coffea_casa\" for coffea-casa environments, \"EAF\" for FNAL, \"local\" for local setups"
   ]
  },
  {
   "cell_type": "markdown",
   "id": "e726f38d-e04b-4b1a-8a5f-58f58e2cb329",
   "metadata": {},
   "source": [
    "### relevant imports"
   ]
  },
  {
   "cell_type": "code",
   "execution_count": 2,
   "id": "cfda82b1",
   "metadata": {},
   "outputs": [],
   "source": [
    "import asyncio\n",
    "import time\n",
    "\n",
    "import awkward as ak\n",
    "from coffea import processor\n",
    "from coffea.processor import servicex\n",
    "import hist\n",
    "import json\n",
    "import numpy as np\n",
    "import uproot\n",
    "import cabinetry\n",
    "from func_adl_servicex import ServiceXSourceUpROOT\n",
    "from func_adl import ObjectStream\n",
    "from servicex import ServiceXDataset\n",
    "from coffea.nanoevents.schemas.base import BaseSchema\n",
    "import matplotlib.pyplot as plt\n",
    "\n",
    "import utils"
   ]
  },
  {
   "cell_type": "markdown",
   "id": "d8674317-8ecd-402c-a1fe-d5de1074705e",
   "metadata": {},
   "source": [
    "### coffea Processor"
   ]
  },
  {
   "cell_type": "code",
   "execution_count": 3,
   "id": "790dc3c2-7311-4ad4-a177-4fd4a1553559",
   "metadata": {},
   "outputs": [],
   "source": [
    "processor_base = processor.ProcessorABC if not USE_SERVICEX else servicex.Analysis\n",
    "\n",
    "class TtbarAnalysis(processor_base):\n",
    "    def __init__(self):\n",
    "        num_bins = 25\n",
    "        bin_low = 50\n",
    "        bin_high = 550\n",
    "        name = \"observable\"\n",
    "        label = \"observable [GeV]\"\n",
    "        self.hist = (\n",
    "            hist.Hist.new.Reg(num_bins, bin_low, bin_high, name=name, label=label)\n",
    "            .StrCat([\"4j1b\", \"4j2b\"], name=\"region\", label=\"Region\")\n",
    "            .StrCat([], name=\"process\", label=\"Process\", growth=True)\n",
    "            .StrCat([], name=\"variation\", label=\"Systematic variation\", growth=True)\n",
    "            .Weight()\n",
    "        )\n",
    "\n",
    "    def process(self, events):\n",
    "        histogram = self.hist.copy()\n",
    "\n",
    "        process = events.metadata[\"process\"]  # \"ttbar\" etc.\n",
    "        variation = events.metadata[\"variation\"]  # \"nominal\" etc.\n",
    "\n",
    "        # normalization for MC\n",
    "        x_sec = events.metadata[\"xsec\"]\n",
    "        nevts_total = events.metadata[\"nevts\"]\n",
    "        lumi = 3378 # /pb\n",
    "        if process != \"data\":\n",
    "            xsec_weight = x_sec * lumi / nevts_total\n",
    "        else:\n",
    "            xsec_weight = 1\n",
    "\n",
    "\n",
    "        # very very loosely based on https://arxiv.org/abs/2006.13076\n",
    "\n",
    "        # pT > 25 GeV for leptons & jets\n",
    "        selected_electrons = events.electron[events.electron.pt > 25]\n",
    "        selected_muons = events.muon[events.muon.pt > 25]\n",
    "        selected_jets = events.jet[events.jet.pt > 25]  # pT > 25 GeV for jets\n",
    "\n",
    "        # single lepton requirement\n",
    "        event_filters = (ak.count(selected_electrons.pt, axis=1) & ak.count(selected_muons.pt, axis=1) == 1)\n",
    "        # at least four jets\n",
    "        event_filters = event_filters & (ak.count(selected_jets.pt, axis=1) >= 4)\n",
    "        # at least one b-tagged jet (\"tag\" means > 0.5 score here)\n",
    "        B_TAG_THRESHOLD = 0.6\n",
    "        event_filters = event_filters & (ak.sum(selected_jets.btag >= B_TAG_THRESHOLD, axis=1) >= 1)\n",
    "\n",
    "        # apply event filters\n",
    "        selected_events = events[event_filters]\n",
    "        selected_electrons = selected_electrons[event_filters]\n",
    "        selected_muons = selected_muons[event_filters]\n",
    "        selected_jets = selected_jets[event_filters]\n",
    "\n",
    "        for region in [\"4j1b\", \"4j2b\"]:\n",
    "            # further filtering: 4j1b CR with single b-tag, 4j2b SR with two or more tags\n",
    "            if region == \"4j1b\":\n",
    "                region_filter = ak.sum(selected_jets.btag >= B_TAG_THRESHOLD, axis=1) == 1\n",
    "                selected_jets_region = selected_jets[region_filter]\n",
    "                # use HT (scalar sum of jet pT) as observable\n",
    "                observable = ak.sum(selected_jets_region.pt, axis=-1)\n",
    "        \n",
    "            elif region == \"4j2b\":\n",
    "                region_filter = ak.sum(selected_jets.btag > B_TAG_THRESHOLD, axis=1) >= 2\n",
    "                selected_jets_region = selected_jets[region_filter]\n",
    "                \n",
    "                # reconstruct hadronic top as bjj system with largest pT\n",
    "                trijet = ak.combinations(selected_jets_region, 3, fields=[\"j1\", \"j2\", \"j3\"])  # trijet candidates\n",
    "                trijet[\"p4\"] = trijet.j1 + trijet.j2 + trijet.j3  # calculate four-momentum of tri-jet system\n",
    "                trijet[\"max_btag\"] = np.maximum(trijet.j1.btag, np.maximum(trijet.j2.btag, trijet.j3.btag))\n",
    "                trijet = trijet[trijet.max_btag > B_TAG_THRESHOLD]  # require at least one-btag in trijet candidates\n",
    "                # pick trijet candidate with largest pT and calculate mass of system\n",
    "                trijet_mass = trijet[\"p4\"][ak.argmax(trijet.p4.pt, axis=1, keepdims=True)].mass\n",
    "                observable = ak.flatten(trijet_mass)\n",
    "\n",
    "            histogram.fill(\n",
    "                observable=observable, region=region, process=process, variation=variation, weight=xsec_weight\n",
    "            )\n",
    "\n",
    "        output = {\"nevents\": {events.metadata[\"dataset\"]: len(events)}, \"hist\": histogram}\n",
    "\n",
    "        return output\n",
    "\n",
    "    def postprocess(self, accumulator):\n",
    "        return accumulator"
   ]
  },
  {
   "cell_type": "markdown",
   "id": "88b8466e-5010-4a7d-a4cb-b3960942dfbd",
   "metadata": {},
   "source": [
    "### AGC schema (for pure coffea)"
   ]
  },
  {
   "cell_type": "code",
   "execution_count": 4,
   "id": "8e9417d6",
   "metadata": {
    "jupyter": {
     "source_hidden": true
    },
    "tags": []
   },
   "outputs": [],
   "source": [
    "from coffea.nanoevents.schemas.base import BaseSchema, zip_forms\n",
    "from coffea.nanoevents.methods import base, vector\n",
    "from coffea.nanoevents import transforms\n",
    "\n",
    "\n",
    "# https://github.com/mat-adamec/agc_coffea/blob/main/agc_schema.py\n",
    "class AGCSchema(BaseSchema):\n",
    "    def __init__(self, base_form):\n",
    "        super().__init__(base_form)\n",
    "        self._form[\"contents\"] = self._build_collections(self._form[\"contents\"])\n",
    "\n",
    "    def _build_collections(self, branch_forms):\n",
    "        names = set([k.split('_')[0] for k in branch_forms.keys() if not (k.startswith('number'))])\n",
    "        # Remove n(names) from consideration. It's safe to just remove names that start with n, as nothing else begins with n in our fields.\n",
    "        # Also remove GenPart, PV and MET because they deviate from the pattern of having a 'number' field.\n",
    "        names = [k for k in names if not (k.startswith('n') | k.startswith('met') | k.startswith('GenPart') | k.startswith('PV'))]\n",
    "        output = {}\n",
    "        for name in names:\n",
    "            offsets = transforms.counts2offsets_form(branch_forms['number' + name])\n",
    "            content = {k[len(name)+1:]: branch_forms[k] for k in branch_forms if (k.startswith(name + \"_\") & (k[len(name)+1:] != 'e'))}\n",
    "            # Add energy separately so its treated correctly by the p4 vector.\n",
    "            content['energy'] = branch_forms[name+'_e']\n",
    "            # Check for LorentzVector\n",
    "            output[name] = zip_forms(content, name, 'PtEtaPhiELorentzVector', offsets=offsets)\n",
    "\n",
    "        # Handle GenPart, PV, MET. Note that all the nPV_*'s should be the same. We just use one.\n",
    "        output['met'] = zip_forms({k[len('met')+1:]: branch_forms[k] for k in branch_forms if k.startswith('met_')}, 'met')\n",
    "        #output['GenPart'] = zip_forms({k[len('GenPart')+1:]: branch_forms[k] for k in branch_forms if k.startswith('GenPart_')}, 'GenPart', offsets=transforms.counts2offsets_form(branch_forms['numGenPart']))\n",
    "        output['PV'] = zip_forms({k[len('PV')+1:]: branch_forms[k] for k in branch_forms if (k.startswith('PV_') & ('npvs' not in k))}, 'PV', offsets=transforms.counts2offsets_form(branch_forms['nPV_x']))\n",
    "        return output\n",
    "\n",
    "    @property\n",
    "    def behavior(self):\n",
    "        behavior = {}\n",
    "        behavior.update(base.behavior)\n",
    "        behavior.update(vector.behavior)\n",
    "        return behavior"
   ]
  },
  {
   "cell_type": "markdown",
   "id": "f586fab7-16cf-492b-9e00-bf8fb856bf87",
   "metadata": {},
   "source": [
    "### metadata & fileset construction"
   ]
  },
  {
   "cell_type": "code",
   "execution_count": 5,
   "id": "29341dd9",
   "metadata": {},
   "outputs": [
    {
     "name": "stdout",
     "output_type": "stream",
     "text": [
      "processes in fileset: ['ttbar__nominal', 'ttbar__scaledown', 'ttbar__scaleup', 'ttbar__ME_var', 'ttbar__PS_var', 'single_top_s_chan__nominal', 'single_top_t_chan__nominal', 'single_top_tW__nominal', 'wjets__nominal']\n",
      "\n",
      "example of information in fileset:\n",
      "{\n",
      "  'files': [https://xrootd-local.unl.edu:1094//store/user/AGC/datasets/RunIIFall15MiniAODv2/TT_TuneCUETP8M1_13TeV-powheg-pythia8/MINIAODSIM//PU25nsData2015v1_76X_mcRun2_asymptotic_v12_ext3-v1/00000/00DF0A73-17C2-E511-B086-E41D2D08DE30.root, ...],\n",
      "  'metadata': {'process': 'ttbar', 'variation': 'nominal', 'nevts': 41812, 'xsec': 729.84}\n",
      "}\n"
     ]
    }
   ],
   "source": [
    "fileset = utils.construct_fileset(N_FILES_MAX_PER_SAMPLE)\n",
    "\n",
    "print(f\"processes in fileset: {list(fileset.keys())}\")\n",
    "print(f\"\\nexample of information in fileset:\\n{{\\n  'files': [{fileset['ttbar__nominal']['files'][0]}, ...],\")\n",
    "print(f\"  'metadata': {fileset['ttbar__nominal']['metadata']}\\n}}\")"
   ]
  },
  {
   "cell_type": "markdown",
   "id": "812546fa-850e-4448-b9ee-0544be491aec",
   "metadata": {},
   "source": [
    "### ServiceX-specific functionality: datasource construction, query, asyncio\n",
    "(move to utils file)"
   ]
  },
  {
   "cell_type": "code",
   "execution_count": 6,
   "id": "ceab708d-5062-4a13-ba9a-87d762a052e8",
   "metadata": {
    "jupyter": {
     "source_hidden": true
    },
    "tags": []
   },
   "outputs": [],
   "source": [
    "def make_datasource(fileset:dict, name: str, query: ObjectStream, ignore_cache: bool):\n",
    "    \"\"\"Creates a ServiceX datasource for a particular ATLAS Open data file.\"\"\"\n",
    "    datasets = [ServiceXDataset(fileset[name][\"files\"], backend_name=\"uproot\", ignore_cache=ignore_cache)]\n",
    "    return servicex.DataSource(\n",
    "        query=query, metadata=fileset[name][\"metadata\"], datasets=datasets\n",
    "    )\n",
    "\n",
    "def get_query(source: ObjectStream) -> ObjectStream:\n",
    "    \"\"\"Query for event / column selection: no filter, select all columns\n",
    "    \"\"\"\n",
    "    return source.Select(lambda e: {\n",
    "                                    \"electron_e\": e.electron_e,\n",
    "                                    \"electron_pt\": e.electron_pt,\n",
    "                                    \"electron_px\": e.electron_px,\n",
    "                                    \"electron_py\": e.electron_py,\n",
    "                                    \"electron_pz\": e.electron_pz,\n",
    "                                    \"electron_eta\": e.electron_eta,\n",
    "                                    \"electron_phi\": e.electron_phi,\n",
    "                                    \"electron_ch\": e.electron_ch,\n",
    "                                    \"electron_iso\": e.electron_iso,\n",
    "                                    \"electron_isLoose\": e.electron_isLoose,\n",
    "                                    \"electron_isMedium\": e.electron_isMedium,\n",
    "                                    \"electron_isTight\": e.electron_isTight,\n",
    "                                    \"electron_dxy\": e.electron_dxy,\n",
    "                                    \"electron_dz\": e.electron_dz,\n",
    "                                    \"electron_dxyError\": e.electron_dxyError,\n",
    "                                    \"electron_dzError\": e.electron_dzError,\n",
    "\n",
    "                                    \"muon_e\": e.muon_e,\n",
    "                                    \"muon_pt\": e.muon_pt,\n",
    "                                    \"muon_px\": e.muon_px,\n",
    "                                    \"muon_py\": e.muon_py,\n",
    "                                    \"muon_pz\": e.muon_pz,\n",
    "                                    \"muon_eta\": e.muon_eta,\n",
    "                                    \"muon_phi\": e.muon_phi,\n",
    "                                    \"muon_ch\": e.muon_ch,\n",
    "                                    \"muon_isSoft\": e.muon_isSoft,\n",
    "                                    \"muon_isTight\": e.muon_isTight,\n",
    "                                    \"muon_dxy\": e.muon_dxy,\n",
    "                                    \"muon_dz\": e.muon_dz,\n",
    "                                    \"muon_dxyError\": e.muon_dxyError,\n",
    "                                    \"muon_dzError\": e.muon_dzError,\n",
    "                                    \"muon_pfreliso03all\": e.muon_pfreliso03all,\n",
    "                                    \"muon_pfreliso04all\": e.muon_pfreliso04all,\n",
    "                                    \"muon_jetidx\": e.muon_jetidx,\n",
    "                                    \"muon_genpartidx\": e.muon_genpartidx,\n",
    "\n",
    "                                    \"jet_e\": e.jet_e,\n",
    "                                    \"jet_pt\": e.jet_pt,\n",
    "                                    \"jet_px\": e.jet_px,\n",
    "                                    \"jet_py\": e.jet_py,\n",
    "                                    \"jet_pz\": e.jet_pz,\n",
    "                                    \"jet_eta\": e.jet_eta,\n",
    "                                    \"jet_phi\": e.jet_phi,\n",
    "                                    \"jet_ch\": e.jet_ch,\n",
    "                                    \"jet_mass\": e.jet_mass,\n",
    "                                    \"jet_btag\": e.jet_btag,\n",
    "                                    \"jet_pt_uncorr\": e.jet_pt_uncorr\n",
    "                                   }\n",
    "                        )\n",
    "\n",
    "\n",
    "async def produce_all_histograms(fileset, use_dask=False):\n",
    "    \"\"\"Runs the histogram production, processing input files with ServiceX and\n",
    "    producing histograms with coffea.\n",
    "    \"\"\"\n",
    "    # create the query\n",
    "    ds = ServiceXSourceUpROOT(\"cernopendata://dummy\", \"events\", backend_name=\"uproot\")\n",
    "    ds.return_qastle = True\n",
    "    data_query = get_query(ds)\n",
    "\n",
    "    # EXECUTOR: local vs Dask\n",
    "    if not use_dask:\n",
    "        executor = servicex.LocalExecutor()\n",
    "    else:\n",
    "        executor = servicex.DaskExecutor(client_addr=\"tls://localhost:8786\")\n",
    "\n",
    "    datasources = [\n",
    "        make_datasource(fileset, ds_name, data_query, ignore_cache=SERVICEX_IGNORE_CACHE)\n",
    "        for ds_name in fileset.keys()\n",
    "    ]\n",
    "\n",
    "    # create the analysis processor\n",
    "    analysis_processor = TtbarAnalysis()\n",
    "\n",
    "    async def run_updates_stream(accumulator_stream, name):\n",
    "        \"\"\"Run to get the last item in the stream\"\"\"\n",
    "        coffea_info = None\n",
    "        try:\n",
    "            async for coffea_info in accumulator_stream:\n",
    "                pass\n",
    "        except Exception as e:\n",
    "            raise Exception(f\"Failure while processing {name}\") from e\n",
    "        return coffea_info\n",
    "\n",
    "    all_histogram_dicts = await asyncio.gather(\n",
    "        *[\n",
    "            run_updates_stream(\n",
    "                executor.execute(analysis_processor, source),\n",
    "                f\"{source.metadata['process']}__{source.metadata['variation']}\",\n",
    "            )\n",
    "            for source in datasources\n",
    "        ]\n",
    "    )\n",
    "    all_histograms = sum([h[\"hist\"] for h in all_histogram_dicts])\n",
    "    \n",
    "    return all_histograms"
   ]
  },
  {
   "cell_type": "markdown",
   "id": "757a0a9b-cede-4722-b1d6-98a7f4b779d7",
   "metadata": {},
   "source": [
    "### execute"
   ]
  },
  {
   "cell_type": "code",
   "execution_count": 7,
   "id": "78fce979",
   "metadata": {},
   "outputs": [
    {
     "data": {
      "application/vnd.jupyter.widget-view+json": {
       "model_id": "9b8d9a8661184fe29eaec16348b45f0e",
       "version_major": 2,
       "version_minor": 0
      },
      "text/plain": [
       "Output()"
      ]
     },
     "metadata": {},
     "output_type": "display_data"
    },
    {
     "data": {
      "text/html": [
       "<pre style=\"white-space:pre;overflow-x:auto;line-height:normal;font-family:Menlo,'DejaVu Sans Mono',consolas,'Courier New',monospace\"></pre>\n"
      ],
      "text/plain": []
     },
     "metadata": {},
     "output_type": "display_data"
    },
    {
     "data": {
      "text/html": [
       "<pre style=\"white-space:pre;overflow-x:auto;line-height:normal;font-family:Menlo,'DejaVu Sans Mono',consolas,'Courier New',monospace\">\n",
       "</pre>\n"
      ],
      "text/plain": [
       "\n"
      ]
     },
     "metadata": {},
     "output_type": "display_data"
    },
    {
     "data": {
      "application/vnd.jupyter.widget-view+json": {
       "model_id": "fade154ec706418a8986b3d43499dfd8",
       "version_major": 2,
       "version_minor": 0
      },
      "text/plain": [
       "Output()"
      ]
     },
     "metadata": {},
     "output_type": "display_data"
    },
    {
     "data": {
      "text/html": [
       "<pre style=\"white-space:pre;overflow-x:auto;line-height:normal;font-family:Menlo,'DejaVu Sans Mono',consolas,'Courier New',monospace\"></pre>\n"
      ],
      "text/plain": []
     },
     "metadata": {},
     "output_type": "display_data"
    },
    {
     "data": {
      "text/html": [
       "<pre style=\"white-space:pre;overflow-x:auto;line-height:normal;font-family:Menlo,'DejaVu Sans Mono',consolas,'Courier New',monospace\">\n",
       "</pre>\n"
      ],
      "text/plain": [
       "\n"
      ]
     },
     "metadata": {},
     "output_type": "display_data"
    },
    {
     "name": "stdout",
     "output_type": "stream",
     "text": [
      "\n",
      "execution took 197.42 seconds\n"
     ]
    }
   ],
   "source": [
    "t0 = time.time()\n",
    "\n",
    "if USE_SERVICEX:\n",
    "    # in a notebook:\n",
    "    all_histograms = await produce_all_histograms(fileset, use_dask=USE_DASK)\n",
    "\n",
    "    # as a script:\n",
    "    # async def produce_all_the_histograms(fileset, use_dask=use_dask):\n",
    "    #    return await produce_all_histograms(fileset, use_dask=use_dask)\n",
    "    #\n",
    "    # all_histograms = asyncio.run(produce_all_the_histograms(fileset, use_dask=USE_DASK))\n",
    "\n",
    "else:\n",
    "    t0 = time.time()\n",
    "    if USE_DASK:\n",
    "        executor = processor.DaskExecutor(client=utils.get_client(AF))\n",
    "    else:\n",
    "        executor = processor.IterativeExecutor()\n",
    "\n",
    "    run = processor.Runner(executor=executor, schema=AGCSchema, savemetrics=True, metadata_cache={})\n",
    "\n",
    "    all_histograms, metrics = run(fileset, \"events\", processor_instance=TtbarAnalysis())\n",
    "    all_histograms = all_histograms[\"hist\"]\n",
    "    \n",
    "print(f\"\\nexecution took {time.time() - t0:.2f} seconds\")"
   ]
  },
  {
   "cell_type": "code",
   "execution_count": 8,
   "id": "414a2d3a-3578-4a00-a91a-66fbb18225c4",
   "metadata": {},
   "outputs": [
    {
     "name": "stdout",
     "output_type": "stream",
     "text": [
      "number of files processed: 9\n",
      "data read: 1.2 MB\n"
     ]
    }
   ],
   "source": [
    "if not USE_SERVICEX:\n",
    "    print(f\"number of files processed: {metrics['chunks']}\")\n",
    "    print(f\"data read: {metrics['bytesread']/1024**2:.1f} MB\")\n",
    "\n",
    "    metrics"
   ]
  },
  {
   "cell_type": "markdown",
   "id": "be8f321a-940a-4e25-86f0-e5889331ad86",
   "metadata": {},
   "source": [
    "### plotting "
   ]
  },
  {
   "cell_type": "code",
   "execution_count": 9,
   "id": "9f17abd8-74ed-40db-9ea8-73341c8bf627",
   "metadata": {},
   "outputs": [
    {
     "data": {
      "image/png": "[encoded data removed]",
      "text/plain": [
       "<Figure size 432x288 with 1 Axes>"
      ]
     },
     "metadata": {},
     "output_type": "display_data"
    }
   ],
   "source": [
    "utils.set_style()\n",
    "\n",
    "all_histograms[120j::hist.rebin(2), \"4j1b\", :, \"nominal\"].stack(\"process\")[::-1].plot(stack=True, histtype=\"fill\", linewidth=1, edgecolor=\"grey\")\n",
    "plt.legend(frameon=False)\n",
    "plt.title(\">= 4 jets, 1 b-tag\")\n",
    "plt.xlabel(\"HT [GeV]\");"
   ]
  },
  {
   "cell_type": "code",
   "execution_count": 10,
   "id": "318654e9-444c-401b-8957-4477d4c103f1",
   "metadata": {},
   "outputs": [
    {
     "data": {
      "image/png": "[encoded data removed]",
      "text/plain": [
       "<Figure size 432x288 with 1 Axes>"
      ]
     },
     "metadata": {},
     "output_type": "display_data"
    }
   ],
   "source": [
    "all_histograms[:, \"4j2b\", :, \"nominal\"].stack(\"process\")[::-1].plot(stack=True, histtype=\"fill\", linewidth=1,edgecolor=\"grey\")\n",
    "plt.legend(frameon=False)\n",
    "plt.title(\">= 4 jets, >= 2 b-tags\");\n",
    "plt.xlabel(\"$m_{bjj}$ [Gev]\");"
   ]
  },
  {
   "cell_type": "code",
   "execution_count": 11,
   "id": "3a157582-a4c4-4a48-af34-03b27826e626",
   "metadata": {},
   "outputs": [
    {
     "name": "stdout",
     "output_type": "stream",
     "text": [
      "4j, >=2b 51475.50418444467\n",
      "4j, 1b 34199.07494499187\n"
     ]
    }
   ],
   "source": [
    "print(\"4j, >=2b\", sum(all_histograms[:, \"4j2b\", \"ttbar\", \"nominal\"].values())) # total before splitting: 101790.4947274355\n",
    "print(\"4j, 1b\", sum(all_histograms[:, \"4j1b\", \"ttbar\", \"nominal\"].values()))"
   ]
  },
  {
   "cell_type": "code",
   "execution_count": 12,
   "id": "ad19aaae-2ffa-4e28-8efb-4f94bf1fdb5a",
   "metadata": {},
   "outputs": [
    {
     "data": {
      "image/png": "[encoded data removed]",
      "text/plain": [
       "<Figure size 432x288 with 1 Axes>"
      ]
     },
     "metadata": {},
     "output_type": "display_data"
    }
   ],
   "source": [
    "all_histograms[:, \"4j1b\", \"ttbar\", :].stack(\"variation\").plot(linewidth=2)\n",
    "plt.legend()\n",
    "plt.title(\"ttbar systematic variations in 4j1b\");"
   ]
  },
  {
   "cell_type": "code",
   "execution_count": 13,
   "id": "9e796239",
   "metadata": {},
   "outputs": [
    {
     "data": {
      "image/png": "[encoded data removed]",
      "text/plain": [
       "<Figure size 432x288 with 1 Axes>"
      ]
     },
     "metadata": {},
     "output_type": "display_data"
    }
   ],
   "source": [
    "all_histograms[:, \"4j2b\", \"ttbar\", :].stack(\"variation\").plot(linewidth=2)\n",
    "plt.legend()\n",
    "plt.title(\"ttbar systematic variations in 4j2b\");"
   ]
  },
  {
   "cell_type": "markdown",
   "id": "7d2bb804",
   "metadata": {},
   "source": [
    "### saving histograms & cabinetry"
   ]
  },
  {
   "cell_type": "code",
   "execution_count": 14,
   "id": "804ef793",
   "metadata": {},
   "outputs": [],
   "source": [
    "with uproot.recreate(\"histograms.root\") as f:\n",
    "    for region in [\"4j1b\", \"4j2b\"]:\n",
    "        f[f\"{region}_ttbar\"] = all_histograms[:, region, \"ttbar\", \"nominal\"]\n",
    "        f[f\"{region}_ttbar_ME_var\"] = all_histograms[:, region, \"ttbar\", \"ME_var\"]\n",
    "        f[f\"{region}_ttbar_PS_var\"] = all_histograms[:, region, \"ttbar\", \"PS_var\"]\n",
    "        f[f\"{region}_ttbar_scaledown\"] = all_histograms[:, region, \"ttbar\", \"scaledown\"]\n",
    "        f[f\"{region}_ttbar_scaleup\"] = all_histograms[:, region, \"ttbar\", \"scaleup\"]\n",
    "\n",
    "        f[f\"{region}_wjets\"] = all_histograms[:, region, \"wjets\", \"nominal\"]\n",
    "        f[f\"{region}_single_top_s_chan\"] = all_histograms[:, region, \"single_top_s_chan\", \"nominal\"]\n",
    "        f[f\"{region}_single_top_t_chan\"] = all_histograms[:, region, \"single_top_t_chan\", \"nominal\"]\n",
    "        f[f\"{region}_single_top_tW\"] = all_histograms[:, region, \"single_top_tW\", \"nominal\"]"
   ]
  },
  {
   "cell_type": "code",
   "execution_count": 15,
   "id": "486ad228",
   "metadata": {},
   "outputs": [
    {
     "name": "stderr",
     "output_type": "stream",
     "text": [
      "Control_region_Data has empty bins: [0 1 2 3]\n",
      "Control_region_ttbar has empty bins: [0 1 2 3]\n",
      "Control_region_ttbar_ME-variation_Up has empty bins: [0 1 2 3 4 5]\n",
      "Control_region_ttbar_PS-variation_Up has empty bins: [0 1 2 3]\n",
      "Control_region_ttbar_scale-variation_Up has empty bins: [0 1 2 3]\n",
      "Control_region_ttbar_scale-variation_Down has empty bins: [0 1 2 3 4]\n",
      "Control_region_W+jets has empty bins: [ 0  1  2  3  4  5  6  8  9 10 13 15 16 17 18 19 21 22 23]\n",
      "Control_region_single-top,-s-channel has empty bins: [ 0  1  2  3  5 23]\n",
      "Control_region_single-top,-t-channel has empty bins: [ 0  1  2  3  5 23]\n",
      "Control_region_tW has empty bins: [0 1 2]\n",
      "Signal_region_W+jets has empty bins: [ 0  1  2  3  4  5  6  7  8  9 10 11 12 13 14 15 16 17 18 19 20 21 22 23\n",
      " 24]\n",
      "Signal_region_single-top,-s-channel has empty bins: [0]\n",
      "Signal_region_single-top,-t-channel has empty bins: [0]\n",
      "Control_region_Data has empty bins: [0 1 2 3]\n",
      "Control_region_ttbar has empty bins: [0 1 2 3]\n",
      "Control_region_ttbar_ME-variation_Up has empty bins: [0 1 2 3 4 5]\n",
      "Control_region_ttbar_PS-variation_Up has empty bins: [0 1 2 3]\n",
      "Control_region_ttbar_scale-variation_Up has empty bins: [0 1 2 3]\n",
      "Control_region_ttbar_scale-variation_Down has empty bins: [0 1 2 3 4]\n",
      "Control_region_W+jets has empty bins: [ 0  1  2  3  4  5  6  8  9 10 13 15 16 17 18 19 21 22 23]\n",
      "Control_region_single-top,-s-channel has empty bins: [ 0  1  2  3  5 23]\n",
      "Control_region_single-top,-t-channel has empty bins: [ 0  1  2  3  5 23]\n",
      "Control_region_tW has empty bins: [0 1 2]\n",
      "Signal_region_W+jets has empty bins: [ 0  1  2  3  4  5  6  7  8  9 10 11 12 13 14 15 16 17 18 19 20 21 22 23\n",
      " 24]\n",
      "Signal_region_single-top,-s-channel has empty bins: [0]\n",
      "Signal_region_single-top,-t-channel has empty bins: [0]\n"
     ]
    },
    {
     "ename": "AssertionError",
     "evalue": "",
     "output_type": "error",
     "traceback": [
      "\u001b[0;31m---------------------------------------------------------------------------\u001b[0m",
      "\u001b[0;31mAssertionError\u001b[0m                            Traceback (most recent call last)",
      "Input \u001b[0;32mIn [15]\u001b[0m, in \u001b[0;36m<cell line: 6>\u001b[0;34m()\u001b[0m\n\u001b[1;32m      3\u001b[0m cabinetry\u001b[38;5;241m.\u001b[39mtemplates\u001b[38;5;241m.\u001b[39mpostprocess(config)  \u001b[38;5;66;03m# optional post-processing (e.g. smoothing)\u001b[39;00m\n\u001b[1;32m      4\u001b[0m ws \u001b[38;5;241m=\u001b[39m cabinetry\u001b[38;5;241m.\u001b[39mworkspace\u001b[38;5;241m.\u001b[39mbuild(config)\n\u001b[0;32m----> 6\u001b[0m model, data \u001b[38;5;241m=\u001b[39m \u001b[43mcabinetry\u001b[49m\u001b[38;5;241;43m.\u001b[39;49m\u001b[43mmodel_utils\u001b[49m\u001b[38;5;241;43m.\u001b[39;49m\u001b[43mmodel_and_data\u001b[49m\u001b[43m(\u001b[49m\u001b[43mws\u001b[49m\u001b[43m)\u001b[49m\n\u001b[1;32m      7\u001b[0m fit_results \u001b[38;5;241m=\u001b[39m cabinetry\u001b[38;5;241m.\u001b[39mfit\u001b[38;5;241m.\u001b[39mfit(model, data)\n\u001b[1;32m      9\u001b[0m cabinetry\u001b[38;5;241m.\u001b[39mvisualize\u001b[38;5;241m.\u001b[39mpulls(\n\u001b[1;32m     10\u001b[0m     fit_results, exclude\u001b[38;5;241m=\u001b[39m\u001b[38;5;124m\"\u001b[39m\u001b[38;5;124mttbar_norm\u001b[39m\u001b[38;5;124m\"\u001b[39m, close_figure\u001b[38;5;241m=\u001b[39m\u001b[38;5;28;01mTrue\u001b[39;00m, save_figure\u001b[38;5;241m=\u001b[39m\u001b[38;5;28;01mFalse\u001b[39;00m\n\u001b[1;32m     11\u001b[0m )\n",
      "File \u001b[0;32m~/mambaforge/envs/coffea/lib/python3.9/site-packages/cabinetry/model_utils.py:59\u001b[0m, in \u001b[0;36mmodel_and_data\u001b[0;34m(spec, asimov, include_auxdata)\u001b[0m\n\u001b[1;32m     45\u001b[0m \u001b[38;5;124;03m\"\"\"Returns model and data for a ``pyhf`` workspace specification.\u001b[39;00m\n\u001b[1;32m     46\u001b[0m \n\u001b[1;32m     47\u001b[0m \u001b[38;5;124;03mArgs:\u001b[39;00m\n\u001b[0;32m   (...)\u001b[0m\n\u001b[1;32m     56\u001b[0m \u001b[38;5;124;03m        - the data (plus auxdata if requested) for the model\u001b[39;00m\n\u001b[1;32m     57\u001b[0m \u001b[38;5;124;03m\"\"\"\u001b[39;00m\n\u001b[1;32m     58\u001b[0m workspace \u001b[38;5;241m=\u001b[39m pyhf\u001b[38;5;241m.\u001b[39mWorkspace(spec)\n\u001b[0;32m---> 59\u001b[0m model \u001b[38;5;241m=\u001b[39m \u001b[43mworkspace\u001b[49m\u001b[38;5;241;43m.\u001b[39;49m\u001b[43mmodel\u001b[49m\u001b[43m(\u001b[49m\n\u001b[1;32m     60\u001b[0m \u001b[43m    \u001b[49m\u001b[43mmodifier_settings\u001b[49m\u001b[38;5;241;43m=\u001b[39;49m\u001b[43m{\u001b[49m\n\u001b[1;32m     61\u001b[0m \u001b[43m        \u001b[49m\u001b[38;5;124;43m\"\u001b[39;49m\u001b[38;5;124;43mnormsys\u001b[39;49m\u001b[38;5;124;43m\"\u001b[39;49m\u001b[43m:\u001b[49m\u001b[43m \u001b[49m\u001b[43m{\u001b[49m\u001b[38;5;124;43m\"\u001b[39;49m\u001b[38;5;124;43minterpcode\u001b[39;49m\u001b[38;5;124;43m\"\u001b[39;49m\u001b[43m:\u001b[49m\u001b[43m \u001b[49m\u001b[38;5;124;43m\"\u001b[39;49m\u001b[38;5;124;43mcode4\u001b[39;49m\u001b[38;5;124;43m\"\u001b[39;49m\u001b[43m}\u001b[49m\u001b[43m,\u001b[49m\n\u001b[1;32m     62\u001b[0m \u001b[43m        \u001b[49m\u001b[38;5;124;43m\"\u001b[39;49m\u001b[38;5;124;43mhistosys\u001b[39;49m\u001b[38;5;124;43m\"\u001b[39;49m\u001b[43m:\u001b[49m\u001b[43m \u001b[49m\u001b[43m{\u001b[49m\u001b[38;5;124;43m\"\u001b[39;49m\u001b[38;5;124;43minterpcode\u001b[39;49m\u001b[38;5;124;43m\"\u001b[39;49m\u001b[43m:\u001b[49m\u001b[43m \u001b[49m\u001b[38;5;124;43m\"\u001b[39;49m\u001b[38;5;124;43mcode4p\u001b[39;49m\u001b[38;5;124;43m\"\u001b[39;49m\u001b[43m}\u001b[49m\u001b[43m,\u001b[49m\n\u001b[1;32m     63\u001b[0m \u001b[43m    \u001b[49m\u001b[43m}\u001b[49m\n\u001b[1;32m     64\u001b[0m \u001b[43m\u001b[49m\u001b[43m)\u001b[49m  \u001b[38;5;66;03m# use HistFactory InterpCode=4 (default in pyhf since v0.6.0)\u001b[39;00m\n\u001b[1;32m     65\u001b[0m \u001b[38;5;28;01mif\u001b[39;00m \u001b[38;5;129;01mnot\u001b[39;00m asimov:\n\u001b[1;32m     66\u001b[0m     data \u001b[38;5;241m=\u001b[39m workspace\u001b[38;5;241m.\u001b[39mdata(model, include_auxdata\u001b[38;5;241m=\u001b[39minclude_auxdata)\n",
      "File \u001b[0;32m~/mambaforge/envs/coffea/lib/python3.9/site-packages/pyhf/workspace.py:418\u001b[0m, in \u001b[0;36mWorkspace.model\u001b[0;34m(self, **config_kwargs)\u001b[0m\n\u001b[1;32m    415\u001b[0m \u001b[38;5;28;01mfor\u001b[39;00m patch \u001b[38;5;129;01min\u001b[39;00m patches:\n\u001b[1;32m    416\u001b[0m     modelspec \u001b[38;5;241m=\u001b[39m jsonpatch\u001b[38;5;241m.\u001b[39mJsonPatch(patch)\u001b[38;5;241m.\u001b[39mapply(modelspec)\n\u001b[0;32m--> 418\u001b[0m \u001b[38;5;28;01mreturn\u001b[39;00m \u001b[43mModel\u001b[49m\u001b[43m(\u001b[49m\u001b[43mmodelspec\u001b[49m\u001b[43m,\u001b[49m\u001b[43m \u001b[49m\u001b[43mpoi_name\u001b[49m\u001b[38;5;241;43m=\u001b[39;49m\u001b[43mmeasurement\u001b[49m\u001b[43m[\u001b[49m\u001b[38;5;124;43m'\u001b[39;49m\u001b[38;5;124;43mconfig\u001b[39;49m\u001b[38;5;124;43m'\u001b[39;49m\u001b[43m]\u001b[49m\u001b[43m[\u001b[49m\u001b[38;5;124;43m'\u001b[39;49m\u001b[38;5;124;43mpoi\u001b[39;49m\u001b[38;5;124;43m'\u001b[39;49m\u001b[43m]\u001b[49m\u001b[43m,\u001b[49m\u001b[43m \u001b[49m\u001b[38;5;241;43m*\u001b[39;49m\u001b[38;5;241;43m*\u001b[39;49m\u001b[43mconfig_kwargs\u001b[49m\u001b[43m)\u001b[49m\n",
      "File \u001b[0;32m~/mambaforge/envs/coffea/lib/python3.9/site-packages/pyhf/pdf.py:687\u001b[0m, in \u001b[0;36mModel.__init__\u001b[0;34m(self, spec, batch_size, **config_kwargs)\u001b[0m\n\u001b[1;32m    684\u001b[0m \u001b[38;5;28mself\u001b[39m\u001b[38;5;241m.\u001b[39mconfig \u001b[38;5;241m=\u001b[39m _ModelConfig(spec, \u001b[38;5;241m*\u001b[39m\u001b[38;5;241m*\u001b[39mconfig_kwargs)\n\u001b[1;32m    686\u001b[0m mega_mods, _nominal_rates \u001b[38;5;241m=\u001b[39m _nominal_and_modifiers_from_spec(\u001b[38;5;28mself\u001b[39m\u001b[38;5;241m.\u001b[39mconfig, spec)\n\u001b[0;32m--> 687\u001b[0m \u001b[38;5;28mself\u001b[39m\u001b[38;5;241m.\u001b[39mmain_model \u001b[38;5;241m=\u001b[39m \u001b[43m_MainModel\u001b[49m\u001b[43m(\u001b[49m\n\u001b[1;32m    688\u001b[0m \u001b[43m    \u001b[49m\u001b[38;5;28;43mself\u001b[39;49m\u001b[38;5;241;43m.\u001b[39;49m\u001b[43mconfig\u001b[49m\u001b[43m,\u001b[49m\n\u001b[1;32m    689\u001b[0m \u001b[43m    \u001b[49m\u001b[43mmega_mods\u001b[49m\u001b[38;5;241;43m=\u001b[39;49m\u001b[43mmega_mods\u001b[49m\u001b[43m,\u001b[49m\n\u001b[1;32m    690\u001b[0m \u001b[43m    \u001b[49m\u001b[43mnominal_rates\u001b[49m\u001b[38;5;241;43m=\u001b[39;49m\u001b[43m_nominal_rates\u001b[49m\u001b[43m,\u001b[49m\n\u001b[1;32m    691\u001b[0m \u001b[43m    \u001b[49m\u001b[43mbatch_size\u001b[49m\u001b[38;5;241;43m=\u001b[39;49m\u001b[38;5;28;43mself\u001b[39;49m\u001b[38;5;241;43m.\u001b[39;49m\u001b[43mbatch_size\u001b[49m\u001b[43m,\u001b[49m\n\u001b[1;32m    692\u001b[0m \u001b[43m\u001b[49m\u001b[43m)\u001b[49m\n\u001b[1;32m    694\u001b[0m \u001b[38;5;66;03m# this is tricky, must happen before constraint\u001b[39;00m\n\u001b[1;32m    695\u001b[0m \u001b[38;5;66;03m# terms try to access auxdata but after\u001b[39;00m\n\u001b[1;32m    696\u001b[0m \u001b[38;5;66;03m# combined mods have been created that\u001b[39;00m\n\u001b[1;32m    697\u001b[0m \u001b[38;5;66;03m# set the aux data\u001b[39;00m\n\u001b[1;32m    698\u001b[0m \u001b[38;5;28;01mfor\u001b[39;00m k \u001b[38;5;129;01min\u001b[39;00m \u001b[38;5;28msorted\u001b[39m(\u001b[38;5;28mself\u001b[39m\u001b[38;5;241m.\u001b[39mconfig\u001b[38;5;241m.\u001b[39mpar_map\u001b[38;5;241m.\u001b[39mkeys()):\n",
      "File \u001b[0;32m~/mambaforge/envs/coffea/lib/python3.9/site-packages/pyhf/pdf.py:544\u001b[0m, in \u001b[0;36m_MainModel.__init__\u001b[0;34m(self, config, mega_mods, nominal_rates, batch_size)\u001b[0m\n\u001b[1;32m    538\u001b[0m \u001b[38;5;28mself\u001b[39m\u001b[38;5;241m.\u001b[39mbatch_size \u001b[38;5;241m=\u001b[39m batch_size\n\u001b[1;32m    540\u001b[0m \u001b[38;5;28mself\u001b[39m\u001b[38;5;241m.\u001b[39m_nominal_rates \u001b[38;5;241m=\u001b[39m default_backend\u001b[38;5;241m.\u001b[39mtile(\n\u001b[1;32m    541\u001b[0m     nominal_rates, (\u001b[38;5;241m1\u001b[39m, \u001b[38;5;241m1\u001b[39m, \u001b[38;5;28mself\u001b[39m\u001b[38;5;241m.\u001b[39mbatch_size \u001b[38;5;129;01mor\u001b[39;00m \u001b[38;5;241m1\u001b[39m, \u001b[38;5;241m1\u001b[39m)\n\u001b[1;32m    542\u001b[0m )\n\u001b[0;32m--> 544\u001b[0m \u001b[38;5;28mself\u001b[39m\u001b[38;5;241m.\u001b[39mmodifiers_appliers \u001b[38;5;241m=\u001b[39m {\n\u001b[1;32m    545\u001b[0m     k: c(\n\u001b[1;32m    546\u001b[0m         [x \u001b[38;5;28;01mfor\u001b[39;00m x \u001b[38;5;129;01min\u001b[39;00m config\u001b[38;5;241m.\u001b[39mmodifiers \u001b[38;5;28;01mif\u001b[39;00m x[\u001b[38;5;241m1\u001b[39m] \u001b[38;5;241m==\u001b[39m k],  \u001b[38;5;66;03m# x[1] is mtype\u001b[39;00m\n\u001b[1;32m    547\u001b[0m         config,\n\u001b[1;32m    548\u001b[0m         mega_mods,\n\u001b[1;32m    549\u001b[0m         batch_size\u001b[38;5;241m=\u001b[39m\u001b[38;5;28mself\u001b[39m\u001b[38;5;241m.\u001b[39mbatch_size,\n\u001b[1;32m    550\u001b[0m         \u001b[38;5;241m*\u001b[39m\u001b[38;5;241m*\u001b[39mconfig\u001b[38;5;241m.\u001b[39mmodifier_settings\u001b[38;5;241m.\u001b[39mget(k, {}),\n\u001b[1;32m    551\u001b[0m     )\n\u001b[1;32m    552\u001b[0m     \u001b[38;5;28;01mfor\u001b[39;00m k, c \u001b[38;5;129;01min\u001b[39;00m modifiers\u001b[38;5;241m.\u001b[39mcombined\u001b[38;5;241m.\u001b[39mitems()\n\u001b[1;32m    553\u001b[0m }\n\u001b[1;32m    555\u001b[0m \u001b[38;5;28mself\u001b[39m\u001b[38;5;241m.\u001b[39m_precompute()\n\u001b[1;32m    556\u001b[0m events\u001b[38;5;241m.\u001b[39msubscribe(\u001b[38;5;124m'\u001b[39m\u001b[38;5;124mtensorlib_changed\u001b[39m\u001b[38;5;124m'\u001b[39m)(\u001b[38;5;28mself\u001b[39m\u001b[38;5;241m.\u001b[39m_precompute)\n",
      "File \u001b[0;32m~/mambaforge/envs/coffea/lib/python3.9/site-packages/pyhf/pdf.py:545\u001b[0m, in \u001b[0;36m<dictcomp>\u001b[0;34m(.0)\u001b[0m\n\u001b[1;32m    538\u001b[0m \u001b[38;5;28mself\u001b[39m\u001b[38;5;241m.\u001b[39mbatch_size \u001b[38;5;241m=\u001b[39m batch_size\n\u001b[1;32m    540\u001b[0m \u001b[38;5;28mself\u001b[39m\u001b[38;5;241m.\u001b[39m_nominal_rates \u001b[38;5;241m=\u001b[39m default_backend\u001b[38;5;241m.\u001b[39mtile(\n\u001b[1;32m    541\u001b[0m     nominal_rates, (\u001b[38;5;241m1\u001b[39m, \u001b[38;5;241m1\u001b[39m, \u001b[38;5;28mself\u001b[39m\u001b[38;5;241m.\u001b[39mbatch_size \u001b[38;5;129;01mor\u001b[39;00m \u001b[38;5;241m1\u001b[39m, \u001b[38;5;241m1\u001b[39m)\n\u001b[1;32m    542\u001b[0m )\n\u001b[1;32m    544\u001b[0m \u001b[38;5;28mself\u001b[39m\u001b[38;5;241m.\u001b[39mmodifiers_appliers \u001b[38;5;241m=\u001b[39m {\n\u001b[0;32m--> 545\u001b[0m     k: \u001b[43mc\u001b[49m\u001b[43m(\u001b[49m\n\u001b[1;32m    546\u001b[0m \u001b[43m        \u001b[49m\u001b[43m[\u001b[49m\u001b[43mx\u001b[49m\u001b[43m \u001b[49m\u001b[38;5;28;43;01mfor\u001b[39;49;00m\u001b[43m \u001b[49m\u001b[43mx\u001b[49m\u001b[43m \u001b[49m\u001b[38;5;129;43;01min\u001b[39;49;00m\u001b[43m \u001b[49m\u001b[43mconfig\u001b[49m\u001b[38;5;241;43m.\u001b[39;49m\u001b[43mmodifiers\u001b[49m\u001b[43m \u001b[49m\u001b[38;5;28;43;01mif\u001b[39;49;00m\u001b[43m \u001b[49m\u001b[43mx\u001b[49m\u001b[43m[\u001b[49m\u001b[38;5;241;43m1\u001b[39;49m\u001b[43m]\u001b[49m\u001b[43m \u001b[49m\u001b[38;5;241;43m==\u001b[39;49m\u001b[43m \u001b[49m\u001b[43mk\u001b[49m\u001b[43m]\u001b[49m\u001b[43m,\u001b[49m\u001b[43m  \u001b[49m\u001b[38;5;66;43;03m# x[1] is mtype\u001b[39;49;00m\n\u001b[1;32m    547\u001b[0m \u001b[43m        \u001b[49m\u001b[43mconfig\u001b[49m\u001b[43m,\u001b[49m\n\u001b[1;32m    548\u001b[0m \u001b[43m        \u001b[49m\u001b[43mmega_mods\u001b[49m\u001b[43m,\u001b[49m\n\u001b[1;32m    549\u001b[0m \u001b[43m        \u001b[49m\u001b[43mbatch_size\u001b[49m\u001b[38;5;241;43m=\u001b[39;49m\u001b[38;5;28;43mself\u001b[39;49m\u001b[38;5;241;43m.\u001b[39;49m\u001b[43mbatch_size\u001b[49m\u001b[43m,\u001b[49m\n\u001b[1;32m    550\u001b[0m \u001b[43m        \u001b[49m\u001b[38;5;241;43m*\u001b[39;49m\u001b[38;5;241;43m*\u001b[39;49m\u001b[43mconfig\u001b[49m\u001b[38;5;241;43m.\u001b[39;49m\u001b[43mmodifier_settings\u001b[49m\u001b[38;5;241;43m.\u001b[39;49m\u001b[43mget\u001b[49m\u001b[43m(\u001b[49m\u001b[43mk\u001b[49m\u001b[43m,\u001b[49m\u001b[43m \u001b[49m\u001b[43m{\u001b[49m\u001b[43m}\u001b[49m\u001b[43m)\u001b[49m\u001b[43m,\u001b[49m\n\u001b[1;32m    551\u001b[0m \u001b[43m    \u001b[49m\u001b[43m)\u001b[49m\n\u001b[1;32m    552\u001b[0m     \u001b[38;5;28;01mfor\u001b[39;00m k, c \u001b[38;5;129;01min\u001b[39;00m modifiers\u001b[38;5;241m.\u001b[39mcombined\u001b[38;5;241m.\u001b[39mitems()\n\u001b[1;32m    553\u001b[0m }\n\u001b[1;32m    555\u001b[0m \u001b[38;5;28mself\u001b[39m\u001b[38;5;241m.\u001b[39m_precompute()\n\u001b[1;32m    556\u001b[0m events\u001b[38;5;241m.\u001b[39msubscribe(\u001b[38;5;124m'\u001b[39m\u001b[38;5;124mtensorlib_changed\u001b[39m\u001b[38;5;124m'\u001b[39m)(\u001b[38;5;28mself\u001b[39m\u001b[38;5;241m.\u001b[39m_precompute)\n",
      "File \u001b[0;32m~/mambaforge/envs/coffea/lib/python3.9/site-packages/pyhf/modifiers/staterror.py:54\u001b[0m, in \u001b[0;36mstaterror_combined.__init__\u001b[0;34m(self, staterr_mods, pdfconfig, mega_mods, batch_size)\u001b[0m\n\u001b[1;32m     39\u001b[0m \u001b[38;5;28mself\u001b[39m\u001b[38;5;241m.\u001b[39m_staterror_mask \u001b[38;5;241m=\u001b[39m [\n\u001b[1;32m     40\u001b[0m     [[mega_mods[m][s][\u001b[38;5;124m'\u001b[39m\u001b[38;5;124mdata\u001b[39m\u001b[38;5;124m'\u001b[39m][\u001b[38;5;124m'\u001b[39m\u001b[38;5;124mmask\u001b[39m\u001b[38;5;124m'\u001b[39m]] \u001b[38;5;28;01mfor\u001b[39;00m s \u001b[38;5;129;01min\u001b[39;00m pdfconfig\u001b[38;5;241m.\u001b[39msamples] \u001b[38;5;28;01mfor\u001b[39;00m m \u001b[38;5;129;01min\u001b[39;00m keys\n\u001b[1;32m     41\u001b[0m ]\n\u001b[1;32m     42\u001b[0m \u001b[38;5;28mself\u001b[39m\u001b[38;5;241m.\u001b[39m__staterror_uncrt \u001b[38;5;241m=\u001b[39m default_backend\u001b[38;5;241m.\u001b[39mastensor(\n\u001b[1;32m     43\u001b[0m     [\n\u001b[1;32m     44\u001b[0m         [\n\u001b[0;32m   (...)\u001b[0m\n\u001b[1;32m     52\u001b[0m     ]\n\u001b[1;32m     53\u001b[0m )\n\u001b[0;32m---> 54\u001b[0m \u001b[38;5;28;43mself\u001b[39;49m\u001b[38;5;241;43m.\u001b[39;49m\u001b[43mfinalize\u001b[49m\u001b[43m(\u001b[49m\u001b[43mpdfconfig\u001b[49m\u001b[43m)\u001b[49m\n\u001b[1;32m     56\u001b[0m global_concatenated_bin_indices \u001b[38;5;241m=\u001b[39m [\n\u001b[1;32m     57\u001b[0m     [[j \u001b[38;5;28;01mfor\u001b[39;00m c \u001b[38;5;129;01min\u001b[39;00m pdfconfig\u001b[38;5;241m.\u001b[39mchannels \u001b[38;5;28;01mfor\u001b[39;00m j \u001b[38;5;129;01min\u001b[39;00m \u001b[38;5;28mrange\u001b[39m(pdfconfig\u001b[38;5;241m.\u001b[39mchannel_nbins[c])]]\n\u001b[1;32m     58\u001b[0m ]\n\u001b[1;32m     60\u001b[0m \u001b[38;5;28mself\u001b[39m\u001b[38;5;241m.\u001b[39m_access_field \u001b[38;5;241m=\u001b[39m default_backend\u001b[38;5;241m.\u001b[39mtile(\n\u001b[1;32m     61\u001b[0m     global_concatenated_bin_indices,\n\u001b[1;32m     62\u001b[0m     (\u001b[38;5;28mlen\u001b[39m(staterr_mods), \u001b[38;5;28mself\u001b[39m\u001b[38;5;241m.\u001b[39mbatch_size \u001b[38;5;129;01mor\u001b[39;00m \u001b[38;5;241m1\u001b[39m, \u001b[38;5;241m1\u001b[39m),\n\u001b[1;32m     63\u001b[0m )\n",
      "File \u001b[0;32m~/mambaforge/envs/coffea/lib/python3.9/site-packages/pyhf/modifiers/staterror.py:116\u001b[0m, in \u001b[0;36mstaterror_combined.finalize\u001b[0;34m(self, pdfconfig)\u001b[0m\n\u001b[1;32m    112\u001b[0m relerrs \u001b[38;5;241m=\u001b[39m numerator \u001b[38;5;241m/\u001b[39m denominator\n\u001b[1;32m    113\u001b[0m sigmas \u001b[38;5;241m=\u001b[39m default_backend\u001b[38;5;241m.\u001b[39msqrt(\n\u001b[1;32m    114\u001b[0m     default_backend\u001b[38;5;241m.\u001b[39msum(default_backend\u001b[38;5;241m.\u001b[39mpower(relerrs, \u001b[38;5;241m2\u001b[39m), axis\u001b[38;5;241m=\u001b[39m\u001b[38;5;241m0\u001b[39m)\n\u001b[1;32m    115\u001b[0m )\n\u001b[0;32m--> 116\u001b[0m \u001b[38;5;28;01massert\u001b[39;00m \u001b[38;5;28mlen\u001b[39m(sigmas[sigmas \u001b[38;5;241m>\u001b[39m \u001b[38;5;241m0\u001b[39m]) \u001b[38;5;241m==\u001b[39m pdfconfig\u001b[38;5;241m.\u001b[39mparam_set(mod)\u001b[38;5;241m.\u001b[39mn_parameters\n\u001b[1;32m    117\u001b[0m pdfconfig\u001b[38;5;241m.\u001b[39mparam_set(mod)\u001b[38;5;241m.\u001b[39msigmas \u001b[38;5;241m=\u001b[39m default_backend\u001b[38;5;241m.\u001b[39mtolist(sigmas[sigmas \u001b[38;5;241m>\u001b[39m \u001b[38;5;241m0\u001b[39m])\n",
      "\u001b[0;31mAssertionError\u001b[0m: "
     ]
    }
   ],
   "source": [
    "config = cabinetry.configuration.load(\"config.yml\")\n",
    "cabinetry.templates.collect(config)\n",
    "cabinetry.templates.postprocess(config)  # optional post-processing (e.g. smoothing)\n",
    "ws = cabinetry.workspace.build(config)\n",
    "\n",
    "model, data = cabinetry.model_utils.model_and_data(ws)\n",
    "fit_results = cabinetry.fit.fit(model, data)\n",
    "\n",
    "cabinetry.visualize.pulls(\n",
    "    fit_results, exclude=\"ttbar_norm\", close_figure=True, save_figure=False\n",
    ")\n"
   ]
  },
  {
   "cell_type": "code",
   "execution_count": null,
   "id": "8cf47522-414f-41f0-b3c2-2fed390469ce",
   "metadata": {},
   "outputs": [],
   "source": [
    "model_prediction = cabinetry.model_utils.prediction(model)\n",
    "figs = cabinetry.visualize.data_mc(model_prediction, data, close_figure=True, log_scale=False)\n",
    "figs[0][\"figure\"]"
   ]
  },
  {
   "cell_type": "code",
   "execution_count": null,
   "id": "926c416a-e8b7-40b3-8471-9de91d217744",
   "metadata": {},
   "outputs": [],
   "source": [
    "figs[1][\"figure\"]"
   ]
  }
 ],
 "metadata": {
  "kernelspec": {
   "display_name": "Python 3 (ipykernel)",
   "language": "python",
   "name": "python3"
  },
  "language_info": {
   "codemirror_mode": {
    "name": "ipython",
    "version": 3
   },
   "file_extension": ".py",
   "mimetype": "text/x-python",
   "name": "python",
   "nbconvert_exporter": "python",
   "pygments_lexer": "ipython3",
   "version": "3.9.12"
  }
 },
 "nbformat": 4,
 "nbformat_minor": 5
}
