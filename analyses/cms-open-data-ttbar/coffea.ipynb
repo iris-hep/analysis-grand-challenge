{
 "cells": [
  {
   "cell_type": "markdown",
   "id": "82f3c55c-3159-4120-9705-e9ffd194b822",
   "metadata": {},
   "source": [
    "### Configuration: number of files and ServiceX usage"
   ]
  },
  {
   "cell_type": "code",
   "execution_count": 1,
   "id": "b547996c",
   "metadata": {},
   "outputs": [],
   "source": [
    "# GLOBAL CONFIGURATION\n",
    "N_FILES_MAX_PER_SAMPLE = 1  # input files per process, set to -1 for no limit / 1 or 10 for quick debugging  \n",
    "USE_SERVICEX = False"
   ]
  },
  {
   "cell_type": "markdown",
   "id": "e726f38d-e04b-4b1a-8a5f-58f58e2cb329",
   "metadata": {},
   "source": [
    "### Processor"
   ]
  },
  {
   "cell_type": "code",
   "execution_count": 2,
   "id": "cfda82b1",
   "metadata": {},
   "outputs": [],
   "source": [
    "import time\n",
    "import asyncio\n",
    "\n",
    "import awkward as ak\n",
    "from coffea import processor\n",
    "from coffea.processor import servicex\n",
    "import hist\n",
    "import json\n",
    "import numpy as np\n",
    "import uproot\n",
    "import cabinetry\n",
    "from func_adl_servicex import ServiceXSourceUpROOT\n",
    "from func_adl import ObjectStream\n",
    "from servicex import ServiceXDataset\n",
    "from coffea.nanoevents.schemas.base import BaseSchema\n",
    "\n",
    "\n",
    "processor_base = processor.ProcessorABC if not USE_SERVICEX else servicex.Analysis\n",
    "\n",
    "class TtbarAnalysis(processor_base):\n",
    "    def __init__(self):\n",
    "        num_bins = 23\n",
    "        bin_low = 20\n",
    "        bin_high = 250\n",
    "        name = \"mass\"\n",
    "        label = \"m [GeV]\"\n",
    "        self.hist = (\n",
    "            hist.Hist.new.Reg(num_bins, bin_low, bin_high, name=name, label=label)\n",
    "            .StrCat([], name=\"process\", label=\"Process\", growth=True)\n",
    "            .StrCat([], name=\"variation\", label=\"Systematic variation\", growth=True)\n",
    "            .Weight()\n",
    "        )\n",
    "\n",
    "    def process(self, events):\n",
    "        histogram = self.hist.copy()\n",
    "\n",
    "        process = events.metadata[\"process\"]  # \"ttbar\" etc.\n",
    "        variation = events.metadata[\"variation\"]  # \"nominal\" etc.\n",
    "        \n",
    "        # normalization for MC\n",
    "        x_sec = events.metadata[\"xsec\"]\n",
    "        nevts_total = events.metadata[\"nevts\"]\n",
    "        lumi = 3378 # /pb\n",
    "        if process != \"data\":\n",
    "            xsec_weight = x_sec * lumi / nevts_total\n",
    "        else:\n",
    "            xsec_weight = 1\n",
    "        \n",
    "        \n",
    "        # pT > 25 GeV for leptons & jets    \n",
    "        selected_electrons = events.electron[events.electron.pt > 25]\n",
    "        selected_muons = events.muon[events.muon.pt > 25]\n",
    "        selected_jets = events.jet[events.jet.pt > 25]  # pT > 25 GeV for jets\n",
    "        \n",
    "        # single lepton requirement\n",
    "        event_filters = (ak.count(selected_electrons.pt, axis=1) & ak.count(selected_muons.pt, axis=1) == 1)\n",
    "        # at least four jets\n",
    "        event_filters = event_filters & (ak.count(selected_jets.pt, axis=1) >= 4)\n",
    "        # at least two b-tagged jets (\"tag\" means > 0.15 score here)\n",
    "        event_filters = event_filters & (ak.sum(selected_jets.btag > 0.15, axis=1) > 2)\n",
    "        \n",
    "        # apply filters\n",
    "        selected_events = events[event_filters]\n",
    "\n",
    "        histogram.fill(\n",
    "            mass=ak.sum(selected_events.jet, axis=-1).mass, process=process, variation=variation, weight=xsec_weight\n",
    "        )\n",
    "\n",
    "        output = {\"nevents\": {events.metadata[\"dataset\"]: len(events)}, \"hist\": histogram}\n",
    "\n",
    "        return output\n",
    "\n",
    "    def postprocess(self, accumulator):\n",
    "        return accumulator"
   ]
  },
  {
   "cell_type": "markdown",
   "id": "88b8466e-5010-4a7d-a4cb-b3960942dfbd",
   "metadata": {},
   "source": [
    "### AGC schema (for pure coffea)"
   ]
  },
  {
   "cell_type": "code",
   "execution_count": 3,
   "id": "8e9417d6",
   "metadata": {},
   "outputs": [],
   "source": [
    "from coffea.nanoevents.schemas.base import BaseSchema, zip_forms\n",
    "from coffea.nanoevents.methods import base, vector\n",
    "from coffea.nanoevents import transforms\n",
    "\n",
    "\n",
    "# https://github.com/mat-adamec/agc_coffea/blob/main/agc_schema.py\n",
    "class AGCSchema(BaseSchema):\n",
    "    def __init__(self, base_form):\n",
    "        super().__init__(base_form)\n",
    "        self._form[\"contents\"] = self._build_collections(self._form[\"contents\"])\n",
    "\n",
    "    def _build_collections(self, branch_forms):\n",
    "        names = set([k.split('_')[0] for k in branch_forms.keys() if not (k.startswith('number'))])\n",
    "        # Remove n(names) from consideration. It's safe to just remove names that start with n, as nothing else begins with n in our fields.\n",
    "        # Also remove GenPart, PV and MET because they deviate from the pattern of having a 'number' field.\n",
    "        names = [k for k in names if not (k.startswith('n') | k.startswith('met') | k.startswith('GenPart') | k.startswith('PV'))]\n",
    "        output = {}\n",
    "        for name in names:\n",
    "            offsets = transforms.counts2offsets_form(branch_forms['number' + name])\n",
    "            content = {k[len(name)+1:]: branch_forms[k] for k in branch_forms if (k.startswith(name + \"_\") & (k[len(name)+1:] != 'e'))}\n",
    "            # Add energy separately so its treated correctly by the p4 vector.\n",
    "            content['energy'] = branch_forms[name+'_e']\n",
    "            # Check for LorentzVector\n",
    "            output[name] = zip_forms(content, name, 'PtEtaPhiELorentzVector', offsets=offsets)\n",
    "\n",
    "        # Handle GenPart, PV, MET. Note that all the nPV_*'s should be the same. We just use one.\n",
    "        output['met'] = zip_forms({k[len('met')+1:]: branch_forms[k] for k in branch_forms if k.startswith('met_')}, 'met')\n",
    "        #output['GenPart'] = zip_forms({k[len('GenPart')+1:]: branch_forms[k] for k in branch_forms if k.startswith('GenPart_')}, 'GenPart', offsets=transforms.counts2offsets_form(branch_forms['numGenPart']))\n",
    "        output['PV'] = zip_forms({k[len('PV')+1:]: branch_forms[k] for k in branch_forms if (k.startswith('PV_') & ('npvs' not in k))}, 'PV', offsets=transforms.counts2offsets_form(branch_forms['nPV_x']))\n",
    "        return output\n",
    "\n",
    "    @property\n",
    "    def behavior(self):\n",
    "        behavior = {}\n",
    "        behavior.update(base.behavior)\n",
    "        behavior.update(vector.behavior)\n",
    "        return behavior"
   ]
  },
  {
   "cell_type": "markdown",
   "id": "f586fab7-16cf-492b-9e00-bf8fb856bf87",
   "metadata": {},
   "source": [
    "### metadata & fileset construction"
   ]
  },
  {
   "cell_type": "code",
   "execution_count": 4,
   "id": "5feb346b-d158-4438-bc48-f81d18d479f7",
   "metadata": {},
   "outputs": [],
   "source": [
    "# using https://atlas-groupdata.web.cern.ch/atlas-groupdata/dev/AnalysisTop/TopDataPreparation/XSection-MC15-13TeV.data\n",
    "# x-secs are in pb\n",
    "xsec_info = {\n",
    "    \"ttbar\": 396.87 + 332.97, # nonallhad + allhad, keep same x-sec for all\n",
    "    \"single_top_s_chan\": 2.0268 + 1.2676,\n",
    "    \"single_top_t_chan\": (36.993 + 22.175)/0.252,  # scale from lepton filter to inclusive\n",
    "    \"single_top_tW\": 37.936 + 37.906,\n",
    "    \"wjets\": 61457 * 0.252,  # e/mu+nu final states\n",
    "    \"data\": None\n",
    "}\n",
    "\n",
    "# list of files\n",
    "with open(\"ntuples.json\") as f:\n",
    "    file_info = json.load(f)\n",
    "\n",
    "# process into \"fileset\" summarizing all info\n",
    "fileset = {}\n",
    "for process in file_info.keys():\n",
    "    if process == \"data\":\n",
    "        continue  # skip data\n",
    "\n",
    "    for variation in file_info[process].keys():\n",
    "        file_list = file_info[process][variation][\"files\"]\n",
    "        if N_FILES_MAX_PER_SAMPLE != -1:\n",
    "            file_list = file_list[:N_FILES_MAX_PER_SAMPLE]  # use partial set of samples\n",
    "\n",
    "        file_paths = [f[\"path\"] for f in file_list]\n",
    "        nevts_total = sum([f[\"nevts\"] for f in file_list])\n",
    "        metadata = {\"process\": process, \"variation\": variation, \"nevts\": nevts_total, \"xsec\": xsec_info[process]}\n",
    "        fileset.update({f\"{process}__{variation}\": {\"files\": file_paths, \"metadata\": metadata}})"
   ]
  },
  {
   "cell_type": "markdown",
   "id": "812546fa-850e-4448-b9ee-0544be491aec",
   "metadata": {},
   "source": [
    "### ServiceX-specific functionality: datasource construction, query, asyncio"
   ]
  },
  {
   "cell_type": "code",
   "execution_count": 5,
   "id": "ceab708d-5062-4a13-ba9a-87d762a052e8",
   "metadata": {},
   "outputs": [],
   "source": [
    "def make_datasource(fileset:dict, name: str, query: ObjectStream, ignore_cache: bool):\n",
    "    \"\"\"Creates a ServiceX datasource for a particular ATLAS Open data file.\"\"\"\n",
    "    datasets = [ServiceXDataset(fileset[name][\"files\"], backend_name=\"uproot\", ignore_cache=ignore_cache)]\n",
    "    return servicex.DataSource(\n",
    "        query=query, metadata=fileset[name][\"metadata\"], datasets=datasets\n",
    "    )\n",
    "\n",
    "def get_query(source: ObjectStream) -> ObjectStream:\n",
    "    \"\"\"Performs event selection: no filter, select all columns\n",
    "    \"\"\"\n",
    "    #return source.Select(lambda e: {\"electron_pt\": e.el_pt, \"electron_eta\": e.el_eta, \"electron_phi\": e.el_phi})\n",
    "    return source.Select(lambda e: {\n",
    "                                    \"electron_e\": e.electron_e,\n",
    "                                    \"electron_pt\": e.electron_pt,\n",
    "                                    \"electron_px\": e.electron_px,\n",
    "                                    \"electron_py\": e.electron_py,\n",
    "                                    \"electron_pz\": e.electron_pz,\n",
    "                                    \"electron_eta\": e.electron_eta,\n",
    "                                    \"electron_phi\": e.electron_phi,\n",
    "                                    \"electron_ch\": e.electron_ch,\n",
    "                                    \"electron_iso\": e.electron_iso,\n",
    "                                    \"electron_isLoose\": e.electron_isLoose,\n",
    "                                    \"electron_isMedium\": e.electron_isMedium,\n",
    "                                    \"electron_isTight\": e.electron_isTight,\n",
    "                                    \"electron_dxy\": e.electron_dxy,\n",
    "                                    \"electron_dz\": e.electron_dz,\n",
    "                                    \"electron_dxyError\": e.electron_dxyError,\n",
    "                                    \"electron_dzError\": e.electron_dzError,\n",
    "\n",
    "                                    \"numbermuon\": e.numbermuon,\n",
    "                                    \"muon_e\": e.muon_e,\n",
    "                                    \"muon_pt\": e.muon_pt,\n",
    "                                    \"muon_px\": e.muon_px,\n",
    "                                    \"muon_py\": e.muon_py,\n",
    "                                    \"muon_pz\": e.muon_pz,\n",
    "                                    \"muon_eta\": e.muon_eta,\n",
    "                                    \"muon_phi\": e.muon_phi,\n",
    "                                    \"muon_ch\": e.muon_ch,\n",
    "                                    \"muon_isSoft\": e.muon_isSoft,\n",
    "                                    \"muon_isTight\": e.muon_isTight,\n",
    "                                    \"muon_dxy\": e.muon_dxy,\n",
    "                                    \"muon_dz\": e.muon_dz,\n",
    "                                    \"muon_dxyError\": e.muon_dxyError,\n",
    "                                    \"muon_dzError\": e.muon_dzError,\n",
    "                                    \"muon_pfreliso03all\": e.muon_pfreliso03all,\n",
    "                                    \"muon_pfreliso04all\": e.muon_pfreliso04all,\n",
    "                                    \"muon_jetidx\": e.muon_jetidx,\n",
    "                                    \"muon_genpartidx\": e.muon_genpartidx,\n",
    "\n",
    "                                    \"jet_e\": e.jet_e,\n",
    "                                    \"jet_pt\": e.jet_pt,\n",
    "                                    \"jet_px\": e.jet_px,\n",
    "                                    \"jet_py\": e.jet_py,\n",
    "                                    \"jet_pz\": e.jet_pz,\n",
    "                                    \"jet_eta\": e.jet_eta,\n",
    "                                    \"jet_phi\": e.jet_phi,\n",
    "                                    \"jet_ch\": e.jet_ch,\n",
    "                                    \"jet_mass\": e.jet_mass,\n",
    "                                    \"jet_btag\": e.jet_btag,\n",
    "                                    \"jet_pt_uncorr\": e.jet_pt_uncorr,\n",
    "                                   }\n",
    ")\n",
    "\n",
    "\n",
    "async def produce_all_histograms(fileset):\n",
    "    \"\"\"Runs the histogram production, processing input files with ServiceX and\n",
    "    producing histograms with coffea.\n",
    "    \"\"\"\n",
    "    # create the query\n",
    "    ds = ServiceXSourceUpROOT(\"cernopendata://dummy\", \"events\", backend_name=\"uproot\")\n",
    "    ds.return_qastle = True\n",
    "    data_query = get_query(ds)\n",
    "\n",
    "    # EXECUTOR: local vs Dask\n",
    "    executor = servicex.LocalExecutor()\n",
    "    #executor = servicex.DaskExecutor(client_addr=\"tls://localhost:8786\")\n",
    "\n",
    "    datasources = [\n",
    "        make_datasource(fileset, ds_name, data_query, ignore_cache=False)  # CACHING\n",
    "        for ds_name in fileset.keys()\n",
    "    ]\n",
    "\n",
    "    # create the analysis processor\n",
    "    analysis_processor = TtbarAnalysis()\n",
    "\n",
    "    async def run_updates_stream(accumulator_stream, name):\n",
    "        \"\"\"Run to get the last item in the stream\"\"\"\n",
    "        coffea_info = None\n",
    "        try:\n",
    "            async for coffea_info in accumulator_stream:\n",
    "                pass\n",
    "        except Exception as e:\n",
    "            raise Exception(f\"Failure while processing {name}\") from e\n",
    "        return coffea_info\n",
    "\n",
    "    all_histogram_dicts = await asyncio.gather(\n",
    "        *[\n",
    "            run_updates_stream(\n",
    "                executor.execute(analysis_processor, source),\n",
    "                f\"{source.metadata['process']}__{source.metadata['variation']}\",\n",
    "            )\n",
    "            for source in datasources\n",
    "        ]\n",
    "    )\n",
    "    all_histograms = sum([h[\"hist\"] for h in all_histogram_dicts])\n",
    "    \n",
    "    return all_histograms"
   ]
  },
  {
   "cell_type": "markdown",
   "id": "757a0a9b-cede-4722-b1d6-98a7f4b779d7",
   "metadata": {},
   "source": [
    "### execute"
   ]
  },
  {
   "cell_type": "code",
   "execution_count": 6,
   "id": "78fce979",
   "metadata": {},
   "outputs": [
    {
     "data": {
      "application/vnd.jupyter.widget-view+json": {
       "model_id": "870cb7dae0ff420397800b2c5ad4776d",
       "version_major": 2,
       "version_minor": 0
      },
      "text/plain": [
       "Output()"
      ]
     },
     "metadata": {},
     "output_type": "display_data"
    },
    {
     "data": {
      "text/html": [
       "<pre style=\"white-space:pre;overflow-x:auto;line-height:normal;font-family:Menlo,'DejaVu Sans Mono',consolas,'Courier New',monospace\"></pre>\n"
      ],
      "text/plain": []
     },
     "metadata": {},
     "output_type": "display_data"
    },
    {
     "data": {
      "text/html": [
       "<pre style=\"white-space:pre;overflow-x:auto;line-height:normal;font-family:Menlo,'DejaVu Sans Mono',consolas,'Courier New',monospace\">\n",
       "</pre>\n"
      ],
      "text/plain": [
       "\n"
      ]
     },
     "metadata": {},
     "output_type": "display_data"
    },
    {
     "data": {
      "application/vnd.jupyter.widget-view+json": {
       "model_id": "98d6605b7dfd41bfabb1da77bf452161",
       "version_major": 2,
       "version_minor": 0
      },
      "text/plain": [
       "Output()"
      ]
     },
     "metadata": {},
     "output_type": "display_data"
    },
    {
     "data": {
      "text/html": [
       "<pre style=\"white-space:pre;overflow-x:auto;line-height:normal;font-family:Menlo,'DejaVu Sans Mono',consolas,'Courier New',monospace\"></pre>\n"
      ],
      "text/plain": []
     },
     "metadata": {},
     "output_type": "display_data"
    },
    {
     "data": {
      "text/html": [
       "<pre style=\"white-space:pre;overflow-x:auto;line-height:normal;font-family:Menlo,'DejaVu Sans Mono',consolas,'Courier New',monospace\">\n",
       "</pre>\n"
      ],
      "text/plain": [
       "\n"
      ]
     },
     "metadata": {},
     "output_type": "display_data"
    }
   ],
   "source": [
    "if USE_SERVICEX:\n",
    "    t0 = time.time()\n",
    "\n",
    "    # in a notebook:\n",
    "    all_histograms = await produce_all_histograms(fileset)\n",
    "\n",
    "    # as a script:\n",
    "    # async def produce_all_the_histograms(fileset):\n",
    "    #    return await produce_all_histograms(fileset)\n",
    "    #\n",
    "    # all_histograms = asyncio.run(produce_all_the_histograms(fileset))\n",
    "    \n",
    "    print(f\"execution took {time.time() - t0:.2f} seconds\")\n",
    "\n",
    "else:\n",
    "    USE_DASK = False\n",
    "\n",
    "    if USE_DASK:\n",
    "        from dask.distributed import Client\n",
    "\n",
    "        client = Client(\"tls://localhost:8786\")\n",
    "        executor = processor.DaskExecutor(client=client)\n",
    "    else:\n",
    "        executor = processor.IterativeExecutor()\n",
    "\n",
    "    run = processor.Runner(executor=executor, schema=AGCSchema, savemetrics=True, metadata_cache={})\n",
    "\n",
    "    all_histograms, metrics = run(fileset, \"events\", processor_instance=TtbarAnalysis())\n",
    "    all_histograms = all_histograms[\"hist\"]"
   ]
  },
  {
   "cell_type": "markdown",
   "id": "be8f321a-940a-4e25-86f0-e5889331ad86",
   "metadata": {},
   "source": [
    "### plotting "
   ]
  },
  {
   "cell_type": "code",
   "execution_count": 7,
   "id": "81b41cf4",
   "metadata": {},
   "outputs": [
    {
     "data": {
      "text/plain": [
       "<matplotlib.legend.Legend at 0x7f6cbc39cca0>"
      ]
     },
     "execution_count": 7,
     "metadata": {},
     "output_type": "execute_result"
    },
    {
     "data": {
      "image/png": "[encoded data removed]",
      "text/plain": [
       "<Figure size 432x288 with 1 Axes>"
      ]
     },
     "metadata": {
      "needs_background": "light"
     },
     "output_type": "display_data"
    }
   ],
   "source": [
    "all_histograms[:, \"ttbar\", \"nominal\"].plot(stack=True, label=\"ttbar\")\n",
    "all_histograms[:, \"wjets\", \"nominal\"].plot(stack=True, label=\"wjets\")\n",
    "# all_histograms[:, \"single_top_s_chan\", \"nominal\"].plot(stack=True, label=\"s-chan\")\n",
    "# all_histograms[:, \"single_top_t_chan\", \"nominal\"].plot(stack=True, label=\"t-chan\")\n",
    "# all_histograms[:, \"single_top_tW\", \"nominal\"].plot(stack=True, label=\"tW\")\n",
    "\n",
    "#all_histograms[:, \"data\", \"nominal\"].plot(label=\"data\")\n",
    "\n",
    "\n",
    "import matplotlib.pyplot as plt\n",
    "fig = plt.gcf()\n",
    "fig.legend()\n",
    "#fig.axes[0].set_yscale(\"log\")\n",
    "\n",
    "#print(\"data\", sum(all_histograms[\"hist\"][:, \"data\", \"nominal\"].values()/1e6), \"M\")\n",
    "#print(\"ttbar\", sum(all_histograms[\"hist\"][:, \"ttbar\", \"nominal\"].values()/1e6), \"M\")"
   ]
  },
  {
   "cell_type": "code",
   "execution_count": 8,
   "id": "9e796239",
   "metadata": {},
   "outputs": [
    {
     "data": {
      "text/plain": [
       "<matplotlib.legend.Legend at 0x7f6bf1caf790>"
      ]
     },
     "execution_count": 8,
     "metadata": {},
     "output_type": "execute_result"
    },
    {
     "data": {
      "image/png": "[encoded data removed]",
      "text/plain": [
       "<Figure size 432x288 with 1 Axes>"
      ]
     },
     "metadata": {
      "needs_background": "light"
     },
     "output_type": "display_data"
    }
   ],
   "source": [
    "all_histograms[:, \"ttbar\", \"nominal\"].plot(label=\"ttbar nominal\")\n",
    "all_histograms[:, \"ttbar\", \"ME_var\"].plot(label=\"ttbar ME var\")\n",
    "all_histograms[:, \"ttbar\", \"PS_var\"].plot(label=\"ttbar PS var\")\n",
    "all_histograms[:, \"ttbar\", \"scaledown\"].plot(label=\"ttbar scale down\")\n",
    "all_histograms[:, \"ttbar\", \"scaleup\"].plot(label=\"ttbar scale up\")\n",
    "\n",
    "fig = plt.gcf()\n",
    "fig.legend()"
   ]
  },
  {
   "cell_type": "markdown",
   "id": "7d2bb804",
   "metadata": {},
   "source": [
    "### saving histograms & cabinetry"
   ]
  },
  {
   "cell_type": "code",
   "execution_count": 9,
   "id": "804ef793",
   "metadata": {},
   "outputs": [],
   "source": [
    "file_name = \"histograms.root\"\n",
    "with uproot.recreate(file_name) as f:\n",
    "    f[\"ttbar\"] = all_histograms[:, \"ttbar\", \"nominal\"]\n",
    "    f[\"ttbar_ME_var\"] = all_histograms[:, \"ttbar\", \"ME_var\"]\n",
    "    f[\"ttbar_PS_var\"] = all_histograms[:, \"ttbar\", \"PS_var\"]\n",
    "    f[\"ttbar_scaledown\"] = all_histograms[:, \"ttbar\", \"scaledown\"]\n",
    "    f[\"ttbar_scaleup\"] = all_histograms[:, \"ttbar\", \"scaleup\"]\n",
    "    \n",
    "    f[\"wjets\"] = all_histograms[:, \"wjets\", \"nominal\"]\n",
    "    f[\"single_top_s_chan\"] = all_histograms[:, \"single_top_s_chan\", \"nominal\"]\n",
    "    f[\"single_top_t_chan\"] = all_histograms[:, \"single_top_t_chan\", \"nominal\"]\n",
    "    f[\"single_top_tW\"] = all_histograms[:, \"single_top_tW\", \"nominal\"]"
   ]
  },
  {
   "cell_type": "code",
   "execution_count": 10,
   "id": "486ad228",
   "metadata": {},
   "outputs": [
    {
     "name": "stderr",
     "output_type": "stream",
     "text": [
      "Signal_region_Data has empty bins: [22]\n",
      "Signal_region_ttbar has empty bins: [22]\n",
      "Signal_region_ttbar_PS-variation_Up has empty bins: [22]\n",
      "Signal_region_ttbar_scale-variation_Up has empty bins: [19 20 21]\n",
      "Signal_region_W+jets has empty bins: [ 0  1  2  4  5  7  8  9 10 11 12 13 14 15 16 17 19 20 21 22]\n",
      "Signal_region_single-top,-s-channel has empty bins: [14 16 17 19 20 21 22]\n",
      "Signal_region_single-top,-t-channel has empty bins: [14 16 17 19 20 21 22]\n",
      "Signal_region_tW has empty bins: [18]\n",
      "Signal_region_Data has empty bins: [22]\n",
      "Signal_region_ttbar has empty bins: [22]\n",
      "Signal_region_ttbar_PS-variation_Up has empty bins: [22]\n",
      "Signal_region_ttbar_scale-variation_Up has empty bins: [19 20 21]\n",
      "Signal_region_W+jets has empty bins: [ 0  1  2  4  5  7  8  9 10 11 12 13 14 15 16 17 19 20 21 22]\n",
      "Signal_region_single-top,-s-channel has empty bins: [14 16 17 19 20 21 22]\n",
      "Signal_region_single-top,-t-channel has empty bins: [14 16 17 19 20 21 22]\n",
      "Signal_region_tW has empty bins: [18]\n"
     ]
    },
    {
     "data": {
      "image/png": "[encoded data removed]",
      "text/plain": [
       "<Figure size 600x200 with 1 Axes>"
      ]
     },
     "execution_count": 10,
     "metadata": {},
     "output_type": "execute_result"
    }
   ],
   "source": [
    "config = cabinetry.configuration.load(\"config.yml\")\n",
    "cabinetry.templates.collect(config)\n",
    "cabinetry.templates.postprocess(config)  # optional post-processing (e.g. smoothing)\n",
    "ws = cabinetry.workspace.build(config)\n",
    "\n",
    "model, data = cabinetry.model_utils.model_and_data(ws)\n",
    "fit_results = cabinetry.fit.fit(model, data)\n",
    "\n",
    "cabinetry.visualize.pulls(\n",
    "    fit_results, exclude=\"ttbar_norm\", close_figure=True, save_figure=False\n",
    ")\n"
   ]
  },
  {
   "cell_type": "code",
   "execution_count": 13,
   "id": "aee58d3d",
   "metadata": {},
   "outputs": [
    {
     "name": "stdout",
     "output_type": "stream",
     "text": [
      "number of files processed: 9\n",
      "data read: 1.2 MB\n"
     ]
    }
   ],
   "source": [
    "if not USE_SERVICEX:\n",
    "    print(f\"number of files processed: {metrics['chunks']}\")\n",
    "    print(f\"data read: {metrics['bytesread']/1024**2:.1f} MB\")\n",
    "\n",
    "    metrics"
   ]
  },
  {
   "cell_type": "code",
   "execution_count": null,
   "id": "8cf47522-414f-41f0-b3c2-2fed390469ce",
   "metadata": {},
   "outputs": [],
   "source": []
  }
 ],
 "metadata": {
  "kernelspec": {
   "display_name": "Python 3 (ipykernel)",
   "language": "python",
   "name": "python3"
  },
  "language_info": {
   "codemirror_mode": {
    "name": "ipython",
    "version": 3
   },
   "file_extension": ".py",
   "mimetype": "text/x-python",
   "name": "python",
   "nbconvert_exporter": "python",
   "pygments_lexer": "ipython3",
   "version": "3.8.13"
  }
 },
 "nbformat": 4,
 "nbformat_minor": 5
}
