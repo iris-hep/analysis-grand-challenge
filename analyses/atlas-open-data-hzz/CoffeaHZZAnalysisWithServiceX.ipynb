{
 "cells": [
  {
   "cell_type": "markdown",
   "id": "0815db08",
   "metadata": {},
   "source": [
    "This notebook is based on previous work carried out in the following repositories:\n",
    "- https://github.com/atlas-outreach-data-tools/notebooks-collection-opendata\n",
    "- https://github.com/gordonwatts/pyhep-2021-SX-OpenDataDemo"
   ]
  },
  {
   "cell_type": "code",
   "execution_count": 1,
   "id": "71b3fd2d",
   "metadata": {},
   "outputs": [],
   "source": [
    "import asyncio, os\n",
    "import numpy as np\n",
    "from coffea.processor.servicex import Analysis, DataSource, LocalExecutor, DaskExecutor\n",
    "from func_adl import ObjectStream\n",
    "from func_adl_servicex import ServiceXSourceUpROOT\n",
    "from servicex.servicex import ServiceXDataset\n",
    "import hist\n",
    "import re\n",
    "import matplotlib.pyplot as plt\n",
    "import vector\n",
    "%matplotlib inline\n",
    "\n",
    "import infofile # Same infofile used in https://github.com/atlas-outreach-data-tools/notebooks-collection-opendata"
   ]
  },
  {
   "cell_type": "code",
   "execution_count": 2,
   "id": "47fe0fc0",
   "metadata": {},
   "outputs": [],
   "source": [
    "import shutil\n",
    "\n",
    "# clean up files that may be left over from previous running (not needed, just to simplify debugging)\n",
    "for path in [\"histograms/\", \"figures/\"]:\n",
    "    if os.path.exists(path):\n",
    "        shutil.rmtree(path)"
   ]
  },
  {
   "cell_type": "code",
   "execution_count": 3,
   "id": "24197a9f",
   "metadata": {},
   "outputs": [],
   "source": [
    "prefix = 'root://eospublic.cern.ch//eos/opendata/atlas/OutreachDatasets/2020-01-22/4lep/'\n",
    "\n",
    "fileset = {'Data': [\n",
    "                    prefix + 'Data/data_A.4lep.root',\n",
    "                    prefix + 'Data/data_B.4lep.root',\n",
    "                    prefix + 'Data/data_C.4lep.root',\n",
    "                    prefix + 'Data/data_D.4lep.root'\n",
    "                    ],\n",
    "           'Background $Z,tt^{bar}$': [\n",
    "                                       prefix + 'MC/mc_361106.Zee.4lep.root',\n",
    "                                       prefix + 'MC/mc_361107.Zmumu.4lep.root',\n",
    "                                       prefix + 'MC/mc_410000.ttbar_lep.4lep.root'\n",
    "                                       ],\n",
    "           'Background $ZZ^{star}$': [prefix + 'MC/mc_363490.llll.4lep.root'],\n",
    "           'Signal ($m_H$ = 125 GeV)': [\n",
    "                                        prefix + 'MC/mc_345060.ggH125_ZZ4lep.4lep.root',\n",
    "                                        prefix + 'MC/mc_344235.VBFH125_ZZ4lep.4lep.root',\n",
    "                                        prefix + 'MC/mc_341964.WH125_ZZ4lep.4lep.root',\n",
    "                                        prefix + 'MC/mc_341947.ZH125_ZZ4lep.4lep.root'\n",
    "                                       ]}\n",
    "\n",
    "xsec_map = infofile.infos  # dictionary with event weighting information"
   ]
  },
  {
   "cell_type": "code",
   "execution_count": 4,
   "id": "be2a6ed2",
   "metadata": {},
   "outputs": [],
   "source": [
    "lumi = 10_000 # pb^-1 # data_A, data_B, data_C, data_D\n",
    "\n",
    "def get_xsec_weight(sample):\n",
    "    info = xsec_map[sample]\n",
    "    xsec_weight = (lumi*info[\"xsec\"])/(info[\"sumw\"]*info[\"red_eff\"]) #*1000 to go from fb-1 to pb-1\n",
    "    return xsec_weight  # return cross-section weight"
   ]
  },
  {
   "cell_type": "code",
   "execution_count": 5,
   "id": "f3cd3ca3",
   "metadata": {},
   "outputs": [],
   "source": [
    "def calc_mllll(lep_pt, lep_eta, lep_phi, lep_E):\n",
    "    # construct awkward 4-vector array\n",
    "    p4 = vector.zip({\"pt\": lep_pt, \"eta\": lep_eta, \"phi\": lep_phi, \"E\": lep_E})\n",
    "    # calculate invariant mass of first 4 leptons\n",
    "    # [:, i] selects the i-th lepton in each event\n",
    "    # .M calculates the invariant mass\n",
    "    return (p4[:, 0] + p4[:, 1] + p4[:, 2] + p4[:, 3]).M / 1000 #/1000 to go from MeV to GeV"
   ]
  },
  {
   "cell_type": "code",
   "execution_count": 6,
   "id": "1515ec6b",
   "metadata": {},
   "outputs": [],
   "source": [
    "# cut on lepton charge\n",
    "# paper: \"selecting two pairs of isolated leptons, each of which is comprised of two leptons with the same flavour and opposite charge\"\n",
    "def cut_lep_charge(lep_charge):\n",
    "# throw away when sum of lepton charges is not equal to 0\n",
    "# first lepton is [0], 2nd lepton is [1] etc\n",
    "    return ((lep_charge[:,0] + lep_charge[:,1] + lep_charge[:,2] + lep_charge[:,3]) != 0)\n",
    "\n",
    "# cut on lepton type\n",
    "# paper: \"selecting two pairs of isolated leptons, each of which is comprised of two leptons with the same flavour and opposite charge\"\n",
    "def cut_lep_type(lep_type):\n",
    "# for an electron lep_type is 11\n",
    "# for a muon lep_type is 13\n",
    "# throw away when none of eeee, mumumumu, eemumu\n",
    "    sum_lep_type = lep_type[:,0] + lep_type[:,1] + lep_type[:,2] + lep_type[:,3]\n",
    "    return ((sum_lep_type != 44) & (sum_lep_type != 48) & (sum_lep_type != 52))"
   ]
  },
  {
   "cell_type": "code",
   "execution_count": 7,
   "id": "f451f832",
   "metadata": {},
   "outputs": [],
   "source": [
    "class HZZAnalysis(Analysis):\n",
    "    def process(self, events):\n",
    "        # Get dataset name and lepton information from events\n",
    "        dataset = events.metadata['dataset']\n",
    "        leptons = events.lep\n",
    "        \n",
    "        # Cut events based on lepton charge, then update leptons\n",
    "        events = events[~cut_lep_charge(leptons.charge)]\n",
    "        leptons = events.lep\n",
    "        \n",
    "        # Cut events based on lepton type, then update leptons\n",
    "        events = events[~cut_lep_type(leptons.typeid)]\n",
    "        leptons = events.lep\n",
    "        \n",
    "        # Calculate the mllll for each event\n",
    "        mllll = calc_mllll(leptons.pt, leptons.eta, leptons.phi, leptons.energy)\n",
    "        \n",
    "        if \"data_A\" in dataset:\n",
    "            # Create and fill a histogram for mllll\n",
    "            mllllhist = (\n",
    "                hist.Hist.new\n",
    "                .Reg(34, 80, 250, name='mllll', label='4-lepton invariant mass $\\mathrm{m_{4l}}$ [GeV]')\n",
    "                .StrCat(['Data'], name='dataset', label='Dataset')\n",
    "                .Weight()\n",
    "                .fill(mllll=mllll, dataset=\"Data\")\n",
    "            )\n",
    "        else:\n",
    "            # Extract the sample name from the filename metadata with regex\n",
    "            sample = re.findall(r'mc_\\d+\\.(.+)\\.4lep', events.metadata['filename'])[0]\n",
    "\n",
    "            # Calculate the event weights\n",
    "            totalWeights = get_xsec_weight(sample) * events.mcWeight * events.scaleFactor\n",
    "\n",
    "            if sample in [\"ttbar_lep\", \"Zee\", \"Zmumu\"]:\n",
    "                dataset = \"Background $Z,tt^{bar}$\"\n",
    "            elif sample == \"llll\":\n",
    "                dataset = \"Background $ZZ^{star}$\"\n",
    "            elif sample in [\"ggH125_ZZ4lep\", \"VBFH125_ZZ4lep\", \"WH125_ZZ4lep\", \"ZH125_ZZ4lep\"]:\n",
    "                dataset = \"Signal ($m_H$ = 125 GeV)\"\n",
    "\n",
    "            # Create and fill a weighted histogram for mllll\n",
    "            mllllhist = (\n",
    "                hist.Hist.new\n",
    "                .Reg(34, 80, 250, name='mllll', label='4-lepton invariant mass $\\mathrm{m_{4l}}$ [GeV]')\n",
    "                .StrCat(['Background $Z,tt^{bar}$', 'Background $ZZ^{star}$', 'Signal ($m_H$ = 125 GeV)'], name='dataset', label='Dataset')\n",
    "                .Weight()\n",
    "                .fill(mllll=mllll, dataset=dataset, weight=totalWeights)\n",
    "            )\n",
    "\n",
    "        return {\n",
    "            'entries': len(events),\n",
    "            'mllll': mllllhist\n",
    "        }"
   ]
  },
  {
   "cell_type": "code",
   "execution_count": 8,
   "id": "31361726",
   "metadata": {},
   "outputs": [],
   "source": [
    "def good_leptons(source: ObjectStream) -> ObjectStream:\n",
    "    '''Select out all good leptons from each event. Return their pt, eta, phi, and E, and other\n",
    "    things needed downstream.\n",
    "\n",
    "    Because uproot doesn't tie together the objects, we can't do any cuts at this point.\n",
    "    '''\n",
    "    return source.Select(lambda e:\n",
    "        {\n",
    "            'lep_pt': e.lep_pt,\n",
    "            'lep_eta': e.lep_eta,\n",
    "            'lep_phi': e.lep_phi,\n",
    "            'lep_energy': e.lep_E,\n",
    "            'lep_charge': e.lep_charge,\n",
    "            'lep_typeid': e.lep_type,\n",
    "            'mcWeight': e.mcWeight,\n",
    "            'scaleFactor': e.scaleFactor_ELE*e.scaleFactor_MUON*e.scaleFactor_LepTRIGGER*e.scaleFactor_PILEUP,\n",
    "        })\n",
    "\n",
    "def make_ds(name: str, query: ObjectStream):\n",
    "    '''Create a ServiceX Datasource for a particular ATLAS Open data file\n",
    "    '''\n",
    "    datasets = [ServiceXDataset(fileset[name], backend_name='uproot')]\n",
    "    return DataSource(query=query, metadata={'dataset': name}, datasets=datasets)"
   ]
  },
  {
   "cell_type": "code",
   "execution_count": 9,
   "id": "6ec9ce14",
   "metadata": {},
   "outputs": [],
   "source": [
    "async def run_analysis():\n",
    "    '''Run on a known analysis file/files and return the result.\n",
    "    Should be fine to start many of these at once.\n",
    "    '''\n",
    "    # Parse the dataset\n",
    "    ds_names = list(fileset.keys())\n",
    "\n",
    "    # Create the query\n",
    "    ds = ServiceXSourceUpROOT('cernopendata://dummy',  'mini', backend_name='uproot')\n",
    "    ds.return_qastle = True\n",
    "    leptons = good_leptons(ds)\n",
    "\n",
    "    # Get data source for this run.\n",
    "    # For running with Dask executor on coffea-casa, you can simply add:\n",
    "    # (please note https://github.com/CoffeaTeam/coffea/issues/611)\n",
    "    # if os.environ.get(\"LABEXTENTION_FACTORY_MODULE\") == \"coffea_casa\":\n",
    "    #   executor = DaskExecutor(client_addr=\"tls://localhost:8786\")\n",
    "    executor = LocalExecutor()\n",
    "\n",
    "    datasources = [make_ds(ds_name, leptons) for ds_name in ds_names]\n",
    "\n",
    "    # Create the analysis and we can run from there\n",
    "    analysis = HZZAnalysis()\n",
    "\n",
    "    async def run_updates_stream(accumulator_stream, name):\n",
    "        '''Run to get the last item in the stream'''\n",
    "        coffea_info = None\n",
    "        try:\n",
    "            async for coffea_info in accumulator_stream:\n",
    "                pass\n",
    "        except Exception as e:\n",
    "            raise Exception(f'Failure while processing {name}') from e\n",
    "        return coffea_info\n",
    "\n",
    "    all_plots = await asyncio.gather(*[run_updates_stream(executor.execute(analysis, source), source.metadata['dataset']) for source in datasources])\n",
    "\n",
    "    # Combine the MC plots\n",
    "    all_MC_plots = [p['mllll'] for p in all_plots[1:]]\n",
    "    MC_plot = all_MC_plots[0]\n",
    "    for p in all_MC_plots[1:]:\n",
    "        MC_plot += p\n",
    "\n",
    "    return {\n",
    "        'Data': all_plots[0]['mllll'],\n",
    "        'MC': MC_plot\n",
    "    }"
   ]
  },
  {
   "cell_type": "code",
   "execution_count": 10,
   "id": "180cbad6",
   "metadata": {},
   "outputs": [
    {
     "name": "stdout",
     "output_type": "stream",
     "text": [
      "Total runtime in seconds: 2.292039155960083\n"
     ]
    }
   ],
   "source": [
    "import time\n",
    "\n",
    "start_time = time.time()\n",
    "output = await run_analysis()\n",
    "finish_time = time.time()\n",
    "\n",
    "print(\"Total runtime in seconds: \" + str(finish_time - start_time))"
   ]
  },
  {
   "cell_type": "code",
   "execution_count": 11,
   "id": "89ca8527",
   "metadata": {},
   "outputs": [
    {
     "data": {
      "text/plain": [
       "<matplotlib.legend.Legend at 0x7f06cbaa5940>"
      ]
     },
     "execution_count": 11,
     "metadata": {},
     "output_type": "execute_result"
    },
    {
     "data": {
      "image/png": "[encoded data removed]",
      "text/plain": [
       "<Figure size 432x288 with 1 Axes>"
      ]
     },
     "metadata": {
      "needs_background": "light"
     },
     "output_type": "display_data"
    }
   ],
   "source": [
    "# Plot the histograms\n",
    "hist.Hist.plot1d(output['Data'], histtype='errorbar', color='black')\n",
    "hist.Hist.plot1d(output['MC'], stack=True, histtype='fill', color=['purple', 'red', 'cyan'])\n",
    "\n",
    "# Basic bin parameters\n",
    "xmin = 80\n",
    "xmax = 250\n",
    "step_size = 5\n",
    "\n",
    "bin_centers = np.arange(start=xmin+step_size/2, # The interval includes this value\n",
    "                        stop=xmax+step_size/2, # The interval doesn't include this value\n",
    "                        step=step_size ) # Spacing between values\n",
    "\n",
    "# or via bin_centers = output[\"Data\"].axes[0].centers\n",
    "\n",
    "# Calculate background statistical uncertainty\n",
    "# Remove the \"[:,:2]\" expressions to use all MC datasets with background and signal combined\n",
    "mc_tot_var = np.sum(output['MC'].variances()[:,:2], axis=1)\n",
    "mc_err = np.sqrt(mc_tot_var)\n",
    "mc_tot_height = np.sum(output['MC'].values()[:,:2], axis=1)\n",
    "\n",
    "# Plot background statistical uncertainty\n",
    "plt.bar(bin_centers, # x\n",
    "        2*mc_err, # heights\n",
    "        alpha=0.5, # half transparency\n",
    "        bottom=mc_tot_height-mc_err, color='none', \n",
    "        hatch=\"////\", width=step_size, label='Stat. Unc.')\n",
    "\n",
    "# Tune plot appearance\n",
    "main_axes = plt.gca()\n",
    "main_axes.set_xlim(left=xmin, right=xmax)\n",
    "main_axes.set_ylim(bottom=0, top=np.amax(output['Data'].values())*1.6)\n",
    "main_axes.set_ylabel('Events / '+str(step_size)+' GeV')\n",
    "main_axes.legend(frameon=False)"
   ]
  },
  {
   "cell_type": "markdown",
   "id": "e7b3d5b5",
   "metadata": {},
   "source": [
    "### Save histograms with uproot"
   ]
  },
  {
   "cell_type": "code",
   "execution_count": 12,
   "id": "e31ea1d4",
   "metadata": {},
   "outputs": [],
   "source": [
    "import uproot"
   ]
  },
  {
   "cell_type": "code",
   "execution_count": 13,
   "id": "75837f32",
   "metadata": {},
   "outputs": [],
   "source": [
    "file_name = \"histograms.root\"\n",
    "with uproot.recreate(file_name) as f:\n",
    "    f[\"data\"] = output[\"Data\"][:,\"Data\"]\n",
    "    f[\"Z_tt\"] = output[\"MC\"][:, \"Background $Z,tt^{bar}$\"]\n",
    "    f[\"ZZ\"] = output[\"MC\"][:, \"Background $ZZ^{star}$\"]\n",
    "    f[\"signal\"] = output[\"MC\"][:, \"Signal ($m_H$ = 125 GeV)\"]"
   ]
  },
  {
   "cell_type": "markdown",
   "id": "2eac08fe",
   "metadata": {},
   "source": [
    "### Build workspace and run fit with cabinetry / pyhf"
   ]
  },
  {
   "cell_type": "code",
   "execution_count": 14,
   "id": "2207f2b1",
   "metadata": {},
   "outputs": [],
   "source": [
    "import cabinetry\n",
    "cabinetry.set_logging()"
   ]
  },
  {
   "cell_type": "code",
   "execution_count": 15,
   "id": "3f203255",
   "metadata": {},
   "outputs": [
    {
     "name": "stderr",
     "output_type": "stream",
     "text": [
      "INFO - cabinetry.configuration - opening config file config.yml\n",
      "INFO - cabinetry.templates - no VariationPath specified in general settings, defaulting to \"\"\n",
      "DEBUG - cabinetry.route -   in region Signal_region\n",
      "DEBUG - cabinetry.route -     reading sample Data\n",
      "DEBUG - cabinetry.route -       variation Nominal\n",
      "DEBUG - cabinetry.histo - saving histogram to histograms/Signal_region_Data.npz\n",
      "DEBUG - cabinetry.route -     reading sample Signal\n",
      "DEBUG - cabinetry.route -       variation Nominal\n",
      "DEBUG - cabinetry.histo - saving histogram to histograms/Signal_region_Signal.npz\n",
      "DEBUG - cabinetry.route -     reading sample ZZ\n",
      "DEBUG - cabinetry.route -       variation Nominal\n",
      "DEBUG - cabinetry.histo - saving histogram to histograms/Signal_region_ZZ.npz\n",
      "DEBUG - cabinetry.route -     reading sample Z, tt\n",
      "DEBUG - cabinetry.route -       variation Nominal\n",
      "DEBUG - cabinetry.histo - saving histogram to histograms/Signal_region_Z,-tt.npz\n",
      "INFO - cabinetry.workspace - building workspace\n",
      "WARNING - cabinetry.histo - the modified histogram histograms/Signal_region_Signal_modified.npz does not exist\n",
      "WARNING - cabinetry.histo - loading the un-modified histogram instead!\n",
      "DEBUG - cabinetry.workspace - adding NormFactor Signal_norm to sample Signal in region Signal_region\n",
      "WARNING - cabinetry.histo - the modified histogram histograms/Signal_region_ZZ_modified.npz does not exist\n",
      "WARNING - cabinetry.histo - loading the un-modified histogram instead!\n",
      "WARNING - cabinetry.histo - the modified histogram histograms/Signal_region_Z,-tt_modified.npz does not exist\n",
      "WARNING - cabinetry.histo - loading the un-modified histogram instead!\n",
      "WARNING - cabinetry.histo - the modified histogram histograms/Signal_region_Data_modified.npz does not exist\n",
      "WARNING - cabinetry.histo - loading the un-modified histogram instead!\n",
      "INFO - pyhf.workspace - Validating spec against schema: workspace.json\n"
     ]
    }
   ],
   "source": [
    "config = cabinetry.configuration.load(\"config.yml\")\n",
    "cabinetry.templates.collect(config)\n",
    "ws = cabinetry.workspace.build(config)"
   ]
  },
  {
   "cell_type": "code",
   "execution_count": 16,
   "id": "415afd10",
   "metadata": {},
   "outputs": [
    {
     "name": "stderr",
     "output_type": "stream",
     "text": [
      "INFO - pyhf.workspace - Validating spec against schema: workspace.json\n",
      "INFO - pyhf.pdf - Validating spec against schema: model.json\n",
      "INFO - pyhf.pdf - adding modifier staterror_Signal_region (34 new nuisance parameters)\n",
      "INFO - pyhf.pdf - adding modifier Signal_norm (1 new nuisance parameters)\n",
      "INFO - cabinetry.fit - performing maximum likelihood fit\n",
      "INFO - cabinetry.fit - MINUIT status:\n",
      "┌─────────────────────────────────────────────────────────────────────────┐\n",
      "│                                Migrad                                   │\n",
      "├──────────────────────────────────┬──────────────────────────────────────┤\n",
      "│ FCN = 91.76                      │             Nfcn = 1825              │\n",
      "│ EDM = 0.000113 (Goal: 0.0002)    │                                      │\n",
      "├──────────────────────────────────┼──────────────────────────────────────┤\n",
      "│          Valid Minimum           │        No Parameters at limit        │\n",
      "├──────────────────────────────────┼──────────────────────────────────────┤\n",
      "│ Below EDM threshold (goal x 10)  │           Below call limit           │\n",
      "├───────────────┬──────────────────┼───────────┬─────────────┬────────────┤\n",
      "│  Covariance   │     Hesse ok     │ Accurate  │  Pos. def.  │ Not forced │\n",
      "└───────────────┴──────────────────┴───────────┴─────────────┴────────────┘\n",
      "DEBUG - cabinetry.fit - -2 log(L) = 91.762092 at best-fit point\n",
      "INFO - cabinetry.fit - fit results (with symmetric uncertainties):\n",
      "INFO - cabinetry.fit - staterror_Signal_region[0]  =  1.0067 +/- 0.0581\n",
      "INFO - cabinetry.fit - staterror_Signal_region[1]  =  1.0064 +/- 0.0251\n",
      "INFO - cabinetry.fit - staterror_Signal_region[2]  =  1.0097 +/- 0.0236\n",
      "INFO - cabinetry.fit - staterror_Signal_region[3]  =  1.0239 +/- 0.1021\n",
      "INFO - cabinetry.fit - staterror_Signal_region[4]  =  0.9736 +/- 0.1641\n",
      "INFO - cabinetry.fit - staterror_Signal_region[5]  =  0.9550 +/- 0.1488\n",
      "INFO - cabinetry.fit - staterror_Signal_region[6]  =  0.9761 +/- 0.1428\n",
      "INFO - cabinetry.fit - staterror_Signal_region[7]  =  0.9246 +/- 0.1085\n",
      "INFO - cabinetry.fit - staterror_Signal_region[8]  =  1.0292 +/- 0.0981\n",
      "INFO - cabinetry.fit - staterror_Signal_region[9]  =  0.9779 +/- 0.1070\n",
      "INFO - cabinetry.fit - staterror_Signal_region[10] =  1.0456 +/- 0.1265\n",
      "INFO - cabinetry.fit - staterror_Signal_region[11] =  0.9888 +/- 0.1329\n",
      "INFO - cabinetry.fit - staterror_Signal_region[12] =  1.0418 +/- 0.1340\n",
      "INFO - cabinetry.fit - staterror_Signal_region[13] =  1.0695 +/- 0.1296\n",
      "INFO - cabinetry.fit - staterror_Signal_region[14] =  1.0075 +/- 0.1310\n",
      "INFO - cabinetry.fit - staterror_Signal_region[15] =  0.9857 +/- 0.1513\n",
      "INFO - cabinetry.fit - staterror_Signal_region[16] =  1.1149 +/- 0.1351\n",
      "INFO - cabinetry.fit - staterror_Signal_region[17] =  0.9900 +/- 0.1563\n",
      "INFO - cabinetry.fit - staterror_Signal_region[18] =  1.0289 +/- 0.1475\n",
      "INFO - cabinetry.fit - staterror_Signal_region[19] =  0.9808 +/- 0.1357\n",
      "INFO - cabinetry.fit - staterror_Signal_region[20] =  1.0542 +/- 0.0924\n",
      "INFO - cabinetry.fit - staterror_Signal_region[21] =  1.0349 +/- 0.0757\n",
      "INFO - cabinetry.fit - staterror_Signal_region[22] =  0.9952 +/- 0.0589\n",
      "INFO - cabinetry.fit - staterror_Signal_region[23] =  1.0323 +/- 0.0748\n",
      "INFO - cabinetry.fit - staterror_Signal_region[24] =  1.0007 +/- 0.0715\n",
      "INFO - cabinetry.fit - staterror_Signal_region[25] =  1.0085 +/- 0.0574\n",
      "INFO - cabinetry.fit - staterror_Signal_region[26] =  1.0023 +/- 0.0769\n",
      "INFO - cabinetry.fit - staterror_Signal_region[27] =  1.0015 +/- 0.0655\n",
      "INFO - cabinetry.fit - staterror_Signal_region[28] =  0.9790 +/- 0.0858\n",
      "INFO - cabinetry.fit - staterror_Signal_region[29] =  1.0345 +/- 0.0808\n",
      "INFO - cabinetry.fit - staterror_Signal_region[30] =  1.0044 +/- 0.0707\n",
      "INFO - cabinetry.fit - staterror_Signal_region[31] =  1.0064 +/- 0.0911\n",
      "INFO - cabinetry.fit - staterror_Signal_region[32] =  1.0182 +/- 0.0684\n",
      "INFO - cabinetry.fit - staterror_Signal_region[33] =  1.0219 +/- 0.0897\n",
      "INFO - cabinetry.fit - Signal_norm                 =  1.6453 +/- 0.7512\n",
      "DEBUG - cabinetry.model_utils - total stdev is [... 0.689, 0.776, 0.541, 0.74, 0.566, 0.757, 0.624, 0.504, 0.66, 0.418, 0.564]]\n",
      "DEBUG - cabinetry.model_utils - total stdev per channel is [7.86]\n"
     ]
    }
   ],
   "source": [
    "model, data = cabinetry.model_utils.model_and_data(ws)\n",
    "fit_results = cabinetry.fit.fit(model, data)\n",
    "postfit_model = cabinetry.model_utils.prediction(model, fit_results = fit_results)"
   ]
  },
  {
   "cell_type": "code",
   "execution_count": 17,
   "id": "b8db883d",
   "metadata": {},
   "outputs": [
    {
     "name": "stderr",
     "output_type": "stream",
     "text": [
      "DEBUG - cabinetry.visualize.utils - saving figure as figures/Signal_region_postfit.pdf\n"
     ]
    },
    {
     "data": {
      "text/plain": [
       "[{'figure': <Figure size 432x432 with 2 Axes>, 'region': 'Signal_region'}]"
      ]
     },
     "execution_count": 17,
     "metadata": {},
     "output_type": "execute_result"
    },
    {
     "data": {
      "image/png": "[encoded data removed]",
      "text/plain": [
       "<Figure size 432x432 with 2 Axes>"
      ]
     },
     "metadata": {
      "needs_background": "light"
     },
     "output_type": "display_data"
    }
   ],
   "source": [
    "cabinetry.visualize.data_mc(postfit_model, data)"
   ]
  },
  {
   "cell_type": "code",
   "execution_count": null,
   "id": "0ebd445a",
   "metadata": {},
   "outputs": [],
   "source": []
  },
  {
   "cell_type": "code",
   "execution_count": null,
   "id": "e61357c2",
   "metadata": {},
   "outputs": [],
   "source": []
  }
 ],
 "metadata": {
  "kernelspec": {
   "display_name": "Python 3 (ipykernel)",
   "language": "python",
   "name": "python3"
  },
  "language_info": {
   "codemirror_mode": {
    "name": "ipython",
    "version": 3
   },
   "file_extension": ".py",
   "mimetype": "text/x-python",
   "name": "python",
   "nbconvert_exporter": "python",
   "pygments_lexer": "ipython3",
   "version": "3.9.0"
  }
 },
 "nbformat": 4,
 "nbformat_minor": 5
}
