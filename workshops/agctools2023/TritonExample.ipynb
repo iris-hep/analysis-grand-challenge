{
 "cells": [
  {
   "cell_type": "code",
   "execution_count": null,
   "id": "5eae4a7f-20b6-418d-bf60-46a64f4befc2",
   "metadata": {
    "tags": []
   },
   "outputs": [],
   "source": [
    "import tritonclient.grpc as grpcclient\n",
    "\n",
    "triton_client = grpcclient.InferenceServerClient(url=\"agc-triton-inference-server:8001\")\n",
    "model_metadata = triton_client.get_model_metadata(\"reconstruction_bdt_xgb\", \"1\")"
   ]
  },
  {
   "cell_type": "code",
   "execution_count": null,
   "id": "345f3abd-406e-447d-8c2a-6795965202e8",
   "metadata": {
    "tags": []
   },
   "outputs": [],
   "source": [
    "model_metadata"
   ]
  },
  {
   "cell_type": "code",
   "execution_count": null,
   "id": "af4a61ab-b478-4c53-8c68-f9ea14c028b0",
   "metadata": {},
   "outputs": [],
   "source": [
    "input_name = model_metadata.inputs[0].name\n",
    "dtype = model_metadata.inputs[0].datatype\n",
    "output_name = model_metadata.outputs[0].name"
   ]
  },
  {
   "cell_type": "code",
   "execution_count": null,
   "id": "dd77252b-3ce3-4066-a74c-e4cfb7069ef0",
   "metadata": {
    "tags": []
   },
   "outputs": [],
   "source": [
    "output = grpcclient.InferRequestedOutput(output_name)\n",
    "\n",
    "# generate random feature set\n",
    "import numpy as np\n",
    "features = np.random.randn(10000,20).astype(np.float32)\n",
    "\n",
    "# set inputs\n",
    "inpt = [grpcclient.InferInput(input_name, features.shape, dtype)]\n",
    "inpt[0].set_data_from_numpy(features)\n",
    "\n",
    "# perform inference request\n",
    "results = triton_client.infer(model_name=\"reconstruction_bdt_xgb\",\n",
    "                              model_version=\"2\",\n",
    "                              inputs=inpt,\n",
    "                              outputs=[output]).as_numpy(output_name)[:, 1]"
   ]
  },
  {
   "cell_type": "code",
   "execution_count": null,
   "id": "07be8aee-b9d5-4c0f-a728-39494c4ecb39",
   "metadata": {
    "tags": []
   },
   "outputs": [],
   "source": [
    "results[0:10]"
   ]
  }
 ],
 "metadata": {
  "kernelspec": {
   "display_name": "Python 3 (ipykernel)",
   "language": "python",
   "name": "python3"
  },
  "language_info": {
   "codemirror_mode": {
    "name": "ipython",
    "version": 3
   },
   "file_extension": ".py",
   "mimetype": "text/x-python",
   "name": "python",
   "nbconvert_exporter": "python",
   "pygments_lexer": "ipython3",
   "version": "3.8.16"
  }
 },
 "nbformat": 4,
 "nbformat_minor": 5
}
