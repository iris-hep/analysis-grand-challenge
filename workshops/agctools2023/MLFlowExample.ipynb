{
 "cells": [
  {
   "cell_type": "code",
   "execution_count": null,
   "id": "fd94a310-05df-45ce-b77b-c6b57cc461f0",
   "metadata": {
    "tags": []
   },
   "outputs": [],
   "source": [
    "import mlflow\n",
    "from mlflow.models.signature import infer_signature\n",
    "import xgboost as xgb\n",
    "import numpy as np"
   ]
  },
  {
   "cell_type": "code",
   "execution_count": null,
   "id": "1a71b183-f5bf-4a90-8f78-6a5c8802e501",
   "metadata": {},
   "outputs": [],
   "source": [
    "os.environ['MLFLOW_TRACKING_TOKEN'] = '' #set token\n",
    "os.environ['MLFLOW_TRACKING_URI'] = \"https://mlflow-demo.software-dev.ncsa.illinois.edu\"\n",
    "\n",
    "mlflow.set_tracking_uri('https://mlflow-demo.software-dev.ncsa.illinois.edu') \n",
    "mlflow.set_experiment(\"test-experiment\")"
   ]
  },
  {
   "cell_type": "code",
   "execution_count": null,
   "id": "1f3cf34a-bcad-45dc-a4bc-db0dfff41bc6",
   "metadata": {
    "tags": []
   },
   "outputs": [],
   "source": [
    "train_data = np.concatenate((np.random.randn(10000,10), 2*np.random.randn(10000,10)+2))\n",
    "train_labels = np.concatenate((np.ones(10000), np.zeros(10000)))\n",
    "\n",
    "test_data = np.concatenate((np.random.randn(100,10), 2*np.random.randn(100,10)+2))\n",
    "test_labels = np.concatenate((np.ones(100), np.zeros(100)))"
   ]
  },
  {
   "cell_type": "code",
   "execution_count": null,
   "id": "8611ff53-6576-41a8-8628-f13da9d84687",
   "metadata": {
    "tags": []
   },
   "outputs": [],
   "source": [
    "params = {\n",
    "    'reg_lambda': 1,\n",
    "    'reg_alpha': 0.5,\n",
    "    'n_estimators': 5,\n",
    "    'min_child_weight': 379,\n",
    "    'max_depth': 10,\n",
    "    'learning_rate': 0.5,\n",
    "}"
   ]
  },
  {
   "cell_type": "code",
   "execution_count": null,
   "id": "0b9cff96-cf8e-48b0-8835-3471f72febbb",
   "metadata": {},
   "outputs": [],
   "source": [
    "with mlflow.start_run(run_name=\"MY_RUN\") as run:\n",
    "    \n",
    "    # log params\n",
    "    for param_name, value in params.items():\n",
    "        mlflow.log_param(param_name, value)\n",
    "\n",
    "    # train model\n",
    "    model = xgb.XGBClassifier(nthread=-1, **params)\n",
    "    model.fit(train_data, train_labels)\n",
    "    \n",
    "    # log metrics\n",
    "    mlflow.log_metric('train_score', model.score(train_data, train_labels))\n",
    "    mlflow.log_metric('test_score', model.score(test_data, test_labels))\n",
    "    \n",
    "    # log model\n",
    "    signature = infer_signature(test_data, model.predict(test_data))\n",
    "    mlflow.xgboost.log_model(model, \"model\", signature=signature)"
   ]
  }
 ],
 "metadata": {
  "kernelspec": {
   "display_name": "Python 3 (ipykernel)",
   "language": "python",
   "name": "python3"
  },
  "language_info": {
   "codemirror_mode": {
    "name": "ipython",
    "version": 3
   },
   "file_extension": ".py",
   "mimetype": "text/x-python",
   "name": "python",
   "nbconvert_exporter": "python",
   "pygments_lexer": "ipython3",
   "version": "3.8.16"
  }
 },
 "nbformat": 4,
 "nbformat_minor": 5
}
