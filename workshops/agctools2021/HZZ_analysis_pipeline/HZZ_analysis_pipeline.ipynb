{
 "cells": [
  {
   "cell_type": "markdown",
   "id": "b23ee171",
   "metadata": {},
   "source": [
    "# ATLAS Open Data H>ZZ* with ServiceX, coffea, cabinetry & pyhf"
   ]
  },
  {
   "cell_type": "code",
   "execution_count": 1,
   "id": "71b3fd2d",
   "metadata": {},
   "outputs": [],
   "source": [
    "import asyncio\n",
    "import os\n",
    "import re\n",
    "import time\n",
    "\n",
    "import awkward as ak\n",
    "import cabinetry\n",
    "from coffea.processor import servicex\n",
    "from func_adl import ObjectStream\n",
    "from func_adl_servicex import ServiceXSourceUpROOT\n",
    "import hist\n",
    "import matplotlib.pyplot as plt\n",
    "import mplhep\n",
    "import numpy as np\n",
    "import pyhf\n",
    "from servicex.servicex import ServiceXDataset\n",
    "import uproot\n",
    "\n",
    "import utils\n",
    "from utils import infofile  # contains cross-section information\n",
    "\n",
    "utils.clean_up()  # delete output from previous runs of notebook (optional)\n",
    "utils.set_logging()  # configure logging output"
   ]
  },
  {
   "cell_type": "markdown",
   "id": "aea8a1cc",
   "metadata": {},
   "source": [
    "## Introduction"
   ]
  },
  {
   "cell_type": "markdown",
   "id": "1551acd1",
   "metadata": {},
   "source": [
    "We are going to use the ATLAS Open Data for this demonstration, in particular a H>ZZ* analysis. Find more information on the [ATLAS Open Data documentation](http://opendata.atlas.cern/release/2020/documentation/physics/FL2.html) and in [ATL-OREACH-PUB-2020-001](https://cds.cern.ch/record/2707171). The datasets used are [10.7483/OPENDATA.ATLAS.2Y1T.TLGL](http://doi.org/10.7483/OPENDATA.ATLAS.2Y1T.TLGL). The material in this notebook is based on the [ATLAS Open Data notebooks](https://github.com/atlas-outreach-data-tools/notebooks-collection-opendata), a [PyHEP 2021 ServiceX demo](https://github.com/gordonwatts/pyhep-2021-SX-OpenDataDemo), and [Storm Lin's adoption](https://github.com/stormsomething/CoffeaHZZAnalysis) of this analysis.\n",
    "\n",
    "This notebook is meant as a **technical demonstration**. In particular, the systematic uncertainties defined are purely to demonstrate aspects of realistic workflows, and are not meant to be meaningful physically. The fit performed to data consequently also only demonstrate technical aspects. If you are interested about the physics of $H\\rightarrow ZZ^\\star$, check out for example the actual ATLAS cross-section measurement: [Eur. Phys. J. C 80 (2020) 942](https://atlas.web.cern.ch/Atlas/GROUPS/PHYSICS/PAPERS/HIGG-2018-29/).\n",
    "\n",
    "This notebook implements most of the analysis pipeline shown in the following picture, using the tools also mentioned there:\n",
    "![pict](https://iris-hep.org/assets/images/cabinetry-vertical-slice.png)\n",
    "\n",
    "### Tools and packages used in this example\n",
    "\n",
    "The notebook showcases:\n",
    "- data delivery with `ServiceX`\n",
    "- event / column selection with `func_adl`\n",
    "- data handling with `awkward-array`\n",
    "- histogram production with `coffea`\n",
    "- histogram handling with `hist`\n",
    "- visualization with `mplhep` & `hist`\n",
    "- ROOT file handling with `uproot`\n",
    "- statistical model construction with `cabinetry`\n",
    "- statistical inference with `pyhf`\n",
    "\n",
    "### High-level strategy\n",
    "\n",
    "We will define which files to process, set up a query with `func_adl` to extract data provided by `ServiceX`, and use `coffea` to construct histograms.\n",
    "Those histograms will be saved with `uproot`, and then assembled into a statistical model with `cabinetry`.\n",
    "Following that, we perform statistical inference with `pyhf`."
   ]
  },
  {
   "cell_type": "markdown",
   "id": "54b6c272",
   "metadata": {},
   "source": [
    "## Files to process\n",
    "\n",
    "To get started, we define which files are going to be processed in this notebook.\n",
    "We also set some information for histogramming that will be used subsequently."
   ]
  },
  {
   "cell_type": "code",
   "execution_count": 2,
   "id": "24197a9f",
   "metadata": {},
   "outputs": [],
   "source": [
    "prefix = (\n",
    "    \"root://eospublic.cern.ch//eos/opendata/atlas/OutreachDatasets/2020-01-22/4lep/\"\n",
    ")\n",
    "\n",
    "# labels for combinations of datasets\n",
    "z_ttbar = r\"Background $Z,t\\bar{t}$\"\n",
    "zzstar = r\"Background $ZZ^{\\star}$\"\n",
    "signal = r\"Signal ($m_H$ = 125 GeV)\"\n",
    "\n",
    "fileset = {\n",
    "    \"Data\": [\n",
    "        prefix + \"Data/data_A.4lep.root\",\n",
    "        prefix + \"Data/data_B.4lep.root\",\n",
    "        prefix + \"Data/data_C.4lep.root\",\n",
    "        prefix + \"Data/data_D.4lep.root\",\n",
    "    ],\n",
    "    z_ttbar: [\n",
    "        prefix + \"MC/mc_361106.Zee.4lep.root\",\n",
    "        prefix + \"MC/mc_361107.Zmumu.4lep.root\",\n",
    "        prefix + \"MC/mc_410000.ttbar_lep.4lep.root\",\n",
    "    ],\n",
    "    zzstar: [prefix + \"MC/mc_363490.llll.4lep.root\"],\n",
    "    signal: [\n",
    "        prefix + \"MC/mc_345060.ggH125_ZZ4lep.4lep.root\",\n",
    "        prefix + \"MC/mc_344235.VBFH125_ZZ4lep.4lep.root\",\n",
    "        prefix + \"MC/mc_341964.WH125_ZZ4lep.4lep.root\",\n",
    "        prefix + \"MC/mc_341947.ZH125_ZZ4lep.4lep.root\",\n",
    "    ],\n",
    "}\n",
    "\n",
    "# information for histograms\n",
    "bin_edge_low = 80  # 80 GeV\n",
    "bin_edge_high = 250  # 250 GeV\n",
    "num_bins = 34"
   ]
  },
  {
   "cell_type": "markdown",
   "id": "1a8d21bc",
   "metadata": {},
   "source": [
    "## Setting up a query with `func_adl`"
   ]
  },
  {
   "cell_type": "markdown",
   "id": "a6bcc6e3",
   "metadata": {},
   "source": [
    "We are using `func_adl` for event & column selection, and make a datasource with the query built by `get_lepton_query`.\n",
    "\n",
    "A list of all available columns in the input files can be found in the [ATLAS documentation of branches](http://opendata.atlas.cern/release/2020/documentation/datasets/dataset13.html).\n",
    "\n",
    "<span style=\"color:darkgreen\">**Systematic uncertainty:**</span> scale factor variation, applied already at event selection stage. Imagine that this could be a calculation that requires a lot of different variables which are no longer needed downstream afterwards, so it makes sense to do it here."
   ]
  },
  {
   "cell_type": "code",
   "execution_count": 3,
   "id": "31361726",
   "metadata": {},
   "outputs": [],
   "source": [
    "def get_lepton_query(source: ObjectStream) -> ObjectStream:\n",
    "    \"\"\"Performs event selection: require events with exactly four leptons.\n",
    "    Also select all columns needed further downstream for processing &\n",
    "    histogram filling.\n",
    "    \"\"\"\n",
    "    return source.Where(lambda e: e.lep_n == 4).Select(\n",
    "        lambda e: {\n",
    "            \"lep_pt\": e.lep_pt,\n",
    "            \"lep_eta\": e.lep_eta,\n",
    "            \"lep_phi\": e.lep_phi,\n",
    "            \"lep_energy\": e.lep_E,\n",
    "            \"lep_charge\": e.lep_charge,\n",
    "            \"lep_typeid\": e.lep_type,\n",
    "            \"mcWeight\": e.mcWeight,\n",
    "            \"scaleFactor\": e.scaleFactor_ELE\n",
    "            * e.scaleFactor_MUON\n",
    "            * e.scaleFactor_LepTRIGGER\n",
    "            * e.scaleFactor_PILEUP,\n",
    "            # scale factor systematic variation example\n",
    "            \"scaleFactorUP\": e.scaleFactor_ELE\n",
    "            * e.scaleFactor_MUON\n",
    "            * e.scaleFactor_LepTRIGGER\n",
    "            * e.scaleFactor_PILEUP\n",
    "            * 1.1,\n",
    "            \"scaleFactorDOWN\": e.scaleFactor_ELE\n",
    "            * e.scaleFactor_MUON\n",
    "            * e.scaleFactor_LepTRIGGER\n",
    "            * e.scaleFactor_PILEUP\n",
    "            * 0.9,\n",
    "        }\n",
    "    )\n",
    "\n",
    "\n",
    "def make_datasource(name: str, query: ObjectStream):\n",
    "    \"\"\"Creates a ServiceX datasource for a particular ATLAS Open data file.\"\"\"\n",
    "    datasets = [ServiceXDataset(fileset[name], backend_name=\"uproot\")]\n",
    "    return servicex.DataSource(\n",
    "        query=query, metadata={\"dataset_category\": name}, datasets=datasets\n",
    "    )"
   ]
  },
  {
   "cell_type": "markdown",
   "id": "f53de594",
   "metadata": {},
   "source": [
    "## Processing `ServiceX`-provided data with `coffea`\n",
    "\n",
    "Event weighting: look up cross-section from a provided utility file, and correctly normalize all events."
   ]
  },
  {
   "cell_type": "code",
   "execution_count": 4,
   "id": "be2a6ed2",
   "metadata": {},
   "outputs": [],
   "source": [
    "def get_xsec_weight(sample: str) -> float:\n",
    "    \"\"\"Returns normalization weight for a given sample.\"\"\"\n",
    "    lumi = 10_000  # pb^-1\n",
    "    xsec_map = infofile.infos[sample]  # dictionary with event weighting information\n",
    "    xsec_weight = (lumi * xsec_map[\"xsec\"]) / (xsec_map[\"sumw\"] * xsec_map[\"red_eff\"])\n",
    "    return xsec_weight"
   ]
  },
  {
   "cell_type": "markdown",
   "id": "51b14ccb",
   "metadata": {},
   "source": [
    "Cuts to apply:\n",
    "- two opposite flavor leptons (total lepton charge is 0)\n",
    "- lepton types: 4 electrons, 4 muons, or 2 electrons + 2 muons"
   ]
  },
  {
   "cell_type": "code",
   "execution_count": 5,
   "id": "1515ec6b",
   "metadata": {},
   "outputs": [],
   "source": [
    "def lepton_filter(lep_charge, lep_type):\n",
    "    \"\"\"Filters leptons: sum of charges is required to be 0, and sum of lepton types 44/48/52.\n",
    "    Electrons have type 11, muons have 13, so this means 4e/4mu/2e2mu.\n",
    "    \"\"\"\n",
    "    sum_lep_charge = (\n",
    "        lep_charge[:, 0] + lep_charge[:, 1] + lep_charge[:, 2] + lep_charge[:, 3]\n",
    "    )\n",
    "    sum_lep_type = lep_type[:, 0] + lep_type[:, 1] + lep_type[:, 2] + lep_type[:, 3]\n",
    "    good_lep_type = ak.any(\n",
    "        [sum_lep_type == 44, sum_lep_type == 48, sum_lep_type == 52], axis=0\n",
    "    )\n",
    "    return ak.all([sum_lep_charge == 0, good_lep_type], axis=0)"
   ]
  },
  {
   "cell_type": "markdown",
   "id": "c2cfd064",
   "metadata": {},
   "source": [
    "Set up the `coffea` processor. It will apply cuts, calculate the four-lepton invariant mass, and fill a histogram.\n",
    "\n",
    "<span style=\"color:darkgreen\">**Systematic uncertainty:**</span> m4l variation, applied in the processor to remaining events. This might for example be the result of applying a tool performing a computationally expensive calculation, which should only be run for events where it is needed."
   ]
  },
  {
   "cell_type": "code",
   "execution_count": 6,
   "id": "f451f832",
   "metadata": {},
   "outputs": [],
   "source": [
    "class HZZAnalysis(servicex.Analysis):\n",
    "    \"\"\"The coffea processor used in this analysis.\"\"\"\n",
    "\n",
    "    def process(self, events):\n",
    "        # type of dataset being processed, provided via metadata (comes originally from fileset)\n",
    "        dataset_category = events.metadata[\"dataset_category\"]\n",
    "\n",
    "        # get lepton information from events\n",
    "        leptons = events.lep\n",
    "\n",
    "        # apply a cut to events, based on lepton charge and lepton type\n",
    "        events = events[lepton_filter(leptons.charge, leptons.typeid)]\n",
    "        leptons = events.lep\n",
    "\n",
    "        # calculate the 4-lepton invariant mass for each remaining event\n",
    "        # this could also be an expensive calculation using external tools\n",
    "        mllll = (\n",
    "            leptons[:, 0] + leptons[:, 1] + leptons[:, 2] + leptons[:, 3]\n",
    "        ).mass / 1000\n",
    "\n",
    "        # creat histogram holding outputs, for data just binned in m4l\n",
    "        mllllhist_data = hist.Hist.new.Reg(\n",
    "            num_bins,\n",
    "            bin_edge_low,\n",
    "            bin_edge_high,\n",
    "            name=\"mllll\",\n",
    "            label=\"$\\mathrm{m_{4l}}$ [GeV]\",\n",
    "        ).Weight()  # using weighted storage here for plotting later, but not needed\n",
    "\n",
    "        # three histogram axes for MC: m4l, category, and variation (nominal and\n",
    "        # systematic variations)\n",
    "        mllllhist_MC = (\n",
    "            hist.Hist.new.Reg(\n",
    "                num_bins,\n",
    "                bin_edge_low,\n",
    "                bin_edge_high,\n",
    "                name=\"mllll\",\n",
    "                label=\"$\\mathrm{m_{4l}}$ [GeV]\",\n",
    "            )\n",
    "            .StrCat([k for k in fileset.keys() if k != \"Data\"], name=\"dataset\")\n",
    "            .StrCat(\n",
    "                [\"nominal\", \"scaleFactorUP\", \"scaleFactorDOWN\", \"m4lUP\", \"m4lDOWN\"],\n",
    "                name=\"variation\",\n",
    "            )\n",
    "            .Weight()\n",
    "        )\n",
    "\n",
    "        if dataset_category == \"Data\":\n",
    "            # create and fill a histogram for m4l\n",
    "            mllllhist_data.fill(mllll=mllll)\n",
    "\n",
    "        else:\n",
    "            # extract the sample name from the filename to calculate x-sec weight\n",
    "            sample = re.findall(r\"mc_\\d+\\.(.+)\\.4lep\", events.metadata[\"filename\"])[0]\n",
    "            basic_weight = get_xsec_weight(sample) * events.mcWeight\n",
    "            totalWeights = basic_weight * events.scaleFactor\n",
    "\n",
    "            # calculate systematic variations for weight\n",
    "            totalWeightsUp = basic_weight * events.scaleFactorUP\n",
    "            totalWeightsDown = basic_weight * events.scaleFactorDOWN\n",
    "\n",
    "            # create and fill weighted histograms for m4l: nominal and variations\n",
    "            mllllhist_MC.fill(\n",
    "                mllll=mllll,\n",
    "                dataset=dataset_category,\n",
    "                variation=\"nominal\",\n",
    "                weight=totalWeights,\n",
    "            )\n",
    "\n",
    "            # scale factor variations\n",
    "            mllllhist_MC.fill(\n",
    "                mllll=mllll,\n",
    "                dataset=dataset_category,\n",
    "                variation=\"scaleFactorUP\",\n",
    "                weight=totalWeightsUp,\n",
    "            )\n",
    "            mllllhist_MC.fill(\n",
    "                mllll=mllll,\n",
    "                dataset=dataset_category,\n",
    "                variation=\"scaleFactorDOWN\",\n",
    "                weight=totalWeightsDown,\n",
    "            )\n",
    "\n",
    "            # variation in 4-lepton invariant mass\n",
    "            mllllhist_MC.fill(\n",
    "                mllll=mllll * 1.01,\n",
    "                dataset=dataset_category,\n",
    "                variation=\"m4lUP\",\n",
    "                weight=totalWeights,\n",
    "            )\n",
    "            mllllhist_MC.fill(\n",
    "                mllll=mllll * 0.99,\n",
    "                dataset=dataset_category,\n",
    "                variation=\"m4lDOWN\",\n",
    "                weight=totalWeights,\n",
    "            )\n",
    "\n",
    "        return {\"data\": mllllhist_data, \"MC\": mllllhist_MC}"
   ]
  },
  {
   "cell_type": "markdown",
   "id": "a54c2ad5",
   "metadata": {},
   "source": [
    "## Producing the desired histograms\n",
    "\n",
    "Putting everything together: query, datasource, processor, this function runs everything so far and collects the produced histograms."
   ]
  },
  {
   "cell_type": "code",
   "execution_count": 7,
   "id": "6ec9ce14",
   "metadata": {},
   "outputs": [],
   "source": [
    "async def produce_all_histograms():\n",
    "    \"\"\"Run on a known analysis file/files and return the result.\n",
    "    Should be fine to start many of these at once.\n",
    "    \"\"\"\n",
    "    # Create the query\n",
    "    ds = ServiceXSourceUpROOT(\"cernopendata://dummy\", \"mini\", backend_name=\"uproot\")\n",
    "    ds.return_qastle = True\n",
    "    lepton_query = get_lepton_query(ds)\n",
    "\n",
    "    executor = servicex.LocalExecutor()\n",
    "    # To run with the Dask executor on coffea-casa, use the following:\n",
    "    # (please note https://github.com/CoffeaTeam/coffea/issues/611)\n",
    "    # if os.environ.get(\"LABEXTENTION_FACTORY_MODULE\") == \"coffea_casa\":\n",
    "    #     executor = servicex.DaskExecutor(client_addr=\"tls://localhost:8786\")\n",
    "\n",
    "    datasources = [make_datasource(ds_name, lepton_query) for ds_name in fileset.keys()]\n",
    "\n",
    "    # Create the analysis processor\n",
    "    analysis_processor = HZZAnalysis()\n",
    "\n",
    "    async def run_updates_stream(accumulator_stream, name):\n",
    "        \"\"\"Run to get the last item in the stream\"\"\"\n",
    "        coffea_info = None\n",
    "        try:\n",
    "            async for coffea_info in accumulator_stream:\n",
    "                pass\n",
    "        except Exception as e:\n",
    "            raise Exception(f\"Failure while processing {name}\") from e\n",
    "        return coffea_info\n",
    "\n",
    "    all_histogram_dicts = await asyncio.gather(\n",
    "        *[\n",
    "            run_updates_stream(\n",
    "                executor.execute(analysis_processor, source),\n",
    "                source.metadata[\"dataset_category\"],\n",
    "            )\n",
    "            for source in datasources\n",
    "        ]\n",
    "    )\n",
    "    full_data_histogram = sum([h[\"data\"] for h in all_histogram_dicts])\n",
    "    full_mc_histogram = sum([h[\"MC\"] for h in all_histogram_dicts])\n",
    "\n",
    "    return {\"data\": full_data_histogram, \"MC\": full_mc_histogram}"
   ]
  },
  {
   "cell_type": "markdown",
   "id": "82917ded",
   "metadata": {},
   "source": [
    "Now run the function just defined: obtain data from ServiceX, run processor, gather output histograms."
   ]
  },
  {
   "cell_type": "code",
   "execution_count": 8,
   "id": "180cbad6",
   "metadata": {},
   "outputs": [
    {
     "name": "stdout",
     "output_type": "stream",
     "text": [
      "execution took 10.19 seconds\n"
     ]
    }
   ],
   "source": [
    "t0 = time.time()\n",
    "\n",
    "# in a notebook:\n",
    "all_histograms = await produce_all_histograms()\n",
    "\n",
    "# as a script:\n",
    "# async def produce_all_the_histograms():\n",
    "#    return await produce_all_histograms()\n",
    "#\n",
    "# all_histograms = asyncio.run(produce_all_the_histograms())\n",
    "\n",
    "print(f\"execution took {time.time() - t0:.2f} seconds\")"
   ]
  },
  {
   "cell_type": "markdown",
   "id": "3a62b89d",
   "metadata": {},
   "source": [
    "## Plotting histograms with `mplhep`, `hist` & `matplotlib`\n",
    "\n",
    "We can plot some of the histograms we just produced with `mplhep`, `hist` & `matplotlib`."
   ]
  },
  {
   "cell_type": "code",
   "execution_count": 9,
   "id": "89ca8527",
   "metadata": {},
   "outputs": [
    {
     "data": {
      "image/png": "[encoded data removed]",
      "text/plain": [
       "<Figure size 432x288 with 1 Axes>"
      ]
     },
     "metadata": {
      "needs_background": "light"
     },
     "output_type": "display_data"
    }
   ],
   "source": [
    "# plot histograms with mplhep & hist\n",
    "mplhep.histplot(all_histograms[\"data\"], histtype=\"errorbar\", color=\"black\")\n",
    "hist.Hist.plot1d(\n",
    "    all_histograms[\"MC\"][:, :, \"nominal\"],\n",
    "    stack=True,\n",
    "    histtype=\"fill\",\n",
    "    color=[\"purple\", \"red\", \"lightblue\"],\n",
    ")\n",
    "\n",
    "# plot band for MC statistical uncertainties via utility function\n",
    "utils.plot_errorband(bin_edge_low, bin_edge_high, num_bins, all_histograms)"
   ]
  },
  {
   "cell_type": "markdown",
   "id": "e7b3d5b5",
   "metadata": {},
   "source": [
    "## Saving histograms with uproot\n",
    "\n",
    "In order to build a statistical model, we will use `cabinetry`'s support for reading histograms to build a so-called workspace specifying the model.\n",
    "We will save the histograms we just created to disk with `uproot`."
   ]
  },
  {
   "cell_type": "code",
   "execution_count": 10,
   "id": "75837f32",
   "metadata": {},
   "outputs": [],
   "source": [
    "file_name = \"histograms.root\"\n",
    "with uproot.recreate(file_name) as f:\n",
    "    f[\"data\"] = all_histograms[\"data\"]\n",
    "\n",
    "    f[\"Z_tt\"] = all_histograms[\"MC\"][:, z_ttbar, \"nominal\"]\n",
    "    f[\"Z_tt_SF_up\"] = all_histograms[\"MC\"][:, z_ttbar, \"scaleFactorUP\"]\n",
    "    f[\"Z_tt_SF_down\"] = all_histograms[\"MC\"][:, z_ttbar, \"scaleFactorDOWN\"]\n",
    "    f[\"Z_tt_m4l_up\"] = all_histograms[\"MC\"][:, z_ttbar, \"m4lUP\"]\n",
    "    f[\"Z_tt_m4l_down\"] = all_histograms[\"MC\"][:, z_ttbar, \"m4lDOWN\"]\n",
    "\n",
    "    f[\"ZZ\"] = all_histograms[\"MC\"][:, zzstar, \"nominal\"]\n",
    "    f[\"ZZ_SF_up\"] = all_histograms[\"MC\"][:, zzstar, \"scaleFactorUP\"]\n",
    "    f[\"ZZ_SF_down\"] = all_histograms[\"MC\"][:, zzstar, \"scaleFactorDOWN\"]\n",
    "    f[\"ZZ_m4l_up\"] = all_histograms[\"MC\"][:, zzstar, \"m4lUP\"]\n",
    "    f[\"ZZ_m4l_down\"] = all_histograms[\"MC\"][:, zzstar, \"m4lDOWN\"]\n",
    "\n",
    "    f[\"signal\"] = all_histograms[\"MC\"][:, signal, \"nominal\"]\n",
    "    f[\"signal_SF_up\"] = all_histograms[\"MC\"][:, signal, \"scaleFactorUP\"]\n",
    "    f[\"signal_SF_down\"] = all_histograms[\"MC\"][:, signal, \"scaleFactorDOWN\"]\n",
    "    f[\"signal_m4l_up\"] = all_histograms[\"MC\"][:, signal, \"m4lUP\"]\n",
    "    f[\"signal_m4l_down\"] = all_histograms[\"MC\"][:, signal, \"m4lDOWN\"]"
   ]
  },
  {
   "cell_type": "markdown",
   "id": "2eac08fe",
   "metadata": {},
   "source": [
    "## Building a workspace and running a fit with cabinetry & pyhf\n",
    "\n",
    "Take a look at the `cabinetry` configuration file in `config.yml`.\n",
    "It specifies the model to be built.\n",
    "In particular, it lists the samples we are going to be using:\n"
   ]
  },
  {
   "cell_type": "code",
   "execution_count": 11,
   "id": "bf72ff47",
   "metadata": {},
   "outputs": [
    {
     "name": "stderr",
     "output_type": "stream",
     "text": [
      "INFO - cabinetry.configuration - opening config file config.yml\n"
     ]
    },
    {
     "data": {
      "text/plain": [
       "[{'Name': 'Data', 'SamplePath': 'data', 'Data': True},\n",
       " {'Name': 'Signal', 'SamplePath': 'signal'},\n",
       " {'Name': 'Background ZZ*', 'SamplePath': 'ZZ'},\n",
       " {'Name': 'Background Z, ttbar', 'SamplePath': 'Z_tt'}]"
      ]
     },
     "execution_count": 11,
     "metadata": {},
     "output_type": "execute_result"
    }
   ],
   "source": [
    "config = cabinetry.configuration.load(\"config.yml\")\n",
    "config[\"Samples\"]"
   ]
  },
  {
   "cell_type": "markdown",
   "id": "fb046e9a",
   "metadata": {},
   "source": [
    "It also shows which systematic uncertainties we will apply.\n",
    "This includes a new systematic uncertainty defined at this stage.\n",
    "\n",
    "<span style=\"color:darkgreen\">**Systematic uncertainty:**</span> ZZ normalization, not requiring any histograms"
   ]
  },
  {
   "cell_type": "code",
   "execution_count": 12,
   "id": "aa71a711",
   "metadata": {},
   "outputs": [
    {
     "data": {
      "text/plain": [
       "[{'Name': 'Scalefactor_variation',\n",
       "  'Type': 'NormPlusShape',\n",
       "  'Up': {'VariationPath': '_SF_up'},\n",
       "  'Down': {'VariationPath': '_SF_down'}},\n",
       " {'Name': 'm4l_variation',\n",
       "  'Type': 'NormPlusShape',\n",
       "  'Up': {'VariationPath': '_m4l_up'},\n",
       "  'Down': {'VariationPath': '_m4l_down'}},\n",
       " {'Name': 'ZZ_norm',\n",
       "  'Type': 'Normalization',\n",
       "  'Up': {'Normalization': 0.1},\n",
       "  'Down': {'Normalization': -0.1},\n",
       "  'Samples': 'Background ZZ*'}]"
      ]
     },
     "execution_count": 12,
     "metadata": {},
     "output_type": "execute_result"
    }
   ],
   "source": [
    "config[\"Systematics\"]"
   ]
  },
  {
   "cell_type": "markdown",
   "id": "510d1c08",
   "metadata": {},
   "source": [
    "The information in the configuration is used to construct a statistical model, the workspace."
   ]
  },
  {
   "cell_type": "code",
   "execution_count": 13,
   "id": "3f203255",
   "metadata": {},
   "outputs": [
    {
     "name": "stderr",
     "output_type": "stream",
     "text": [
      "INFO - cabinetry.workspace - building workspace\n"
     ]
    }
   ],
   "source": [
    "cabinetry.templates.collect(config)\n",
    "cabinetry.templates.postprocess(config)  # optional post-processing (e.g. smoothing)\n",
    "ws = cabinetry.workspace.build(config)"
   ]
  },
  {
   "cell_type": "markdown",
   "id": "ccbc73ee",
   "metadata": {},
   "source": [
    "Create a `pyhf` model and extract the data from the workspace. Perform a MLE fit, and produce the post-fit model prediction."
   ]
  },
  {
   "cell_type": "code",
   "execution_count": 14,
   "id": "415afd10",
   "metadata": {},
   "outputs": [
    {
     "name": "stderr",
     "output_type": "stream",
     "text": [
      "INFO - cabinetry.fit - performing maximum likelihood fit\n",
      "INFO - cabinetry.fit - MINUIT status:\n",
      "┌─────────────────────────────────────────────────────────────────────────┐\n",
      "│                                Migrad                                   │\n",
      "├──────────────────────────────────┬──────────────────────────────────────┤\n",
      "│ FCN = 81.38                      │             Nfcn = 2335              │\n",
      "│ EDM = 5.82e-05 (Goal: 0.0002)    │                                      │\n",
      "├──────────────────────────────────┼──────────────────────────────────────┤\n",
      "│          Valid Minimum           │        No Parameters at limit        │\n",
      "├──────────────────────────────────┼──────────────────────────────────────┤\n",
      "│ Below EDM threshold (goal x 10)  │           Below call limit           │\n",
      "├───────────────┬──────────────────┼───────────┬─────────────┬────────────┤\n",
      "│  Covariance   │     Hesse ok     │ Accurate  │  Pos. def.  │ Not forced │\n",
      "└───────────────┴──────────────────┴───────────┴─────────────┴────────────┘\n",
      "INFO - cabinetry.fit - fit results (with symmetric uncertainties):\n",
      "INFO - cabinetry.fit - staterror_Signal_region[0]  =  1.0038 +/- 0.0584\n",
      "INFO - cabinetry.fit - staterror_Signal_region[1]  =  1.0039 +/- 0.0252\n",
      "INFO - cabinetry.fit - staterror_Signal_region[2]  =  1.0059 +/- 0.0237\n",
      "INFO - cabinetry.fit - staterror_Signal_region[3]  =  1.0069 +/- 0.1026\n",
      "INFO - cabinetry.fit - staterror_Signal_region[4]  =  0.9558 +/- 0.1660\n",
      "INFO - cabinetry.fit - staterror_Signal_region[5]  =  0.9343 +/- 0.1490\n",
      "INFO - cabinetry.fit - staterror_Signal_region[6]  =  0.9520 +/- 0.1428\n",
      "INFO - cabinetry.fit - staterror_Signal_region[7]  =  0.9154 +/- 0.1099\n",
      "INFO - cabinetry.fit - staterror_Signal_region[8]  =  1.0376 +/- 0.0984\n",
      "INFO - cabinetry.fit - staterror_Signal_region[9]  =  0.9681 +/- 0.1088\n",
      "INFO - cabinetry.fit - staterror_Signal_region[10] =  1.0261 +/- 0.1265\n",
      "INFO - cabinetry.fit - staterror_Signal_region[11] =  0.9628 +/- 0.1331\n",
      "INFO - cabinetry.fit - staterror_Signal_region[12] =  1.0214 +/- 0.1340\n",
      "INFO - cabinetry.fit - staterror_Signal_region[13] =  1.0481 +/- 0.1295\n",
      "INFO - cabinetry.fit - staterror_Signal_region[14] =  0.9917 +/- 0.1322\n",
      "INFO - cabinetry.fit - staterror_Signal_region[15] =  0.9581 +/- 0.1513\n",
      "INFO - cabinetry.fit - staterror_Signal_region[16] =  1.0996 +/- 0.1350\n",
      "INFO - cabinetry.fit - staterror_Signal_region[17] =  0.9590 +/- 0.1561\n",
      "INFO - cabinetry.fit - staterror_Signal_region[18] =  1.0112 +/- 0.1482\n",
      "INFO - cabinetry.fit - staterror_Signal_region[19] =  0.9568 +/- 0.1359\n",
      "INFO - cabinetry.fit - staterror_Signal_region[20] =  1.0408 +/- 0.0928\n",
      "INFO - cabinetry.fit - staterror_Signal_region[21] =  1.0219 +/- 0.0760\n",
      "INFO - cabinetry.fit - staterror_Signal_region[22] =  0.9867 +/- 0.0592\n",
      "INFO - cabinetry.fit - staterror_Signal_region[23] =  1.0185 +/- 0.0751\n",
      "INFO - cabinetry.fit - staterror_Signal_region[24] =  0.9878 +/- 0.0718\n",
      "INFO - cabinetry.fit - staterror_Signal_region[25] =  1.0000 +/- 0.0575\n",
      "INFO - cabinetry.fit - staterror_Signal_region[26] =  0.9917 +/- 0.0667\n",
      "INFO - cabinetry.fit - staterror_Signal_region[27] =  0.9916 +/- 0.0657\n",
      "INFO - cabinetry.fit - staterror_Signal_region[28] =  0.9641 +/- 0.0862\n",
      "INFO - cabinetry.fit - staterror_Signal_region[29] =  1.0202 +/- 0.0813\n",
      "INFO - cabinetry.fit - staterror_Signal_region[30] =  0.9954 +/- 0.0711\n",
      "INFO - cabinetry.fit - staterror_Signal_region[31] =  0.9905 +/- 0.0915\n",
      "INFO - cabinetry.fit - staterror_Signal_region[32] =  1.0108 +/- 0.0687\n",
      "INFO - cabinetry.fit - staterror_Signal_region[33] =  1.0090 +/- 0.0901\n",
      "INFO - cabinetry.fit - Signal_norm                 =  1.0534 +/- 0.7032\n",
      "INFO - cabinetry.fit - Scalefactor_variation       =  1.1648 +/- 0.6692\n",
      "INFO - cabinetry.fit - m4l_variation               =  0.1909 +/- 0.4509\n",
      "INFO - cabinetry.fit - ZZ_norm                     =  1.5379 +/- 0.8128\n"
     ]
    }
   ],
   "source": [
    "model, data = cabinetry.model_utils.model_and_data(ws)\n",
    "fit_results = cabinetry.fit.fit(model, data)\n",
    "postfit_model = cabinetry.model_utils.prediction(model, fit_results=fit_results)"
   ]
  },
  {
   "cell_type": "markdown",
   "id": "7a391874",
   "metadata": {},
   "source": [
    "We can visualize the pulls and correlations."
   ]
  },
  {
   "cell_type": "code",
   "execution_count": 15,
   "id": "2209db33",
   "metadata": {},
   "outputs": [
    {
     "data": {
      "image/png": "[encoded data removed]",
      "text/plain": [
       "<Figure size 600x175 with 1 Axes>"
      ]
     },
     "execution_count": 15,
     "metadata": {},
     "output_type": "execute_result"
    }
   ],
   "source": [
    "cabinetry.visualize.pulls(fit_results, exclude=\"Signal_norm\")"
   ]
  },
  {
   "cell_type": "code",
   "execution_count": 16,
   "id": "28435ee9",
   "metadata": {},
   "outputs": [
    {
     "data": {
      "image/png": "[encoded data removed]",
      "text/plain": [
       "<Figure size 880x680 with 2 Axes>"
      ]
     },
     "execution_count": 16,
     "metadata": {},
     "output_type": "execute_result"
    }
   ],
   "source": [
    "cabinetry.visualize.correlation_matrix(fit_results, pruning_threshold=0.15)"
   ]
  },
  {
   "cell_type": "markdown",
   "id": "a0738453",
   "metadata": {},
   "source": [
    "Finally, visualize the post-fit model and data. This is done using information stored in the workspace, which does not include binning or which observable is used. This information can be passed in via the `config` kwarg, but we can also edit the figure after its creation. We will demonstrate both below."
   ]
  },
  {
   "cell_type": "code",
   "execution_count": 17,
   "id": "b8db883d",
   "metadata": {},
   "outputs": [
    {
     "data": {
      "image/png": "[encoded data removed]",
      "text/plain": [
       "<Figure size 432x432 with 2 Axes>"
      ]
     },
     "execution_count": 17,
     "metadata": {},
     "output_type": "execute_result"
    }
   ],
   "source": [
    "# binning to use in plot\n",
    "plot_config = {\n",
    "    \"Regions\": [\n",
    "        {\n",
    "            \"Name\": \"Signal_region\",\n",
    "            \"Binning\": list(np.linspace(bin_edge_low, bin_edge_high, num_bins + 1)),\n",
    "        }\n",
    "    ]\n",
    "}\n",
    "\n",
    "figure_dict = cabinetry.visualize.data_mc(\n",
    "    postfit_model, data, config=plot_config, close_figure=True\n",
    ")\n",
    "\n",
    "# modify x-axis label\n",
    "figure_dict[0][\"figure\"].axes[1].set_xlabel(\"m4l [GeV]\")\n",
    "\n",
    "# show the modified figure\n",
    "figure_dict[0][\"figure\"]"
   ]
  },
  {
   "cell_type": "markdown",
   "id": "48b96170",
   "metadata": {},
   "source": [
    "We can also use `pyhf` directly. We already have a model and data, so let's calculate the CLs value."
   ]
  },
  {
   "cell_type": "code",
   "execution_count": 18,
   "id": "c6f3146c",
   "metadata": {},
   "outputs": [
    {
     "name": "stdout",
     "output_type": "stream",
     "text": [
      "CL_S for Signal_norm=1.0 is 0.535\n"
     ]
    }
   ],
   "source": [
    "mu_test = 1.0\n",
    "cls = float(pyhf.infer.hypotest(mu_test, data, model))\n",
    "print(f\"CL_S for Signal_norm={mu_test} is {cls:.3f}\")"
   ]
  },
  {
   "cell_type": "markdown",
   "id": "1166163d",
   "metadata": {},
   "source": [
    "## Exercises\n",
    "\n",
    "Here are a few ideas to try out to become more familiar with the tools shown in this notebook:\n",
    "\n",
    "- Run the notebook a second time. It should be faster now — you are taking advantage of caching!\n",
    "- Change the event pre-selection in the `func_adl` query. Try out requiring exactly zero jets. Has the analysis become more or less sensitive after this change?\n",
    "- Change the lepton requirements. What happens when only accepting events with 4 electrons or 4 muons?\n",
    "- Try a different binning. Note how you still benefit from caching in the `ServiceX`-delivered data!\n",
    "- Compare the pre- and post-fit data/MC agreement (hint: the `fit_results` kwarg in `cabinetry.model_utils.prediction` is optional).\n",
    "- Find the value of the `Signal_norm` normalization factor for which CL_S = 0.05, the 95% confidence level upper parameter limit (hint: use `pyhf` directly, or `cabinetry.fit.limit`).\n",
    "- Separate the $Z$ and $t\\bar{t}$ backgrounds and add a 6% normalization uncertainty for $t\\bar{t}$ in the fit.\n",
    "- Replace the 10% normalization uncertainty for the $ZZ^\\star$ background by a free-floating normalization factor in the fit.\n",
    "\n",
    "\n",
    "Advanced ideas:\n",
    "- Implement a more realistic systematic uncertainty in the `coffea` processor, for example for detector-related uncertainties for lepton kinematics. Propagate it through the analysis chain to observe the impact in a ranking plot produced with `cabinetry`.\n",
    "- Try out this workflow with your own analysis! Are there missing features or ways to streamline the experience? If so, please let us know!"
   ]
  }
 ],
 "metadata": {
  "kernelspec": {
   "display_name": "pyhf",
   "language": "python",
   "name": "pyhf"
  },
  "language_info": {
   "codemirror_mode": {
    "name": "ipython",
    "version": 3
   },
   "file_extension": ".py",
   "mimetype": "text/x-python",
   "name": "python",
   "nbconvert_exporter": "python",
   "pygments_lexer": "ipython3",
   "version": "3.8.10"
  }
 },
 "nbformat": 4,
 "nbformat_minor": 5
}
