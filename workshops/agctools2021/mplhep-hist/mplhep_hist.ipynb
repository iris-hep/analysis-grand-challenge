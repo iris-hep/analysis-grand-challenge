{
 "cells": [
  {
   "cell_type": "markdown",
   "metadata": {
    "ExecuteTime": {
     "end_time": "2021-10-29T14:49:23.839896Z",
     "start_time": "2021-10-29T14:49:23.689272Z"
    }
   },
   "source": [
    "# Histogramming and plotting"
   ]
  },
  {
   "cell_type": "markdown",
   "metadata": {
    "ExecuteTime": {
     "end_time": "2021-10-29T14:50:35.217449Z",
     "start_time": "2021-10-29T14:50:34.696677Z"
    }
   },
   "source": [
    "### Histograms mean different things in different contexts\n",
    "- counts, bin edges - useful for a bar plot - `np.histogram` / `plt.bar`\n",
    "- counts, bin edges, pre computed errors - `TGraphErrors`/`plt.errorbar`\n",
    "- weighted values, weights squared, bin_edges - proper error calculation `TH1`/`Coffea.hist`/`hist`"
   ]
  },
  {
   "cell_type": "markdown",
   "metadata": {
    "ExecuteTime": {
     "end_time": "2021-10-29T15:09:49.848875Z",
     "start_time": "2021-10-29T15:09:49.830175Z"
    }
   },
   "source": [
    "## UHI - [Unified Histogram Interface](https://uhi.readthedocs.io/en/latest/plotting.html#using-the-protocol)\n",
    "- (Plottable) Histogram protocol - designed to make libraries interoperable, easy to navigate\n",
    "  - Conformed to by `hits`, `mplhep`, `uproot4`, `histoprint`\n",
    "- Each UHI histogram has the following methods\n",
    "  - `h.values()`: The value (as given by the kind)\n",
    "  - `h.variances()`: The variance in the value (None if an unweighed histogram was filled with weights)\n",
    "  - `h.counts()`: How many fills the bin received or the effective number of fills if the histogram is weighted\n",
    "  - `h.axes`: A Sequence of axes\n",
    "  - and a few other properties"
   ]
  },
  {
   "cell_type": "markdown",
   "metadata": {},
   "source": [
    "## [hist](https://github.com/scikit-hep/hist)\n",
    "- python go to one-stop for histogramming\n",
    "- extends [boost-histogram](https://github.com/scikit-hep/boost-histogram.html) (pythonic wrapper for C++ library - *FAST*)\n",
    "  - makes it user friendly\n",
    "- shortcuts for convenience - plotting/fitting"
   ]
  },
  {
   "cell_type": "markdown",
   "metadata": {},
   "source": [
    "## [mplhep](https://github.com/scikit-hep/mplhep)\n",
    "- build on top of `matplotlib`\n",
    "- extends functionality to easily plot histograms from various inputs\n",
    "- holds style sheets for easy experiment specific style application"
   ]
  },
  {
   "cell_type": "code",
   "execution_count": 1,
   "metadata": {},
   "outputs": [
    {
     "name": "stdout",
     "output_type": "stream",
     "text": [
      "/bin/bash: /opt/conda/lib/libtinfo.so.6: no version information available (required by /bin/bash)\n",
      "Requirement already satisfied: mplhep in /opt/conda/lib/python3.8/site-packages (0.3.14)\n",
      "Requirement already satisfied: mplhep-data in /opt/conda/lib/python3.8/site-packages (from mplhep) (0.0.0)\n",
      "Requirement already satisfied: uhi>=0.2.0 in /opt/conda/lib/python3.8/site-packages (from mplhep) (0.3.0)\n",
      "Requirement already satisfied: packaging in /opt/conda/lib/python3.8/site-packages (from mplhep) (21.0)\n",
      "Requirement already satisfied: matplotlib>=3.4 in /opt/conda/lib/python3.8/site-packages (from mplhep) (3.4.3)\n",
      "Requirement already satisfied: numpy>=1.16.0 in /opt/conda/lib/python3.8/site-packages (from mplhep) (1.21.2)\n",
      "Requirement already satisfied: pyparsing>=2.2.1 in /opt/conda/lib/python3.8/site-packages (from matplotlib>=3.4->mplhep) (2.4.7)\n",
      "Requirement already satisfied: kiwisolver>=1.0.1 in /opt/conda/lib/python3.8/site-packages (from matplotlib>=3.4->mplhep) (1.3.2)\n",
      "Requirement already satisfied: python-dateutil>=2.7 in /opt/conda/lib/python3.8/site-packages (from matplotlib>=3.4->mplhep) (2.8.2)\n",
      "Requirement already satisfied: pillow>=6.2.0 in /opt/conda/lib/python3.8/site-packages (from matplotlib>=3.4->mplhep) (8.3.2)\n",
      "Requirement already satisfied: cycler>=0.10 in /opt/conda/lib/python3.8/site-packages (from matplotlib>=3.4->mplhep) (0.10.0)\n",
      "Requirement already satisfied: six in /opt/conda/lib/python3.8/site-packages (from cycler>=0.10->matplotlib>=3.4->mplhep) (1.16.0)\n"
     ]
    }
   ],
   "source": [
    "!pip install mplhep --upgrade"
   ]
  },
  {
   "cell_type": "markdown",
   "metadata": {
    "ExecuteTime": {
     "end_time": "2021-10-29T15:20:32.749546Z",
     "start_time": "2021-10-29T15:20:32.744784Z"
    }
   },
   "source": [
    "# Basics"
   ]
  },
  {
   "cell_type": "code",
   "execution_count": 2,
   "metadata": {
    "ExecuteTime": {
     "end_time": "2021-10-30T04:46:57.747743Z",
     "start_time": "2021-10-30T04:46:57.376390Z"
    }
   },
   "outputs": [],
   "source": [
    "import numpy as np\n",
    "import matplotlib.pyplot as plt"
   ]
  },
  {
   "cell_type": "code",
   "execution_count": 3,
   "metadata": {
    "ExecuteTime": {
     "end_time": "2021-10-30T04:46:57.760004Z",
     "start_time": "2021-10-30T04:46:57.749675Z"
    }
   },
   "outputs": [
    {
     "data": {
      "text/plain": [
       "array([  0,   2,  30, 135, 338, 349, 123,  23,   0,   0])"
      ]
     },
     "execution_count": 3,
     "metadata": {},
     "output_type": "execute_result"
    }
   ],
   "source": [
    "# Numpy histogram\n",
    "H = np.histogram(np.random.normal(5, 1, 1000), np.linspace(0, 10, 11))\n",
    "h, bins = H\n",
    "h"
   ]
  },
  {
   "cell_type": "code",
   "execution_count": 4,
   "metadata": {
    "ExecuteTime": {
     "end_time": "2021-10-30T04:46:57.975185Z",
     "start_time": "2021-10-30T04:46:57.763277Z"
    }
   },
   "outputs": [
    {
     "data": {
      "text/plain": [
       "Text(0.5, 1.0, 'Now native histogram `stairs` plot')"
      ]
     },
     "execution_count": 4,
     "metadata": {},
     "output_type": "execute_result"
    },
    {
     "data": {
      "image/png": "[encoded data removed]",
      "text/plain": [
       "<Figure size 864x288 with 2 Axes>"
      ]
     },
     "metadata": {
      "needs_background": "light"
     },
     "output_type": "display_data"
    }
   ],
   "source": [
    "# Visualization\n",
    "fig, axs = plt.subplots(1, 2, figsize=(12, 4))\n",
    "axs[0].bar(range(len(h)), h)\n",
    "axs[0].set_title('Simple `bar` plot')\n",
    "axs[1].stairs(h, bins, fill=True)\n",
    "axs[1].set_title('Now native histogram `stairs` plot')"
   ]
  },
  {
   "cell_type": "markdown",
   "metadata": {},
   "source": [
    "# Extending plotting with `mplhep`\n",
    "- primary goal is to stay unobtrusive, if it works in `matplotlib`, it should work in `mplhep`"
   ]
  },
  {
   "cell_type": "code",
   "execution_count": 5,
   "metadata": {
    "ExecuteTime": {
     "end_time": "2021-10-30T04:46:58.161262Z",
     "start_time": "2021-10-30T04:46:57.978087Z"
    }
   },
   "outputs": [
    {
     "data": {
      "image/png": "[encoded data removed]",
      "text/plain": [
       "<Figure size 864x288 with 2 Axes>"
      ]
     },
     "metadata": {
      "needs_background": "light"
     },
     "output_type": "display_data"
    }
   ],
   "source": [
    "import mplhep as hep\n",
    "f, axs = plt.subplots(1,2, figsize=(12, 4))\n",
    "\n",
    "hep.histplot(H, ax=axs[0])\n",
    "hep.histplot(h, bins, yerr=True, ax=axs[1]);"
   ]
  },
  {
   "cell_type": "markdown",
   "metadata": {},
   "source": [
    "### kwargs are passed though to `matplotlib`"
   ]
  },
  {
   "cell_type": "code",
   "execution_count": 6,
   "metadata": {
    "ExecuteTime": {
     "end_time": "2021-10-30T04:46:58.348183Z",
     "start_time": "2021-10-30T04:46:58.163669Z"
    }
   },
   "outputs": [
    {
     "data": {
      "text/plain": [
       "[ErrorBarArtists(errorbar=<ErrorbarContainer object of 3 artists>)]"
      ]
     },
     "execution_count": 6,
     "metadata": {},
     "output_type": "execute_result"
    },
    {
     "data": {
      "image/png": "[encoded data removed]",
      "text/plain": [
       "<Figure size 864x288 with 2 Axes>"
      ]
     },
     "metadata": {
      "needs_background": "light"
     },
     "output_type": "display_data"
    }
   ],
   "source": [
    "f, axs = plt.subplots(1,2, figsize=(12, 4))\n",
    "\n",
    "hep.histplot(H, ax=axs[0], histtype='fill', hatch='///', edgecolor='red', facecolor='none')\n",
    "hep.histplot(H, ax=axs[1], histtype='errorbar', yerr=True, c='black', capsize=4)"
   ]
  },
  {
   "cell_type": "markdown",
   "metadata": {
    "ExecuteTime": {
     "end_time": "2021-10-29T15:45:57.667636Z",
     "start_time": "2021-10-29T15:45:57.661331Z"
    }
   },
   "source": [
    "### Stacking, norming is available"
   ]
  },
  {
   "cell_type": "code",
   "execution_count": 7,
   "metadata": {
    "ExecuteTime": {
     "end_time": "2021-10-30T04:46:58.688867Z",
     "start_time": "2021-10-30T04:46:58.350349Z"
    }
   },
   "outputs": [
    {
     "data": {
      "image/png": "[encoded data removed]",
      "text/plain": [
       "<Figure size 1296x288 with 3 Axes>"
      ]
     },
     "metadata": {
      "needs_background": "light"
     },
     "output_type": "display_data"
    }
   ],
   "source": [
    "f, axs = plt.subplots(1,3, figsize=(18, 4))\n",
    "\n",
    "data = np.random.poisson(h*3)\n",
    "hep.histplot([h, h*2], bins=bins, ax=axs[0], yerr=True, label=[\"MC1\", \"MC2\"])\n",
    "hep.histplot(data, bins=bins, ax=axs[1], yerr=True, label=\"Data\")\n",
    "\n",
    "hep.histplot([h, h*2], bins=bins, ax=axs[2], stack=True, label=[\"MC1\", \"MC2\"], density=True)\n",
    "hep.histplot(data, bins=bins, ax=axs[2], yerr=True, histtype='errorbar', label=\"Data\", density=True, color='k')\n",
    "for ax in axs:\n",
    "    ax.legend()\n",
    "axs[0].set_title(\"Some MCs\")\n",
    "axs[1].set_title(\"Draw Poisson Data\")\n",
    "axs[2].set_title(\"Data/MC Shape comparison\"); "
   ]
  },
  {
   "cell_type": "markdown",
   "metadata": {
    "ExecuteTime": {
     "end_time": "2021-10-29T15:51:22.128110Z",
     "start_time": "2021-10-29T15:51:22.120499Z"
    }
   },
   "source": [
    "### Convenient sorting options"
   ]
  },
  {
   "cell_type": "code",
   "execution_count": 8,
   "metadata": {
    "ExecuteTime": {
     "end_time": "2021-10-30T04:46:58.912653Z",
     "start_time": "2021-10-30T04:46:58.691551Z"
    }
   },
   "outputs": [
    {
     "data": {
      "image/png": "[encoded data removed]",
      "text/plain": [
       "<Figure size 864x288 with 2 Axes>"
      ]
     },
     "metadata": {
      "needs_background": "light"
     },
     "output_type": "display_data"
    }
   ],
   "source": [
    "f, axs = plt.subplots(1,2, figsize=(12, 4))\n",
    "hep.histplot([h*2, h*3, h], bins=bins, ax=axs[0], stack=True, histtype='fill', label=[\"A\", \"B\", \"C\"], sort='yield');\n",
    "hep.histplot([h*2, h*3, h], bins=bins, ax=axs[1], stack=True, histtype='fill', label=[\"A\", \"B\", \"C\"], sort='label_r');\n",
    "for ax in axs:\n",
    "    ax.legend()\n",
    "axs[0].set_title(\"Sort by yield\")\n",
    "axs[1].set_title(\"Sort by label (add _r to reverse)\");"
   ]
  },
  {
   "cell_type": "markdown",
   "metadata": {
    "ExecuteTime": {
     "end_time": "2021-10-29T15:57:46.751943Z",
     "start_time": "2021-10-29T15:57:46.747371Z"
    }
   },
   "source": [
    "### Can pass either pre-computed error bars or `fcn(weight, weights2)`"
   ]
  },
  {
   "cell_type": "code",
   "execution_count": 9,
   "metadata": {
    "ExecuteTime": {
     "end_time": "2021-10-30T04:46:59.222534Z",
     "start_time": "2021-10-30T04:46:58.917215Z"
    }
   },
   "outputs": [
    {
     "data": {
      "image/png": "[encoded data removed]",
      "text/plain": [
       "<Figure size 864x288 with 2 Axes>"
      ]
     },
     "metadata": {
      "needs_background": "light"
     },
     "output_type": "display_data"
    }
   ],
   "source": [
    "def err(w, w2):\n",
    "    return w - 10, w2 + 20\n",
    "\n",
    "f, axs = plt.subplots(1,2, figsize=(12, 4))\n",
    "hep.histplot(h, bins=bins, yerr=[np.sqrt(h), np.sqrt(h)*2], ax=axs[0]);\n",
    "hep.histplot(h, bins, w2=h, w2method=err, ax=axs[1]);\n",
    "\n",
    "axs[0].set_title(\"Pre-computed\")\n",
    "axs[1].set_title(\"Custom function\");"
   ]
  },
  {
   "cell_type": "markdown",
   "metadata": {
    "ExecuteTime": {
     "end_time": "2021-10-29T17:34:52.321448Z",
     "start_time": "2021-10-29T17:34:52.318379Z"
    }
   },
   "source": [
    "### Inputs types are flexible\n",
    "- already shown `np.array`, `List[np.array]`, `np.ndarray`\n",
    "- will show `hist.Hist` / `List[hist.Hist]`\n",
    "- but also *anything* that is PlottableProtocol compatible"
   ]
  },
  {
   "cell_type": "code",
   "execution_count": 10,
   "metadata": {
    "ExecuteTime": {
     "end_time": "2021-10-30T04:46:59.415248Z",
     "start_time": "2021-10-30T04:46:59.225665Z"
    }
   },
   "outputs": [
    {
     "name": "stdout",
     "output_type": "stream",
     "text": [
      "['hpx;1', 'hpxpy;1', 'hprof;1', 'ntuple;1']\n",
      "<TH1F (version 1) at 0x7f986c56e280>\n"
     ]
    },
    {
     "data": {
      "image/png": "[encoded data removed]",
      "text/plain": [
       "<Figure size 432x288 with 1 Axes>"
      ]
     },
     "metadata": {
      "needs_background": "light"
     },
     "output_type": "display_data"
    }
   ],
   "source": [
    "## Uproot TH1 \n",
    "import uproot\n",
    "from skhep_testdata import data_path\n",
    "fname = data_path(\"uproot-hepdata-example.root\")\n",
    "f = uproot.open(fname)\n",
    "print(f.keys())\n",
    "print(f['hpx'])\n",
    "hep.histplot(f['hpx']);"
   ]
  },
  {
   "cell_type": "code",
   "execution_count": 11,
   "metadata": {
    "ExecuteTime": {
     "end_time": "2021-10-30T04:47:00.489423Z",
     "start_time": "2021-10-30T04:46:59.417863Z"
    }
   },
   "outputs": [],
   "source": [
    "# PyROOT TH1\n",
    "import os\n",
    "if \"ROOTSYS\" in os.environ:\n",
    "    import ROOT\n",
    "    h = ROOT.TH1F(\"h1\", \"h1\", 50, -2.5, 2.5)\n",
    "    h.FillRandom(\"gaus\", 10000)\n",
    "\n",
    "    hep.histplot(h);"
   ]
  },
  {
   "cell_type": "markdown",
   "metadata": {},
   "source": [
    "# hist - basics\n",
    "- easy histogram handling - filling, slicing, (merging, serializing)\n",
    "- Nice repr, interfaces to `mplhep` for plotting"
   ]
  },
  {
   "cell_type": "code",
   "execution_count": 12,
   "metadata": {
    "ExecuteTime": {
     "end_time": "2021-10-30T04:47:00.546772Z",
     "start_time": "2021-10-30T04:47:00.492178Z"
    }
   },
   "outputs": [],
   "source": [
    "import hist\n",
    "# from hist import Hist"
   ]
  },
  {
   "cell_type": "code",
   "execution_count": 13,
   "metadata": {
    "ExecuteTime": {
     "end_time": "2021-10-30T04:47:00.578648Z",
     "start_time": "2021-10-30T04:47:00.549429Z"
    }
   },
   "outputs": [
    {
     "data": {
      "text/html": [
       "<html>\n",
       "<div style=\"display:flex; align-items:center;\">\n",
       "<div style=\"width:290px;\">\n",
       "<svg xmlns=\"http://www.w3.org/2000/svg\" viewBox=\"-10 -105 270 120\">\n",
       "<line x1=\"-5\" y1=\"0\" x2=\"255\" y2=\"0\" style=\"fill:none;stroke-width:2;stroke:currentColor\"/>\n",
       "<text text-anchor=\"middle\" x=\"0\" y=\"15\" style=\"fill:currentColor;\">\n",
       "0\n",
       "</text>\n",
       "<text text-anchor=\"middle\" x=\"250\" y=\"15\" style=\"fill:currentColor;\">\n",
       "10\n",
       "</text>\n",
       "<text text-anchor=\"middle\" x=\"125.0\" y=\"15\" style=\"fill:currentColor;\">\n",
       "Axis 0\n",
       "</text>\n",
       "<polyline points=\"  0,0   0,-0  25,-0  25,-0  50,-0  50,-0  75,-0  75,-0 100,-0 100,-0 125,-0 125,-0 150,-0 150,-0 175,-0 175,-0 200,-0 200,-0 225,-0 225,-0 250,-0 250,0\" style=\"fill:none; stroke:currentColor;\"/>\n",
       "</svg>\n",
       "</div>\n",
       "<div style=\"flex=grow:1;\">\n",
       "Regular(10, 0, 10, label='Axis 0')<br/>\n",
       "<hr style=\"margin-top:.2em; margin-bottom:.2em;\"/>\n",
       "Double() Σ=0.0\n",
       "\n",
       "</div>\n",
       "</div>\n",
       "</html>"
      ],
      "text/plain": [
       "Hist(Regular(10, 0, 10, label='Axis 0'), storage=Double())"
      ]
     },
     "execution_count": 13,
     "metadata": {},
     "output_type": "execute_result"
    }
   ],
   "source": [
    "# Creating a histogram object\n",
    "h = hist.new.Reg(10, 0, 10).Double()\n",
    "h"
   ]
  },
  {
   "cell_type": "code",
   "execution_count": 14,
   "metadata": {
    "ExecuteTime": {
     "end_time": "2021-10-30T04:47:00.598997Z",
     "start_time": "2021-10-30T04:47:00.580493Z"
    }
   },
   "outputs": [
    {
     "data": {
      "text/html": [
       "<html>\n",
       "<div style=\"display:flex; align-items:center;\">\n",
       "<div style=\"width:290px;\">\n",
       "<svg xmlns=\"http://www.w3.org/2000/svg\" viewBox=\"-10 -105 270 120\">\n",
       "<line x1=\"-5\" y1=\"0\" x2=\"255\" y2=\"0\" style=\"fill:none;stroke-width:2;stroke:currentColor\"/>\n",
       "<text text-anchor=\"middle\" x=\"0\" y=\"15\" style=\"fill:currentColor;\">\n",
       "0\n",
       "</text>\n",
       "<text text-anchor=\"middle\" x=\"250\" y=\"15\" style=\"fill:currentColor;\">\n",
       "10\n",
       "</text>\n",
       "<text text-anchor=\"middle\" x=\"125.0\" y=\"15\" style=\"fill:currentColor;\">\n",
       "Fancy display name\n",
       "</text>\n",
       "<polyline points=\"  0,0   0,-0  25,-0  25,-0  50,-0  50,-0  75,-0  75,-0 100,-0 100,-0 125,-0 125,-0 150,-0 150,-0 175,-0 175,-0 200,-0 200,-0 225,-0 225,-0 250,-0 250,0\" style=\"fill:none; stroke:currentColor;\"/>\n",
       "</svg>\n",
       "</div>\n",
       "<div style=\"flex=grow:1;\">\n",
       "Regular(10, 0, 10, underflow=False, name='x', label='Fancy display name')<br/>\n",
       "<hr style=\"margin-top:.2em; margin-bottom:.2em;\"/>\n",
       "Double() Σ=0.0\n",
       "\n",
       "</div>\n",
       "</div>\n",
       "</html>"
      ],
      "text/plain": [
       "Hist(Regular(10, 0, 10, underflow=False, name='x', label='Fancy display name'), storage=Double())"
      ]
     },
     "execution_count": 14,
     "metadata": {},
     "output_type": "execute_result"
    }
   ],
   "source": [
    "# Equivalent to \n",
    "h = hist.Hist(\n",
    "    hist.axis.Regular(\n",
    "        10, 0, 10, \n",
    "        # Optionally include name/label, whether to keep flow bins\n",
    "        name=\"x\", label=\"Fancy display name\", underflow=False, \n",
    "        )\n",
    "    )   \n",
    "h"
   ]
  },
  {
   "cell_type": "code",
   "execution_count": 15,
   "metadata": {
    "ExecuteTime": {
     "end_time": "2021-10-30T04:47:00.634270Z",
     "start_time": "2021-10-30T04:47:00.600784Z"
    }
   },
   "outputs": [
    {
     "data": {
      "text/html": [
       "<html>\n",
       "<div style=\"display:flex; align-items:center;\">\n",
       "<div style=\"width:290px;\">\n",
       "<svg xmlns=\"http://www.w3.org/2000/svg\" viewBox=\"-10 -105 270 120\">\n",
       "<line x1=\"-5\" y1=\"0\" x2=\"255\" y2=\"0\" style=\"fill:none;stroke-width:2;stroke:currentColor\"/>\n",
       "<text text-anchor=\"middle\" x=\"0\" y=\"15\" style=\"fill:currentColor;\">\n",
       "0\n",
       "</text>\n",
       "<text text-anchor=\"middle\" x=\"250\" y=\"15\" style=\"fill:currentColor;\">\n",
       "10\n",
       "</text>\n",
       "<text text-anchor=\"middle\" x=\"125.0\" y=\"15\" style=\"fill:currentColor;\">\n",
       "Fancy display name\n",
       "</text>\n",
       "<polyline points=\"  0,0   0,-0  25,-0  25,-0.565  50,-0.565  50,-5.65  75,-5.65  75,-38.4 100,-38.4 100,-96.6 125,-96.6 125,-100 150,-100 150,-34.2 175,-34.2 175,-6.21 200,-6.21 200,-0.847 225,-0.847 225,-0 250,-0 250,0\" style=\"fill:none; stroke:currentColor;\"/>\n",
       "</svg>\n",
       "</div>\n",
       "<div style=\"flex=grow:1;\">\n",
       "Regular(10, 0, 10, underflow=False, name='x', label='Fancy display name')<br/>\n",
       "<hr style=\"margin-top:.2em; margin-bottom:.2em;\"/>\n",
       "Double() Σ=1000.0\n",
       "\n",
       "</div>\n",
       "</div>\n",
       "</html>"
      ],
      "text/plain": [
       "Hist(Regular(10, 0, 10, underflow=False, name='x', label='Fancy display name'), storage=Double()) # Sum: 1000.0"
      ]
     },
     "execution_count": 15,
     "metadata": {},
     "output_type": "execute_result"
    }
   ],
   "source": [
    "# Fill it\n",
    "h.fill(np.random.normal(5, 1, 1000))\n",
    "h"
   ]
  },
  {
   "cell_type": "code",
   "execution_count": 16,
   "metadata": {
    "ExecuteTime": {
     "end_time": "2021-10-30T04:47:00.654699Z",
     "start_time": "2021-10-30T04:47:00.636024Z"
    }
   },
   "outputs": [
    {
     "name": "stdout",
     "output_type": "stream",
     "text": [
      " 0.00e+00 _                             3.54e+02 ╷\n",
      " 1.00e+00 _\n",
      " 2.00e+00 _\n",
      " 3.00e+00 _\u001b[90;40m█\u001b[39;49m\u001b[90;40m█\u001b[39;49m\n",
      " 4.00e+00 _\u001b[90;40m█\u001b[39;49m\u001b[90;40m█\u001b[39;49m\u001b[90;40m█\u001b[39;49m\u001b[90;40m█\u001b[39;49m\u001b[90;40m█\u001b[39;49m\u001b[90;40m█\u001b[39;49m\u001b[90;40m█\u001b[39;49m\u001b[90;40m█\u001b[39;49m\u001b[90;40m█\u001b[39;49m\u001b[90;40m█\u001b[39;49m\u001b[90;40m█\u001b[39;49m\u001b[90;40m█\u001b[39;49m\u001b[90;40m█\u001b[39;49m\u001b[90;40m█\u001b[39;49m\n",
      " 5.00e+00 _\u001b[90;40m█\u001b[39;49m\u001b[90;40m█\u001b[39;49m\u001b[90;40m█\u001b[39;49m\u001b[90;40m█\u001b[39;49m\u001b[90;40m█\u001b[39;49m\u001b[90;40m█\u001b[39;49m\u001b[90;40m█\u001b[39;49m\u001b[90;40m█\u001b[39;49m\u001b[90;40m█\u001b[39;49m\u001b[90;40m█\u001b[39;49m\u001b[90;40m█\u001b[39;49m\u001b[90;40m█\u001b[39;49m\u001b[90;40m█\u001b[39;49m\u001b[90;40m█\u001b[39;49m\u001b[90;40m█\u001b[39;49m\u001b[90;40m█\u001b[39;49m\u001b[90;40m█\u001b[39;49m\u001b[90;40m█\u001b[39;49m\u001b[90;40m█\u001b[39;49m\u001b[90;40m█\u001b[39;49m\u001b[90;40m█\u001b[39;49m\u001b[90;40m█\u001b[39;49m\u001b[90;40m█\u001b[39;49m\u001b[90;40m█\u001b[39;49m\u001b[90;40m█\u001b[39;49m\u001b[90;40m█\u001b[39;49m\u001b[90;40m█\u001b[39;49m\u001b[90;40m█\u001b[39;49m\u001b[90;40m█\u001b[39;49m\u001b[90;40m█\u001b[39;49m\u001b[90;40m█\u001b[39;49m\u001b[90;40m█\u001b[39;49m\u001b[90;40m█\u001b[39;49m\u001b[90;40m█\u001b[39;49m\u001b[90;40m█\u001b[39;49m\u001b[90;40m█\u001b[39;49m\u001b[90;40m█\u001b[39;49m\n",
      " 6.00e+00 _\u001b[90;40m█\u001b[39;49m\u001b[90;40m█\u001b[39;49m\u001b[90;40m█\u001b[39;49m\u001b[90;40m█\u001b[39;49m\u001b[90;40m█\u001b[39;49m\u001b[90;40m█\u001b[39;49m\u001b[90;40m█\u001b[39;49m\u001b[90;40m█\u001b[39;49m\u001b[90;40m█\u001b[39;49m\u001b[90;40m█\u001b[39;49m\u001b[90;40m█\u001b[39;49m\u001b[90;40m█\u001b[39;49m\u001b[90;40m█\u001b[39;49m\u001b[90;40m█\u001b[39;49m\u001b[90;40m█\u001b[39;49m\u001b[90;40m█\u001b[39;49m\u001b[90;40m█\u001b[39;49m\u001b[90;40m█\u001b[39;49m\u001b[90;40m█\u001b[39;49m\u001b[90;40m█\u001b[39;49m\u001b[90;40m█\u001b[39;49m\u001b[90;40m█\u001b[39;49m\u001b[90;40m█\u001b[39;49m\u001b[90;40m█\u001b[39;49m\u001b[90;40m█\u001b[39;49m\u001b[90;40m█\u001b[39;49m\u001b[90;40m█\u001b[39;49m\u001b[90;40m█\u001b[39;49m\u001b[90;40m█\u001b[39;49m\u001b[90;40m█\u001b[39;49m\u001b[90;40m█\u001b[39;49m\u001b[90;40m█\u001b[39;49m\u001b[90;40m█\u001b[39;49m\u001b[90;40m█\u001b[39;49m\u001b[90;40m█\u001b[39;49m\u001b[90;40m█\u001b[39;49m\u001b[90;40m█\u001b[39;49m\u001b[90;40m█\u001b[39;49m\u001b[90;40m█\u001b[39;49m\n",
      " 7.00e+00 _\u001b[90;40m█\u001b[39;49m\u001b[90;40m█\u001b[39;49m\u001b[90;40m█\u001b[39;49m\u001b[90;40m█\u001b[39;49m\u001b[90;40m█\u001b[39;49m\u001b[90;40m█\u001b[39;49m\u001b[90;40m█\u001b[39;49m\u001b[90;40m█\u001b[39;49m\u001b[90;40m█\u001b[39;49m\u001b[90;40m█\u001b[39;49m\u001b[90;40m█\u001b[39;49m\u001b[90;40m█\u001b[39;49m\u001b[90;40m█\u001b[39;49m\n",
      " 8.00e+00 _\u001b[90;40m█\u001b[39;49m\u001b[90;40m█\u001b[39;49m\n",
      " 9.00e+00 _\n",
      " 1.00e+01 _\n"
     ]
    }
   ],
   "source": [
    "# Print it (to CLI)\n",
    "h.show(columns=50)"
   ]
  },
  {
   "cell_type": "code",
   "execution_count": 17,
   "metadata": {
    "ExecuteTime": {
     "end_time": "2021-10-30T04:47:01.163237Z",
     "start_time": "2021-10-30T04:47:00.657103Z"
    }
   },
   "outputs": [
    {
     "data": {
      "image/png": "[encoded data removed]",
      "text/plain": [
       "<Figure size 432x288 with 1 Axes>"
      ]
     },
     "metadata": {
      "needs_background": "light"
     },
     "output_type": "display_data"
    }
   ],
   "source": [
    "# Plot it\n",
    "h.plot(color='red', density=True);"
   ]
  },
  {
   "cell_type": "code",
   "execution_count": 18,
   "metadata": {
    "ExecuteTime": {
     "end_time": "2021-10-30T04:47:01.313321Z",
     "start_time": "2021-10-30T04:47:01.166112Z"
    }
   },
   "outputs": [
    {
     "data": {
      "image/png": "[encoded data removed]",
      "text/plain": [
       "<Figure size 432x288 with 1 Axes>"
      ]
     },
     "metadata": {
      "needs_background": "light"
     },
     "output_type": "display_data"
    }
   ],
   "source": [
    "# Access and modify artists\n",
    "art = h.plot(color='red', density=True);\n",
    "plt.setp(art[0].stairs, edgecolor='blue', fill=True, facecolor='lightgreen', hatch='///');"
   ]
  },
  {
   "cell_type": "markdown",
   "metadata": {},
   "source": [
    "### hist - basic operations"
   ]
  },
  {
   "cell_type": "code",
   "execution_count": 19,
   "metadata": {
    "ExecuteTime": {
     "end_time": "2021-10-30T04:47:01.335754Z",
     "start_time": "2021-10-30T04:47:01.316393Z"
    }
   },
   "outputs": [
    {
     "data": {
      "text/html": [
       "<html>\n",
       "<div style=\"display:flex; align-items:center;\">\n",
       "<div style=\"width:290px;\">\n",
       "<svg xmlns=\"http://www.w3.org/2000/svg\" viewBox=\"-10 -105 270 120\">\n",
       "<line x1=\"-5\" y1=\"0\" x2=\"255\" y2=\"0\" style=\"fill:none;stroke-width:2;stroke:currentColor\"/>\n",
       "<text text-anchor=\"middle\" x=\"0\" y=\"15\" style=\"fill:currentColor;\">\n",
       "2\n",
       "</text>\n",
       "<text text-anchor=\"middle\" x=\"250\" y=\"15\" style=\"fill:currentColor;\">\n",
       "4\n",
       "</text>\n",
       "<text text-anchor=\"middle\" x=\"125.0\" y=\"15\" style=\"fill:currentColor;\">\n",
       "Fancy display name\n",
       "</text>\n",
       "<polyline points=\"  0,0   0,-14.7 125,-14.7 125,-100 250,-100 250,0\" style=\"fill:none; stroke:currentColor;\"/>\n",
       "</svg>\n",
       "</div>\n",
       "<div style=\"flex=grow:1;\">\n",
       "Regular(2, 2, 4, underflow=False, name='x', label='Fancy display name')<br/>\n",
       "<hr style=\"margin-top:.2em; margin-bottom:.2em;\"/>\n",
       "Double() Σ=156.0 <em>(998.0 with flow)</em>\n",
       "\n",
       "</div>\n",
       "</div>\n",
       "</html>"
      ],
      "text/plain": [
       "Hist(Regular(2, 2, 4, underflow=False, name='x', label='Fancy display name'), storage=Double()) # Sum: 156.0 (998.0 with flow)"
      ]
     },
     "execution_count": 19,
     "metadata": {},
     "output_type": "execute_result"
    }
   ],
   "source": [
    "# Slicing\n",
    "h[2:4]"
   ]
  },
  {
   "cell_type": "code",
   "execution_count": 20,
   "metadata": {
    "ExecuteTime": {
     "end_time": "2021-10-30T04:47:01.363925Z",
     "start_time": "2021-10-30T04:47:01.338238Z"
    }
   },
   "outputs": [
    {
     "data": {
      "text/html": [
       "<html>\n",
       "<div style=\"display:flex; align-items:center;\">\n",
       "<div style=\"width:290px;\">\n",
       "<svg xmlns=\"http://www.w3.org/2000/svg\" viewBox=\"-10 -105 270 120\">\n",
       "<line x1=\"-5\" y1=\"0\" x2=\"255\" y2=\"0\" style=\"fill:none;stroke-width:2;stroke:currentColor\"/>\n",
       "<text text-anchor=\"middle\" x=\"0\" y=\"15\" style=\"fill:currentColor;\">\n",
       "1\n",
       "</text>\n",
       "<text text-anchor=\"middle\" x=\"250\" y=\"15\" style=\"fill:currentColor;\">\n",
       "6\n",
       "</text>\n",
       "<text text-anchor=\"middle\" x=\"125.0\" y=\"15\" style=\"fill:currentColor;\">\n",
       "Fancy display name\n",
       "</text>\n",
       "<polyline points=\"  0,0   0,-0.565  50,-0.565  50,-5.65 100,-5.65 100,-38.4 150,-38.4 150,-96.6 200,-96.6 200,-100 250,-100 250,0\" style=\"fill:none; stroke:currentColor;\"/>\n",
       "</svg>\n",
       "</div>\n",
       "<div style=\"flex=grow:1;\">\n",
       "Regular(5, 1, 6, underflow=False, name='x', label='Fancy display name')<br/>\n",
       "<hr style=\"margin-top:.2em; margin-bottom:.2em;\"/>\n",
       "Double() Σ=854.0 <em>(1000.0 with flow)</em>\n",
       "\n",
       "</div>\n",
       "</div>\n",
       "</html>"
      ],
      "text/plain": [
       "Hist(Regular(5, 1, 6, underflow=False, name='x', label='Fancy display name'), storage=Double()) # Sum: 854.0 (1000.0 with flow)"
      ]
     },
     "execution_count": 20,
     "metadata": {},
     "output_type": "execute_result"
    }
   ],
   "source": [
    "# Slicing in data coordinates\n",
    "h[1j:6j]"
   ]
  },
  {
   "cell_type": "code",
   "execution_count": 21,
   "metadata": {
    "ExecuteTime": {
     "end_time": "2021-10-30T04:47:01.394846Z",
     "start_time": "2021-10-30T04:47:01.366386Z"
    }
   },
   "outputs": [
    {
     "data": {
      "text/plain": [
       "1000.0"
      ]
     },
     "execution_count": 21,
     "metadata": {},
     "output_type": "execute_result"
    }
   ],
   "source": [
    "# Get total\n",
    "h.sum()"
   ]
  },
  {
   "cell_type": "markdown",
   "metadata": {
    "ExecuteTime": {
     "end_time": "2021-10-29T22:05:51.335189Z",
     "start_time": "2021-10-29T22:05:51.322699Z"
    }
   },
   "source": [
    "### hist - properties (PlottableHistogram)"
   ]
  },
  {
   "cell_type": "code",
   "execution_count": 22,
   "metadata": {
    "ExecuteTime": {
     "end_time": "2021-10-30T04:47:01.417378Z",
     "start_time": "2021-10-30T04:47:01.397207Z"
    }
   },
   "outputs": [
    {
     "name": "stdout",
     "output_type": "stream",
     "text": [
      "[  0.   2.  20. 136. 342. 354. 121.  22.   3.   0.]\n",
      "[  0.   2.  20. 136. 342. 354. 121.  22.   3.   0.]\n",
      "Regular(10, 0, 10, underflow=False, name='x', label='Fancy display name')\n",
      "[0.5 1.5 2.5 3.5 4.5 5.5 6.5 7.5 8.5 9.5]\n"
     ]
    }
   ],
   "source": [
    "print(h.values())\n",
    "print(h.variances())\n",
    "print(h.axes[0])\n",
    "print(h.axes[0].centers)"
   ]
  },
  {
   "cell_type": "markdown",
   "metadata": {
    "ExecuteTime": {
     "end_time": "2021-10-29T18:20:29.509666Z",
     "start_time": "2021-10-29T18:20:29.499589Z"
    }
   },
   "source": [
    "## hist - multiple dimensions and indexing\n",
    "- analysis like example"
   ]
  },
  {
   "cell_type": "code",
   "execution_count": 23,
   "metadata": {
    "ExecuteTime": {
     "end_time": "2021-10-30T04:47:01.449389Z",
     "start_time": "2021-10-30T04:47:01.421763Z"
    }
   },
   "outputs": [
    {
     "data": {
      "text/html": [
       "<html>\n",
       "<div style=\"display:flex; align-items:center;\">\n",
       "<div style=\"width:290px;\">\n",
       "<svg xmlns=\"http://www.w3.org/2000/svg\" viewBox=\"-20 -270 290 290\">\n",
       "<text text-anchor=\"middle\" x=\"0\" y=\"13\" style=\"fill:currentColor;\">\n",
       "0\n",
       "</text>\n",
       "<text text-anchor=\"middle\" x=\"250\" y=\"13\" style=\"fill:currentColor;\">\n",
       "10\n",
       "</text>\n",
       "<text text-anchor=\"middle\" x=\"-10\" y=\"0\" style=\"fill:currentColor;\">\n",
       "0\n",
       "</text>\n",
       "<text text-anchor=\"middle\" x=\"-10\" y=\"-250\" style=\"fill:currentColor;\">\n",
       "2\n",
       "</text>\n",
       "<text text-anchor=\"middle\" x=\"125.0\" y=\"13\" style=\"fill:currentColor;\">\n",
       "x\n",
       "</text>\n",
       "<text text-anchor=\"middle\" x=\"-10\" y=\"-125.0\" transform=\"rotate(-90,-10,-125.0)\" style=\"fill:currentColor;\">\n",
       "dataset\n",
       "</text>\n",
       "<rect x=\"0.0\" y=\"-125.0\" width=\"25.0\" height=\"125.0\" opacity=\"0.0\" fill=\"currentColor\" stroke-width=\"0.1\"/>\n",
       "<rect x=\"25.0\" y=\"-125.0\" width=\"25.0\" height=\"125.0\" opacity=\"0.0\" fill=\"currentColor\" stroke-width=\"0.1\"/>\n",
       "<rect x=\"50.0\" y=\"-125.0\" width=\"25.0\" height=\"125.0\" opacity=\"0.0\" fill=\"currentColor\" stroke-width=\"0.1\"/>\n",
       "<rect x=\"75.0\" y=\"-125.0\" width=\"25.0\" height=\"125.0\" opacity=\"0.0\" fill=\"currentColor\" stroke-width=\"0.1\"/>\n",
       "<rect x=\"100.0\" y=\"-125.0\" width=\"25.0\" height=\"125.0\" opacity=\"0.0\" fill=\"currentColor\" stroke-width=\"0.1\"/>\n",
       "<rect x=\"125.0\" y=\"-125.0\" width=\"25.0\" height=\"125.0\" opacity=\"0.0\" fill=\"currentColor\" stroke-width=\"0.1\"/>\n",
       "<rect x=\"150.0\" y=\"-125.0\" width=\"25.0\" height=\"125.0\" opacity=\"0.0\" fill=\"currentColor\" stroke-width=\"0.1\"/>\n",
       "<rect x=\"175.0\" y=\"-125.0\" width=\"25.0\" height=\"125.0\" opacity=\"0.0\" fill=\"currentColor\" stroke-width=\"0.1\"/>\n",
       "<rect x=\"200.0\" y=\"-125.0\" width=\"25.0\" height=\"125.0\" opacity=\"0.0\" fill=\"currentColor\" stroke-width=\"0.1\"/>\n",
       "<rect x=\"225.0\" y=\"-125.0\" width=\"25.0\" height=\"125.0\" opacity=\"0.0\" fill=\"currentColor\" stroke-width=\"0.1\"/>\n",
       "<rect x=\"0.0\" y=\"-250.0\" width=\"25.0\" height=\"125.0\" opacity=\"0.0\" fill=\"currentColor\" stroke-width=\"0.1\"/>\n",
       "<rect x=\"25.0\" y=\"-250.0\" width=\"25.0\" height=\"125.0\" opacity=\"0.0\" fill=\"currentColor\" stroke-width=\"0.1\"/>\n",
       "<rect x=\"50.0\" y=\"-250.0\" width=\"25.0\" height=\"125.0\" opacity=\"0.0\" fill=\"currentColor\" stroke-width=\"0.1\"/>\n",
       "<rect x=\"75.0\" y=\"-250.0\" width=\"25.0\" height=\"125.0\" opacity=\"0.0\" fill=\"currentColor\" stroke-width=\"0.1\"/>\n",
       "<rect x=\"100.0\" y=\"-250.0\" width=\"25.0\" height=\"125.0\" opacity=\"0.0\" fill=\"currentColor\" stroke-width=\"0.1\"/>\n",
       "<rect x=\"125.0\" y=\"-250.0\" width=\"25.0\" height=\"125.0\" opacity=\"0.0\" fill=\"currentColor\" stroke-width=\"0.1\"/>\n",
       "<rect x=\"150.0\" y=\"-250.0\" width=\"25.0\" height=\"125.0\" opacity=\"0.0\" fill=\"currentColor\" stroke-width=\"0.1\"/>\n",
       "<rect x=\"175.0\" y=\"-250.0\" width=\"25.0\" height=\"125.0\" opacity=\"0.0\" fill=\"currentColor\" stroke-width=\"0.1\"/>\n",
       "<rect x=\"200.0\" y=\"-250.0\" width=\"25.0\" height=\"125.0\" opacity=\"0.0\" fill=\"currentColor\" stroke-width=\"0.1\"/>\n",
       "<rect x=\"225.0\" y=\"-250.0\" width=\"25.0\" height=\"125.0\" opacity=\"0.0\" fill=\"currentColor\" stroke-width=\"0.1\"/>\n",
       "</svg>\n",
       "</div>\n",
       "<div style=\"flex=grow:1;\">\n",
       "Regular(10, 0, 10, name='x', label='x')<br/>\n",
       "StrCategory(['A', 'B'], growth=True, name='dataset', label='dataset')<br/>\n",
       "<hr style=\"margin-top:.2em; margin-bottom:.2em;\"/>\n",
       "Weight() Σ=WeightedSum(value=0, variance=0)\n",
       "\n",
       "</div>\n",
       "</div>\n",
       "</html>"
      ],
      "text/plain": [
       "Hist(\n",
       "  Regular(10, 0, 10, name='x', label='x'),\n",
       "  StrCategory(['A', 'B'], growth=True, name='dataset', label='dataset'),\n",
       "  storage=Weight()) # Sum: WeightedSum(value=0, variance=0)"
      ]
     },
     "execution_count": 23,
     "metadata": {},
     "output_type": "execute_result"
    }
   ],
   "source": [
    "# Create a new hist\n",
    "h2d = hist.new.Reg(10, 0, 10, name='x').StrCat([\"A\", \"B\"], growth=True, name='dataset').Weight()\n",
    "h2d"
   ]
  },
  {
   "cell_type": "code",
   "execution_count": 24,
   "metadata": {
    "ExecuteTime": {
     "end_time": "2021-10-30T04:47:01.474392Z",
     "start_time": "2021-10-30T04:47:01.456098Z"
    }
   },
   "outputs": [
    {
     "data": {
      "text/html": [
       "<html>\n",
       "<div style=\"display:flex; align-items:center;\">\n",
       "<div style=\"width:290px;\">\n",
       "<svg xmlns=\"http://www.w3.org/2000/svg\" viewBox=\"-20 -270 290 290\">\n",
       "<text text-anchor=\"middle\" x=\"0\" y=\"13\" style=\"fill:currentColor;\">\n",
       "0\n",
       "</text>\n",
       "<text text-anchor=\"middle\" x=\"250\" y=\"13\" style=\"fill:currentColor;\">\n",
       "10\n",
       "</text>\n",
       "<text text-anchor=\"middle\" x=\"-10\" y=\"0\" style=\"fill:currentColor;\">\n",
       "0\n",
       "</text>\n",
       "<text text-anchor=\"middle\" x=\"-10\" y=\"-250\" style=\"fill:currentColor;\">\n",
       "3\n",
       "</text>\n",
       "<text text-anchor=\"middle\" x=\"125.0\" y=\"13\" style=\"fill:currentColor;\">\n",
       "x\n",
       "</text>\n",
       "<text text-anchor=\"middle\" x=\"-10\" y=\"-125.0\" transform=\"rotate(-90,-10,-125.0)\" style=\"fill:currentColor;\">\n",
       "dataset\n",
       "</text>\n",
       "<rect x=\"0.0\" y=\"-83.33333333333333\" width=\"25.0\" height=\"83.333\" opacity=\"0.02399232245681382\" fill=\"currentColor\" stroke-width=\"0.1\"/>\n",
       "<rect x=\"25.0\" y=\"-83.33333333333333\" width=\"25.0\" height=\"83.333\" opacity=\"0.1362763915547025\" fill=\"currentColor\" stroke-width=\"0.1\"/>\n",
       "<rect x=\"50.0\" y=\"-83.33333333333333\" width=\"25.0\" height=\"83.333\" opacity=\"0.32917466410748564\" fill=\"currentColor\" stroke-width=\"0.1\"/>\n",
       "<rect x=\"75.0\" y=\"-83.33333333333333\" width=\"25.0\" height=\"83.333\" opacity=\"0.32725527831094053\" fill=\"currentColor\" stroke-width=\"0.1\"/>\n",
       "<rect x=\"100.0\" y=\"-83.33333333333333\" width=\"25.0\" height=\"83.333\" opacity=\"0.12188099808061421\" fill=\"currentColor\" stroke-width=\"0.1\"/>\n",
       "<rect x=\"125.0\" y=\"-83.33333333333333\" width=\"25.0\" height=\"83.333\" opacity=\"0.018234165067178502\" fill=\"currentColor\" stroke-width=\"0.1\"/>\n",
       "<rect x=\"150.0\" y=\"-83.33333333333333\" width=\"25.0\" height=\"83.333\" opacity=\"0.0009596928982725529\" fill=\"currentColor\" stroke-width=\"0.1\"/>\n",
       "<rect x=\"175.0\" y=\"-83.33333333333333\" width=\"25.0\" height=\"83.333\" opacity=\"0.0\" fill=\"currentColor\" stroke-width=\"0.1\"/>\n",
       "<rect x=\"200.0\" y=\"-83.33333333333333\" width=\"25.0\" height=\"83.333\" opacity=\"0.0\" fill=\"currentColor\" stroke-width=\"0.1\"/>\n",
       "<rect x=\"225.0\" y=\"-83.33333333333333\" width=\"25.0\" height=\"83.333\" opacity=\"0.0\" fill=\"currentColor\" stroke-width=\"0.1\"/>\n",
       "<rect x=\"0.0\" y=\"-166.66666666666666\" width=\"25.0\" height=\"83.333\" opacity=\"0.0\" fill=\"currentColor\" stroke-width=\"0.1\"/>\n",
       "<rect x=\"25.0\" y=\"-166.66666666666666\" width=\"25.0\" height=\"83.333\" opacity=\"0.0028790786948176585\" fill=\"currentColor\" stroke-width=\"0.1\"/>\n",
       "<rect x=\"50.0\" y=\"-166.66666666666666\" width=\"25.0\" height=\"83.333\" opacity=\"0.06333973128598848\" fill=\"currentColor\" stroke-width=\"0.1\"/>\n",
       "<rect x=\"75.0\" y=\"-166.66666666666666\" width=\"25.0\" height=\"83.333\" opacity=\"0.3886756238003839\" fill=\"currentColor\" stroke-width=\"0.1\"/>\n",
       "<rect x=\"100.0\" y=\"-166.66666666666666\" width=\"25.0\" height=\"83.333\" opacity=\"0.9932821497120922\" fill=\"currentColor\" stroke-width=\"0.1\"/>\n",
       "<rect x=\"125.0\" y=\"-166.66666666666666\" width=\"25.0\" height=\"83.333\" opacity=\"1.0\" fill=\"currentColor\" stroke-width=\"0.1\"/>\n",
       "<rect x=\"150.0\" y=\"-166.66666666666666\" width=\"25.0\" height=\"83.333\" opacity=\"0.3656429942418426\" fill=\"currentColor\" stroke-width=\"0.1\"/>\n",
       "<rect x=\"175.0\" y=\"-166.66666666666666\" width=\"25.0\" height=\"83.333\" opacity=\"0.05854126679462572\" fill=\"currentColor\" stroke-width=\"0.1\"/>\n",
       "<rect x=\"200.0\" y=\"-166.66666666666666\" width=\"25.0\" height=\"83.333\" opacity=\"0.0067178502879078695\" fill=\"currentColor\" stroke-width=\"0.1\"/>\n",
       "<rect x=\"225.0\" y=\"-166.66666666666666\" width=\"25.0\" height=\"83.333\" opacity=\"0.0\" fill=\"currentColor\" stroke-width=\"0.1\"/>\n",
       "<rect x=\"0.0\" y=\"-250.0\" width=\"25.0\" height=\"83.333\" opacity=\"0.0\" fill=\"currentColor\" stroke-width=\"0.1\"/>\n",
       "<rect x=\"25.0\" y=\"-250.0\" width=\"25.0\" height=\"83.333\" opacity=\"0.0\" fill=\"currentColor\" stroke-width=\"0.1\"/>\n",
       "<rect x=\"50.0\" y=\"-250.0\" width=\"25.0\" height=\"83.333\" opacity=\"0.0\" fill=\"currentColor\" stroke-width=\"0.1\"/>\n",
       "<rect x=\"75.0\" y=\"-250.0\" width=\"25.0\" height=\"83.333\" opacity=\"0.0019193857965451057\" fill=\"currentColor\" stroke-width=\"0.1\"/>\n",
       "<rect x=\"100.0\" y=\"-250.0\" width=\"25.0\" height=\"83.333\" opacity=\"0.04318618042226487\" fill=\"currentColor\" stroke-width=\"0.1\"/>\n",
       "<rect x=\"125.0\" y=\"-250.0\" width=\"25.0\" height=\"83.333\" opacity=\"0.26103646833013433\" fill=\"currentColor\" stroke-width=\"0.1\"/>\n",
       "<rect x=\"150.0\" y=\"-250.0\" width=\"25.0\" height=\"83.333\" opacity=\"0.6679462571976967\" fill=\"currentColor\" stroke-width=\"0.1\"/>\n",
       "<rect x=\"175.0\" y=\"-250.0\" width=\"25.0\" height=\"83.333\" opacity=\"0.6381957773512476\" fill=\"currentColor\" stroke-width=\"0.1\"/>\n",
       "<rect x=\"200.0\" y=\"-250.0\" width=\"25.0\" height=\"83.333\" opacity=\"0.263915547024952\" fill=\"currentColor\" stroke-width=\"0.1\"/>\n",
       "<rect x=\"225.0\" y=\"-250.0\" width=\"25.0\" height=\"83.333\" opacity=\"0.03934740882917467\" fill=\"currentColor\" stroke-width=\"0.1\"/>\n",
       "</svg>\n",
       "</div>\n",
       "<div style=\"flex=grow:1;\">\n",
       "Regular(10, 0, 10, name='x', label='x')<br/>\n",
       "StrCategory(['A', 'B', 'C'], growth=True, name='dataset', label='dataset')<br/>\n",
       "<hr style=\"margin-top:.2em; margin-bottom:.2em;\"/>\n",
       "Weight() Σ=WeightedSum(value=5994, variance=5994) <em>(WeightedSum(value=6000, variance=6000) with flow)</em>\n",
       "\n",
       "</div>\n",
       "</div>\n",
       "</html>"
      ],
      "text/plain": [
       "Hist(\n",
       "  Regular(10, 0, 10, name='x', label='x'),\n",
       "  StrCategory(['A', 'B', 'C'], growth=True, name='dataset', label='dataset'),\n",
       "  storage=Weight()) # Sum: WeightedSum(value=5994, variance=5994) (WeightedSum(value=6000, variance=6000) with flow)"
      ]
     },
     "execution_count": 24,
     "metadata": {},
     "output_type": "execute_result"
    }
   ],
   "source": [
    "# Fill it\n",
    "h2d.fill(np.random.normal(3, 1, 1000), \"A\")\n",
    "h2d.fill(np.random.normal(5, 1, 3000), \"B\")\n",
    "h2d.fill(np.random.normal(7, 1, 2000), \"C\")\n",
    "h2d"
   ]
  },
  {
   "cell_type": "code",
   "execution_count": 25,
   "metadata": {
    "ExecuteTime": {
     "end_time": "2021-10-30T04:47:01.722757Z",
     "start_time": "2021-10-30T04:47:01.477555Z"
    }
   },
   "outputs": [
    {
     "name": "stderr",
     "output_type": "stream",
     "text": [
      "/opt/conda/lib/python3.8/site-packages/boost_histogram/_internal/hist.py:872: UserWarning: List indexing selection is experimental. Removed bins are not placed in overflow.\n",
      "  warnings.warn(\n"
     ]
    },
    {
     "data": {
      "text/plain": [
       "<matplotlib.legend.Legend at 0x7f9869e5e910>"
      ]
     },
     "execution_count": 25,
     "metadata": {},
     "output_type": "execute_result"
    },
    {
     "data": {
      "image/png": "[encoded data removed]",
      "text/plain": [
       "<Figure size 432x288 with 1 Axes>"
      ]
     },
     "metadata": {
      "needs_background": "light"
     },
     "output_type": "display_data"
    }
   ],
   "source": [
    "h2d[:6, [\"A\", \"B\"]].plot(stack=True, histtype='step', sort='y_r');\n",
    "plt.legend()"
   ]
  },
  {
   "cell_type": "code",
   "execution_count": 26,
   "metadata": {
    "ExecuteTime": {
     "end_time": "2021-10-30T04:47:02.037002Z",
     "start_time": "2021-10-30T04:47:01.725317Z"
    }
   },
   "outputs": [
    {
     "data": {
      "image/png": "[encoded data removed]",
      "text/plain": [
       "<Figure size 432x288 with 2 Axes>"
      ]
     },
     "metadata": {
      "needs_background": "light"
     },
     "output_type": "display_data"
    }
   ],
   "source": [
    "hep.hist2dplot(h2d, labels=True);"
   ]
  },
  {
   "cell_type": "markdown",
   "metadata": {},
   "source": [
    "### Analysis like example"
   ]
  },
  {
   "cell_type": "code",
   "execution_count": 27,
   "metadata": {
    "ExecuteTime": {
     "end_time": "2021-10-30T04:47:02.049010Z",
     "start_time": "2021-10-30T04:47:02.039011Z"
    }
   },
   "outputs": [],
   "source": [
    "hn = (hist.new.Reg(100, 0, 100, name='x', label='Observable')\n",
    "      .Var([0, 0.2, 0.5, 0.9, 1], name=\"tag\", label=\"Some MVA\")\n",
    "      .StrCat([\"A\"], growth=True, name='dataset')\n",
    "      .IntCat([0, 1, 2, 3], name='region')\n",
    "      .StrCat([\"A\"], growth=True, name='syst', label='Systematic')\n",
    "      .Weight()\n",
    "     )"
   ]
  },
  {
   "cell_type": "code",
   "execution_count": 28,
   "metadata": {
    "ExecuteTime": {
     "end_time": "2021-10-30T04:47:02.101004Z",
     "start_time": "2021-10-30T04:47:02.051700Z"
    }
   },
   "outputs": [
    {
     "data": {
      "text/plain": [
       "['C', 'C', 'E', 'E', 'C', 'C', 'D', 'C', 'D', 'C']"
      ]
     },
     "execution_count": 28,
     "metadata": {},
     "output_type": "execute_result"
    }
   ],
   "source": [
    "# Small random letter helper\n",
    "def rnd_letters(a=\"A\", z=\"Z\", N=10):\n",
    "    A, Z = np.array([a, z]).view(\"int32\") \n",
    "    return list(np.random.randint(low=A,high=Z,size=N,dtype=\"int32\").view(f\"U{N}\")[0])\n",
    "rnd_letters(\"C\", \"F\")"
   ]
  },
  {
   "cell_type": "code",
   "execution_count": 29,
   "metadata": {
    "ExecuteTime": {
     "end_time": "2021-10-30T04:47:03.003629Z",
     "start_time": "2021-10-30T04:47:02.102750Z"
    }
   },
   "outputs": [
    {
     "data": {
      "text/html": [
       "<html>\n",
       "<div style=\"display:flex; align-items:center;\">\n",
       "<div style=\"width:290px;\">\n",
       "<svg xmlns=\"http://www.w3.org/2000/svg\" viewBox=\"-10 -10 220 220\">\n",
       "<rect x=\"0\" y=\"0\" width=\"160\" height=\"160\" style=\"fill:white;opacity:.5;stroke-width:2;stroke:currentColor;\"/>\n",
       "<rect x=\"20\" y=\"20\" width=\"160\" height=\"160\" style=\"fill:white;opacity:.5;stroke-width:2;stroke:currentColor;\"/>\n",
       "<rect x=\"40\" y=\"40\" width=\"160\" height=\"160\" style=\"fill:white;opacity:.5;stroke-width:2;stroke:currentColor;\"/>\n",
       "<text x=\"120.0\" y=\"120.0\" style=\"font-size: 26pt; font-family: verdana; font-style: bold; fill: black;\" text-anchor=\"middle\" alignment-baseline=\"middle\">\n",
       "5D\n",
       "</text>\n",
       "</svg>\n",
       "</div>\n",
       "<div style=\"flex=grow:1;\">\n",
       "Regular(100, 0, 100, name='x', label='Observable')<br/>\n",
       "Variable([0, 0.2, 0.5, 0.9, 1], name='tag', label='Some MVA')<br/>\n",
       "StrCategory(['A', 'F', 'B', 'D', 'E', 'C'], growth=True, name='dataset', label='dataset')<br/>\n",
       "IntCategory([0, 1, 2, 3], name='region', label='region')<br/>\n",
       "StrCategory(['A', 'S', 'T', 'Q', 'Y', 'W', 'X', 'R', 'V', 'P', 'U'], growth=True, name='syst', label='Systematic')<br/>\n",
       "<hr style=\"margin-top:.2em; margin-bottom:.2em;\"/>\n",
       "Weight() Σ=WeightedSum(value=2.39855e+06, variance=2.39855e+06) <em>(WeightedSum(value=2.4e+06, variance=2.4e+06) with flow)</em>\n",
       "\n",
       "</div>\n",
       "</div>\n",
       "</html>"
      ],
      "text/plain": [
       "Hist(\n",
       "  Regular(100, 0, 100, name='x', label='Observable'),\n",
       "  Variable([0, 0.2, 0.5, 0.9, 1], name='tag', label='Some MVA'),\n",
       "  StrCategory(['A', 'F', 'B', 'D', 'E', 'C'], growth=True, name='dataset', label='dataset'),\n",
       "  IntCategory([0, 1, 2, 3], name='region', label='region'),\n",
       "  StrCategory(['A', 'S', 'T', 'Q', 'Y', 'W', 'X', 'R', 'V', 'P', 'U'], growth=True, name='syst', label='Systematic'),\n",
       "  storage=Weight()) # Sum: WeightedSum(value=2.39855e+06, variance=2.39855e+06) (WeightedSum(value=2.4e+06, variance=2.4e+06) with flow)"
      ]
     },
     "execution_count": 29,
     "metadata": {},
     "output_type": "execute_result"
    }
   ],
   "source": [
    "# And fill it\n",
    "N = 400000\n",
    "for sample in set(rnd_letters(\"A\", \"G\", 500)):\n",
    "    hn.fill(x = np.random.normal(np.random.randint(20, 80, 1), 10, N),\n",
    "            tag = np.random.uniform(0, 1, N),\n",
    "            dataset = sample,\n",
    "            region=np.random.randint(0, 4, N),\n",
    "            syst = rnd_letters(\"P\", \"Z\", N=N)\n",
    "            )\n",
    "hn"
   ]
  },
  {
   "cell_type": "code",
   "execution_count": 30,
   "metadata": {
    "ExecuteTime": {
     "end_time": "2021-10-30T04:47:03.076891Z",
     "start_time": "2021-10-30T04:47:03.006492Z"
    }
   },
   "outputs": [
    {
     "data": {
      "text/html": [
       "<html>\n",
       "<div style=\"display:flex; align-items:center;\">\n",
       "<div style=\"width:290px;\">\n",
       "<svg xmlns=\"http://www.w3.org/2000/svg\" viewBox=\"-20 -270 290 290\">\n",
       "<text text-anchor=\"middle\" x=\"0\" y=\"13\" style=\"fill:currentColor;\">\n",
       "0\n",
       "</text>\n",
       "<text text-anchor=\"middle\" x=\"250\" y=\"13\" style=\"fill:currentColor;\">\n",
       "100\n",
       "</text>\n",
       "<text text-anchor=\"middle\" x=\"-10\" y=\"0\" style=\"fill:currentColor;\">\n",
       "0\n",
       "</text>\n",
       "<text text-anchor=\"middle\" x=\"-10\" y=\"-250\" style=\"fill:currentColor;\">\n",
       "6\n",
       "</text>\n",
       "<text text-anchor=\"middle\" x=\"125.0\" y=\"13\" style=\"fill:currentColor;\">\n",
       "Observable\n",
       "</text>\n",
       "<text text-anchor=\"middle\" x=\"-10\" y=\"-125.0\" transform=\"rotate(-90,-10,-125.0)\" style=\"fill:currentColor;\">\n",
       "dataset\n",
       "</text>\n",
       "<rect x=\"0.0\" y=\"-41.666666666666664\" width=\"2.5\" height=\"41.667\" opacity=\"0.0\" fill=\"currentColor\" stroke-width=\"0.1\"/>\n",
       "<rect x=\"2.5\" y=\"-41.666666666666664\" width=\"2.5\" height=\"41.667\" opacity=\"0.0\" fill=\"currentColor\" stroke-width=\"0.1\"/>\n",
       "<rect x=\"5.0\" y=\"-41.666666666666664\" width=\"2.5\" height=\"41.667\" opacity=\"0.0\" fill=\"currentColor\" stroke-width=\"0.1\"/>\n",
       "<rect x=\"7.5\" y=\"-41.666666666666664\" width=\"2.5\" height=\"41.667\" opacity=\"0.0\" fill=\"currentColor\" stroke-width=\"0.1\"/>\n",
       "<rect x=\"10.0\" y=\"-41.666666666666664\" width=\"2.5\" height=\"41.667\" opacity=\"0.0\" fill=\"currentColor\" stroke-width=\"0.1\"/>\n",
       "<rect x=\"12.5\" y=\"-41.666666666666664\" width=\"2.5\" height=\"41.667\" opacity=\"0.0\" fill=\"currentColor\" stroke-width=\"0.1\"/>\n",
       "<rect x=\"15.0\" y=\"-41.666666666666664\" width=\"2.5\" height=\"41.667\" opacity=\"0.0\" fill=\"currentColor\" stroke-width=\"0.1\"/>\n",
       "<rect x=\"17.5\" y=\"-41.666666666666664\" width=\"2.5\" height=\"41.667\" opacity=\"0.0\" fill=\"currentColor\" stroke-width=\"0.1\"/>\n",
       "<rect x=\"20.0\" y=\"-41.666666666666664\" width=\"2.5\" height=\"41.667\" opacity=\"0.004237288135593221\" fill=\"currentColor\" stroke-width=\"0.1\"/>\n",
       "<rect x=\"22.5\" y=\"-41.666666666666664\" width=\"2.5\" height=\"41.667\" opacity=\"0.0\" fill=\"currentColor\" stroke-width=\"0.1\"/>\n",
       "<rect x=\"25.0\" y=\"-41.666666666666664\" width=\"2.5\" height=\"41.667\" opacity=\"0.0\" fill=\"currentColor\" stroke-width=\"0.1\"/>\n",
       "<rect x=\"27.5\" y=\"-41.666666666666664\" width=\"2.5\" height=\"41.667\" opacity=\"0.004237288135593221\" fill=\"currentColor\" stroke-width=\"0.1\"/>\n",
       "<rect x=\"30.0\" y=\"-41.666666666666664\" width=\"2.5\" height=\"41.667\" opacity=\"0.0\" fill=\"currentColor\" stroke-width=\"0.1\"/>\n",
       "<rect x=\"32.5\" y=\"-41.666666666666664\" width=\"2.5\" height=\"41.667\" opacity=\"0.0\" fill=\"currentColor\" stroke-width=\"0.1\"/>\n",
       "<rect x=\"35.0\" y=\"-41.666666666666664\" width=\"2.5\" height=\"41.667\" opacity=\"0.004237288135593229\" fill=\"currentColor\" stroke-width=\"0.1\"/>\n",
       "<rect x=\"37.5\" y=\"-41.666666666666664\" width=\"2.5\" height=\"41.667\" opacity=\"0.0\" fill=\"currentColor\" stroke-width=\"0.1\"/>\n",
       "<rect x=\"40.0\" y=\"-41.666666666666664\" width=\"2.5\" height=\"41.667\" opacity=\"0.008474576271186442\" fill=\"currentColor\" stroke-width=\"0.1\"/>\n",
       "<rect x=\"42.5\" y=\"-41.666666666666664\" width=\"2.5\" height=\"41.667\" opacity=\"0.016949152542372885\" fill=\"currentColor\" stroke-width=\"0.1\"/>\n",
       "<rect x=\"45.0\" y=\"-41.666666666666664\" width=\"2.5\" height=\"41.667\" opacity=\"0.004237288135593221\" fill=\"currentColor\" stroke-width=\"0.1\"/>\n",
       "<rect x=\"47.5\" y=\"-41.666666666666664\" width=\"2.5\" height=\"41.667\" opacity=\"0.012711864406779662\" fill=\"currentColor\" stroke-width=\"0.1\"/>\n",
       "<rect x=\"50.0\" y=\"-41.666666666666664\" width=\"2.5\" height=\"41.667\" opacity=\"0.016949152542372885\" fill=\"currentColor\" stroke-width=\"0.1\"/>\n",
       "<rect x=\"52.5\" y=\"-41.666666666666664\" width=\"2.5\" height=\"41.667\" opacity=\"0.03389830508474577\" fill=\"currentColor\" stroke-width=\"0.1\"/>\n",
       "<rect x=\"55.0\" y=\"-41.666666666666664\" width=\"2.5\" height=\"41.667\" opacity=\"0.029661016949152543\" fill=\"currentColor\" stroke-width=\"0.1\"/>\n",
       "<rect x=\"57.5\" y=\"-41.666666666666664\" width=\"2.5\" height=\"41.667\" opacity=\"0.03389830508474577\" fill=\"currentColor\" stroke-width=\"0.1\"/>\n",
       "<rect x=\"60.0\" y=\"-41.666666666666664\" width=\"2.5\" height=\"41.667\" opacity=\"0.059322033898305086\" fill=\"currentColor\" stroke-width=\"0.1\"/>\n",
       "<rect x=\"62.5\" y=\"-41.666666666666664\" width=\"2.5\" height=\"41.667\" opacity=\"0.07627118644067798\" fill=\"currentColor\" stroke-width=\"0.1\"/>\n",
       "<rect x=\"65.0\" y=\"-41.666666666666664\" width=\"2.5\" height=\"41.667\" opacity=\"0.05508474576271186\" fill=\"currentColor\" stroke-width=\"0.1\"/>\n",
       "<rect x=\"67.5\" y=\"-41.666666666666664\" width=\"2.5\" height=\"41.667\" opacity=\"0.059322033898304885\" fill=\"currentColor\" stroke-width=\"0.1\"/>\n",
       "<rect x=\"70.0\" y=\"-41.666666666666664\" width=\"2.5\" height=\"41.667\" opacity=\"0.09745762711864478\" fill=\"currentColor\" stroke-width=\"0.1\"/>\n",
       "<rect x=\"72.5\" y=\"-41.666666666666664\" width=\"2.5\" height=\"41.667\" opacity=\"0.15254237288135541\" fill=\"currentColor\" stroke-width=\"0.1\"/>\n",
       "<rect x=\"75.0\" y=\"-41.666666666666664\" width=\"2.5\" height=\"41.667\" opacity=\"0.17796610169491528\" fill=\"currentColor\" stroke-width=\"0.1\"/>\n",
       "<rect x=\"77.5\" y=\"-41.666666666666664\" width=\"2.5\" height=\"41.667\" opacity=\"0.21186440677966104\" fill=\"currentColor\" stroke-width=\"0.1\"/>\n",
       "<rect x=\"80.0\" y=\"-41.666666666666664\" width=\"2.5\" height=\"41.667\" opacity=\"0.23305084745762714\" fill=\"currentColor\" stroke-width=\"0.1\"/>\n",
       "<rect x=\"82.5\" y=\"-41.666666666666664\" width=\"2.5\" height=\"41.667\" opacity=\"0.23305084745762714\" fill=\"currentColor\" stroke-width=\"0.1\"/>\n",
       "<rect x=\"85.0\" y=\"-41.666666666666664\" width=\"2.5\" height=\"41.667\" opacity=\"0.42372881355932207\" fill=\"currentColor\" stroke-width=\"0.1\"/>\n",
       "<rect x=\"87.5\" y=\"-41.666666666666664\" width=\"2.5\" height=\"41.667\" opacity=\"0.3686440677966102\" fill=\"currentColor\" stroke-width=\"0.1\"/>\n",
       "<rect x=\"90.0\" y=\"-41.666666666666664\" width=\"2.5\" height=\"41.667\" opacity=\"0.42372881355932207\" fill=\"currentColor\" stroke-width=\"0.1\"/>\n",
       "<rect x=\"92.5\" y=\"-41.666666666666664\" width=\"2.5\" height=\"41.667\" opacity=\"0.41949152542372886\" fill=\"currentColor\" stroke-width=\"0.1\"/>\n",
       "<rect x=\"95.0\" y=\"-41.666666666666664\" width=\"2.5\" height=\"41.667\" opacity=\"0.49152542372881364\" fill=\"currentColor\" stroke-width=\"0.1\"/>\n",
       "<rect x=\"97.5\" y=\"-41.666666666666664\" width=\"2.5\" height=\"41.667\" opacity=\"0.6228813559322035\" fill=\"currentColor\" stroke-width=\"0.1\"/>\n",
       "<rect x=\"100.0\" y=\"-41.666666666666664\" width=\"2.5\" height=\"41.667\" opacity=\"0.6610169491525424\" fill=\"currentColor\" stroke-width=\"0.1\"/>\n",
       "<rect x=\"102.5\" y=\"-41.666666666666664\" width=\"2.5\" height=\"41.667\" opacity=\"0.6016949152542372\" fill=\"currentColor\" stroke-width=\"0.1\"/>\n",
       "<rect x=\"105.0\" y=\"-41.666666666666664\" width=\"2.5\" height=\"41.667\" opacity=\"0.673728813559322\" fill=\"currentColor\" stroke-width=\"0.1\"/>\n",
       "<rect x=\"107.5\" y=\"-41.666666666666664\" width=\"2.5\" height=\"41.667\" opacity=\"0.8601694915254238\" fill=\"currentColor\" stroke-width=\"0.1\"/>\n",
       "<rect x=\"110.0\" y=\"-41.666666666666664\" width=\"2.5\" height=\"41.667\" opacity=\"0.8135593220338984\" fill=\"currentColor\" stroke-width=\"0.1\"/>\n",
       "<rect x=\"112.5\" y=\"-41.666666666666664\" width=\"2.5\" height=\"41.667\" opacity=\"0.7245762711864407\" fill=\"currentColor\" stroke-width=\"0.1\"/>\n",
       "<rect x=\"115.0\" y=\"-41.666666666666664\" width=\"2.5\" height=\"41.667\" opacity=\"0.8432203389830509\" fill=\"currentColor\" stroke-width=\"0.1\"/>\n",
       "<rect x=\"117.5\" y=\"-41.666666666666664\" width=\"2.5\" height=\"41.667\" opacity=\"0.8262711864406781\" fill=\"currentColor\" stroke-width=\"0.1\"/>\n",
       "<rect x=\"120.0\" y=\"-41.666666666666664\" width=\"2.5\" height=\"41.667\" opacity=\"0.8813559322033898\" fill=\"currentColor\" stroke-width=\"0.1\"/>\n",
       "<rect x=\"122.5\" y=\"-41.666666666666664\" width=\"2.5\" height=\"41.667\" opacity=\"0.8432203389830509\" fill=\"currentColor\" stroke-width=\"0.1\"/>\n",
       "<rect x=\"125.0\" y=\"-41.666666666666664\" width=\"2.5\" height=\"41.667\" opacity=\"0.8601694915254238\" fill=\"currentColor\" stroke-width=\"0.1\"/>\n",
       "<rect x=\"127.5\" y=\"-41.666666666666664\" width=\"2.5\" height=\"41.667\" opacity=\"0.8601694915254238\" fill=\"currentColor\" stroke-width=\"0.1\"/>\n",
       "<rect x=\"130.0\" y=\"-41.666666666666664\" width=\"2.5\" height=\"41.667\" opacity=\"0.690677966101695\" fill=\"currentColor\" stroke-width=\"0.1\"/>\n",
       "<rect x=\"132.5\" y=\"-41.666666666666664\" width=\"2.5\" height=\"41.667\" opacity=\"0.7245762711864407\" fill=\"currentColor\" stroke-width=\"0.1\"/>\n",
       "<rect x=\"135.0\" y=\"-41.666666666666664\" width=\"2.5\" height=\"41.667\" opacity=\"0.6737288135593172\" fill=\"currentColor\" stroke-width=\"0.1\"/>\n",
       "<rect x=\"137.5\" y=\"-41.666666666666664\" width=\"2.5\" height=\"41.667\" opacity=\"0.6610169491525424\" fill=\"currentColor\" stroke-width=\"0.1\"/>\n",
       "<rect x=\"140.0\" y=\"-41.666666666666664\" width=\"2.5\" height=\"41.667\" opacity=\"0.5974576271186526\" fill=\"currentColor\" stroke-width=\"0.1\"/>\n",
       "<rect x=\"142.5\" y=\"-41.666666666666664\" width=\"2.5\" height=\"41.667\" opacity=\"0.5084745762711864\" fill=\"currentColor\" stroke-width=\"0.1\"/>\n",
       "<rect x=\"145.0\" y=\"-41.666666666666664\" width=\"2.5\" height=\"41.667\" opacity=\"0.5296610169491488\" fill=\"currentColor\" stroke-width=\"0.1\"/>\n",
       "<rect x=\"147.5\" y=\"-41.666666666666664\" width=\"2.5\" height=\"41.667\" opacity=\"0.35593220338983056\" fill=\"currentColor\" stroke-width=\"0.1\"/>\n",
       "<rect x=\"150.0\" y=\"-41.666666666666664\" width=\"2.5\" height=\"41.667\" opacity=\"0.48305084745762716\" fill=\"currentColor\" stroke-width=\"0.1\"/>\n",
       "<rect x=\"152.5\" y=\"-41.666666666666664\" width=\"2.5\" height=\"41.667\" opacity=\"0.39830508474576276\" fill=\"currentColor\" stroke-width=\"0.1\"/>\n",
       "<rect x=\"155.0\" y=\"-41.666666666666664\" width=\"2.5\" height=\"41.667\" opacity=\"0.30932203389830515\" fill=\"currentColor\" stroke-width=\"0.1\"/>\n",
       "<rect x=\"157.5\" y=\"-41.666666666666664\" width=\"2.5\" height=\"41.667\" opacity=\"0.24576271186440682\" fill=\"currentColor\" stroke-width=\"0.1\"/>\n",
       "<rect x=\"160.0\" y=\"-41.666666666666664\" width=\"2.5\" height=\"41.667\" opacity=\"0.2033898305084746\" fill=\"currentColor\" stroke-width=\"0.1\"/>\n",
       "<rect x=\"162.5\" y=\"-41.666666666666664\" width=\"2.5\" height=\"41.667\" opacity=\"0.2033898305084746\" fill=\"currentColor\" stroke-width=\"0.1\"/>\n",
       "<rect x=\"165.0\" y=\"-41.666666666666664\" width=\"2.5\" height=\"41.667\" opacity=\"0.1610169491525424\" fill=\"currentColor\" stroke-width=\"0.1\"/>\n",
       "<rect x=\"167.5\" y=\"-41.666666666666664\" width=\"2.5\" height=\"41.667\" opacity=\"0.1610169491525424\" fill=\"currentColor\" stroke-width=\"0.1\"/>\n",
       "<rect x=\"170.0\" y=\"-41.666666666666664\" width=\"2.5\" height=\"41.667\" opacity=\"0.11016949152542373\" fill=\"currentColor\" stroke-width=\"0.1\"/>\n",
       "<rect x=\"172.5\" y=\"-41.666666666666664\" width=\"2.5\" height=\"41.667\" opacity=\"0.0635593220338983\" fill=\"currentColor\" stroke-width=\"0.1\"/>\n",
       "<rect x=\"175.0\" y=\"-41.666666666666664\" width=\"2.5\" height=\"41.667\" opacity=\"0.07203389830508475\" fill=\"currentColor\" stroke-width=\"0.1\"/>\n",
       "<rect x=\"177.5\" y=\"-41.666666666666664\" width=\"2.5\" height=\"41.667\" opacity=\"0.046610169491525424\" fill=\"currentColor\" stroke-width=\"0.1\"/>\n",
       "<rect x=\"180.0\" y=\"-41.666666666666664\" width=\"2.5\" height=\"41.667\" opacity=\"0.0423728813559322\" fill=\"currentColor\" stroke-width=\"0.1\"/>\n",
       "<rect x=\"182.5\" y=\"-41.666666666666664\" width=\"2.5\" height=\"41.667\" opacity=\"0.029661016949152543\" fill=\"currentColor\" stroke-width=\"0.1\"/>\n",
       "<rect x=\"185.0\" y=\"-41.666666666666664\" width=\"2.5\" height=\"41.667\" opacity=\"0.0423728813559322\" fill=\"currentColor\" stroke-width=\"0.1\"/>\n",
       "<rect x=\"187.5\" y=\"-41.666666666666664\" width=\"2.5\" height=\"41.667\" opacity=\"0.012711864406779662\" fill=\"currentColor\" stroke-width=\"0.1\"/>\n",
       "<rect x=\"190.0\" y=\"-41.666666666666664\" width=\"2.5\" height=\"41.667\" opacity=\"0.0211864406779661\" fill=\"currentColor\" stroke-width=\"0.1\"/>\n",
       "<rect x=\"192.5\" y=\"-41.666666666666664\" width=\"2.5\" height=\"41.667\" opacity=\"0.016949152542372885\" fill=\"currentColor\" stroke-width=\"0.1\"/>\n",
       "<rect x=\"195.0\" y=\"-41.666666666666664\" width=\"2.5\" height=\"41.667\" opacity=\"0.004237288135593221\" fill=\"currentColor\" stroke-width=\"0.1\"/>\n",
       "<rect x=\"197.5\" y=\"-41.666666666666664\" width=\"2.5\" height=\"41.667\" opacity=\"0.004237288135593221\" fill=\"currentColor\" stroke-width=\"0.1\"/>\n",
       "<rect x=\"200.0\" y=\"-41.666666666666664\" width=\"2.5\" height=\"41.667\" opacity=\"0.004237288135593221\" fill=\"currentColor\" stroke-width=\"0.1\"/>\n",
       "<rect x=\"202.5\" y=\"-41.666666666666664\" width=\"2.5\" height=\"41.667\" opacity=\"0.0\" fill=\"currentColor\" stroke-width=\"0.1\"/>\n",
       "<rect x=\"205.0\" y=\"-41.666666666666664\" width=\"2.5\" height=\"41.667\" opacity=\"0.0\" fill=\"currentColor\" stroke-width=\"0.1\"/>\n",
       "<rect x=\"207.5\" y=\"-41.666666666666664\" width=\"2.5\" height=\"41.667\" opacity=\"0.0\" fill=\"currentColor\" stroke-width=\"0.1\"/>\n",
       "<rect x=\"210.0\" y=\"-41.666666666666664\" width=\"2.5\" height=\"41.667\" opacity=\"0.0\" fill=\"currentColor\" stroke-width=\"0.1\"/>\n",
       "<rect x=\"212.5\" y=\"-41.666666666666664\" width=\"2.5\" height=\"41.667\" opacity=\"0.0\" fill=\"currentColor\" stroke-width=\"0.1\"/>\n",
       "<rect x=\"215.0\" y=\"-41.666666666666664\" width=\"2.5\" height=\"41.667\" opacity=\"0.0\" fill=\"currentColor\" stroke-width=\"0.1\"/>\n",
       "<rect x=\"217.5\" y=\"-41.666666666666664\" width=\"2.5\" height=\"41.667\" opacity=\"0.0\" fill=\"currentColor\" stroke-width=\"0.1\"/>\n",
       "<rect x=\"220.0\" y=\"-41.666666666666664\" width=\"2.5\" height=\"41.667\" opacity=\"0.0\" fill=\"currentColor\" stroke-width=\"0.1\"/>\n",
       "<rect x=\"222.5\" y=\"-41.666666666666664\" width=\"2.5\" height=\"41.667\" opacity=\"0.0\" fill=\"currentColor\" stroke-width=\"0.1\"/>\n",
       "<rect x=\"225.0\" y=\"-41.666666666666664\" width=\"2.5\" height=\"41.667\" opacity=\"0.0\" fill=\"currentColor\" stroke-width=\"0.1\"/>\n",
       "<rect x=\"227.5\" y=\"-41.666666666666664\" width=\"2.5\" height=\"41.667\" opacity=\"0.0\" fill=\"currentColor\" stroke-width=\"0.1\"/>\n",
       "<rect x=\"230.0\" y=\"-41.666666666666664\" width=\"2.5\" height=\"41.667\" opacity=\"0.0\" fill=\"currentColor\" stroke-width=\"0.1\"/>\n",
       "<rect x=\"232.5\" y=\"-41.666666666666664\" width=\"2.5\" height=\"41.667\" opacity=\"0.0\" fill=\"currentColor\" stroke-width=\"0.1\"/>\n",
       "<rect x=\"235.0\" y=\"-41.666666666666664\" width=\"2.5\" height=\"41.667\" opacity=\"0.0\" fill=\"currentColor\" stroke-width=\"0.1\"/>\n",
       "<rect x=\"237.5\" y=\"-41.666666666666664\" width=\"2.5\" height=\"41.667\" opacity=\"0.0\" fill=\"currentColor\" stroke-width=\"0.1\"/>\n",
       "<rect x=\"240.0\" y=\"-41.666666666666664\" width=\"2.5\" height=\"41.667\" opacity=\"0.0\" fill=\"currentColor\" stroke-width=\"0.1\"/>\n",
       "<rect x=\"242.5\" y=\"-41.666666666666664\" width=\"2.5\" height=\"41.667\" opacity=\"0.0\" fill=\"currentColor\" stroke-width=\"0.1\"/>\n",
       "<rect x=\"245.0\" y=\"-41.666666666666664\" width=\"2.5\" height=\"41.667\" opacity=\"0.0\" fill=\"currentColor\" stroke-width=\"0.1\"/>\n",
       "<rect x=\"247.5\" y=\"-41.666666666666664\" width=\"2.5\" height=\"41.667\" opacity=\"0.0\" fill=\"currentColor\" stroke-width=\"0.1\"/>\n",
       "<rect x=\"0.0\" y=\"-83.33333333333333\" width=\"2.5\" height=\"41.667\" opacity=\"0.016949152542372885\" fill=\"currentColor\" stroke-width=\"0.1\"/>\n",
       "<rect x=\"2.5\" y=\"-83.33333333333333\" width=\"2.5\" height=\"41.667\" opacity=\"0.0211864406779661\" fill=\"currentColor\" stroke-width=\"0.1\"/>\n",
       "<rect x=\"5.0\" y=\"-83.33333333333333\" width=\"2.5\" height=\"41.667\" opacity=\"0.025423728813559324\" fill=\"currentColor\" stroke-width=\"0.1\"/>\n",
       "<rect x=\"7.5\" y=\"-83.33333333333333\" width=\"2.5\" height=\"41.667\" opacity=\"0.03389830508474577\" fill=\"currentColor\" stroke-width=\"0.1\"/>\n",
       "<rect x=\"10.0\" y=\"-83.33333333333333\" width=\"2.5\" height=\"41.667\" opacity=\"0.0423728813559322\" fill=\"currentColor\" stroke-width=\"0.1\"/>\n",
       "<rect x=\"12.5\" y=\"-83.33333333333333\" width=\"2.5\" height=\"41.667\" opacity=\"0.05084745762711865\" fill=\"currentColor\" stroke-width=\"0.1\"/>\n",
       "<rect x=\"15.0\" y=\"-83.33333333333333\" width=\"2.5\" height=\"41.667\" opacity=\"0.06779661016949148\" fill=\"currentColor\" stroke-width=\"0.1\"/>\n",
       "<rect x=\"17.5\" y=\"-83.33333333333333\" width=\"2.5\" height=\"41.667\" opacity=\"0.13135593220338995\" fill=\"currentColor\" stroke-width=\"0.1\"/>\n",
       "<rect x=\"20.0\" y=\"-83.33333333333333\" width=\"2.5\" height=\"41.667\" opacity=\"0.06779661016949154\" fill=\"currentColor\" stroke-width=\"0.1\"/>\n",
       "<rect x=\"22.5\" y=\"-83.33333333333333\" width=\"2.5\" height=\"41.667\" opacity=\"0.1483050847457627\" fill=\"currentColor\" stroke-width=\"0.1\"/>\n",
       "<rect x=\"25.0\" y=\"-83.33333333333333\" width=\"2.5\" height=\"41.667\" opacity=\"0.21186440677966104\" fill=\"currentColor\" stroke-width=\"0.1\"/>\n",
       "<rect x=\"27.5\" y=\"-83.33333333333333\" width=\"2.5\" height=\"41.667\" opacity=\"0.21186440677966104\" fill=\"currentColor\" stroke-width=\"0.1\"/>\n",
       "<rect x=\"30.0\" y=\"-83.33333333333333\" width=\"2.5\" height=\"41.667\" opacity=\"0.19491525423728814\" fill=\"currentColor\" stroke-width=\"0.1\"/>\n",
       "<rect x=\"32.5\" y=\"-83.33333333333333\" width=\"2.5\" height=\"41.667\" opacity=\"0.3008474576271181\" fill=\"currentColor\" stroke-width=\"0.1\"/>\n",
       "<rect x=\"35.0\" y=\"-83.33333333333333\" width=\"2.5\" height=\"41.667\" opacity=\"0.35593220338983117\" fill=\"currentColor\" stroke-width=\"0.1\"/>\n",
       "<rect x=\"37.5\" y=\"-83.33333333333333\" width=\"2.5\" height=\"41.667\" opacity=\"0.3432203389830509\" fill=\"currentColor\" stroke-width=\"0.1\"/>\n",
       "<rect x=\"40.0\" y=\"-83.33333333333333\" width=\"2.5\" height=\"41.667\" opacity=\"0.41525423728813565\" fill=\"currentColor\" stroke-width=\"0.1\"/>\n",
       "<rect x=\"42.5\" y=\"-83.33333333333333\" width=\"2.5\" height=\"41.667\" opacity=\"0.4406779661016949\" fill=\"currentColor\" stroke-width=\"0.1\"/>\n",
       "<rect x=\"45.0\" y=\"-83.33333333333333\" width=\"2.5\" height=\"41.667\" opacity=\"0.5466101694915255\" fill=\"currentColor\" stroke-width=\"0.1\"/>\n",
       "<rect x=\"47.5\" y=\"-83.33333333333333\" width=\"2.5\" height=\"41.667\" opacity=\"0.576271186440678\" fill=\"currentColor\" stroke-width=\"0.1\"/>\n",
       "<rect x=\"50.0\" y=\"-83.33333333333333\" width=\"2.5\" height=\"41.667\" opacity=\"0.6567796610169492\" fill=\"currentColor\" stroke-width=\"0.1\"/>\n",
       "<rect x=\"52.5\" y=\"-83.33333333333333\" width=\"2.5\" height=\"41.667\" opacity=\"0.7118644067796611\" fill=\"currentColor\" stroke-width=\"0.1\"/>\n",
       "<rect x=\"55.0\" y=\"-83.33333333333333\" width=\"2.5\" height=\"41.667\" opacity=\"0.6694915254237288\" fill=\"currentColor\" stroke-width=\"0.1\"/>\n",
       "<rect x=\"57.5\" y=\"-83.33333333333333\" width=\"2.5\" height=\"41.667\" opacity=\"0.7245762711864407\" fill=\"currentColor\" stroke-width=\"0.1\"/>\n",
       "<rect x=\"60.0\" y=\"-83.33333333333333\" width=\"2.5\" height=\"41.667\" opacity=\"0.7457627118644068\" fill=\"currentColor\" stroke-width=\"0.1\"/>\n",
       "<rect x=\"62.5\" y=\"-83.33333333333333\" width=\"2.5\" height=\"41.667\" opacity=\"0.7584745762711865\" fill=\"currentColor\" stroke-width=\"0.1\"/>\n",
       "<rect x=\"65.0\" y=\"-83.33333333333333\" width=\"2.5\" height=\"41.667\" opacity=\"0.8813559322033898\" fill=\"currentColor\" stroke-width=\"0.1\"/>\n",
       "<rect x=\"67.5\" y=\"-83.33333333333333\" width=\"2.5\" height=\"41.667\" opacity=\"0.927966101694912\" fill=\"currentColor\" stroke-width=\"0.1\"/>\n",
       "<rect x=\"70.0\" y=\"-83.33333333333333\" width=\"2.5\" height=\"41.667\" opacity=\"0.8474576271186501\" fill=\"currentColor\" stroke-width=\"0.1\"/>\n",
       "<rect x=\"72.5\" y=\"-83.33333333333333\" width=\"2.5\" height=\"41.667\" opacity=\"0.8389830508474547\" fill=\"currentColor\" stroke-width=\"0.1\"/>\n",
       "<rect x=\"75.0\" y=\"-83.33333333333333\" width=\"2.5\" height=\"41.667\" opacity=\"0.8432203389830509\" fill=\"currentColor\" stroke-width=\"0.1\"/>\n",
       "<rect x=\"77.5\" y=\"-83.33333333333333\" width=\"2.5\" height=\"41.667\" opacity=\"0.9152542372881357\" fill=\"currentColor\" stroke-width=\"0.1\"/>\n",
       "<rect x=\"80.0\" y=\"-83.33333333333333\" width=\"2.5\" height=\"41.667\" opacity=\"0.7711864406779662\" fill=\"currentColor\" stroke-width=\"0.1\"/>\n",
       "<rect x=\"82.5\" y=\"-83.33333333333333\" width=\"2.5\" height=\"41.667\" opacity=\"0.8305084745762713\" fill=\"currentColor\" stroke-width=\"0.1\"/>\n",
       "<rect x=\"85.0\" y=\"-83.33333333333333\" width=\"2.5\" height=\"41.667\" opacity=\"0.6610169491525424\" fill=\"currentColor\" stroke-width=\"0.1\"/>\n",
       "<rect x=\"87.5\" y=\"-83.33333333333333\" width=\"2.5\" height=\"41.667\" opacity=\"0.5508474576271187\" fill=\"currentColor\" stroke-width=\"0.1\"/>\n",
       "<rect x=\"90.0\" y=\"-83.33333333333333\" width=\"2.5\" height=\"41.667\" opacity=\"0.5932203389830508\" fill=\"currentColor\" stroke-width=\"0.1\"/>\n",
       "<rect x=\"92.5\" y=\"-83.33333333333333\" width=\"2.5\" height=\"41.667\" opacity=\"0.5593220338983051\" fill=\"currentColor\" stroke-width=\"0.1\"/>\n",
       "<rect x=\"95.0\" y=\"-83.33333333333333\" width=\"2.5\" height=\"41.667\" opacity=\"0.4788135593220339\" fill=\"currentColor\" stroke-width=\"0.1\"/>\n",
       "<rect x=\"97.5\" y=\"-83.33333333333333\" width=\"2.5\" height=\"41.667\" opacity=\"0.42372881355932207\" fill=\"currentColor\" stroke-width=\"0.1\"/>\n",
       "<rect x=\"100.0\" y=\"-83.33333333333333\" width=\"2.5\" height=\"41.667\" opacity=\"0.4067796610169492\" fill=\"currentColor\" stroke-width=\"0.1\"/>\n",
       "<rect x=\"102.5\" y=\"-83.33333333333333\" width=\"2.5\" height=\"41.667\" opacity=\"0.30508474576271194\" fill=\"currentColor\" stroke-width=\"0.1\"/>\n",
       "<rect x=\"105.0\" y=\"-83.33333333333333\" width=\"2.5\" height=\"41.667\" opacity=\"0.27542372881355937\" fill=\"currentColor\" stroke-width=\"0.1\"/>\n",
       "<rect x=\"107.5\" y=\"-83.33333333333333\" width=\"2.5\" height=\"41.667\" opacity=\"0.22033898305084745\" fill=\"currentColor\" stroke-width=\"0.1\"/>\n",
       "<rect x=\"110.0\" y=\"-83.33333333333333\" width=\"2.5\" height=\"41.667\" opacity=\"0.2796610169491526\" fill=\"currentColor\" stroke-width=\"0.1\"/>\n",
       "<rect x=\"112.5\" y=\"-83.33333333333333\" width=\"2.5\" height=\"41.667\" opacity=\"0.15254237288135597\" fill=\"currentColor\" stroke-width=\"0.1\"/>\n",
       "<rect x=\"115.0\" y=\"-83.33333333333333\" width=\"2.5\" height=\"41.667\" opacity=\"0.15254237288135597\" fill=\"currentColor\" stroke-width=\"0.1\"/>\n",
       "<rect x=\"117.5\" y=\"-83.33333333333333\" width=\"2.5\" height=\"41.667\" opacity=\"0.11016949152542373\" fill=\"currentColor\" stroke-width=\"0.1\"/>\n",
       "<rect x=\"120.0\" y=\"-83.33333333333333\" width=\"2.5\" height=\"41.667\" opacity=\"0.09745762711864407\" fill=\"currentColor\" stroke-width=\"0.1\"/>\n",
       "<rect x=\"122.5\" y=\"-83.33333333333333\" width=\"2.5\" height=\"41.667\" opacity=\"0.0847457627118644\" fill=\"currentColor\" stroke-width=\"0.1\"/>\n",
       "<rect x=\"125.0\" y=\"-83.33333333333333\" width=\"2.5\" height=\"41.667\" opacity=\"0.03813559322033899\" fill=\"currentColor\" stroke-width=\"0.1\"/>\n",
       "<rect x=\"127.5\" y=\"-83.33333333333333\" width=\"2.5\" height=\"41.667\" opacity=\"0.0635593220338983\" fill=\"currentColor\" stroke-width=\"0.1\"/>\n",
       "<rect x=\"130.0\" y=\"-83.33333333333333\" width=\"2.5\" height=\"41.667\" opacity=\"0.012711864406779662\" fill=\"currentColor\" stroke-width=\"0.1\"/>\n",
       "<rect x=\"132.5\" y=\"-83.33333333333333\" width=\"2.5\" height=\"41.667\" opacity=\"0.03389830508474577\" fill=\"currentColor\" stroke-width=\"0.1\"/>\n",
       "<rect x=\"135.0\" y=\"-83.33333333333333\" width=\"2.5\" height=\"41.667\" opacity=\"0.0423728813559319\" fill=\"currentColor\" stroke-width=\"0.1\"/>\n",
       "<rect x=\"137.5\" y=\"-83.33333333333333\" width=\"2.5\" height=\"41.667\" opacity=\"0.025423728813559324\" fill=\"currentColor\" stroke-width=\"0.1\"/>\n",
       "<rect x=\"140.0\" y=\"-83.33333333333333\" width=\"2.5\" height=\"41.667\" opacity=\"0.012711864406779844\" fill=\"currentColor\" stroke-width=\"0.1\"/>\n",
       "<rect x=\"142.5\" y=\"-83.33333333333333\" width=\"2.5\" height=\"41.667\" opacity=\"0.008474576271186442\" fill=\"currentColor\" stroke-width=\"0.1\"/>\n",
       "<rect x=\"145.0\" y=\"-83.33333333333333\" width=\"2.5\" height=\"41.667\" opacity=\"0.008474576271186382\" fill=\"currentColor\" stroke-width=\"0.1\"/>\n",
       "<rect x=\"147.5\" y=\"-83.33333333333333\" width=\"2.5\" height=\"41.667\" opacity=\"0.008474576271186442\" fill=\"currentColor\" stroke-width=\"0.1\"/>\n",
       "<rect x=\"150.0\" y=\"-83.33333333333333\" width=\"2.5\" height=\"41.667\" opacity=\"0.0\" fill=\"currentColor\" stroke-width=\"0.1\"/>\n",
       "<rect x=\"152.5\" y=\"-83.33333333333333\" width=\"2.5\" height=\"41.667\" opacity=\"0.0\" fill=\"currentColor\" stroke-width=\"0.1\"/>\n",
       "<rect x=\"155.0\" y=\"-83.33333333333333\" width=\"2.5\" height=\"41.667\" opacity=\"0.0\" fill=\"currentColor\" stroke-width=\"0.1\"/>\n",
       "<rect x=\"157.5\" y=\"-83.33333333333333\" width=\"2.5\" height=\"41.667\" opacity=\"0.0\" fill=\"currentColor\" stroke-width=\"0.1\"/>\n",
       "<rect x=\"160.0\" y=\"-83.33333333333333\" width=\"2.5\" height=\"41.667\" opacity=\"0.0\" fill=\"currentColor\" stroke-width=\"0.1\"/>\n",
       "<rect x=\"162.5\" y=\"-83.33333333333333\" width=\"2.5\" height=\"41.667\" opacity=\"0.0\" fill=\"currentColor\" stroke-width=\"0.1\"/>\n",
       "<rect x=\"165.0\" y=\"-83.33333333333333\" width=\"2.5\" height=\"41.667\" opacity=\"0.0\" fill=\"currentColor\" stroke-width=\"0.1\"/>\n",
       "<rect x=\"167.5\" y=\"-83.33333333333333\" width=\"2.5\" height=\"41.667\" opacity=\"0.0\" fill=\"currentColor\" stroke-width=\"0.1\"/>\n",
       "<rect x=\"170.0\" y=\"-83.33333333333333\" width=\"2.5\" height=\"41.667\" opacity=\"0.0\" fill=\"currentColor\" stroke-width=\"0.1\"/>\n",
       "<rect x=\"172.5\" y=\"-83.33333333333333\" width=\"2.5\" height=\"41.667\" opacity=\"0.0\" fill=\"currentColor\" stroke-width=\"0.1\"/>\n",
       "<rect x=\"175.0\" y=\"-83.33333333333333\" width=\"2.5\" height=\"41.667\" opacity=\"0.0\" fill=\"currentColor\" stroke-width=\"0.1\"/>\n",
       "<rect x=\"177.5\" y=\"-83.33333333333333\" width=\"2.5\" height=\"41.667\" opacity=\"0.0\" fill=\"currentColor\" stroke-width=\"0.1\"/>\n",
       "<rect x=\"180.0\" y=\"-83.33333333333333\" width=\"2.5\" height=\"41.667\" opacity=\"0.0\" fill=\"currentColor\" stroke-width=\"0.1\"/>\n",
       "<rect x=\"182.5\" y=\"-83.33333333333333\" width=\"2.5\" height=\"41.667\" opacity=\"0.0\" fill=\"currentColor\" stroke-width=\"0.1\"/>\n",
       "<rect x=\"185.0\" y=\"-83.33333333333333\" width=\"2.5\" height=\"41.667\" opacity=\"0.0\" fill=\"currentColor\" stroke-width=\"0.1\"/>\n",
       "<rect x=\"187.5\" y=\"-83.33333333333333\" width=\"2.5\" height=\"41.667\" opacity=\"0.0\" fill=\"currentColor\" stroke-width=\"0.1\"/>\n",
       "<rect x=\"190.0\" y=\"-83.33333333333333\" width=\"2.5\" height=\"41.667\" opacity=\"0.0\" fill=\"currentColor\" stroke-width=\"0.1\"/>\n",
       "<rect x=\"192.5\" y=\"-83.33333333333333\" width=\"2.5\" height=\"41.667\" opacity=\"0.0\" fill=\"currentColor\" stroke-width=\"0.1\"/>\n",
       "<rect x=\"195.0\" y=\"-83.33333333333333\" width=\"2.5\" height=\"41.667\" opacity=\"0.0\" fill=\"currentColor\" stroke-width=\"0.1\"/>\n",
       "<rect x=\"197.5\" y=\"-83.33333333333333\" width=\"2.5\" height=\"41.667\" opacity=\"0.0\" fill=\"currentColor\" stroke-width=\"0.1\"/>\n",
       "<rect x=\"200.0\" y=\"-83.33333333333333\" width=\"2.5\" height=\"41.667\" opacity=\"0.0\" fill=\"currentColor\" stroke-width=\"0.1\"/>\n",
       "<rect x=\"202.5\" y=\"-83.33333333333333\" width=\"2.5\" height=\"41.667\" opacity=\"0.0\" fill=\"currentColor\" stroke-width=\"0.1\"/>\n",
       "<rect x=\"205.0\" y=\"-83.33333333333333\" width=\"2.5\" height=\"41.667\" opacity=\"0.0\" fill=\"currentColor\" stroke-width=\"0.1\"/>\n",
       "<rect x=\"207.5\" y=\"-83.33333333333333\" width=\"2.5\" height=\"41.667\" opacity=\"0.0\" fill=\"currentColor\" stroke-width=\"0.1\"/>\n",
       "<rect x=\"210.0\" y=\"-83.33333333333333\" width=\"2.5\" height=\"41.667\" opacity=\"0.0\" fill=\"currentColor\" stroke-width=\"0.1\"/>\n",
       "<rect x=\"212.5\" y=\"-83.33333333333333\" width=\"2.5\" height=\"41.667\" opacity=\"0.0\" fill=\"currentColor\" stroke-width=\"0.1\"/>\n",
       "<rect x=\"215.0\" y=\"-83.33333333333333\" width=\"2.5\" height=\"41.667\" opacity=\"0.0\" fill=\"currentColor\" stroke-width=\"0.1\"/>\n",
       "<rect x=\"217.5\" y=\"-83.33333333333333\" width=\"2.5\" height=\"41.667\" opacity=\"0.0\" fill=\"currentColor\" stroke-width=\"0.1\"/>\n",
       "<rect x=\"220.0\" y=\"-83.33333333333333\" width=\"2.5\" height=\"41.667\" opacity=\"0.0\" fill=\"currentColor\" stroke-width=\"0.1\"/>\n",
       "<rect x=\"222.5\" y=\"-83.33333333333333\" width=\"2.5\" height=\"41.667\" opacity=\"0.0\" fill=\"currentColor\" stroke-width=\"0.1\"/>\n",
       "<rect x=\"225.0\" y=\"-83.33333333333333\" width=\"2.5\" height=\"41.667\" opacity=\"0.0\" fill=\"currentColor\" stroke-width=\"0.1\"/>\n",
       "<rect x=\"227.5\" y=\"-83.33333333333333\" width=\"2.5\" height=\"41.667\" opacity=\"0.0\" fill=\"currentColor\" stroke-width=\"0.1\"/>\n",
       "<rect x=\"230.0\" y=\"-83.33333333333333\" width=\"2.5\" height=\"41.667\" opacity=\"0.0\" fill=\"currentColor\" stroke-width=\"0.1\"/>\n",
       "<rect x=\"232.5\" y=\"-83.33333333333333\" width=\"2.5\" height=\"41.667\" opacity=\"0.0\" fill=\"currentColor\" stroke-width=\"0.1\"/>\n",
       "<rect x=\"235.0\" y=\"-83.33333333333333\" width=\"2.5\" height=\"41.667\" opacity=\"0.0\" fill=\"currentColor\" stroke-width=\"0.1\"/>\n",
       "<rect x=\"237.5\" y=\"-83.33333333333333\" width=\"2.5\" height=\"41.667\" opacity=\"0.0\" fill=\"currentColor\" stroke-width=\"0.1\"/>\n",
       "<rect x=\"240.0\" y=\"-83.33333333333333\" width=\"2.5\" height=\"41.667\" opacity=\"0.0\" fill=\"currentColor\" stroke-width=\"0.1\"/>\n",
       "<rect x=\"242.5\" y=\"-83.33333333333333\" width=\"2.5\" height=\"41.667\" opacity=\"0.0\" fill=\"currentColor\" stroke-width=\"0.1\"/>\n",
       "<rect x=\"245.0\" y=\"-83.33333333333333\" width=\"2.5\" height=\"41.667\" opacity=\"0.0\" fill=\"currentColor\" stroke-width=\"0.1\"/>\n",
       "<rect x=\"247.5\" y=\"-83.33333333333333\" width=\"2.5\" height=\"41.667\" opacity=\"0.0\" fill=\"currentColor\" stroke-width=\"0.1\"/>\n",
       "<rect x=\"0.0\" y=\"-125.0\" width=\"2.5\" height=\"41.667\" opacity=\"0.004237288135593221\" fill=\"currentColor\" stroke-width=\"0.1\"/>\n",
       "<rect x=\"2.5\" y=\"-125.0\" width=\"2.5\" height=\"41.667\" opacity=\"0.016949152542372885\" fill=\"currentColor\" stroke-width=\"0.1\"/>\n",
       "<rect x=\"5.0\" y=\"-125.0\" width=\"2.5\" height=\"41.667\" opacity=\"0.012711864406779662\" fill=\"currentColor\" stroke-width=\"0.1\"/>\n",
       "<rect x=\"7.5\" y=\"-125.0\" width=\"2.5\" height=\"41.667\" opacity=\"0.016949152542372885\" fill=\"currentColor\" stroke-width=\"0.1\"/>\n",
       "<rect x=\"10.0\" y=\"-125.0\" width=\"2.5\" height=\"41.667\" opacity=\"0.025423728813559324\" fill=\"currentColor\" stroke-width=\"0.1\"/>\n",
       "<rect x=\"12.5\" y=\"-125.0\" width=\"2.5\" height=\"41.667\" opacity=\"0.025423728813559324\" fill=\"currentColor\" stroke-width=\"0.1\"/>\n",
       "<rect x=\"15.0\" y=\"-125.0\" width=\"2.5\" height=\"41.667\" opacity=\"0.06779661016949148\" fill=\"currentColor\" stroke-width=\"0.1\"/>\n",
       "<rect x=\"17.5\" y=\"-125.0\" width=\"2.5\" height=\"41.667\" opacity=\"0.03813559322033902\" fill=\"currentColor\" stroke-width=\"0.1\"/>\n",
       "<rect x=\"20.0\" y=\"-125.0\" width=\"2.5\" height=\"41.667\" opacity=\"0.059322033898305086\" fill=\"currentColor\" stroke-width=\"0.1\"/>\n",
       "<rect x=\"22.5\" y=\"-125.0\" width=\"2.5\" height=\"41.667\" opacity=\"0.11440677966101696\" fill=\"currentColor\" stroke-width=\"0.1\"/>\n",
       "<rect x=\"25.0\" y=\"-125.0\" width=\"2.5\" height=\"41.667\" opacity=\"0.12288135593220341\" fill=\"currentColor\" stroke-width=\"0.1\"/>\n",
       "<rect x=\"27.5\" y=\"-125.0\" width=\"2.5\" height=\"41.667\" opacity=\"0.08898305084745764\" fill=\"currentColor\" stroke-width=\"0.1\"/>\n",
       "<rect x=\"30.0\" y=\"-125.0\" width=\"2.5\" height=\"41.667\" opacity=\"0.11440677966101696\" fill=\"currentColor\" stroke-width=\"0.1\"/>\n",
       "<rect x=\"32.5\" y=\"-125.0\" width=\"2.5\" height=\"41.667\" opacity=\"0.15677966101694887\" fill=\"currentColor\" stroke-width=\"0.1\"/>\n",
       "<rect x=\"35.0\" y=\"-125.0\" width=\"2.5\" height=\"41.667\" opacity=\"0.1652542372881359\" fill=\"currentColor\" stroke-width=\"0.1\"/>\n",
       "<rect x=\"37.5\" y=\"-125.0\" width=\"2.5\" height=\"41.667\" opacity=\"0.2796610169491526\" fill=\"currentColor\" stroke-width=\"0.1\"/>\n",
       "<rect x=\"40.0\" y=\"-125.0\" width=\"2.5\" height=\"41.667\" opacity=\"0.30932203389830515\" fill=\"currentColor\" stroke-width=\"0.1\"/>\n",
       "<rect x=\"42.5\" y=\"-125.0\" width=\"2.5\" height=\"41.667\" opacity=\"0.288135593220339\" fill=\"currentColor\" stroke-width=\"0.1\"/>\n",
       "<rect x=\"45.0\" y=\"-125.0\" width=\"2.5\" height=\"41.667\" opacity=\"0.35169491525423735\" fill=\"currentColor\" stroke-width=\"0.1\"/>\n",
       "<rect x=\"47.5\" y=\"-125.0\" width=\"2.5\" height=\"41.667\" opacity=\"0.4364406779661017\" fill=\"currentColor\" stroke-width=\"0.1\"/>\n",
       "<rect x=\"50.0\" y=\"-125.0\" width=\"2.5\" height=\"41.667\" opacity=\"0.4788135593220339\" fill=\"currentColor\" stroke-width=\"0.1\"/>\n",
       "<rect x=\"52.5\" y=\"-125.0\" width=\"2.5\" height=\"41.667\" opacity=\"0.5254237288135594\" fill=\"currentColor\" stroke-width=\"0.1\"/>\n",
       "<rect x=\"55.0\" y=\"-125.0\" width=\"2.5\" height=\"41.667\" opacity=\"0.5805084745762712\" fill=\"currentColor\" stroke-width=\"0.1\"/>\n",
       "<rect x=\"57.5\" y=\"-125.0\" width=\"2.5\" height=\"41.667\" opacity=\"0.673728813559322\" fill=\"currentColor\" stroke-width=\"0.1\"/>\n",
       "<rect x=\"60.0\" y=\"-125.0\" width=\"2.5\" height=\"41.667\" opacity=\"0.6355932203389831\" fill=\"currentColor\" stroke-width=\"0.1\"/>\n",
       "<rect x=\"62.5\" y=\"-125.0\" width=\"2.5\" height=\"41.667\" opacity=\"0.7415254237288136\" fill=\"currentColor\" stroke-width=\"0.1\"/>\n",
       "<rect x=\"65.0\" y=\"-125.0\" width=\"2.5\" height=\"41.667\" opacity=\"0.7838983050847458\" fill=\"currentColor\" stroke-width=\"0.1\"/>\n",
       "<rect x=\"67.5\" y=\"-125.0\" width=\"2.5\" height=\"41.667\" opacity=\"0.8008474576271158\" fill=\"currentColor\" stroke-width=\"0.1\"/>\n",
       "<rect x=\"70.0\" y=\"-125.0\" width=\"2.5\" height=\"41.667\" opacity=\"0.7838983050847514\" fill=\"currentColor\" stroke-width=\"0.1\"/>\n",
       "<rect x=\"72.5\" y=\"-125.0\" width=\"2.5\" height=\"41.667\" opacity=\"0.8516949152542344\" fill=\"currentColor\" stroke-width=\"0.1\"/>\n",
       "<rect x=\"75.0\" y=\"-125.0\" width=\"2.5\" height=\"41.667\" opacity=\"0.8516949152542374\" fill=\"currentColor\" stroke-width=\"0.1\"/>\n",
       "<rect x=\"77.5\" y=\"-125.0\" width=\"2.5\" height=\"41.667\" opacity=\"0.766949152542373\" fill=\"currentColor\" stroke-width=\"0.1\"/>\n",
       "<rect x=\"80.0\" y=\"-125.0\" width=\"2.5\" height=\"41.667\" opacity=\"0.7838983050847458\" fill=\"currentColor\" stroke-width=\"0.1\"/>\n",
       "<rect x=\"82.5\" y=\"-125.0\" width=\"2.5\" height=\"41.667\" opacity=\"0.8432203389830509\" fill=\"currentColor\" stroke-width=\"0.1\"/>\n",
       "<rect x=\"85.0\" y=\"-125.0\" width=\"2.5\" height=\"41.667\" opacity=\"0.8347457627118645\" fill=\"currentColor\" stroke-width=\"0.1\"/>\n",
       "<rect x=\"87.5\" y=\"-125.0\" width=\"2.5\" height=\"41.667\" opacity=\"0.728813559322034\" fill=\"currentColor\" stroke-width=\"0.1\"/>\n",
       "<rect x=\"90.0\" y=\"-125.0\" width=\"2.5\" height=\"41.667\" opacity=\"0.6949152542372882\" fill=\"currentColor\" stroke-width=\"0.1\"/>\n",
       "<rect x=\"92.5\" y=\"-125.0\" width=\"2.5\" height=\"41.667\" opacity=\"0.7161016949152543\" fill=\"currentColor\" stroke-width=\"0.1\"/>\n",
       "<rect x=\"95.0\" y=\"-125.0\" width=\"2.5\" height=\"41.667\" opacity=\"0.6101694915254239\" fill=\"currentColor\" stroke-width=\"0.1\"/>\n",
       "<rect x=\"97.5\" y=\"-125.0\" width=\"2.5\" height=\"41.667\" opacity=\"0.6144067796610171\" fill=\"currentColor\" stroke-width=\"0.1\"/>\n",
       "<rect x=\"100.0\" y=\"-125.0\" width=\"2.5\" height=\"41.667\" opacity=\"0.5635593220338984\" fill=\"currentColor\" stroke-width=\"0.1\"/>\n",
       "<rect x=\"102.5\" y=\"-125.0\" width=\"2.5\" height=\"41.667\" opacity=\"0.41949152542372886\" fill=\"currentColor\" stroke-width=\"0.1\"/>\n",
       "<rect x=\"105.0\" y=\"-125.0\" width=\"2.5\" height=\"41.667\" opacity=\"0.516949152542373\" fill=\"currentColor\" stroke-width=\"0.1\"/>\n",
       "<rect x=\"107.5\" y=\"-125.0\" width=\"2.5\" height=\"41.667\" opacity=\"0.36016949152542377\" fill=\"currentColor\" stroke-width=\"0.1\"/>\n",
       "<rect x=\"110.0\" y=\"-125.0\" width=\"2.5\" height=\"41.667\" opacity=\"0.3305084745762712\" fill=\"currentColor\" stroke-width=\"0.1\"/>\n",
       "<rect x=\"112.5\" y=\"-125.0\" width=\"2.5\" height=\"41.667\" opacity=\"0.3347457627118644\" fill=\"currentColor\" stroke-width=\"0.1\"/>\n",
       "<rect x=\"115.0\" y=\"-125.0\" width=\"2.5\" height=\"41.667\" opacity=\"0.24152542372881358\" fill=\"currentColor\" stroke-width=\"0.1\"/>\n",
       "<rect x=\"117.5\" y=\"-125.0\" width=\"2.5\" height=\"41.667\" opacity=\"0.13135593220338984\" fill=\"currentColor\" stroke-width=\"0.1\"/>\n",
       "<rect x=\"120.0\" y=\"-125.0\" width=\"2.5\" height=\"41.667\" opacity=\"0.20762711864406783\" fill=\"currentColor\" stroke-width=\"0.1\"/>\n",
       "<rect x=\"122.5\" y=\"-125.0\" width=\"2.5\" height=\"41.667\" opacity=\"0.1694915254237288\" fill=\"currentColor\" stroke-width=\"0.1\"/>\n",
       "<rect x=\"125.0\" y=\"-125.0\" width=\"2.5\" height=\"41.667\" opacity=\"0.15254237288135597\" fill=\"currentColor\" stroke-width=\"0.1\"/>\n",
       "<rect x=\"127.5\" y=\"-125.0\" width=\"2.5\" height=\"41.667\" opacity=\"0.0635593220338983\" fill=\"currentColor\" stroke-width=\"0.1\"/>\n",
       "<rect x=\"130.0\" y=\"-125.0\" width=\"2.5\" height=\"41.667\" opacity=\"0.09745762711864407\" fill=\"currentColor\" stroke-width=\"0.1\"/>\n",
       "<rect x=\"132.5\" y=\"-125.0\" width=\"2.5\" height=\"41.667\" opacity=\"0.0847457627118644\" fill=\"currentColor\" stroke-width=\"0.1\"/>\n",
       "<rect x=\"135.0\" y=\"-125.0\" width=\"2.5\" height=\"41.667\" opacity=\"0.05084745762711829\" fill=\"currentColor\" stroke-width=\"0.1\"/>\n",
       "<rect x=\"137.5\" y=\"-125.0\" width=\"2.5\" height=\"41.667\" opacity=\"0.03389830508474577\" fill=\"currentColor\" stroke-width=\"0.1\"/>\n",
       "<rect x=\"140.0\" y=\"-125.0\" width=\"2.5\" height=\"41.667\" opacity=\"0.03813559322033953\" fill=\"currentColor\" stroke-width=\"0.1\"/>\n",
       "<rect x=\"142.5\" y=\"-125.0\" width=\"2.5\" height=\"41.667\" opacity=\"0.029661016949152543\" fill=\"currentColor\" stroke-width=\"0.1\"/>\n",
       "<rect x=\"145.0\" y=\"-125.0\" width=\"2.5\" height=\"41.667\" opacity=\"0.02118644067796595\" fill=\"currentColor\" stroke-width=\"0.1\"/>\n",
       "<rect x=\"147.5\" y=\"-125.0\" width=\"2.5\" height=\"41.667\" opacity=\"0.016949152542372885\" fill=\"currentColor\" stroke-width=\"0.1\"/>\n",
       "<rect x=\"150.0\" y=\"-125.0\" width=\"2.5\" height=\"41.667\" opacity=\"0.012711864406779662\" fill=\"currentColor\" stroke-width=\"0.1\"/>\n",
       "<rect x=\"152.5\" y=\"-125.0\" width=\"2.5\" height=\"41.667\" opacity=\"0.012711864406779662\" fill=\"currentColor\" stroke-width=\"0.1\"/>\n",
       "<rect x=\"155.0\" y=\"-125.0\" width=\"2.5\" height=\"41.667\" opacity=\"0.008474576271186442\" fill=\"currentColor\" stroke-width=\"0.1\"/>\n",
       "<rect x=\"157.5\" y=\"-125.0\" width=\"2.5\" height=\"41.667\" opacity=\"0.008474576271186442\" fill=\"currentColor\" stroke-width=\"0.1\"/>\n",
       "<rect x=\"160.0\" y=\"-125.0\" width=\"2.5\" height=\"41.667\" opacity=\"0.004237288135593221\" fill=\"currentColor\" stroke-width=\"0.1\"/>\n",
       "<rect x=\"162.5\" y=\"-125.0\" width=\"2.5\" height=\"41.667\" opacity=\"0.0\" fill=\"currentColor\" stroke-width=\"0.1\"/>\n",
       "<rect x=\"165.0\" y=\"-125.0\" width=\"2.5\" height=\"41.667\" opacity=\"0.0\" fill=\"currentColor\" stroke-width=\"0.1\"/>\n",
       "<rect x=\"167.5\" y=\"-125.0\" width=\"2.5\" height=\"41.667\" opacity=\"0.004237288135593221\" fill=\"currentColor\" stroke-width=\"0.1\"/>\n",
       "<rect x=\"170.0\" y=\"-125.0\" width=\"2.5\" height=\"41.667\" opacity=\"0.0\" fill=\"currentColor\" stroke-width=\"0.1\"/>\n",
       "<rect x=\"172.5\" y=\"-125.0\" width=\"2.5\" height=\"41.667\" opacity=\"0.0\" fill=\"currentColor\" stroke-width=\"0.1\"/>\n",
       "<rect x=\"175.0\" y=\"-125.0\" width=\"2.5\" height=\"41.667\" opacity=\"0.0\" fill=\"currentColor\" stroke-width=\"0.1\"/>\n",
       "<rect x=\"177.5\" y=\"-125.0\" width=\"2.5\" height=\"41.667\" opacity=\"0.0\" fill=\"currentColor\" stroke-width=\"0.1\"/>\n",
       "<rect x=\"180.0\" y=\"-125.0\" width=\"2.5\" height=\"41.667\" opacity=\"0.0\" fill=\"currentColor\" stroke-width=\"0.1\"/>\n",
       "<rect x=\"182.5\" y=\"-125.0\" width=\"2.5\" height=\"41.667\" opacity=\"0.0\" fill=\"currentColor\" stroke-width=\"0.1\"/>\n",
       "<rect x=\"185.0\" y=\"-125.0\" width=\"2.5\" height=\"41.667\" opacity=\"0.0\" fill=\"currentColor\" stroke-width=\"0.1\"/>\n",
       "<rect x=\"187.5\" y=\"-125.0\" width=\"2.5\" height=\"41.667\" opacity=\"0.0\" fill=\"currentColor\" stroke-width=\"0.1\"/>\n",
       "<rect x=\"190.0\" y=\"-125.0\" width=\"2.5\" height=\"41.667\" opacity=\"0.0\" fill=\"currentColor\" stroke-width=\"0.1\"/>\n",
       "<rect x=\"192.5\" y=\"-125.0\" width=\"2.5\" height=\"41.667\" opacity=\"0.0\" fill=\"currentColor\" stroke-width=\"0.1\"/>\n",
       "<rect x=\"195.0\" y=\"-125.0\" width=\"2.5\" height=\"41.667\" opacity=\"0.0\" fill=\"currentColor\" stroke-width=\"0.1\"/>\n",
       "<rect x=\"197.5\" y=\"-125.0\" width=\"2.5\" height=\"41.667\" opacity=\"0.0\" fill=\"currentColor\" stroke-width=\"0.1\"/>\n",
       "<rect x=\"200.0\" y=\"-125.0\" width=\"2.5\" height=\"41.667\" opacity=\"0.0\" fill=\"currentColor\" stroke-width=\"0.1\"/>\n",
       "<rect x=\"202.5\" y=\"-125.0\" width=\"2.5\" height=\"41.667\" opacity=\"0.0\" fill=\"currentColor\" stroke-width=\"0.1\"/>\n",
       "<rect x=\"205.0\" y=\"-125.0\" width=\"2.5\" height=\"41.667\" opacity=\"0.0\" fill=\"currentColor\" stroke-width=\"0.1\"/>\n",
       "<rect x=\"207.5\" y=\"-125.0\" width=\"2.5\" height=\"41.667\" opacity=\"0.0\" fill=\"currentColor\" stroke-width=\"0.1\"/>\n",
       "<rect x=\"210.0\" y=\"-125.0\" width=\"2.5\" height=\"41.667\" opacity=\"0.0\" fill=\"currentColor\" stroke-width=\"0.1\"/>\n",
       "<rect x=\"212.5\" y=\"-125.0\" width=\"2.5\" height=\"41.667\" opacity=\"0.0\" fill=\"currentColor\" stroke-width=\"0.1\"/>\n",
       "<rect x=\"215.0\" y=\"-125.0\" width=\"2.5\" height=\"41.667\" opacity=\"0.0\" fill=\"currentColor\" stroke-width=\"0.1\"/>\n",
       "<rect x=\"217.5\" y=\"-125.0\" width=\"2.5\" height=\"41.667\" opacity=\"0.0\" fill=\"currentColor\" stroke-width=\"0.1\"/>\n",
       "<rect x=\"220.0\" y=\"-125.0\" width=\"2.5\" height=\"41.667\" opacity=\"0.0\" fill=\"currentColor\" stroke-width=\"0.1\"/>\n",
       "<rect x=\"222.5\" y=\"-125.0\" width=\"2.5\" height=\"41.667\" opacity=\"0.0\" fill=\"currentColor\" stroke-width=\"0.1\"/>\n",
       "<rect x=\"225.0\" y=\"-125.0\" width=\"2.5\" height=\"41.667\" opacity=\"0.0\" fill=\"currentColor\" stroke-width=\"0.1\"/>\n",
       "<rect x=\"227.5\" y=\"-125.0\" width=\"2.5\" height=\"41.667\" opacity=\"0.0\" fill=\"currentColor\" stroke-width=\"0.1\"/>\n",
       "<rect x=\"230.0\" y=\"-125.0\" width=\"2.5\" height=\"41.667\" opacity=\"0.0\" fill=\"currentColor\" stroke-width=\"0.1\"/>\n",
       "<rect x=\"232.5\" y=\"-125.0\" width=\"2.5\" height=\"41.667\" opacity=\"0.0\" fill=\"currentColor\" stroke-width=\"0.1\"/>\n",
       "<rect x=\"235.0\" y=\"-125.0\" width=\"2.5\" height=\"41.667\" opacity=\"0.0\" fill=\"currentColor\" stroke-width=\"0.1\"/>\n",
       "<rect x=\"237.5\" y=\"-125.0\" width=\"2.5\" height=\"41.667\" opacity=\"0.0\" fill=\"currentColor\" stroke-width=\"0.1\"/>\n",
       "<rect x=\"240.0\" y=\"-125.0\" width=\"2.5\" height=\"41.667\" opacity=\"0.0\" fill=\"currentColor\" stroke-width=\"0.1\"/>\n",
       "<rect x=\"242.5\" y=\"-125.0\" width=\"2.5\" height=\"41.667\" opacity=\"0.0\" fill=\"currentColor\" stroke-width=\"0.1\"/>\n",
       "<rect x=\"245.0\" y=\"-125.0\" width=\"2.5\" height=\"41.667\" opacity=\"0.0\" fill=\"currentColor\" stroke-width=\"0.1\"/>\n",
       "<rect x=\"247.5\" y=\"-125.0\" width=\"2.5\" height=\"41.667\" opacity=\"0.0\" fill=\"currentColor\" stroke-width=\"0.1\"/>\n",
       "<rect x=\"0.0\" y=\"-166.66666666666666\" width=\"2.5\" height=\"41.667\" opacity=\"0.0\" fill=\"currentColor\" stroke-width=\"0.1\"/>\n",
       "<rect x=\"2.5\" y=\"-166.66666666666666\" width=\"2.5\" height=\"41.667\" opacity=\"0.0\" fill=\"currentColor\" stroke-width=\"0.1\"/>\n",
       "<rect x=\"5.0\" y=\"-166.66666666666666\" width=\"2.5\" height=\"41.667\" opacity=\"0.0\" fill=\"currentColor\" stroke-width=\"0.1\"/>\n",
       "<rect x=\"7.5\" y=\"-166.66666666666666\" width=\"2.5\" height=\"41.667\" opacity=\"0.004237288135593221\" fill=\"currentColor\" stroke-width=\"0.1\"/>\n",
       "<rect x=\"10.0\" y=\"-166.66666666666666\" width=\"2.5\" height=\"41.667\" opacity=\"0.0\" fill=\"currentColor\" stroke-width=\"0.1\"/>\n",
       "<rect x=\"12.5\" y=\"-166.66666666666666\" width=\"2.5\" height=\"41.667\" opacity=\"0.004237288135593221\" fill=\"currentColor\" stroke-width=\"0.1\"/>\n",
       "<rect x=\"15.0\" y=\"-166.66666666666666\" width=\"2.5\" height=\"41.667\" opacity=\"0.01271186440677965\" fill=\"currentColor\" stroke-width=\"0.1\"/>\n",
       "<rect x=\"17.5\" y=\"-166.66666666666666\" width=\"2.5\" height=\"41.667\" opacity=\"0.0\" fill=\"currentColor\" stroke-width=\"0.1\"/>\n",
       "<rect x=\"20.0\" y=\"-166.66666666666666\" width=\"2.5\" height=\"41.667\" opacity=\"0.004237288135593221\" fill=\"currentColor\" stroke-width=\"0.1\"/>\n",
       "<rect x=\"22.5\" y=\"-166.66666666666666\" width=\"2.5\" height=\"41.667\" opacity=\"0.012711864406779662\" fill=\"currentColor\" stroke-width=\"0.1\"/>\n",
       "<rect x=\"25.0\" y=\"-166.66666666666666\" width=\"2.5\" height=\"41.667\" opacity=\"0.0\" fill=\"currentColor\" stroke-width=\"0.1\"/>\n",
       "<rect x=\"27.5\" y=\"-166.66666666666666\" width=\"2.5\" height=\"41.667\" opacity=\"0.012711864406779662\" fill=\"currentColor\" stroke-width=\"0.1\"/>\n",
       "<rect x=\"30.0\" y=\"-166.66666666666666\" width=\"2.5\" height=\"41.667\" opacity=\"0.016949152542372885\" fill=\"currentColor\" stroke-width=\"0.1\"/>\n",
       "<rect x=\"32.5\" y=\"-166.66666666666666\" width=\"2.5\" height=\"41.667\" opacity=\"0.02966101694915249\" fill=\"currentColor\" stroke-width=\"0.1\"/>\n",
       "<rect x=\"35.0\" y=\"-166.66666666666666\" width=\"2.5\" height=\"41.667\" opacity=\"0.05084745762711874\" fill=\"currentColor\" stroke-width=\"0.1\"/>\n",
       "<rect x=\"37.5\" y=\"-166.66666666666666\" width=\"2.5\" height=\"41.667\" opacity=\"0.05508474576271186\" fill=\"currentColor\" stroke-width=\"0.1\"/>\n",
       "<rect x=\"40.0\" y=\"-166.66666666666666\" width=\"2.5\" height=\"41.667\" opacity=\"0.06779661016949154\" fill=\"currentColor\" stroke-width=\"0.1\"/>\n",
       "<rect x=\"42.5\" y=\"-166.66666666666666\" width=\"2.5\" height=\"41.667\" opacity=\"0.07627118644067798\" fill=\"currentColor\" stroke-width=\"0.1\"/>\n",
       "<rect x=\"45.0\" y=\"-166.66666666666666\" width=\"2.5\" height=\"41.667\" opacity=\"0.0805084745762712\" fill=\"currentColor\" stroke-width=\"0.1\"/>\n",
       "<rect x=\"47.5\" y=\"-166.66666666666666\" width=\"2.5\" height=\"41.667\" opacity=\"0.1016949152542373\" fill=\"currentColor\" stroke-width=\"0.1\"/>\n",
       "<rect x=\"50.0\" y=\"-166.66666666666666\" width=\"2.5\" height=\"41.667\" opacity=\"0.1483050847457627\" fill=\"currentColor\" stroke-width=\"0.1\"/>\n",
       "<rect x=\"52.5\" y=\"-166.66666666666666\" width=\"2.5\" height=\"41.667\" opacity=\"0.1398305084745763\" fill=\"currentColor\" stroke-width=\"0.1\"/>\n",
       "<rect x=\"55.0\" y=\"-166.66666666666666\" width=\"2.5\" height=\"41.667\" opacity=\"0.21610169491525424\" fill=\"currentColor\" stroke-width=\"0.1\"/>\n",
       "<rect x=\"57.5\" y=\"-166.66666666666666\" width=\"2.5\" height=\"41.667\" opacity=\"0.23305084745762714\" fill=\"currentColor\" stroke-width=\"0.1\"/>\n",
       "<rect x=\"60.0\" y=\"-166.66666666666666\" width=\"2.5\" height=\"41.667\" opacity=\"0.3389830508474576\" fill=\"currentColor\" stroke-width=\"0.1\"/>\n",
       "<rect x=\"62.5\" y=\"-166.66666666666666\" width=\"2.5\" height=\"41.667\" opacity=\"0.41525423728813565\" fill=\"currentColor\" stroke-width=\"0.1\"/>\n",
       "<rect x=\"65.0\" y=\"-166.66666666666666\" width=\"2.5\" height=\"41.667\" opacity=\"0.45762711864406785\" fill=\"currentColor\" stroke-width=\"0.1\"/>\n",
       "<rect x=\"67.5\" y=\"-166.66666666666666\" width=\"2.5\" height=\"41.667\" opacity=\"0.4449152542372866\" fill=\"currentColor\" stroke-width=\"0.1\"/>\n",
       "<rect x=\"70.0\" y=\"-166.66666666666666\" width=\"2.5\" height=\"41.667\" opacity=\"0.5381355932203429\" fill=\"currentColor\" stroke-width=\"0.1\"/>\n",
       "<rect x=\"72.5\" y=\"-166.66666666666666\" width=\"2.5\" height=\"41.667\" opacity=\"0.6355932203389809\" fill=\"currentColor\" stroke-width=\"0.1\"/>\n",
       "<rect x=\"75.0\" y=\"-166.66666666666666\" width=\"2.5\" height=\"41.667\" opacity=\"0.5423728813559323\" fill=\"currentColor\" stroke-width=\"0.1\"/>\n",
       "<rect x=\"77.5\" y=\"-166.66666666666666\" width=\"2.5\" height=\"41.667\" opacity=\"0.6059322033898306\" fill=\"currentColor\" stroke-width=\"0.1\"/>\n",
       "<rect x=\"80.0\" y=\"-166.66666666666666\" width=\"2.5\" height=\"41.667\" opacity=\"0.7076271186440679\" fill=\"currentColor\" stroke-width=\"0.1\"/>\n",
       "<rect x=\"82.5\" y=\"-166.66666666666666\" width=\"2.5\" height=\"41.667\" opacity=\"0.6864406779661018\" fill=\"currentColor\" stroke-width=\"0.1\"/>\n",
       "<rect x=\"85.0\" y=\"-166.66666666666666\" width=\"2.5\" height=\"41.667\" opacity=\"0.7923728813559323\" fill=\"currentColor\" stroke-width=\"0.1\"/>\n",
       "<rect x=\"87.5\" y=\"-166.66666666666666\" width=\"2.5\" height=\"41.667\" opacity=\"0.7627118644067797\" fill=\"currentColor\" stroke-width=\"0.1\"/>\n",
       "<rect x=\"90.0\" y=\"-166.66666666666666\" width=\"2.5\" height=\"41.667\" opacity=\"0.8008474576271187\" fill=\"currentColor\" stroke-width=\"0.1\"/>\n",
       "<rect x=\"92.5\" y=\"-166.66666666666666\" width=\"2.5\" height=\"41.667\" opacity=\"0.9152542372881357\" fill=\"currentColor\" stroke-width=\"0.1\"/>\n",
       "<rect x=\"95.0\" y=\"-166.66666666666666\" width=\"2.5\" height=\"41.667\" opacity=\"0.7966101694915255\" fill=\"currentColor\" stroke-width=\"0.1\"/>\n",
       "<rect x=\"97.5\" y=\"-166.66666666666666\" width=\"2.5\" height=\"41.667\" opacity=\"0.8474576271186441\" fill=\"currentColor\" stroke-width=\"0.1\"/>\n",
       "<rect x=\"100.0\" y=\"-166.66666666666666\" width=\"2.5\" height=\"41.667\" opacity=\"0.8347457627118645\" fill=\"currentColor\" stroke-width=\"0.1\"/>\n",
       "<rect x=\"102.5\" y=\"-166.66666666666666\" width=\"2.5\" height=\"41.667\" opacity=\"0.7457627118644068\" fill=\"currentColor\" stroke-width=\"0.1\"/>\n",
       "<rect x=\"105.0\" y=\"-166.66666666666666\" width=\"2.5\" height=\"41.667\" opacity=\"0.8305084745762713\" fill=\"currentColor\" stroke-width=\"0.1\"/>\n",
       "<rect x=\"107.5\" y=\"-166.66666666666666\" width=\"2.5\" height=\"41.667\" opacity=\"0.8050847457627119\" fill=\"currentColor\" stroke-width=\"0.1\"/>\n",
       "<rect x=\"110.0\" y=\"-166.66666666666666\" width=\"2.5\" height=\"41.667\" opacity=\"0.8432203389830509\" fill=\"currentColor\" stroke-width=\"0.1\"/>\n",
       "<rect x=\"112.5\" y=\"-166.66666666666666\" width=\"2.5\" height=\"41.667\" opacity=\"0.673728813559322\" fill=\"currentColor\" stroke-width=\"0.1\"/>\n",
       "<rect x=\"115.0\" y=\"-166.66666666666666\" width=\"2.5\" height=\"41.667\" opacity=\"0.6313559322033899\" fill=\"currentColor\" stroke-width=\"0.1\"/>\n",
       "<rect x=\"117.5\" y=\"-166.66666666666666\" width=\"2.5\" height=\"41.667\" opacity=\"0.6440677966101696\" fill=\"currentColor\" stroke-width=\"0.1\"/>\n",
       "<rect x=\"120.0\" y=\"-166.66666666666666\" width=\"2.5\" height=\"41.667\" opacity=\"0.5381355932203391\" fill=\"currentColor\" stroke-width=\"0.1\"/>\n",
       "<rect x=\"122.5\" y=\"-166.66666666666666\" width=\"2.5\" height=\"41.667\" opacity=\"0.4745762711864407\" fill=\"currentColor\" stroke-width=\"0.1\"/>\n",
       "<rect x=\"125.0\" y=\"-166.66666666666666\" width=\"2.5\" height=\"41.667\" opacity=\"0.3898305084745763\" fill=\"currentColor\" stroke-width=\"0.1\"/>\n",
       "<rect x=\"127.5\" y=\"-166.66666666666666\" width=\"2.5\" height=\"41.667\" opacity=\"0.41949152542372886\" fill=\"currentColor\" stroke-width=\"0.1\"/>\n",
       "<rect x=\"130.0\" y=\"-166.66666666666666\" width=\"2.5\" height=\"41.667\" opacity=\"0.31779661016949157\" fill=\"currentColor\" stroke-width=\"0.1\"/>\n",
       "<rect x=\"132.5\" y=\"-166.66666666666666\" width=\"2.5\" height=\"41.667\" opacity=\"0.37711864406779666\" fill=\"currentColor\" stroke-width=\"0.1\"/>\n",
       "<rect x=\"135.0\" y=\"-166.66666666666666\" width=\"2.5\" height=\"41.667\" opacity=\"0.3050847457627097\" fill=\"currentColor\" stroke-width=\"0.1\"/>\n",
       "<rect x=\"137.5\" y=\"-166.66666666666666\" width=\"2.5\" height=\"41.667\" opacity=\"0.21186440677966104\" fill=\"currentColor\" stroke-width=\"0.1\"/>\n",
       "<rect x=\"140.0\" y=\"-166.66666666666666\" width=\"2.5\" height=\"41.667\" opacity=\"0.19491525423729092\" fill=\"currentColor\" stroke-width=\"0.1\"/>\n",
       "<rect x=\"142.5\" y=\"-166.66666666666666\" width=\"2.5\" height=\"41.667\" opacity=\"0.1271186440677966\" fill=\"currentColor\" stroke-width=\"0.1\"/>\n",
       "<rect x=\"145.0\" y=\"-166.66666666666666\" width=\"2.5\" height=\"41.667\" opacity=\"0.11864406779660934\" fill=\"currentColor\" stroke-width=\"0.1\"/>\n",
       "<rect x=\"147.5\" y=\"-166.66666666666666\" width=\"2.5\" height=\"41.667\" opacity=\"0.09745762711864407\" fill=\"currentColor\" stroke-width=\"0.1\"/>\n",
       "<rect x=\"150.0\" y=\"-166.66666666666666\" width=\"2.5\" height=\"41.667\" opacity=\"0.06779661016949154\" fill=\"currentColor\" stroke-width=\"0.1\"/>\n",
       "<rect x=\"152.5\" y=\"-166.66666666666666\" width=\"2.5\" height=\"41.667\" opacity=\"0.05084745762711865\" fill=\"currentColor\" stroke-width=\"0.1\"/>\n",
       "<rect x=\"155.0\" y=\"-166.66666666666666\" width=\"2.5\" height=\"41.667\" opacity=\"0.05084745762711865\" fill=\"currentColor\" stroke-width=\"0.1\"/>\n",
       "<rect x=\"157.5\" y=\"-166.66666666666666\" width=\"2.5\" height=\"41.667\" opacity=\"0.025423728813559324\" fill=\"currentColor\" stroke-width=\"0.1\"/>\n",
       "<rect x=\"160.0\" y=\"-166.66666666666666\" width=\"2.5\" height=\"41.667\" opacity=\"0.029661016949152543\" fill=\"currentColor\" stroke-width=\"0.1\"/>\n",
       "<rect x=\"162.5\" y=\"-166.66666666666666\" width=\"2.5\" height=\"41.667\" opacity=\"0.03813559322033899\" fill=\"currentColor\" stroke-width=\"0.1\"/>\n",
       "<rect x=\"165.0\" y=\"-166.66666666666666\" width=\"2.5\" height=\"41.667\" opacity=\"0.016949152542372885\" fill=\"currentColor\" stroke-width=\"0.1\"/>\n",
       "<rect x=\"167.5\" y=\"-166.66666666666666\" width=\"2.5\" height=\"41.667\" opacity=\"0.016949152542372885\" fill=\"currentColor\" stroke-width=\"0.1\"/>\n",
       "<rect x=\"170.0\" y=\"-166.66666666666666\" width=\"2.5\" height=\"41.667\" opacity=\"0.008474576271186442\" fill=\"currentColor\" stroke-width=\"0.1\"/>\n",
       "<rect x=\"172.5\" y=\"-166.66666666666666\" width=\"2.5\" height=\"41.667\" opacity=\"0.008474576271186442\" fill=\"currentColor\" stroke-width=\"0.1\"/>\n",
       "<rect x=\"175.0\" y=\"-166.66666666666666\" width=\"2.5\" height=\"41.667\" opacity=\"0.004237288135593221\" fill=\"currentColor\" stroke-width=\"0.1\"/>\n",
       "<rect x=\"177.5\" y=\"-166.66666666666666\" width=\"2.5\" height=\"41.667\" opacity=\"0.0\" fill=\"currentColor\" stroke-width=\"0.1\"/>\n",
       "<rect x=\"180.0\" y=\"-166.66666666666666\" width=\"2.5\" height=\"41.667\" opacity=\"0.0\" fill=\"currentColor\" stroke-width=\"0.1\"/>\n",
       "<rect x=\"182.5\" y=\"-166.66666666666666\" width=\"2.5\" height=\"41.667\" opacity=\"0.0\" fill=\"currentColor\" stroke-width=\"0.1\"/>\n",
       "<rect x=\"185.0\" y=\"-166.66666666666666\" width=\"2.5\" height=\"41.667\" opacity=\"0.0\" fill=\"currentColor\" stroke-width=\"0.1\"/>\n",
       "<rect x=\"187.5\" y=\"-166.66666666666666\" width=\"2.5\" height=\"41.667\" opacity=\"0.0\" fill=\"currentColor\" stroke-width=\"0.1\"/>\n",
       "<rect x=\"190.0\" y=\"-166.66666666666666\" width=\"2.5\" height=\"41.667\" opacity=\"0.0\" fill=\"currentColor\" stroke-width=\"0.1\"/>\n",
       "<rect x=\"192.5\" y=\"-166.66666666666666\" width=\"2.5\" height=\"41.667\" opacity=\"0.004237288135593221\" fill=\"currentColor\" stroke-width=\"0.1\"/>\n",
       "<rect x=\"195.0\" y=\"-166.66666666666666\" width=\"2.5\" height=\"41.667\" opacity=\"0.0\" fill=\"currentColor\" stroke-width=\"0.1\"/>\n",
       "<rect x=\"197.5\" y=\"-166.66666666666666\" width=\"2.5\" height=\"41.667\" opacity=\"0.0\" fill=\"currentColor\" stroke-width=\"0.1\"/>\n",
       "<rect x=\"200.0\" y=\"-166.66666666666666\" width=\"2.5\" height=\"41.667\" opacity=\"0.0\" fill=\"currentColor\" stroke-width=\"0.1\"/>\n",
       "<rect x=\"202.5\" y=\"-166.66666666666666\" width=\"2.5\" height=\"41.667\" opacity=\"0.0\" fill=\"currentColor\" stroke-width=\"0.1\"/>\n",
       "<rect x=\"205.0\" y=\"-166.66666666666666\" width=\"2.5\" height=\"41.667\" opacity=\"0.0\" fill=\"currentColor\" stroke-width=\"0.1\"/>\n",
       "<rect x=\"207.5\" y=\"-166.66666666666666\" width=\"2.5\" height=\"41.667\" opacity=\"0.0\" fill=\"currentColor\" stroke-width=\"0.1\"/>\n",
       "<rect x=\"210.0\" y=\"-166.66666666666666\" width=\"2.5\" height=\"41.667\" opacity=\"0.0\" fill=\"currentColor\" stroke-width=\"0.1\"/>\n",
       "<rect x=\"212.5\" y=\"-166.66666666666666\" width=\"2.5\" height=\"41.667\" opacity=\"0.0\" fill=\"currentColor\" stroke-width=\"0.1\"/>\n",
       "<rect x=\"215.0\" y=\"-166.66666666666666\" width=\"2.5\" height=\"41.667\" opacity=\"0.0\" fill=\"currentColor\" stroke-width=\"0.1\"/>\n",
       "<rect x=\"217.5\" y=\"-166.66666666666666\" width=\"2.5\" height=\"41.667\" opacity=\"0.0\" fill=\"currentColor\" stroke-width=\"0.1\"/>\n",
       "<rect x=\"220.0\" y=\"-166.66666666666666\" width=\"2.5\" height=\"41.667\" opacity=\"0.0\" fill=\"currentColor\" stroke-width=\"0.1\"/>\n",
       "<rect x=\"222.5\" y=\"-166.66666666666666\" width=\"2.5\" height=\"41.667\" opacity=\"0.0\" fill=\"currentColor\" stroke-width=\"0.1\"/>\n",
       "<rect x=\"225.0\" y=\"-166.66666666666666\" width=\"2.5\" height=\"41.667\" opacity=\"0.0\" fill=\"currentColor\" stroke-width=\"0.1\"/>\n",
       "<rect x=\"227.5\" y=\"-166.66666666666666\" width=\"2.5\" height=\"41.667\" opacity=\"0.0\" fill=\"currentColor\" stroke-width=\"0.1\"/>\n",
       "<rect x=\"230.0\" y=\"-166.66666666666666\" width=\"2.5\" height=\"41.667\" opacity=\"0.0\" fill=\"currentColor\" stroke-width=\"0.1\"/>\n",
       "<rect x=\"232.5\" y=\"-166.66666666666666\" width=\"2.5\" height=\"41.667\" opacity=\"0.0\" fill=\"currentColor\" stroke-width=\"0.1\"/>\n",
       "<rect x=\"235.0\" y=\"-166.66666666666666\" width=\"2.5\" height=\"41.667\" opacity=\"0.0\" fill=\"currentColor\" stroke-width=\"0.1\"/>\n",
       "<rect x=\"237.5\" y=\"-166.66666666666666\" width=\"2.5\" height=\"41.667\" opacity=\"0.0\" fill=\"currentColor\" stroke-width=\"0.1\"/>\n",
       "<rect x=\"240.0\" y=\"-166.66666666666666\" width=\"2.5\" height=\"41.667\" opacity=\"0.0\" fill=\"currentColor\" stroke-width=\"0.1\"/>\n",
       "<rect x=\"242.5\" y=\"-166.66666666666666\" width=\"2.5\" height=\"41.667\" opacity=\"0.0\" fill=\"currentColor\" stroke-width=\"0.1\"/>\n",
       "<rect x=\"245.0\" y=\"-166.66666666666666\" width=\"2.5\" height=\"41.667\" opacity=\"0.0\" fill=\"currentColor\" stroke-width=\"0.1\"/>\n",
       "<rect x=\"247.5\" y=\"-166.66666666666666\" width=\"2.5\" height=\"41.667\" opacity=\"0.0\" fill=\"currentColor\" stroke-width=\"0.1\"/>\n",
       "<rect x=\"0.0\" y=\"-208.33333333333334\" width=\"2.5\" height=\"41.667\" opacity=\"0.0\" fill=\"currentColor\" stroke-width=\"0.1\"/>\n",
       "<rect x=\"2.5\" y=\"-208.33333333333334\" width=\"2.5\" height=\"41.667\" opacity=\"0.0\" fill=\"currentColor\" stroke-width=\"0.1\"/>\n",
       "<rect x=\"5.0\" y=\"-208.33333333333334\" width=\"2.5\" height=\"41.667\" opacity=\"0.0\" fill=\"currentColor\" stroke-width=\"0.1\"/>\n",
       "<rect x=\"7.5\" y=\"-208.33333333333334\" width=\"2.5\" height=\"41.667\" opacity=\"0.0\" fill=\"currentColor\" stroke-width=\"0.1\"/>\n",
       "<rect x=\"10.0\" y=\"-208.33333333333334\" width=\"2.5\" height=\"41.667\" opacity=\"0.0\" fill=\"currentColor\" stroke-width=\"0.1\"/>\n",
       "<rect x=\"12.5\" y=\"-208.33333333333334\" width=\"2.5\" height=\"41.667\" opacity=\"0.0\" fill=\"currentColor\" stroke-width=\"0.1\"/>\n",
       "<rect x=\"15.0\" y=\"-208.33333333333334\" width=\"2.5\" height=\"41.667\" opacity=\"0.0\" fill=\"currentColor\" stroke-width=\"0.1\"/>\n",
       "<rect x=\"17.5\" y=\"-208.33333333333334\" width=\"2.5\" height=\"41.667\" opacity=\"0.0\" fill=\"currentColor\" stroke-width=\"0.1\"/>\n",
       "<rect x=\"20.0\" y=\"-208.33333333333334\" width=\"2.5\" height=\"41.667\" opacity=\"0.0\" fill=\"currentColor\" stroke-width=\"0.1\"/>\n",
       "<rect x=\"22.5\" y=\"-208.33333333333334\" width=\"2.5\" height=\"41.667\" opacity=\"0.0\" fill=\"currentColor\" stroke-width=\"0.1\"/>\n",
       "<rect x=\"25.0\" y=\"-208.33333333333334\" width=\"2.5\" height=\"41.667\" opacity=\"0.0\" fill=\"currentColor\" stroke-width=\"0.1\"/>\n",
       "<rect x=\"27.5\" y=\"-208.33333333333334\" width=\"2.5\" height=\"41.667\" opacity=\"0.004237288135593221\" fill=\"currentColor\" stroke-width=\"0.1\"/>\n",
       "<rect x=\"30.0\" y=\"-208.33333333333334\" width=\"2.5\" height=\"41.667\" opacity=\"0.0\" fill=\"currentColor\" stroke-width=\"0.1\"/>\n",
       "<rect x=\"32.5\" y=\"-208.33333333333334\" width=\"2.5\" height=\"41.667\" opacity=\"0.0\" fill=\"currentColor\" stroke-width=\"0.1\"/>\n",
       "<rect x=\"35.0\" y=\"-208.33333333333334\" width=\"2.5\" height=\"41.667\" opacity=\"0.0\" fill=\"currentColor\" stroke-width=\"0.1\"/>\n",
       "<rect x=\"37.5\" y=\"-208.33333333333334\" width=\"2.5\" height=\"41.667\" opacity=\"0.0\" fill=\"currentColor\" stroke-width=\"0.1\"/>\n",
       "<rect x=\"40.0\" y=\"-208.33333333333334\" width=\"2.5\" height=\"41.667\" opacity=\"0.0\" fill=\"currentColor\" stroke-width=\"0.1\"/>\n",
       "<rect x=\"42.5\" y=\"-208.33333333333334\" width=\"2.5\" height=\"41.667\" opacity=\"0.0\" fill=\"currentColor\" stroke-width=\"0.1\"/>\n",
       "<rect x=\"45.0\" y=\"-208.33333333333334\" width=\"2.5\" height=\"41.667\" opacity=\"0.0\" fill=\"currentColor\" stroke-width=\"0.1\"/>\n",
       "<rect x=\"47.5\" y=\"-208.33333333333334\" width=\"2.5\" height=\"41.667\" opacity=\"0.004237288135593221\" fill=\"currentColor\" stroke-width=\"0.1\"/>\n",
       "<rect x=\"50.0\" y=\"-208.33333333333334\" width=\"2.5\" height=\"41.667\" opacity=\"0.0\" fill=\"currentColor\" stroke-width=\"0.1\"/>\n",
       "<rect x=\"52.5\" y=\"-208.33333333333334\" width=\"2.5\" height=\"41.667\" opacity=\"0.0\" fill=\"currentColor\" stroke-width=\"0.1\"/>\n",
       "<rect x=\"55.0\" y=\"-208.33333333333334\" width=\"2.5\" height=\"41.667\" opacity=\"0.008474576271186442\" fill=\"currentColor\" stroke-width=\"0.1\"/>\n",
       "<rect x=\"57.5\" y=\"-208.33333333333334\" width=\"2.5\" height=\"41.667\" opacity=\"0.008474576271186442\" fill=\"currentColor\" stroke-width=\"0.1\"/>\n",
       "<rect x=\"60.0\" y=\"-208.33333333333334\" width=\"2.5\" height=\"41.667\" opacity=\"0.0211864406779661\" fill=\"currentColor\" stroke-width=\"0.1\"/>\n",
       "<rect x=\"62.5\" y=\"-208.33333333333334\" width=\"2.5\" height=\"41.667\" opacity=\"0.016949152542372885\" fill=\"currentColor\" stroke-width=\"0.1\"/>\n",
       "<rect x=\"65.0\" y=\"-208.33333333333334\" width=\"2.5\" height=\"41.667\" opacity=\"0.016949152542372885\" fill=\"currentColor\" stroke-width=\"0.1\"/>\n",
       "<rect x=\"67.5\" y=\"-208.33333333333334\" width=\"2.5\" height=\"41.667\" opacity=\"0.02118644067796603\" fill=\"currentColor\" stroke-width=\"0.1\"/>\n",
       "<rect x=\"70.0\" y=\"-208.33333333333334\" width=\"2.5\" height=\"41.667\" opacity=\"0.029661016949152758\" fill=\"currentColor\" stroke-width=\"0.1\"/>\n",
       "<rect x=\"72.5\" y=\"-208.33333333333334\" width=\"2.5\" height=\"41.667\" opacity=\"0.029661016949152443\" fill=\"currentColor\" stroke-width=\"0.1\"/>\n",
       "<rect x=\"75.0\" y=\"-208.33333333333334\" width=\"2.5\" height=\"41.667\" opacity=\"0.03813559322033899\" fill=\"currentColor\" stroke-width=\"0.1\"/>\n",
       "<rect x=\"77.5\" y=\"-208.33333333333334\" width=\"2.5\" height=\"41.667\" opacity=\"0.05508474576271186\" fill=\"currentColor\" stroke-width=\"0.1\"/>\n",
       "<rect x=\"80.0\" y=\"-208.33333333333334\" width=\"2.5\" height=\"41.667\" opacity=\"0.0635593220338983\" fill=\"currentColor\" stroke-width=\"0.1\"/>\n",
       "<rect x=\"82.5\" y=\"-208.33333333333334\" width=\"2.5\" height=\"41.667\" opacity=\"0.0805084745762712\" fill=\"currentColor\" stroke-width=\"0.1\"/>\n",
       "<rect x=\"85.0\" y=\"-208.33333333333334\" width=\"2.5\" height=\"41.667\" opacity=\"0.08898305084745764\" fill=\"currentColor\" stroke-width=\"0.1\"/>\n",
       "<rect x=\"87.5\" y=\"-208.33333333333334\" width=\"2.5\" height=\"41.667\" opacity=\"0.17372881355932204\" fill=\"currentColor\" stroke-width=\"0.1\"/>\n",
       "<rect x=\"90.0\" y=\"-208.33333333333334\" width=\"2.5\" height=\"41.667\" opacity=\"0.15254237288135597\" fill=\"currentColor\" stroke-width=\"0.1\"/>\n",
       "<rect x=\"92.5\" y=\"-208.33333333333334\" width=\"2.5\" height=\"41.667\" opacity=\"0.22033898305084745\" fill=\"currentColor\" stroke-width=\"0.1\"/>\n",
       "<rect x=\"95.0\" y=\"-208.33333333333334\" width=\"2.5\" height=\"41.667\" opacity=\"0.21186440677966104\" fill=\"currentColor\" stroke-width=\"0.1\"/>\n",
       "<rect x=\"97.5\" y=\"-208.33333333333334\" width=\"2.5\" height=\"41.667\" opacity=\"0.2584745762711865\" fill=\"currentColor\" stroke-width=\"0.1\"/>\n",
       "<rect x=\"100.0\" y=\"-208.33333333333334\" width=\"2.5\" height=\"41.667\" opacity=\"0.2669491525423729\" fill=\"currentColor\" stroke-width=\"0.1\"/>\n",
       "<rect x=\"102.5\" y=\"-208.33333333333334\" width=\"2.5\" height=\"41.667\" opacity=\"0.3347457627118644\" fill=\"currentColor\" stroke-width=\"0.1\"/>\n",
       "<rect x=\"105.0\" y=\"-208.33333333333334\" width=\"2.5\" height=\"41.667\" opacity=\"0.3898305084745763\" fill=\"currentColor\" stroke-width=\"0.1\"/>\n",
       "<rect x=\"107.5\" y=\"-208.33333333333334\" width=\"2.5\" height=\"41.667\" opacity=\"0.31355932203389836\" fill=\"currentColor\" stroke-width=\"0.1\"/>\n",
       "<rect x=\"110.0\" y=\"-208.33333333333334\" width=\"2.5\" height=\"41.667\" opacity=\"0.5127118644067797\" fill=\"currentColor\" stroke-width=\"0.1\"/>\n",
       "<rect x=\"112.5\" y=\"-208.33333333333334\" width=\"2.5\" height=\"41.667\" opacity=\"0.5254237288135594\" fill=\"currentColor\" stroke-width=\"0.1\"/>\n",
       "<rect x=\"115.0\" y=\"-208.33333333333334\" width=\"2.5\" height=\"41.667\" opacity=\"0.6186440677966103\" fill=\"currentColor\" stroke-width=\"0.1\"/>\n",
       "<rect x=\"117.5\" y=\"-208.33333333333334\" width=\"2.5\" height=\"41.667\" opacity=\"0.673728813559322\" fill=\"currentColor\" stroke-width=\"0.1\"/>\n",
       "<rect x=\"120.0\" y=\"-208.33333333333334\" width=\"2.5\" height=\"41.667\" opacity=\"0.6864406779661018\" fill=\"currentColor\" stroke-width=\"0.1\"/>\n",
       "<rect x=\"122.5\" y=\"-208.33333333333334\" width=\"2.5\" height=\"41.667\" opacity=\"0.8728813559322034\" fill=\"currentColor\" stroke-width=\"0.1\"/>\n",
       "<rect x=\"125.0\" y=\"-208.33333333333334\" width=\"2.5\" height=\"41.667\" opacity=\"0.864406779661017\" fill=\"currentColor\" stroke-width=\"0.1\"/>\n",
       "<rect x=\"127.5\" y=\"-208.33333333333334\" width=\"2.5\" height=\"41.667\" opacity=\"0.6483050847457628\" fill=\"currentColor\" stroke-width=\"0.1\"/>\n",
       "<rect x=\"130.0\" y=\"-208.33333333333334\" width=\"2.5\" height=\"41.667\" opacity=\"0.7372881355932204\" fill=\"currentColor\" stroke-width=\"0.1\"/>\n",
       "<rect x=\"132.5\" y=\"-208.33333333333334\" width=\"2.5\" height=\"41.667\" opacity=\"0.8177966101694916\" fill=\"currentColor\" stroke-width=\"0.1\"/>\n",
       "<rect x=\"135.0\" y=\"-208.33333333333334\" width=\"2.5\" height=\"41.667\" opacity=\"0.847457627118638\" fill=\"currentColor\" stroke-width=\"0.1\"/>\n",
       "<rect x=\"137.5\" y=\"-208.33333333333334\" width=\"2.5\" height=\"41.667\" opacity=\"0.8008474576271187\" fill=\"currentColor\" stroke-width=\"0.1\"/>\n",
       "<rect x=\"140.0\" y=\"-208.33333333333334\" width=\"2.5\" height=\"41.667\" opacity=\"0.7881355932203502\" fill=\"currentColor\" stroke-width=\"0.1\"/>\n",
       "<rect x=\"142.5\" y=\"-208.33333333333334\" width=\"2.5\" height=\"41.667\" opacity=\"0.8559322033898306\" fill=\"currentColor\" stroke-width=\"0.1\"/>\n",
       "<rect x=\"145.0\" y=\"-208.33333333333334\" width=\"2.5\" height=\"41.667\" opacity=\"0.8347457627118585\" fill=\"currentColor\" stroke-width=\"0.1\"/>\n",
       "<rect x=\"147.5\" y=\"-208.33333333333334\" width=\"2.5\" height=\"41.667\" opacity=\"0.8050847457627119\" fill=\"currentColor\" stroke-width=\"0.1\"/>\n",
       "<rect x=\"150.0\" y=\"-208.33333333333334\" width=\"2.5\" height=\"41.667\" opacity=\"0.7203389830508475\" fill=\"currentColor\" stroke-width=\"0.1\"/>\n",
       "<rect x=\"152.5\" y=\"-208.33333333333334\" width=\"2.5\" height=\"41.667\" opacity=\"0.7627118644067797\" fill=\"currentColor\" stroke-width=\"0.1\"/>\n",
       "<rect x=\"155.0\" y=\"-208.33333333333334\" width=\"2.5\" height=\"41.667\" opacity=\"0.6694915254237288\" fill=\"currentColor\" stroke-width=\"0.1\"/>\n",
       "<rect x=\"157.5\" y=\"-208.33333333333334\" width=\"2.5\" height=\"41.667\" opacity=\"0.6822033898305085\" fill=\"currentColor\" stroke-width=\"0.1\"/>\n",
       "<rect x=\"160.0\" y=\"-208.33333333333334\" width=\"2.5\" height=\"41.667\" opacity=\"0.5677966101694916\" fill=\"currentColor\" stroke-width=\"0.1\"/>\n",
       "<rect x=\"162.5\" y=\"-208.33333333333334\" width=\"2.5\" height=\"41.667\" opacity=\"0.5466101694915255\" fill=\"currentColor\" stroke-width=\"0.1\"/>\n",
       "<rect x=\"165.0\" y=\"-208.33333333333334\" width=\"2.5\" height=\"41.667\" opacity=\"0.41949152542372886\" fill=\"currentColor\" stroke-width=\"0.1\"/>\n",
       "<rect x=\"167.5\" y=\"-208.33333333333334\" width=\"2.5\" height=\"41.667\" opacity=\"0.3686440677966102\" fill=\"currentColor\" stroke-width=\"0.1\"/>\n",
       "<rect x=\"170.0\" y=\"-208.33333333333334\" width=\"2.5\" height=\"41.667\" opacity=\"0.3432203389830509\" fill=\"currentColor\" stroke-width=\"0.1\"/>\n",
       "<rect x=\"172.5\" y=\"-208.33333333333334\" width=\"2.5\" height=\"41.667\" opacity=\"0.30932203389830515\" fill=\"currentColor\" stroke-width=\"0.1\"/>\n",
       "<rect x=\"175.0\" y=\"-208.33333333333334\" width=\"2.5\" height=\"41.667\" opacity=\"0.2542372881355932\" fill=\"currentColor\" stroke-width=\"0.1\"/>\n",
       "<rect x=\"177.5\" y=\"-208.33333333333334\" width=\"2.5\" height=\"41.667\" opacity=\"0.19491525423728814\" fill=\"currentColor\" stroke-width=\"0.1\"/>\n",
       "<rect x=\"180.0\" y=\"-208.33333333333334\" width=\"2.5\" height=\"41.667\" opacity=\"0.19067796610169493\" fill=\"currentColor\" stroke-width=\"0.1\"/>\n",
       "<rect x=\"182.5\" y=\"-208.33333333333334\" width=\"2.5\" height=\"41.667\" opacity=\"0.1440677966101695\" fill=\"currentColor\" stroke-width=\"0.1\"/>\n",
       "<rect x=\"185.0\" y=\"-208.33333333333334\" width=\"2.5\" height=\"41.667\" opacity=\"0.1398305084745763\" fill=\"currentColor\" stroke-width=\"0.1\"/>\n",
       "<rect x=\"187.5\" y=\"-208.33333333333334\" width=\"2.5\" height=\"41.667\" opacity=\"0.15254237288135597\" fill=\"currentColor\" stroke-width=\"0.1\"/>\n",
       "<rect x=\"190.0\" y=\"-208.33333333333334\" width=\"2.5\" height=\"41.667\" opacity=\"0.07627118644067798\" fill=\"currentColor\" stroke-width=\"0.1\"/>\n",
       "<rect x=\"192.5\" y=\"-208.33333333333334\" width=\"2.5\" height=\"41.667\" opacity=\"0.05084745762711865\" fill=\"currentColor\" stroke-width=\"0.1\"/>\n",
       "<rect x=\"195.0\" y=\"-208.33333333333334\" width=\"2.5\" height=\"41.667\" opacity=\"0.03389830508474577\" fill=\"currentColor\" stroke-width=\"0.1\"/>\n",
       "<rect x=\"197.5\" y=\"-208.33333333333334\" width=\"2.5\" height=\"41.667\" opacity=\"0.046610169491525424\" fill=\"currentColor\" stroke-width=\"0.1\"/>\n",
       "<rect x=\"200.0\" y=\"-208.33333333333334\" width=\"2.5\" height=\"41.667\" opacity=\"0.046610169491525424\" fill=\"currentColor\" stroke-width=\"0.1\"/>\n",
       "<rect x=\"202.5\" y=\"-208.33333333333334\" width=\"2.5\" height=\"41.667\" opacity=\"0.016949152542372885\" fill=\"currentColor\" stroke-width=\"0.1\"/>\n",
       "<rect x=\"205.0\" y=\"-208.33333333333334\" width=\"2.5\" height=\"41.667\" opacity=\"0.012711864406779662\" fill=\"currentColor\" stroke-width=\"0.1\"/>\n",
       "<rect x=\"207.5\" y=\"-208.33333333333334\" width=\"2.5\" height=\"41.667\" opacity=\"0.016949152542372885\" fill=\"currentColor\" stroke-width=\"0.1\"/>\n",
       "<rect x=\"210.0\" y=\"-208.33333333333334\" width=\"2.5\" height=\"41.667\" opacity=\"0.0211864406779661\" fill=\"currentColor\" stroke-width=\"0.1\"/>\n",
       "<rect x=\"212.5\" y=\"-208.33333333333334\" width=\"2.5\" height=\"41.667\" opacity=\"0.0\" fill=\"currentColor\" stroke-width=\"0.1\"/>\n",
       "<rect x=\"215.0\" y=\"-208.33333333333334\" width=\"2.5\" height=\"41.667\" opacity=\"0.0\" fill=\"currentColor\" stroke-width=\"0.1\"/>\n",
       "<rect x=\"217.5\" y=\"-208.33333333333334\" width=\"2.5\" height=\"41.667\" opacity=\"0.008474576271186442\" fill=\"currentColor\" stroke-width=\"0.1\"/>\n",
       "<rect x=\"220.0\" y=\"-208.33333333333334\" width=\"2.5\" height=\"41.667\" opacity=\"0.0\" fill=\"currentColor\" stroke-width=\"0.1\"/>\n",
       "<rect x=\"222.5\" y=\"-208.33333333333334\" width=\"2.5\" height=\"41.667\" opacity=\"0.004237288135593221\" fill=\"currentColor\" stroke-width=\"0.1\"/>\n",
       "<rect x=\"225.0\" y=\"-208.33333333333334\" width=\"2.5\" height=\"41.667\" opacity=\"0.0\" fill=\"currentColor\" stroke-width=\"0.1\"/>\n",
       "<rect x=\"227.5\" y=\"-208.33333333333334\" width=\"2.5\" height=\"41.667\" opacity=\"0.0\" fill=\"currentColor\" stroke-width=\"0.1\"/>\n",
       "<rect x=\"230.0\" y=\"-208.33333333333334\" width=\"2.5\" height=\"41.667\" opacity=\"0.0\" fill=\"currentColor\" stroke-width=\"0.1\"/>\n",
       "<rect x=\"232.5\" y=\"-208.33333333333334\" width=\"2.5\" height=\"41.667\" opacity=\"0.0\" fill=\"currentColor\" stroke-width=\"0.1\"/>\n",
       "<rect x=\"235.0\" y=\"-208.33333333333334\" width=\"2.5\" height=\"41.667\" opacity=\"0.0\" fill=\"currentColor\" stroke-width=\"0.1\"/>\n",
       "<rect x=\"237.5\" y=\"-208.33333333333334\" width=\"2.5\" height=\"41.667\" opacity=\"0.0\" fill=\"currentColor\" stroke-width=\"0.1\"/>\n",
       "<rect x=\"240.0\" y=\"-208.33333333333334\" width=\"2.5\" height=\"41.667\" opacity=\"0.0\" fill=\"currentColor\" stroke-width=\"0.1\"/>\n",
       "<rect x=\"242.5\" y=\"-208.33333333333334\" width=\"2.5\" height=\"41.667\" opacity=\"0.0\" fill=\"currentColor\" stroke-width=\"0.1\"/>\n",
       "<rect x=\"245.0\" y=\"-208.33333333333334\" width=\"2.5\" height=\"41.667\" opacity=\"0.0\" fill=\"currentColor\" stroke-width=\"0.1\"/>\n",
       "<rect x=\"247.5\" y=\"-208.33333333333334\" width=\"2.5\" height=\"41.667\" opacity=\"0.0\" fill=\"currentColor\" stroke-width=\"0.1\"/>\n",
       "<rect x=\"0.0\" y=\"-250.0\" width=\"2.5\" height=\"41.667\" opacity=\"0.0\" fill=\"currentColor\" stroke-width=\"0.1\"/>\n",
       "<rect x=\"2.5\" y=\"-250.0\" width=\"2.5\" height=\"41.667\" opacity=\"0.0\" fill=\"currentColor\" stroke-width=\"0.1\"/>\n",
       "<rect x=\"5.0\" y=\"-250.0\" width=\"2.5\" height=\"41.667\" opacity=\"0.0\" fill=\"currentColor\" stroke-width=\"0.1\"/>\n",
       "<rect x=\"7.5\" y=\"-250.0\" width=\"2.5\" height=\"41.667\" opacity=\"0.0\" fill=\"currentColor\" stroke-width=\"0.1\"/>\n",
       "<rect x=\"10.0\" y=\"-250.0\" width=\"2.5\" height=\"41.667\" opacity=\"0.0\" fill=\"currentColor\" stroke-width=\"0.1\"/>\n",
       "<rect x=\"12.5\" y=\"-250.0\" width=\"2.5\" height=\"41.667\" opacity=\"0.0\" fill=\"currentColor\" stroke-width=\"0.1\"/>\n",
       "<rect x=\"15.0\" y=\"-250.0\" width=\"2.5\" height=\"41.667\" opacity=\"0.0\" fill=\"currentColor\" stroke-width=\"0.1\"/>\n",
       "<rect x=\"17.5\" y=\"-250.0\" width=\"2.5\" height=\"41.667\" opacity=\"0.0\" fill=\"currentColor\" stroke-width=\"0.1\"/>\n",
       "<rect x=\"20.0\" y=\"-250.0\" width=\"2.5\" height=\"41.667\" opacity=\"0.0\" fill=\"currentColor\" stroke-width=\"0.1\"/>\n",
       "<rect x=\"22.5\" y=\"-250.0\" width=\"2.5\" height=\"41.667\" opacity=\"0.0\" fill=\"currentColor\" stroke-width=\"0.1\"/>\n",
       "<rect x=\"25.0\" y=\"-250.0\" width=\"2.5\" height=\"41.667\" opacity=\"0.0\" fill=\"currentColor\" stroke-width=\"0.1\"/>\n",
       "<rect x=\"27.5\" y=\"-250.0\" width=\"2.5\" height=\"41.667\" opacity=\"0.0\" fill=\"currentColor\" stroke-width=\"0.1\"/>\n",
       "<rect x=\"30.0\" y=\"-250.0\" width=\"2.5\" height=\"41.667\" opacity=\"0.0\" fill=\"currentColor\" stroke-width=\"0.1\"/>\n",
       "<rect x=\"32.5\" y=\"-250.0\" width=\"2.5\" height=\"41.667\" opacity=\"0.0\" fill=\"currentColor\" stroke-width=\"0.1\"/>\n",
       "<rect x=\"35.0\" y=\"-250.0\" width=\"2.5\" height=\"41.667\" opacity=\"0.0\" fill=\"currentColor\" stroke-width=\"0.1\"/>\n",
       "<rect x=\"37.5\" y=\"-250.0\" width=\"2.5\" height=\"41.667\" opacity=\"0.0\" fill=\"currentColor\" stroke-width=\"0.1\"/>\n",
       "<rect x=\"40.0\" y=\"-250.0\" width=\"2.5\" height=\"41.667\" opacity=\"0.0\" fill=\"currentColor\" stroke-width=\"0.1\"/>\n",
       "<rect x=\"42.5\" y=\"-250.0\" width=\"2.5\" height=\"41.667\" opacity=\"0.0\" fill=\"currentColor\" stroke-width=\"0.1\"/>\n",
       "<rect x=\"45.0\" y=\"-250.0\" width=\"2.5\" height=\"41.667\" opacity=\"0.0\" fill=\"currentColor\" stroke-width=\"0.1\"/>\n",
       "<rect x=\"47.5\" y=\"-250.0\" width=\"2.5\" height=\"41.667\" opacity=\"0.0\" fill=\"currentColor\" stroke-width=\"0.1\"/>\n",
       "<rect x=\"50.0\" y=\"-250.0\" width=\"2.5\" height=\"41.667\" opacity=\"0.004237288135593221\" fill=\"currentColor\" stroke-width=\"0.1\"/>\n",
       "<rect x=\"52.5\" y=\"-250.0\" width=\"2.5\" height=\"41.667\" opacity=\"0.004237288135593221\" fill=\"currentColor\" stroke-width=\"0.1\"/>\n",
       "<rect x=\"55.0\" y=\"-250.0\" width=\"2.5\" height=\"41.667\" opacity=\"0.0\" fill=\"currentColor\" stroke-width=\"0.1\"/>\n",
       "<rect x=\"57.5\" y=\"-250.0\" width=\"2.5\" height=\"41.667\" opacity=\"0.0\" fill=\"currentColor\" stroke-width=\"0.1\"/>\n",
       "<rect x=\"60.0\" y=\"-250.0\" width=\"2.5\" height=\"41.667\" opacity=\"0.0\" fill=\"currentColor\" stroke-width=\"0.1\"/>\n",
       "<rect x=\"62.5\" y=\"-250.0\" width=\"2.5\" height=\"41.667\" opacity=\"0.012711864406779662\" fill=\"currentColor\" stroke-width=\"0.1\"/>\n",
       "<rect x=\"65.0\" y=\"-250.0\" width=\"2.5\" height=\"41.667\" opacity=\"0.004237288135593221\" fill=\"currentColor\" stroke-width=\"0.1\"/>\n",
       "<rect x=\"67.5\" y=\"-250.0\" width=\"2.5\" height=\"41.667\" opacity=\"0.02118644067796603\" fill=\"currentColor\" stroke-width=\"0.1\"/>\n",
       "<rect x=\"70.0\" y=\"-250.0\" width=\"2.5\" height=\"41.667\" opacity=\"0.012711864406779754\" fill=\"currentColor\" stroke-width=\"0.1\"/>\n",
       "<rect x=\"72.5\" y=\"-250.0\" width=\"2.5\" height=\"41.667\" opacity=\"0.016949152542372826\" fill=\"currentColor\" stroke-width=\"0.1\"/>\n",
       "<rect x=\"75.0\" y=\"-250.0\" width=\"2.5\" height=\"41.667\" opacity=\"0.025423728813559324\" fill=\"currentColor\" stroke-width=\"0.1\"/>\n",
       "<rect x=\"77.5\" y=\"-250.0\" width=\"2.5\" height=\"41.667\" opacity=\"0.0211864406779661\" fill=\"currentColor\" stroke-width=\"0.1\"/>\n",
       "<rect x=\"80.0\" y=\"-250.0\" width=\"2.5\" height=\"41.667\" opacity=\"0.07203389830508475\" fill=\"currentColor\" stroke-width=\"0.1\"/>\n",
       "<rect x=\"82.5\" y=\"-250.0\" width=\"2.5\" height=\"41.667\" opacity=\"0.0635593220338983\" fill=\"currentColor\" stroke-width=\"0.1\"/>\n",
       "<rect x=\"85.0\" y=\"-250.0\" width=\"2.5\" height=\"41.667\" opacity=\"0.0847457627118644\" fill=\"currentColor\" stroke-width=\"0.1\"/>\n",
       "<rect x=\"87.5\" y=\"-250.0\" width=\"2.5\" height=\"41.667\" opacity=\"0.11016949152542373\" fill=\"currentColor\" stroke-width=\"0.1\"/>\n",
       "<rect x=\"90.0\" y=\"-250.0\" width=\"2.5\" height=\"41.667\" opacity=\"0.1440677966101695\" fill=\"currentColor\" stroke-width=\"0.1\"/>\n",
       "<rect x=\"92.5\" y=\"-250.0\" width=\"2.5\" height=\"41.667\" opacity=\"0.1398305084745763\" fill=\"currentColor\" stroke-width=\"0.1\"/>\n",
       "<rect x=\"95.0\" y=\"-250.0\" width=\"2.5\" height=\"41.667\" opacity=\"0.21610169491525424\" fill=\"currentColor\" stroke-width=\"0.1\"/>\n",
       "<rect x=\"97.5\" y=\"-250.0\" width=\"2.5\" height=\"41.667\" opacity=\"0.15677966101694918\" fill=\"currentColor\" stroke-width=\"0.1\"/>\n",
       "<rect x=\"100.0\" y=\"-250.0\" width=\"2.5\" height=\"41.667\" opacity=\"0.2627118644067797\" fill=\"currentColor\" stroke-width=\"0.1\"/>\n",
       "<rect x=\"102.5\" y=\"-250.0\" width=\"2.5\" height=\"41.667\" opacity=\"0.36016949152542377\" fill=\"currentColor\" stroke-width=\"0.1\"/>\n",
       "<rect x=\"105.0\" y=\"-250.0\" width=\"2.5\" height=\"41.667\" opacity=\"0.3220338983050848\" fill=\"currentColor\" stroke-width=\"0.1\"/>\n",
       "<rect x=\"107.5\" y=\"-250.0\" width=\"2.5\" height=\"41.667\" opacity=\"0.35169491525423735\" fill=\"currentColor\" stroke-width=\"0.1\"/>\n",
       "<rect x=\"110.0\" y=\"-250.0\" width=\"2.5\" height=\"41.667\" opacity=\"0.4788135593220339\" fill=\"currentColor\" stroke-width=\"0.1\"/>\n",
       "<rect x=\"112.5\" y=\"-250.0\" width=\"2.5\" height=\"41.667\" opacity=\"0.4406779661016949\" fill=\"currentColor\" stroke-width=\"0.1\"/>\n",
       "<rect x=\"115.0\" y=\"-250.0\" width=\"2.5\" height=\"41.667\" opacity=\"0.5805084745762712\" fill=\"currentColor\" stroke-width=\"0.1\"/>\n",
       "<rect x=\"117.5\" y=\"-250.0\" width=\"2.5\" height=\"41.667\" opacity=\"0.6144067796610171\" fill=\"currentColor\" stroke-width=\"0.1\"/>\n",
       "<rect x=\"120.0\" y=\"-250.0\" width=\"2.5\" height=\"41.667\" opacity=\"0.6567796610169492\" fill=\"currentColor\" stroke-width=\"0.1\"/>\n",
       "<rect x=\"122.5\" y=\"-250.0\" width=\"2.5\" height=\"41.667\" opacity=\"0.6271186440677967\" fill=\"currentColor\" stroke-width=\"0.1\"/>\n",
       "<rect x=\"125.0\" y=\"-250.0\" width=\"2.5\" height=\"41.667\" opacity=\"0.7076271186440679\" fill=\"currentColor\" stroke-width=\"0.1\"/>\n",
       "<rect x=\"127.5\" y=\"-250.0\" width=\"2.5\" height=\"41.667\" opacity=\"0.7584745762711865\" fill=\"currentColor\" stroke-width=\"0.1\"/>\n",
       "<rect x=\"130.0\" y=\"-250.0\" width=\"2.5\" height=\"41.667\" opacity=\"0.8432203389830509\" fill=\"currentColor\" stroke-width=\"0.1\"/>\n",
       "<rect x=\"132.5\" y=\"-250.0\" width=\"2.5\" height=\"41.667\" opacity=\"0.7711864406779662\" fill=\"currentColor\" stroke-width=\"0.1\"/>\n",
       "<rect x=\"135.0\" y=\"-250.0\" width=\"2.5\" height=\"41.667\" opacity=\"0.8135593220338926\" fill=\"currentColor\" stroke-width=\"0.1\"/>\n",
       "<rect x=\"137.5\" y=\"-250.0\" width=\"2.5\" height=\"41.667\" opacity=\"0.8559322033898306\" fill=\"currentColor\" stroke-width=\"0.1\"/>\n",
       "<rect x=\"140.0\" y=\"-250.0\" width=\"2.5\" height=\"41.667\" opacity=\"0.860169491525436\" fill=\"currentColor\" stroke-width=\"0.1\"/>\n",
       "<rect x=\"142.5\" y=\"-250.0\" width=\"2.5\" height=\"41.667\" opacity=\"1.0\" fill=\"currentColor\" stroke-width=\"0.1\"/>\n",
       "<rect x=\"145.0\" y=\"-250.0\" width=\"2.5\" height=\"41.667\" opacity=\"0.7881355932203333\" fill=\"currentColor\" stroke-width=\"0.1\"/>\n",
       "<rect x=\"147.5\" y=\"-250.0\" width=\"2.5\" height=\"41.667\" opacity=\"0.8050847457627119\" fill=\"currentColor\" stroke-width=\"0.1\"/>\n",
       "<rect x=\"150.0\" y=\"-250.0\" width=\"2.5\" height=\"41.667\" opacity=\"0.7033898305084747\" fill=\"currentColor\" stroke-width=\"0.1\"/>\n",
       "<rect x=\"152.5\" y=\"-250.0\" width=\"2.5\" height=\"41.667\" opacity=\"0.6991525423728815\" fill=\"currentColor\" stroke-width=\"0.1\"/>\n",
       "<rect x=\"155.0\" y=\"-250.0\" width=\"2.5\" height=\"41.667\" opacity=\"0.75\" fill=\"currentColor\" stroke-width=\"0.1\"/>\n",
       "<rect x=\"157.5\" y=\"-250.0\" width=\"2.5\" height=\"41.667\" opacity=\"0.5805084745762712\" fill=\"currentColor\" stroke-width=\"0.1\"/>\n",
       "<rect x=\"160.0\" y=\"-250.0\" width=\"2.5\" height=\"41.667\" opacity=\"0.597457627118644\" fill=\"currentColor\" stroke-width=\"0.1\"/>\n",
       "<rect x=\"162.5\" y=\"-250.0\" width=\"2.5\" height=\"41.667\" opacity=\"0.5635593220338984\" fill=\"currentColor\" stroke-width=\"0.1\"/>\n",
       "<rect x=\"165.0\" y=\"-250.0\" width=\"2.5\" height=\"41.667\" opacity=\"0.5254237288135594\" fill=\"currentColor\" stroke-width=\"0.1\"/>\n",
       "<rect x=\"167.5\" y=\"-250.0\" width=\"2.5\" height=\"41.667\" opacity=\"0.5296610169491526\" fill=\"currentColor\" stroke-width=\"0.1\"/>\n",
       "<rect x=\"170.0\" y=\"-250.0\" width=\"2.5\" height=\"41.667\" opacity=\"0.288135593220339\" fill=\"currentColor\" stroke-width=\"0.1\"/>\n",
       "<rect x=\"172.5\" y=\"-250.0\" width=\"2.5\" height=\"41.667\" opacity=\"0.3220338983050848\" fill=\"currentColor\" stroke-width=\"0.1\"/>\n",
       "<rect x=\"175.0\" y=\"-250.0\" width=\"2.5\" height=\"41.667\" opacity=\"0.2584745762711865\" fill=\"currentColor\" stroke-width=\"0.1\"/>\n",
       "<rect x=\"177.5\" y=\"-250.0\" width=\"2.5\" height=\"41.667\" opacity=\"0.19067796610169493\" fill=\"currentColor\" stroke-width=\"0.1\"/>\n",
       "<rect x=\"180.0\" y=\"-250.0\" width=\"2.5\" height=\"41.667\" opacity=\"0.25\" fill=\"currentColor\" stroke-width=\"0.1\"/>\n",
       "<rect x=\"182.5\" y=\"-250.0\" width=\"2.5\" height=\"41.667\" opacity=\"0.15254237288135597\" fill=\"currentColor\" stroke-width=\"0.1\"/>\n",
       "<rect x=\"185.0\" y=\"-250.0\" width=\"2.5\" height=\"41.667\" opacity=\"0.1610169491525424\" fill=\"currentColor\" stroke-width=\"0.1\"/>\n",
       "<rect x=\"187.5\" y=\"-250.0\" width=\"2.5\" height=\"41.667\" opacity=\"0.11864406779661017\" fill=\"currentColor\" stroke-width=\"0.1\"/>\n",
       "<rect x=\"190.0\" y=\"-250.0\" width=\"2.5\" height=\"41.667\" opacity=\"0.059322033898305086\" fill=\"currentColor\" stroke-width=\"0.1\"/>\n",
       "<rect x=\"192.5\" y=\"-250.0\" width=\"2.5\" height=\"41.667\" opacity=\"0.0805084745762712\" fill=\"currentColor\" stroke-width=\"0.1\"/>\n",
       "<rect x=\"195.0\" y=\"-250.0\" width=\"2.5\" height=\"41.667\" opacity=\"0.05508474576271186\" fill=\"currentColor\" stroke-width=\"0.1\"/>\n",
       "<rect x=\"197.5\" y=\"-250.0\" width=\"2.5\" height=\"41.667\" opacity=\"0.07627118644067798\" fill=\"currentColor\" stroke-width=\"0.1\"/>\n",
       "<rect x=\"200.0\" y=\"-250.0\" width=\"2.5\" height=\"41.667\" opacity=\"0.029661016949152543\" fill=\"currentColor\" stroke-width=\"0.1\"/>\n",
       "<rect x=\"202.5\" y=\"-250.0\" width=\"2.5\" height=\"41.667\" opacity=\"0.016949152542372885\" fill=\"currentColor\" stroke-width=\"0.1\"/>\n",
       "<rect x=\"205.0\" y=\"-250.0\" width=\"2.5\" height=\"41.667\" opacity=\"0.046610169491525424\" fill=\"currentColor\" stroke-width=\"0.1\"/>\n",
       "<rect x=\"207.5\" y=\"-250.0\" width=\"2.5\" height=\"41.667\" opacity=\"0.008474576271186442\" fill=\"currentColor\" stroke-width=\"0.1\"/>\n",
       "<rect x=\"210.0\" y=\"-250.0\" width=\"2.5\" height=\"41.667\" opacity=\"0.012711864406779662\" fill=\"currentColor\" stroke-width=\"0.1\"/>\n",
       "<rect x=\"212.5\" y=\"-250.0\" width=\"2.5\" height=\"41.667\" opacity=\"0.012711864406779662\" fill=\"currentColor\" stroke-width=\"0.1\"/>\n",
       "<rect x=\"215.0\" y=\"-250.0\" width=\"2.5\" height=\"41.667\" opacity=\"0.008474576271186442\" fill=\"currentColor\" stroke-width=\"0.1\"/>\n",
       "<rect x=\"217.5\" y=\"-250.0\" width=\"2.5\" height=\"41.667\" opacity=\"0.004237288135593221\" fill=\"currentColor\" stroke-width=\"0.1\"/>\n",
       "<rect x=\"220.0\" y=\"-250.0\" width=\"2.5\" height=\"41.667\" opacity=\"0.0\" fill=\"currentColor\" stroke-width=\"0.1\"/>\n",
       "<rect x=\"222.5\" y=\"-250.0\" width=\"2.5\" height=\"41.667\" opacity=\"0.004237288135593221\" fill=\"currentColor\" stroke-width=\"0.1\"/>\n",
       "<rect x=\"225.0\" y=\"-250.0\" width=\"2.5\" height=\"41.667\" opacity=\"0.004237288135593221\" fill=\"currentColor\" stroke-width=\"0.1\"/>\n",
       "<rect x=\"227.5\" y=\"-250.0\" width=\"2.5\" height=\"41.667\" opacity=\"0.0\" fill=\"currentColor\" stroke-width=\"0.1\"/>\n",
       "<rect x=\"230.0\" y=\"-250.0\" width=\"2.5\" height=\"41.667\" opacity=\"0.0\" fill=\"currentColor\" stroke-width=\"0.1\"/>\n",
       "<rect x=\"232.5\" y=\"-250.0\" width=\"2.5\" height=\"41.667\" opacity=\"0.0\" fill=\"currentColor\" stroke-width=\"0.1\"/>\n",
       "<rect x=\"235.0\" y=\"-250.0\" width=\"2.5\" height=\"41.667\" opacity=\"0.0\" fill=\"currentColor\" stroke-width=\"0.1\"/>\n",
       "<rect x=\"237.5\" y=\"-250.0\" width=\"2.5\" height=\"41.667\" opacity=\"0.0\" fill=\"currentColor\" stroke-width=\"0.1\"/>\n",
       "<rect x=\"240.0\" y=\"-250.0\" width=\"2.5\" height=\"41.667\" opacity=\"0.0\" fill=\"currentColor\" stroke-width=\"0.1\"/>\n",
       "<rect x=\"242.5\" y=\"-250.0\" width=\"2.5\" height=\"41.667\" opacity=\"0.0\" fill=\"currentColor\" stroke-width=\"0.1\"/>\n",
       "<rect x=\"245.0\" y=\"-250.0\" width=\"2.5\" height=\"41.667\" opacity=\"0.0\" fill=\"currentColor\" stroke-width=\"0.1\"/>\n",
       "<rect x=\"247.5\" y=\"-250.0\" width=\"2.5\" height=\"41.667\" opacity=\"0.0\" fill=\"currentColor\" stroke-width=\"0.1\"/>\n",
       "</svg>\n",
       "</div>\n",
       "<div style=\"flex=grow:1;\">\n",
       "Regular(100, 0, 100, name='x', label='Observable')<br/>\n",
       "StrCategory(['A', 'F', 'B', 'D', 'E', 'C'], growth=True, name='dataset', label='dataset')<br/>\n",
       "<hr style=\"margin-top:.2em; margin-bottom:.2em;\"/>\n",
       "Weight() Σ=WeightedSum(value=29977, variance=29977) <em>(WeightedSum(value=29998, variance=29998) with flow)</em>\n",
       "\n",
       "</div>\n",
       "</div>\n",
       "</html>"
      ],
      "text/plain": [
       "Hist(\n",
       "  Regular(100, 0, 100, name='x', label='Observable'),\n",
       "  StrCategory(['A', 'F', 'B', 'D', 'E', 'C'], growth=True, name='dataset', label='dataset'),\n",
       "  storage=Weight()) # Sum: WeightedSum(value=29977, variance=29977) (WeightedSum(value=29998, variance=29998) with flow)"
      ]
     },
     "execution_count": 30,
     "metadata": {},
     "output_type": "execute_result"
    }
   ],
   "source": [
    "# Simple slices\n",
    "hn[:, 0.5j:len:sum, :, 0, \"X\"]"
   ]
  },
  {
   "cell_type": "code",
   "execution_count": 31,
   "metadata": {
    "ExecuteTime": {
     "end_time": "2021-10-30T04:47:03.335722Z",
     "start_time": "2021-10-30T04:47:03.079290Z"
    }
   },
   "outputs": [
    {
     "data": {
      "image/png": "[encoded data removed]",
      "text/plain": [
       "<Figure size 432x288 with 1 Axes>"
      ]
     },
     "metadata": {
      "needs_background": "light"
     },
     "output_type": "display_data"
    }
   ],
   "source": [
    "# Slice by name\n",
    "s = hist.tag.Slicer()\n",
    "hn[{'tag': s[0.5j:len:sum], 'region': 0, 'syst': \"X\"}].plot();\n",
    "plt.legend();"
   ]
  },
  {
   "cell_type": "markdown",
   "metadata": {
    "ExecuteTime": {
     "end_time": "2021-10-30T04:30:26.809109Z",
     "start_time": "2021-10-30T04:30:26.798378Z"
    }
   },
   "source": [
    "### Scale \"sample\" by \"cross-section\""
   ]
  },
  {
   "cell_type": "code",
   "execution_count": 32,
   "metadata": {
    "ExecuteTime": {
     "end_time": "2021-10-30T04:47:03.609428Z",
     "start_time": "2021-10-30T04:47:03.338224Z"
    }
   },
   "outputs": [
    {
     "data": {
      "image/png": "[encoded data removed]",
      "text/plain": [
       "<Figure size 432x288 with 1 Axes>"
      ]
     },
     "metadata": {
      "needs_background": "light"
     },
     "output_type": "display_data"
    }
   ],
   "source": [
    "hn[{'dataset': \"A\"}] = hn[{'dataset': \"A\"}].view() * 2.5\n",
    "\n",
    "hn[{'tag': s[0.5j:len:sum], 'region': 0, 'syst': \"X\"}].plot();\n",
    "plt.legend();"
   ]
  },
  {
   "cell_type": "markdown",
   "metadata": {},
   "source": [
    "### Group datasets (to be replaced by native hist function)"
   ]
  },
  {
   "cell_type": "code",
   "execution_count": 33,
   "metadata": {
    "ExecuteTime": {
     "end_time": "2021-10-30T04:47:03.915773Z",
     "start_time": "2021-10-30T04:47:03.612354Z"
    },
    "code_folding": [
     0
    ]
   },
   "outputs": [
    {
     "data": {
      "image/png": "[encoded data removed]",
      "text/plain": [
       "<Figure size 432x288 with 1 Axes>"
      ]
     },
     "metadata": {
      "needs_background": "light"
     },
     "output_type": "display_data"
    }
   ],
   "source": [
    "def groupby(h, groupmap, axis='dataset'):\n",
    "    new = hist.Hist(*[ax for ax in h.axes if ax.name != axis], \n",
    "                hist.axis.StrCategory(groupmap.keys(), name=axis, growth=True), \n",
    "                hist.storage.Weight()\n",
    "          )\n",
    "\n",
    "    for name, cats in groupmap.items():\n",
    "        grouped = sum([h[{axis: name}] for name in cats])\n",
    "        new[{axis: name}] = grouped.view(flow=True)\n",
    "    return new\n",
    "\n",
    "groupby(hn, {\"d1\": [\"A\", \"B\", \"C\"], 'd2': [\"D\", \"E\", 'F']})[{'tag': s[0.5j:len:sum], 'region': 0, 'syst': \"X\"}].plot();\n",
    "plt.legend();"
   ]
  },
  {
   "cell_type": "markdown",
   "metadata": {},
   "source": [
    "### Desired end goal - 1D templates of each sample, passing a cut, per region per systematic"
   ]
  },
  {
   "cell_type": "code",
   "execution_count": 34,
   "metadata": {
    "ExecuteTime": {
     "end_time": "2021-10-30T04:47:04.072441Z",
     "start_time": "2021-10-30T04:47:03.920426Z"
    }
   },
   "outputs": [],
   "source": [
    "cut = {'tag': s[0.5j:len:sum]} # Events passing 0.5 threshold\n",
    "\n",
    "templates = {}\n",
    "for sample in hn.axes['dataset']:\n",
    "    for region in hn.axes['region']:\n",
    "        for syst in hn.axes['syst']:\n",
    "            template_name = f\"region{region}_{sample}_sys{syst}\"\n",
    "            templates[template_name] = hn[{**cut, 'dataset': sample, 'region': region, 'syst': syst}]"
   ]
  },
  {
   "cell_type": "code",
   "execution_count": 35,
   "metadata": {
    "ExecuteTime": {
     "end_time": "2021-10-30T04:47:04.097973Z",
     "start_time": "2021-10-30T04:47:04.074822Z"
    }
   },
   "outputs": [
    {
     "data": {
      "text/html": [
       "<html>\n",
       "<div style=\"display:flex; align-items:center;\">\n",
       "<div style=\"width:290px;\">\n",
       "<svg xmlns=\"http://www.w3.org/2000/svg\" viewBox=\"-10 -105 270 120\">\n",
       "<line x1=\"-5\" y1=\"0\" x2=\"255\" y2=\"0\" style=\"fill:none;stroke-width:2;stroke:currentColor\"/>\n",
       "<text text-anchor=\"middle\" x=\"0\" y=\"15\" style=\"fill:currentColor;\">\n",
       "0\n",
       "</text>\n",
       "<text text-anchor=\"middle\" x=\"250\" y=\"15\" style=\"fill:currentColor;\">\n",
       "100\n",
       "</text>\n",
       "<text text-anchor=\"middle\" x=\"125.0\" y=\"15\" style=\"fill:currentColor;\">\n",
       "Observable\n",
       "</text>\n",
       "<polyline points=\"  0,0   0,-0.498 2.5,-0.498 2.5,-1.99   5,-1.99   5,-1.49 7.5,-1.49 7.5,-1.99  10,-1.99  10,-2.99 12.5,-2.99 12.5,-2.99  15,-2.99  15,-7.96 17.5,-7.96 17.5,-4.48  20,-4.48  20,-6.97 22.5,-6.97 22.5,-13.4  25,-13.4  25,-14.4 27.5,-14.4 27.5,-10.4  30,-10.4  30,-13.4 32.5,-13.4 32.5,-18.4  35,-18.4  35,-19.4 37.5,-19.4 37.5,-32.8  40,-32.8  40,-36.3 42.5,-36.3 42.5,-33.8  45,-33.8  45,-41.3 47.5,-41.3 47.5,-51.2  50,-51.2  50,-56.2 52.5,-56.2 52.5,-61.7  55,-61.7  55,-68.2 57.5,-68.2 57.5,-79.1  60,-79.1  60,-74.6 62.5,-74.6 62.5,-87.1  65,-87.1  65,-92 67.5,-92 67.5,-94  70,-94  70,-92 72.5,-92 72.5,-100  75,-100  75,-100 77.5,-100 77.5,-90  80,-90  80,-92 82.5,-92 82.5,-99  85,-99  85,-98 87.5,-98 87.5,-85.6  90,-85.6  90,-81.6 92.5,-81.6 92.5,-84.1  95,-84.1  95,-71.6 97.5,-71.6 97.5,-72.1 100,-72.1 100,-66.2 102.5,-66.2 102.5,-49.3 105,-49.3 105,-60.7 107.5,-60.7 107.5,-42.3 110,-42.3 110,-38.8 112.5,-38.8 112.5,-39.3 115,-39.3 115,-28.4 117.5,-28.4 117.5,-15.4 120,-15.4 120,-24.4 122.5,-24.4 122.5,-19.9 125,-19.9 125,-17.9 127.5,-17.9 127.5,-7.46 130,-7.46 130,-11.4 132.5,-11.4 132.5,-9.95 135,-9.95 135,-5.97 137.5,-5.97 137.5,-3.98 140,-3.98 140,-4.48 142.5,-4.48 142.5,-3.48 145,-3.48 145,-2.49 147.5,-2.49 147.5,-1.99 150,-1.99 150,-1.49 152.5,-1.49 152.5,-1.49 155,-1.49 155,-0.995 157.5,-0.995 157.5,-0.995 160,-0.995 160,-0.498 162.5,-0.498 162.5,-0 165,-0 165,-0 167.5,-0 167.5,-0.498 170,-0.498 170,-0 172.5,-0 172.5,-0 175,-0 175,-0 177.5,-0 177.5,-0 180,-0 180,-0 182.5,-0 182.5,-0 185,-0 185,-0 187.5,-0 187.5,-0 190,-0 190,-0 192.5,-0 192.5,-0 195,-0 195,-0 197.5,-0 197.5,-0 200,-0 200,-0 202.5,-0 202.5,-0 205,-0 205,-0 207.5,-0 207.5,-0 210,-0 210,-0 212.5,-0 212.5,-0 215,-0 215,-0 217.5,-0 217.5,-0 220,-0 220,-0 222.5,-0 222.5,-0 225,-0 225,-0 227.5,-0 227.5,-0 230,-0 230,-0 232.5,-0 232.5,-0 235,-0 235,-0 237.5,-0 237.5,-0 240,-0 240,-0 242.5,-0 242.5,-0 245,-0 245,-0 247.5,-0 247.5,-0 250,-0 250,0\" style=\"fill:none; stroke:currentColor;\"/>\n",
       "</svg>\n",
       "</div>\n",
       "<div style=\"flex=grow:1;\">\n",
       "Regular(100, 0, 100, name='x', label='Observable')<br/>\n",
       "<hr style=\"margin-top:.2em; margin-bottom:.2em;\"/>\n",
       "Weight() Σ=WeightedSum(value=4935, variance=4935) <em>(WeightedSum(value=4941, variance=4941) with flow)</em>\n",
       "\n",
       "</div>\n",
       "</div>\n",
       "</html>"
      ],
      "text/plain": [
       "Hist(Regular(100, 0, 100, name='x', label='Observable'), storage=Weight()) # Sum: WeightedSum(value=4935, variance=4935) (WeightedSum(value=4941, variance=4941) with flow)"
      ]
     },
     "execution_count": 35,
     "metadata": {},
     "output_type": "execute_result"
    }
   ],
   "source": [
    "templates['region0_B_sysX']\n",
    "\n",
    "# and write these via uproot"
   ]
  },
  {
   "cell_type": "code",
   "execution_count": null,
   "metadata": {},
   "outputs": [],
   "source": []
  },
  {
   "cell_type": "markdown",
   "metadata": {},
   "source": [
    "# Styling with mplhep\n",
    "- Primary purpose of `mplhep` is to serve and distribute styles \n",
    "    - **ALICE**\n",
    "    - **ATLAS**\n",
    "    - **CMS**\n",
    "    - **LHCb**\n",
    "- To ensure plots looks the same on any framework fonts need to be included\n",
    " - I am liable to go on a rant, so suffice to say:\n",
    " - We package an open look-alike of Helvetica called Tex Gyre Heros"
   ]
  },
  {
   "cell_type": "code",
   "execution_count": 36,
   "metadata": {
    "ExecuteTime": {
     "end_time": "2021-10-30T04:47:04.758106Z",
     "start_time": "2021-10-30T04:47:04.101788Z"
    }
   },
   "outputs": [
    {
     "data": {
      "image/png": "[encoded data removed]",
      "text/plain": [
       "<Figure size 600x400 with 1 Axes>"
      ]
     },
     "metadata": {},
     "output_type": "display_data"
    }
   ],
   "source": [
    "hep.style.use([hep.style.ATLAS, {'figure.figsize': (6, 4)}])\n",
    "hep.histplot(np.histogram(np.random.normal(10, 3, 1000)));\n",
    "hep.atlas.label();"
   ]
  },
  {
   "cell_type": "code",
   "execution_count": 37,
   "metadata": {
    "ExecuteTime": {
     "end_time": "2021-10-30T04:47:05.822924Z",
     "start_time": "2021-10-30T04:47:04.761420Z"
    }
   },
   "outputs": [
    {
     "data": {
      "image/png": "[encoded data removed]",
      "text/plain": [
       "<Figure size 1800x300 with 5 Axes>"
      ]
     },
     "metadata": {},
     "output_type": "display_data"
    }
   ],
   "source": [
    "hep.style.use()\n",
    "fig, axs = plt.subplots(1, 5, figsize=(18, 3))\n",
    "for i, ax in enumerate(axs):\n",
    "    hep.cms.label(ax=ax, loc=i)"
   ]
  },
  {
   "cell_type": "code",
   "execution_count": null,
   "metadata": {},
   "outputs": [],
   "source": []
  }
 ],
 "metadata": {
  "kernelspec": {
   "display_name": "Python 3 (ipykernel)",
   "language": "python",
   "name": "python3"
  },
  "language_info": {
   "codemirror_mode": {
    "name": "ipython",
    "version": 3
   },
   "file_extension": ".py",
   "mimetype": "text/x-python",
   "name": "python",
   "nbconvert_exporter": "python",
   "pygments_lexer": "ipython3",
   "version": "3.8.12"
  }
 },
 "nbformat": 4,
 "nbformat_minor": 4
}
