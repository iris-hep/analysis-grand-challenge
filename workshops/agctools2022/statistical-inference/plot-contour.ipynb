{
 "cells": [
  {
   "cell_type": "code",
   "execution_count": null,
   "id": "c07671cc-1bf2-44d7-9f91-be5e2e6c6ef9",
   "metadata": {},
   "outputs": [],
   "source": [
    "# Motivated by https://github.com/lukasheinrich/lhoodbinder2/blob/rootless/PlotContour.ipynb"
   ]
  },
  {
   "cell_type": "code",
   "execution_count": null,
   "id": "eb236e52-ff8c-4011-816e-66422eaa1469",
   "metadata": {},
   "outputs": [],
   "source": [
    "%matplotlib widget\n",
    "\n",
    "import array\n",
    "import json\n",
    "\n",
    "import matplotlib.pyplot as plt\n",
    "import mplhep\n",
    "import numpy as np\n",
    "from descartes import PolygonPatch\n",
    "from shapely.geometry.polygon import Polygon"
   ]
  },
  {
   "cell_type": "code",
   "execution_count": null,
   "id": "72c925e9-cd92-4ef0-a868-ec41363feb03",
   "metadata": {},
   "outputs": [],
   "source": [
    "# Find way to simplify and remove these\n",
    "from plotting import harvest_results, make_plot"
   ]
  },
  {
   "cell_type": "code",
   "execution_count": null,
   "id": "0c5d6ca8-d40b-44e2-a5ab-7aafb4353ce5",
   "metadata": {},
   "outputs": [],
   "source": [
    "# load atlas style\n",
    "plt.style.use(mplhep.style.ATLAS)"
   ]
  },
  {
   "cell_type": "code",
   "execution_count": null,
   "id": "f4d782c9-10d5-4af6-a9c5-ea3b48e7f0d1",
   "metadata": {},
   "outputs": [],
   "source": [
    "fig, ax = plt.subplots()\n",
    "fig.set_size_inches(9.33, 7)"
   ]
  }
 ],
 "metadata": {
  "kernelspec": {
   "display_name": "Python 3 (ipykernel)",
   "language": "python",
   "name": "python3"
  },
  "language_info": {
   "codemirror_mode": {
    "name": "ipython",
    "version": 3
   },
   "file_extension": ".py",
   "mimetype": "text/x-python",
   "name": "python",
   "nbconvert_exporter": "python",
   "pygments_lexer": "ipython3",
   "version": "3.9.6"
  }
 },
 "nbformat": 4,
 "nbformat_minor": 5
}
