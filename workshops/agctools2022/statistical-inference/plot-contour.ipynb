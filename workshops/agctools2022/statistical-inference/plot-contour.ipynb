{
 "cells": [
  {
   "cell_type": "markdown",
   "id": "f1de9c65-a415-487e-b836-17c34f81bdd9",
   "metadata": {},
   "source": [
    "# Visualizing exclusion contours"
   ]
  },
  {
   "cell_type": "markdown",
   "id": "3fc79b4b-5676-475e-a77b-17b111c035f4",
   "metadata": {},
   "source": [
    "Having [already executed][inference README] the jobs with funcX to calculate the observed and expected $\\mathrm{CL}_s$ values for the mass hypotheses for the [electroweakino $1\\ell bb$ search](https://www.hepdata.net/record/ins1755298) let's go beyond just performing the calculations and quickly visualize the exclusion contours for the analysis.\n",
    "\n",
    "[inference README]: https://github.com/iris-hep/analysis-grand-challenge/blob/main/workshops/agctools2022/statistical-inference/README.md"
   ]
  },
  {
   "cell_type": "code",
   "execution_count": null,
   "id": "eb236e52-ff8c-4011-816e-66422eaa1469",
   "metadata": {},
   "outputs": [],
   "source": [
    "%matplotlib widget\n",
    "\n",
    "import array\n",
    "import json\n",
    "import pathlib\n",
    "\n",
    "import matplotlib.lines\n",
    "import matplotlib.pyplot as plt\n",
    "import matplotlib.transforms\n",
    "import mplhep\n",
    "import numpy as np\n",
    "import requests\n",
    "import uproot"
   ]
  },
  {
   "cell_type": "code",
   "execution_count": null,
   "id": "72c925e9-cd92-4ef0-a868-ec41363feb03",
   "metadata": {},
   "outputs": [],
   "source": [
    "# Library made for this workshop (not on PyPI)\n",
    "from exclusion.visualize import plot_contour"
   ]
  },
  {
   "cell_type": "code",
   "execution_count": null,
   "id": "6524f0fa-f7a3-484b-8cf5-c9206c3a3727",
   "metadata": {},
   "outputs": [],
   "source": [
    "with open(\"results.json\") as read_file:\n",
    "    results = json.load(read_file)"
   ]
  },
  {
   "cell_type": "markdown",
   "id": "27e924aa-2eca-48fe-83d0-bfbef489fd9d",
   "metadata": {},
   "source": [
    "Create some visualization helper functions for the styling of the plots"
   ]
  },
  {
   "cell_type": "code",
   "execution_count": null,
   "id": "ee247aee-4d60-46fc-9313-d2655e3f29b7",
   "metadata": {},
   "outputs": [],
   "source": [
    "def atlas_label(ax, suffix=None, lumi_label=None):\n",
    "    if suffix is None:\n",
    "        suffix = \"Summary\"\n",
    "    if lumi_label is None:\n",
    "        lumi_lable = \"\"\n",
    "\n",
    "    text, suffix = mplhep.atlas.text(ax=ax, loc=2, text=suffix)\n",
    "    fig = ax.get_figure()\n",
    "    bbox = text.get_window_extent(renderer=fig.canvas.get_renderer())\n",
    "    bbox_axes = matplotlib.transforms.Bbox(\n",
    "        suffix.get_transform().inverted().transform(bbox)\n",
    "    )\n",
    "\n",
    "    label = mplhep.label.ExpSuffix(\n",
    "        *suffix.get_position(),\n",
    "        text=lumi_label,\n",
    "        transform=suffix.get_transform(),\n",
    "        ha=suffix.get_ha(),\n",
    "        va=suffix.get_va(),\n",
    "        fontsize=suffix.get_fontsize(),\n",
    "        fontname=suffix.get_fontname(),\n",
    "        fontstyle=\"normal\"\n",
    "    )\n",
    "    ax._add_text(label)\n",
    "    suffix.set_position(\n",
    "        (\n",
    "            text.get_position()[0] + bbox_axes.width + 0.01,\n",
    "            text.get_position()[1] + bbox_axes.height,\n",
    "        )\n",
    "    )\n",
    "    suffix.set_fontsize(text.get_fontsize())"
   ]
  },
  {
   "cell_type": "code",
   "execution_count": null,
   "id": "69fd0b6b-6c07-4950-b588-609574a5eba5",
   "metadata": {},
   "outputs": [],
   "source": [
    "def kinematic_exclusion(ax):\n",
    "    line = ax.axline((150, 25), (650, 525), linestyle=\"-.\", color=\"#cccccc\", alpha=0.9)\n",
    "    p1 = ax.transData.transform_point((150, 25))\n",
    "    p2 = ax.transData.transform_point((650, 525))\n",
    "    dy = p2[1] - p1[1]\n",
    "    dx = p2[0] - p1[0]\n",
    "    rotation = np.degrees(np.arctan2(dy, dx))\n",
    "    ax.text(\n",
    "        200,\n",
    "        100,\n",
    "        r\"$m(\\tilde{\\chi}^{\\pm}_{1}/\\tilde{\\chi}^{0}_{2}) < m(\\tilde{\\chi}^{0}_{1}) + 125\\ \\mathrm{GeV}$\",\n",
    "        va=\"baseline\",\n",
    "        fontsize=\"small\",\n",
    "        color=\"#cccccc\",\n",
    "        alpha=0.9,\n",
    "        rotation=rotation,\n",
    "    )"
   ]
  },
  {
   "cell_type": "code",
   "execution_count": null,
   "id": "0c5d6ca8-d40b-44e2-a5ab-7aafb4353ce5",
   "metadata": {},
   "outputs": [],
   "source": [
    "# Use ATLAS style for the plots\n",
    "plt.style.use(mplhep.style.ATLAS)"
   ]
  },
  {
   "cell_type": "markdown",
   "id": "f65b0999-05b3-4ab2-b1d6-b7e4be5d78a9",
   "metadata": {},
   "source": [
    "`exclusion.visualize.plot_contour` will perform interpolation between the mass hypothesis points using SciPy (with a chosen default configuration) and then plot those contours.\n",
    "\n",
    "Note that at the moment `exclusion.visualize` does not impliment kinematic cutoffs on the contours, and so one should mentally adjust the interpolation to remove any component above the cutoff line $m(\\tilde{\\chi}^{\\pm}_{1}/\\tilde{\\chi}^{0}_{2}) < m(\\tilde{\\chi}^{0}_{1}) + 125\\ \\mathrm{GeV}$"
   ]
  },
  {
   "cell_type": "code",
   "execution_count": null,
   "id": "eccaa8f0-1233-4c87-a020-e98b6e9efd2a",
   "metadata": {},
   "outputs": [],
   "source": [
    "def plot_exclusions(results, ax=None):\n",
    "    if ax is None:\n",
    "        fig, ax = plt.subplots()\n",
    "\n",
    "    plot_contour(\n",
    "        ax,\n",
    "        results,\n",
    "        label=\"Open Likelihood\",\n",
    "        color=\"steelblue\",\n",
    "        show_points=True,\n",
    "        show_interpolated=True,\n",
    "    )\n",
    "\n",
    "    lumi_label = (\n",
    "        r\"$\\sqrt{s} = \\mathrm{13\\ TeV}, 139\\ \\mathrm{fb}^{-1}$\"\n",
    "        + \"\\nAll limits at the 95% CL\"\n",
    "    )\n",
    "    atlas_label(ax, suffix=\"Open Likelihood\", lumi_label=lumi_label)\n",
    "\n",
    "    # Set plot ranges\n",
    "    mass_ranges = np.asarray(\n",
    "        [values[\"mass_hypotheses\"] for _, values in results.items()]\n",
    "    ).T\n",
    "\n",
    "    ax.set_xlim(mass_ranges[0].min(), mass_ranges[0].max() + 100)\n",
    "    ax.set_ylim(\n",
    "        mass_ranges[1].min() if mass_ranges[1].min() > 0 else 0,\n",
    "        mass_ranges[1].max() + 100,\n",
    "    )\n",
    "\n",
    "    # To get angle correct need to run after bounds of plot are finalized\n",
    "    kinematic_exclusion(ax)\n",
    "\n",
    "    # ax.legend(loc=\"upper right\")\n",
    "    ax.legend(loc=(0.05, 0.6))\n",
    "\n",
    "    # add process label\n",
    "    process_label = r\"$\\tilde{\\chi}^{0}_{2}\\tilde{\\chi}^{\\pm}_{1} \\rightarrow Wh\\ \\tilde{\\chi}^{0}_{1}\\tilde{\\chi}^{0}_{1}$\"\n",
    "    ax.text(0.0, 1.01, process_label, transform=ax.transAxes, va=\"bottom\")\n",
    "\n",
    "    ax.set_xlabel(r\"$m(\\tilde{\\chi}_{1}^{\\pm}/\\tilde{\\chi}_{2}^{0})$ [GeV]\")\n",
    "    ax.set_ylabel(r\"$m(\\tilde{\\chi}_{1}^{0})$ [GeV]\")\n",
    "\n",
    "    return ax"
   ]
  },
  {
   "cell_type": "code",
   "execution_count": null,
   "id": "4f60d4e0-a8be-4efd-aec2-e86851abe211",
   "metadata": {},
   "outputs": [],
   "source": [
    "ax = plot_exclusions(results);"
   ]
  },
  {
   "cell_type": "markdown",
   "id": "ef192ad1-1059-434d-8b94-f085682af8ad",
   "metadata": {},
   "source": [
    "(Get the figure dimensions for later use)"
   ]
  },
  {
   "cell_type": "code",
   "execution_count": null,
   "id": "29801e4e-d141-4804-8eae-8ddc6607ffb1",
   "metadata": {},
   "outputs": [],
   "source": [
    "bbox = ax.get_window_extent().transformed(ax.get_figure().dpi_scale_trans.inverted())\n",
    "fig_width, fig_height = bbox.width, bbox.height"
   ]
  },
  {
   "cell_type": "markdown",
   "id": "b8d4a387-c639-4f36-bb7f-89373d4f1351",
   "metadata": {},
   "source": [
    "## Compare against published TGraphs on HEPData"
   ]
  },
  {
   "cell_type": "markdown",
   "id": "c25ca3f0-391f-4f31-89c8-36001ccc030c",
   "metadata": {},
   "source": [
    "The published analysis provides a summary of observed and expected exclusion limits on HEPData in the form of ROOT files that contain `TGraphs` for the exclusion limit contours.\n",
    "\n",
    "We'll follow the procedure done in [Reproducible ATLAS SUSY Summary Plots](https://gist.github.com/kratsg/4ff8cb2ded3b25552ff2f51cd6b854dc) GitHub Gist to download these from HEPData and extract the graphs for plotting."
   ]
  },
  {
   "cell_type": "code",
   "execution_count": null,
   "id": "def9297a-5c86-475b-a629-a7a9c4078e32",
   "metadata": {},
   "outputs": [],
   "source": [
    "analyses = {\n",
    "    \"1Lbb\": {\n",
    "        \"hepdata\": \"ins1755298\",\n",
    "        \"color\": \"#9394db\",\n",
    "        \"exp\": \"https://www.hepdata.net/download/table/ins1755298/Expected%20limit%201lbb/3/root\",\n",
    "        \"obs\": \"https://www.hepdata.net/download/table/ins1755298/Observed%20limit%201lbb/3/root\",\n",
    "    }\n",
    "}"
   ]
  },
  {
   "cell_type": "markdown",
   "id": "312cd61d-7eb2-4776-8ab2-41a150b34a53",
   "metadata": {},
   "source": [
    "First query HEPData for the files and download them"
   ]
  },
  {
   "cell_type": "code",
   "execution_count": null,
   "id": "5af10412-bdc6-4d6d-86be-1c8831c34532",
   "metadata": {},
   "outputs": [],
   "source": [
    "def get_filename(analysis, details, kind):\n",
    "    \"\"\"\n",
    "    For a given analysis name and details on where the expected/observed curves are located,\n",
    "    download the corresponding kind of curve locally and cache it at data/{analysis}/{kind}.root.\n",
    "\n",
    "    Args:\n",
    "        analysis (str): analysis name (the key in the analyses object above)\n",
    "        details (dict): analysis details (the value in the analyses object above)\n",
    "        kind (str): specify either 'exp' or 'obs', according to the details provided\n",
    "\n",
    "    Returns:\n",
    "        file path (pathlib.Path): The local ROOT file\n",
    "    \"\"\"\n",
    "    assert kind in [\"exp\", \"obs\"], f\"'{kind}' must be either 'exp' or 'obs'\"\n",
    "\n",
    "    if not details[kind]:  # skip empty ones\n",
    "        return None\n",
    "\n",
    "    analysis = \"\".join([c for c in analysis if c.isalpha() or c.isdigit()]).rstrip()\n",
    "\n",
    "    folder = pathlib.Path(\"data\").joinpath(details[\"hepdata\"]).joinpath(analysis)\n",
    "    fpath = folder.joinpath(f\"{kind}.root\")\n",
    "    if not fpath.is_file():\n",
    "        fpath.parent.mkdir(parents=True, exist_ok=True)\n",
    "        response = requests.get(details[kind])\n",
    "        response.raise_for_status()\n",
    "        fpath.write_bytes(response.content)\n",
    "    return fpath"
   ]
  },
  {
   "cell_type": "code",
   "execution_count": null,
   "id": "827150d2-0a14-4b03-bb1c-bf7ddd67cde6",
   "metadata": {},
   "outputs": [],
   "source": [
    "for analysis, details in analyses.items():\n",
    "    for kind in [\"exp\", \"obs\"]:\n",
    "        print(get_filename(analysis, details, kind))"
   ]
  },
  {
   "cell_type": "markdown",
   "id": "a038af6d-110a-4c91-bf5e-72baa96c5fde",
   "metadata": {},
   "source": [
    "Then find the relevant `TGraph`s"
   ]
  },
  {
   "cell_type": "code",
   "execution_count": null,
   "id": "533f4d34-6312-4f6f-981c-60d467d041c2",
   "metadata": {},
   "outputs": [],
   "source": [
    "def get_graph(root_file):\n",
    "    it = iter(k for k, v in root_file.classnames().items() if v not in [\"TDirectory\"])\n",
    "    return root_file[next(it)]"
   ]
  },
  {
   "cell_type": "code",
   "execution_count": null,
   "id": "a20702f9-c17b-4af9-baa1-0ce3800f7aaf",
   "metadata": {},
   "outputs": [],
   "source": [
    "for analysis, details in analyses.items():\n",
    "    for kind in [\"exp\", \"obs\"]:\n",
    "        fname = get_filename(analysis, details, kind)\n",
    "        if not fname:\n",
    "            continue\n",
    "        with uproot.open(fname) as f:\n",
    "            print(get_graph(f))"
   ]
  },
  {
   "cell_type": "markdown",
   "id": "fc35f6b2-53a8-40d3-bc16-4bcdc31c03e4",
   "metadata": {},
   "source": [
    "and then plot the observed and excluded $95\\%$ CL limit contours."
   ]
  },
  {
   "cell_type": "code",
   "execution_count": null,
   "id": "d884a868-ee1f-4d50-a1d2-86314918b0bf",
   "metadata": {},
   "outputs": [],
   "source": [
    "def plot_graphs(ax=None, suffix=None):\n",
    "    if ax is None:\n",
    "        fig, ax = plt.subplots()\n",
    "\n",
    "    # Axes\n",
    "    ax.set_xlim([150, 1100])\n",
    "    ax.set_ylim([0, 525])\n",
    "\n",
    "    # add process label\n",
    "    process_label = r\"$\\tilde{\\chi}^{0}_{2}\\tilde{\\chi}^{\\pm}_{1} \\rightarrow Wh\\ \\tilde{\\chi}^{0}_{1}\\tilde{\\chi}^{0}_{1}$\"\n",
    "    ax.text(0.0, 1.01, process_label, transform=ax.transAxes, va=\"bottom\")\n",
    "\n",
    "    # Set up initial legend\n",
    "    leg1_elements = [\n",
    "        matplotlib.lines.Line2D(\n",
    "            [0], [0], linestyle=\"--\", color=\"black\", label=\"Expected\"\n",
    "        ),\n",
    "        matplotlib.lines.Line2D(\n",
    "            [0], [0], linestyle=\"-\", color=\"black\", label=\"Observed\"\n",
    "        ),\n",
    "    ]\n",
    "    leg1 = ax.legend(title=\"All limits at 95% CL\", handles=leg1_elements)\n",
    "\n",
    "    # Create legend for the analyses added\n",
    "    leg2_elements = []\n",
    "\n",
    "    # ATLAS Labeling\n",
    "    lumi_label = r\"$\\sqrt{s} = \\mathrm{13\\ TeV}, 139\\ \\mathrm{fb}^{-1}$\"\n",
    "    atlas_label(ax, suffix=suffix, lumi_label=lumi_label)\n",
    "\n",
    "    # get analysis curves\n",
    "    for analysis, details in analyses.items():\n",
    "        leg2_elements.append(\n",
    "            matplotlib.lines.Line2D(\n",
    "                [0], [0], linestyle=\"-\", color=details[\"color\"], label=analysis\n",
    "            )\n",
    "        )\n",
    "\n",
    "        f_exp_name = get_filename(analysis, details, \"exp\")\n",
    "        f_obs_name = get_filename(analysis, details, \"obs\")\n",
    "\n",
    "        if f_exp_name:\n",
    "            f_exp = uproot.open(get_filename(analysis, details, \"exp\"))\n",
    "            graph_exp = get_graph(f_exp)\n",
    "            ax.plot(\n",
    "                graph_exp.member(\"fX\"),\n",
    "                graph_exp.member(\"fY\"),\n",
    "                linestyle=\"--\",\n",
    "                color=details[\"color\"],\n",
    "                alpha=0.9,\n",
    "            )\n",
    "\n",
    "        if f_obs_name:\n",
    "            f_obs = uproot.open(get_filename(analysis, details, \"obs\"))\n",
    "            graph_obs = get_graph(f_obs)\n",
    "            ax.plot(\n",
    "                graph_obs.member(\"fX\"),\n",
    "                graph_obs.member(\"fY\"),\n",
    "                linestyle=\"-\",\n",
    "                color=details[\"color\"],\n",
    "                alpha=0.9,\n",
    "                label=analysis,\n",
    "            )\n",
    "\n",
    "    # Draw Lines\n",
    "    kinematic_exclusion(ax)\n",
    "\n",
    "    # Axis Labels\n",
    "    ax.set_xlabel(r\"$m(\\tilde{\\chi}^{\\pm}_{1}/\\tilde{\\chi}^{0}_{2})\\ \\mathrm{[GeV]}$\")\n",
    "    ax.set_ylabel(r\"$m(\\tilde{\\chi}^{0}_{1})\\ \\mathrm{[GeV]}$\")\n",
    "\n",
    "    # for multiple legends\n",
    "    ax.legend(\n",
    "        loc=\"upper left\",\n",
    "        bbox_to_anchor=(0.01, 0.85),\n",
    "        handles=leg2_elements,\n",
    "        fontsize=\"small\",\n",
    "    )\n",
    "    ax.add_artist(leg1)\n",
    "\n",
    "    return ax"
   ]
  },
  {
   "cell_type": "code",
   "execution_count": null,
   "id": "f538a129-18e8-449c-86e7-e62882ae1e55",
   "metadata": {},
   "outputs": [],
   "source": [
    "plot_graphs();"
   ]
  },
  {
   "cell_type": "markdown",
   "id": "d25c64ab-7cdc-40a5-87b4-f61de3613a30",
   "metadata": {},
   "source": [
    "We can now plot the exclusion limit contours from the fits we did with pyhf + funcX from the published probability models on HEPData on the same figure as the published `TGraph`s of the limits. While there are differences this can come down to interpolation implimentation differences, and with enough tweaking they can converge."
   ]
  },
  {
   "cell_type": "code",
   "execution_count": null,
   "id": "0f205ca8-15ce-447b-9274-e37250884513",
   "metadata": {},
   "outputs": [],
   "source": [
    "# Show overlay\n",
    "ax = plot_graphs(suffix=\"Open Likelihood\")\n",
    "plot_contour(\n",
    "    ax,\n",
    "    results,\n",
    "    label=\"Open Likelihood\",\n",
    "    color=\"steelblue\",\n",
    "    show_interpolated=True,\n",
    ")\n",
    "ax.legend(loc=(0.05, 0.6));"
   ]
  },
  {
   "cell_type": "markdown",
   "id": "50387220-8128-4bd7-8d95-903dcde5e2d9",
   "metadata": {},
   "source": [
    "When comapred with [the published plot](https://ar5iv.labs.arxiv.org/html/1909.09226#S8.F6) things look reasonable and any differences can be explaiend by interpolation choices given the mass points grid"
   ]
  },
  {
   "cell_type": "code",
   "execution_count": null,
   "id": "e2da2d78-e8be-4d2b-b1dd-1a9f96ff7fbf",
   "metadata": {},
   "outputs": [],
   "source": [
    "# Exploit GitHub CDN ![arXiv_figure_6](https://user-images.githubusercontent.com/5142394/165033580-ed1104f3-5548-47af-8226-6d9469a79267.png)\n",
    "! mkdir -p figures\n",
    "! curl -sL https://user-images.githubusercontent.com/5142394/165033580-ed1104f3-5548-47af-8226-6d9469a79267.png --output figures/arxiv_1909.09226_figure_6.png"
   ]
  },
  {
   "cell_type": "code",
   "execution_count": null,
   "id": "f544cbe0-390a-48c8-83b4-c8062f618bb1",
   "metadata": {},
   "outputs": [],
   "source": [
    "fig, (ax1, ax2) = plt.subplots(1, 2, figsize=(fig_width * 2.2, fig_height * 1.3))\n",
    "plot_exclusions(results, ax1)\n",
    "ax1.legend(loc=(0.05, 0.6))\n",
    "\n",
    "img = plt.imread(\"figures/arxiv_1909.09226_figure_6.png\")\n",
    "ax2.imshow(img, aspect=\"auto\")\n",
    "ax2.axis(\"off\")\n",
    "\n",
    "fig.tight_layout()"
   ]
  }
 ],
 "metadata": {
  "kernelspec": {
   "display_name": "Python 3 (ipykernel)",
   "language": "python",
   "name": "python3"
  },
  "language_info": {
   "codemirror_mode": {
    "name": "ipython",
    "version": 3
   },
   "file_extension": ".py",
   "mimetype": "text/x-python",
   "name": "python",
   "nbconvert_exporter": "python",
   "pygments_lexer": "ipython3",
   "version": "3.9.6"
  }
 },
 "nbformat": 4,
 "nbformat_minor": 5
}
