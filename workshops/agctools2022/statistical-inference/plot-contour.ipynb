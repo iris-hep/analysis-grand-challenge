{
 "cells": [
  {
   "cell_type": "code",
   "execution_count": null,
   "id": "c07671cc-1bf2-44d7-9f91-be5e2e6c6ef9",
   "metadata": {},
   "outputs": [],
   "source": [
    "# Motivated by https://github.com/lukasheinrich/lhoodbinder2/blob/rootless/PlotContour.ipynb"
   ]
  },
  {
   "cell_type": "code",
   "execution_count": null,
   "id": "eb236e52-ff8c-4011-816e-66422eaa1469",
   "metadata": {},
   "outputs": [],
   "source": [
    "%matplotlib widget\n",
    "\n",
    "import array\n",
    "import json\n",
    "\n",
    "import matplotlib.pyplot as plt\n",
    "import mplhep\n",
    "import numpy as np\n",
    "from descartes import PolygonPatch\n",
    "from shapely.geometry.polygon import Polygon"
   ]
  },
  {
   "cell_type": "code",
   "execution_count": null,
   "id": "72c925e9-cd92-4ef0-a868-ec41363feb03",
   "metadata": {},
   "outputs": [],
   "source": [
    "# Find way to simplify and remove these\n",
    "# from plotting import harvest_results, make_plot\n",
    "from plotting import make_plot"
   ]
  },
  {
   "cell_type": "code",
   "execution_count": null,
   "id": "6524f0fa-f7a3-484b-8cf5-c9206c3a3727",
   "metadata": {},
   "outputs": [],
   "source": [
    "with open(\"results.json\") as read_file:\n",
    "    _results = json.load(read_file)\n",
    "\n",
    "with open(\"harvests.json\") as read_file:\n",
    "    _harvests = json.load(read_file)"
   ]
  },
  {
   "cell_type": "code",
   "execution_count": null,
   "id": "0c5d6ca8-d40b-44e2-a5ab-7aafb4353ce5",
   "metadata": {},
   "outputs": [],
   "source": [
    "# load atlas style\n",
    "plt.style.use(mplhep.style.ATLAS)"
   ]
  },
  {
   "cell_type": "code",
   "execution_count": null,
   "id": "f4d782c9-10d5-4af6-a9c5-ea3b48e7f0d1",
   "metadata": {},
   "outputs": [],
   "source": [
    "fig, ax = plt.subplots()\n",
    "fig.set_size_inches(9.33, 7)\n",
    "\n",
    "ax.set_xlabel(r\"$m(\\tilde{\\chi}_{1}^{\\pm}/\\tilde{\\chi}_{2}^{0})$ [GeV]\")\n",
    "ax.set_ylabel(r\"$m(\\tilde{\\chi}_{1}^{0})$ [GeV]\")"
   ]
  },
  {
   "cell_type": "code",
   "execution_count": null,
   "id": "5ad4ace4-c23a-45da-a81b-84d9b37041aa",
   "metadata": {},
   "outputs": [],
   "source": [
    "# Set plot ranges\n",
    "mass_ranges = np.asarray(\n",
    "    [values[\"mass_hypotheses\"] for _, values in _results.items()]\n",
    ").T\n",
    "\n",
    "ax.set_xlim(mass_ranges[0].min(), mass_ranges[0].max() + 100)\n",
    "ax.set_ylim(mass_ranges[1].min(), mass_ranges[1].max() + 100);"
   ]
  },
  {
   "cell_type": "code",
   "execution_count": null,
   "id": "9d67dc0b-f443-408f-a36c-15adabda43ef",
   "metadata": {},
   "outputs": [],
   "source": [
    "# show the mass hypotheses being interpolated between\n",
    "ax.scatter(*mass_ranges, s=20, alpha=0.2);"
   ]
  },
  {
   "cell_type": "code",
   "execution_count": null,
   "id": "eccaa8f0-1233-4c87-a020-e98b6e9efd2a",
   "metadata": {},
   "outputs": [],
   "source": [
    "# make_plot(ax,label = 'Open Likelihood (in progress)', color = 'steelblue', showPoints = True)"
   ]
  },
  {
   "cell_type": "code",
   "execution_count": null,
   "id": "f725d997-3c9b-4443-865c-63bf16b8af81",
   "metadata": {},
   "outputs": [],
   "source": [
    "_harvests[\"C1N2_Wh_hbb_1000_0\"]"
   ]
  }
 ],
 "metadata": {
  "kernelspec": {
   "display_name": "Python 3 (ipykernel)",
   "language": "python",
   "name": "python3"
  },
  "language_info": {
   "codemirror_mode": {
    "name": "ipython",
    "version": 3
   },
   "file_extension": ".py",
   "mimetype": "text/x-python",
   "name": "python",
   "nbconvert_exporter": "python",
   "pygments_lexer": "ipython3",
   "version": "3.9.6"
  }
 },
 "nbformat": 4,
 "nbformat_minor": 5
}
