{
 "cells": [
  {
   "cell_type": "markdown",
   "id": "82278df6",
   "metadata": {},
   "source": [
    "# Introduction"
   ]
  },
  {
   "cell_type": "markdown",
   "id": "3204608e",
   "metadata": {},
   "source": [
    "This notebook is a quick starter guide on Uproot, Awkward Array, Vector, Hist, and mplhep, which are all packages that are part of the Scikit-HEP project, a collection of Python tools for HEP data analysis. We'll briefly go through parts of each and see how they work together.\n",
    "\n",
    "Most of this notebook is adapted from my [Uproot tutorial](https://hsf-training.github.io/hsf-training-uproot-webpage/index.html) aimed at beginners in data analysis in Python. Here, I'm assuming that the reader is already familiar with at least Python, NumPy, and Matplotlib, so I've compressed the tutorial and added a bit of more advanced material, but it still just scratches the surface of these packages. See the links at the end for more extensive resources."
   ]
  },
  {
   "cell_type": "markdown",
   "id": "e20a184d",
   "metadata": {},
   "source": [
    "# Setup"
   ]
  },
  {
   "cell_type": "markdown",
   "id": "e6099cf4",
   "metadata": {},
   "source": [
    "## Installation"
   ]
  },
  {
   "cell_type": "markdown",
   "id": "24bb117d",
   "metadata": {},
   "source": [
    "These packages can be installed in the usual way if they haven't been already:\n",
    "\n",
    "`pip install uproot awkward vector hist mplhep`\n",
    "\n",
    "They are also available via `conda install` on the `conda-forge` channel."
   ]
  },
  {
   "cell_type": "markdown",
   "id": "ad55c3ae",
   "metadata": {},
   "source": [
    "## Usage"
   ]
  },
  {
   "cell_type": "markdown",
   "id": "948820f0",
   "metadata": {},
   "source": [
    "We'll need NumPy and Matplotlib:"
   ]
  },
  {
   "cell_type": "code",
   "execution_count": 1,
   "id": "70fe6eca",
   "metadata": {},
   "outputs": [],
   "source": [
    "import numpy as np\n",
    "import matplotlib.pyplot as plt\n",
    "plt.rcParams['figure.dpi'] = 150 # make figures bigger and more readable"
   ]
  },
  {
   "cell_type": "markdown",
   "id": "9412fe6e",
   "metadata": {},
   "source": [
    "and all the packages mentioned above (Awkward Array is usually imported as `ak` as an analogy to `numpy as np`):"
   ]
  },
  {
   "cell_type": "code",
   "execution_count": 2,
   "id": "7f1a0853",
   "metadata": {},
   "outputs": [],
   "source": [
    "import uproot\n",
    "import awkward as ak\n",
    "import vector\n",
    "import hist\n",
    "import mplhep as hep"
   ]
  },
  {
   "cell_type": "markdown",
   "id": "20524be3",
   "metadata": {},
   "source": [
    "# Motivating example"
   ]
  },
  {
   "cell_type": "markdown",
   "id": "c0f5c795",
   "metadata": {},
   "source": [
    "In order to learn how to use these packages, we’ll try to do a very short and simple analysis to look for resonances in dimuon events. The example ROOT file is from CMS open data from proton-proton collisions in 2012."
   ]
  },
  {
   "cell_type": "markdown",
   "id": "94d92f7c",
   "metadata": {},
   "source": [
    "# Inspecting data"
   ]
  },
  {
   "cell_type": "markdown",
   "id": "d616982e",
   "metadata": {},
   "source": [
    "Our first goal is just to get to the data within Uproot, so we need to open the file and navigate to the muon information."
   ]
  },
  {
   "cell_type": "markdown",
   "id": "f087f3d6",
   "metadata": {},
   "source": [
    "## Files"
   ]
  },
  {
   "cell_type": "markdown",
   "id": "5fa26658",
   "metadata": {},
   "source": [
    "### Opening a file"
   ]
  },
  {
   "cell_type": "markdown",
   "id": "bdc06dc8",
   "metadata": {},
   "source": [
    "Open the ROOT file and assign it to a variable:"
   ]
  },
  {
   "cell_type": "code",
   "execution_count": 3,
   "id": "35ac77e8",
   "metadata": {},
   "outputs": [],
   "source": [
    "file = uproot.open('open-data-example.root')"
   ]
  },
  {
   "cell_type": "markdown",
   "id": "d0de8098",
   "metadata": {},
   "source": [
    "If you inspect file, you can see that it’s a `ReadOnlyDirectory` object:"
   ]
  },
  {
   "cell_type": "code",
   "execution_count": 4,
   "id": "63e82638",
   "metadata": {},
   "outputs": [
    {
     "data": {
      "text/plain": [
       "<ReadOnlyDirectory '/' at 0x7f1d198ddf60>"
      ]
     },
     "execution_count": 4,
     "metadata": {},
     "output_type": "execute_result"
    }
   ],
   "source": [
    "file"
   ]
  },
  {
   "cell_type": "markdown",
   "id": "48b53327",
   "metadata": {},
   "source": [
    "### File contents"
   ]
  },
  {
   "cell_type": "markdown",
   "id": "6161f777",
   "metadata": {},
   "source": [
    "Just like any other kind of directory, you can list the contents (of the file). The name of each item in the file is called a key."
   ]
  },
  {
   "cell_type": "code",
   "execution_count": 5,
   "id": "36a0cdbb",
   "metadata": {},
   "outputs": [
    {
     "data": {
      "text/plain": [
       "['Events;1']"
      ]
     },
     "execution_count": 5,
     "metadata": {},
     "output_type": "execute_result"
    }
   ],
   "source": [
    "file.keys()"
   ]
  },
  {
   "cell_type": "markdown",
   "id": "3744b018",
   "metadata": {},
   "source": [
    "We can see that there is one key: “Events”. This doesn’t tell us what kind of object it refers to, though. ROOT files can contain many different types of objects, including subdirectories. The following function provides a way to inspect the types of each item:"
   ]
  },
  {
   "cell_type": "code",
   "execution_count": 6,
   "id": "650f42cb",
   "metadata": {},
   "outputs": [
    {
     "data": {
      "text/plain": [
       "{'Events;1': 'TTree'}"
      ]
     },
     "execution_count": 6,
     "metadata": {},
     "output_type": "execute_result"
    }
   ],
   "source": [
    "file.classnames()"
   ]
  },
  {
   "cell_type": "markdown",
   "id": "3e838b3c",
   "metadata": {},
   "source": [
    "The output contains pairs of the form `name: type`. Therefore the key `Events` refers to a `TTree` object. This is where all the data in this file is stored. The `;1` refers to the cycle number."
   ]
  },
  {
   "cell_type": "markdown",
   "id": "d8fd52e0",
   "metadata": {},
   "source": [
    "### Accessing contents"
   ]
  },
  {
   "cell_type": "markdown",
   "id": "a3d0a775",
   "metadata": {},
   "source": [
    "Now we want to actually access the object inside the file. You can do this just as you would to get an item in an array:"
   ]
  },
  {
   "cell_type": "code",
   "execution_count": 7,
   "id": "40650c39",
   "metadata": {},
   "outputs": [
    {
     "data": {
      "text/plain": [
       "<TTree 'Events' (6 branches) at 0x7f1d1bd7bb80>"
      ]
     },
     "execution_count": 7,
     "metadata": {},
     "output_type": "execute_result"
    }
   ],
   "source": [
    "file['Events']"
   ]
  },
  {
   "cell_type": "markdown",
   "id": "bbb49da0",
   "metadata": {},
   "source": [
    "This expression refers to the actual TTree object, which we will look at next."
   ]
  },
  {
   "cell_type": "markdown",
   "id": "b6001fbc",
   "metadata": {},
   "source": [
    "## Trees"
   ]
  },
  {
   "cell_type": "markdown",
   "id": "49db36bd",
   "metadata": {},
   "source": [
    "Trees in ROOT are basically just tables of information. Trees are composed of branches, which are the columns of the table. The rows usually represent events (individual bunch crossings).\n",
    "\n",
    "First we assign the tree to a variable:"
   ]
  },
  {
   "cell_type": "code",
   "execution_count": 8,
   "id": "ab2e5722",
   "metadata": {},
   "outputs": [],
   "source": [
    "tree = file['Events']"
   ]
  },
  {
   "cell_type": "markdown",
   "id": "f4d4acd2",
   "metadata": {},
   "source": [
    "In order to find out what information is in the tree, we need to know what the branches (columns) are. The term `key` is used (again) here to refer to the names of the branches."
   ]
  },
  {
   "cell_type": "code",
   "execution_count": 9,
   "id": "7c487f4b",
   "metadata": {},
   "outputs": [
    {
     "data": {
      "text/plain": [
       "['nMuon', 'Muon_pt', 'Muon_eta', 'Muon_phi', 'Muon_mass', 'Muon_charge']"
      ]
     },
     "execution_count": 9,
     "metadata": {},
     "output_type": "execute_result"
    }
   ],
   "source": [
    "tree.keys()"
   ]
  },
  {
   "cell_type": "markdown",
   "id": "e53ff8f7",
   "metadata": {},
   "source": [
    "The above output is a list of the branch names. So we can see that for each event, we will have the number of muons in the event (nMuon) and the pT, eta, phi, mass, and charge of each muon. We can also see these keys with the types included using `.show()`:"
   ]
  },
  {
   "cell_type": "code",
   "execution_count": 10,
   "id": "2c8e0897",
   "metadata": {},
   "outputs": [
    {
     "name": "stdout",
     "output_type": "stream",
     "text": [
      "name                 | typename                 | interpretation                \n",
      "---------------------+--------------------------+-------------------------------\n",
      "nMuon                | uint32_t                 | AsDtype('>u4')\n",
      "Muon_pt              | float[]                  | AsJagged(AsDtype('>f4'))\n",
      "Muon_eta             | float[]                  | AsJagged(AsDtype('>f4'))\n",
      "Muon_phi             | float[]                  | AsJagged(AsDtype('>f4'))\n",
      "Muon_mass            | float[]                  | AsJagged(AsDtype('>f4'))\n",
      "Muon_charge          | int32_t[]                | AsJagged(AsDtype('>i4'))\n"
     ]
    }
   ],
   "source": [
    "tree.show()"
   ]
  },
  {
   "cell_type": "markdown",
   "id": "8e4d1539",
   "metadata": {},
   "source": [
    "## Aside: uproot-browser"
   ]
  },
  {
   "cell_type": "markdown",
   "id": "e7eaefbf",
   "metadata": {},
   "source": [
    "An alternative option for inspecting a ROOT file is `uproot-browser`, which is a Python package that uses Uproot to provide a terminal interface similar to the ROOT `TBrowser` graphical interface. For example, with `uproot-browser browse open-data-example.root`:"
   ]
  },
  {
   "cell_type": "markdown",
   "id": "6351cc93",
   "metadata": {},
   "source": [
    "![](uproot-browser_1.png)\n",
    "![](uproot-browser_2.png)"
   ]
  },
  {
   "cell_type": "markdown",
   "id": "e989d57e",
   "metadata": {},
   "source": [
    "# Extracting data"
   ]
  },
  {
   "cell_type": "markdown",
   "id": "9a3115e3",
   "metadata": {},
   "source": [
    "## Trees"
   ]
  },
  {
   "cell_type": "markdown",
   "id": "be0b4a4c",
   "metadata": {},
   "source": [
    "But how do we get the actual data from the table? There are several ways with Uproot, but the simplest is with the arrays() function:"
   ]
  },
  {
   "cell_type": "code",
   "execution_count": 11,
   "id": "f1dc0dc5",
   "metadata": {},
   "outputs": [
    {
     "data": {
      "text/plain": [
       "<Array [{nMuon: 2, Muon_pt: [10.8, ... -1, 1]}] type='100000 * {\"nMuon\": uint32,...'>"
      ]
     },
     "execution_count": 11,
     "metadata": {},
     "output_type": "execute_result"
    }
   ],
   "source": [
    "tree.arrays()"
   ]
  },
  {
   "cell_type": "markdown",
   "id": "427fef42",
   "metadata": {},
   "source": [
    "You can see some numbers in there, which indeed are from the data in the tree."
   ]
  },
  {
   "cell_type": "markdown",
   "id": "f6ac7add",
   "metadata": {},
   "source": [
    "## Branches"
   ]
  },
  {
   "cell_type": "markdown",
   "id": "270b0d95",
   "metadata": {},
   "source": [
    "Now we assign this object (which contains both the names and contents of the branches) to another variable (branches):"
   ]
  },
  {
   "cell_type": "code",
   "execution_count": 12,
   "id": "345980b1",
   "metadata": {},
   "outputs": [],
   "source": [
    "branches = tree.arrays()"
   ]
  },
  {
   "cell_type": "markdown",
   "id": "8558647b",
   "metadata": {},
   "source": [
    "Next let’s just look at each branch individually. You can access a single branch from branches in a similar way to getting an item from a ROOT file object (array-like notation):"
   ]
  },
  {
   "cell_type": "code",
   "execution_count": 13,
   "id": "5749ec65",
   "metadata": {},
   "outputs": [
    {
     "data": {
      "text/plain": [
       "<Array [2, 2, 1, 4, 4, 3, ... 0, 3, 2, 3, 2, 3] type='100000 * uint32'>"
      ]
     },
     "execution_count": 13,
     "metadata": {},
     "output_type": "execute_result"
    }
   ],
   "source": [
    "branches['nMuon']"
   ]
  },
  {
   "cell_type": "markdown",
   "id": "f09ba863",
   "metadata": {},
   "source": [
    "You can also access branches with attribute/property notation:"
   ]
  },
  {
   "cell_type": "code",
   "execution_count": 14,
   "id": "34831be1",
   "metadata": {},
   "outputs": [
    {
     "data": {
      "text/plain": [
       "<Array [2, 2, 1, 4, 4, 3, ... 0, 3, 2, 3, 2, 3] type='100000 * uint32'>"
      ]
     },
     "execution_count": 14,
     "metadata": {},
     "output_type": "execute_result"
    }
   ],
   "source": [
    "branches.nMuon"
   ]
  },
  {
   "cell_type": "markdown",
   "id": "522de7b3",
   "metadata": {},
   "source": [
    "You can see the partial list of numbers in the output that represents the number of muons in each event. It’s abbreviated with an ellipsis (...) so that it doesn’t take up the whole page.\n",
    "\n",
    "These Array objects are a special type provided by the Awkward Array package. The type=100000 * uint32 means that there are 100,000 entries and that each entry is a 32-bit unsigned integer. Each entry corresponds to one event.\n",
    "\n",
    "Let’s look at another branch:"
   ]
  },
  {
   "cell_type": "code",
   "execution_count": 15,
   "id": "7dc89064",
   "metadata": {},
   "outputs": [
    {
     "data": {
      "text/plain": [
       "<Array [[10.8, 15.7], ... 11.4, 3.08, 4.97]] type='100000 * var * float32'>"
      ]
     },
     "execution_count": 15,
     "metadata": {},
     "output_type": "execute_result"
    }
   ],
   "source": [
    "branches['Muon_pt']"
   ]
  },
  {
   "cell_type": "markdown",
   "id": "c548efee",
   "metadata": {},
   "source": [
    "This is a _jagged_ array because the number of entries is different for different events (because each event can have a different number of muons). Note that there are square brackets [] surrounding the list of entries for each event. The type='100000 * var * float32' means that there are 100,000 rows, each containing a variable number of 32-bit floating point numbers. This is basically an array of arrays (or a 2D array).\n",
    "\n",
    "Jagged arrays are the primary reason for using Awkward Array over pure NumPy. Awkward Array allows us to manipulate jagged arrays in ways analagous to how NumPy can manipulate rectangular (non-jagged) arrays."
   ]
  },
  {
   "cell_type": "markdown",
   "id": "cecbfa41",
   "metadata": {},
   "source": [
    "## Events"
   ]
  },
  {
   "cell_type": "markdown",
   "id": "5c91d6db",
   "metadata": {},
   "source": [
    "If we want to focus on a particular event, we can index it just like a normal array:"
   ]
  },
  {
   "cell_type": "code",
   "execution_count": 16,
   "id": "1750d35b",
   "metadata": {},
   "outputs": [
    {
     "data": {
      "text/plain": [
       "<Array [10.8, 15.7] type='2 * float32'>"
      ]
     },
     "execution_count": 16,
     "metadata": {},
     "output_type": "execute_result"
    }
   ],
   "source": [
    "branches['Muon_pt'][0]"
   ]
  },
  {
   "cell_type": "markdown",
   "id": "2e8d69b1",
   "metadata": {},
   "source": [
    "From the above output, the first event has two muons, and the two numbers in the list are the muons’ $p_\\mathrm{T}$. It’s not specified anywhere in the file, but the units are GeV. Let’s look at the third event:"
   ]
  },
  {
   "cell_type": "code",
   "execution_count": 17,
   "id": "dfbbbf49",
   "metadata": {},
   "outputs": [
    {
     "data": {
      "text/plain": [
       "<Array [3.28] type='1 * float32'>"
      ]
     },
     "execution_count": 17,
     "metadata": {},
     "output_type": "execute_result"
    }
   ],
   "source": [
    "branches['Muon_pt'][2]"
   ]
  },
  {
   "cell_type": "markdown",
   "id": "05c38c12",
   "metadata": {},
   "source": [
    "It only has one muon."
   ]
  },
  {
   "cell_type": "markdown",
   "id": "441b2a03",
   "metadata": {},
   "source": [
    "What if we want to get all of the information about a single event? So far we’ve accessed data in branches by providing a branch name, but we can also just use an event index:"
   ]
  },
  {
   "cell_type": "code",
   "execution_count": 18,
   "id": "19de6212",
   "metadata": {
    "scrolled": true
   },
   "outputs": [
    {
     "data": {
      "text/plain": [
       "<Record ... 0.106], Muon_charge: [-1, -1]} type='{\"nMuon\": uint32, \"Muon_pt\": va...'>"
      ]
     },
     "execution_count": 18,
     "metadata": {},
     "output_type": "execute_result"
    }
   ],
   "source": [
    "branches[0]"
   ]
  },
  {
   "cell_type": "markdown",
   "id": "f266b847",
   "metadata": {},
   "source": [
    "If you only want to see a description of the structure of the array and types within it (not the data itself), you can use `.type`:"
   ]
  },
  {
   "cell_type": "code",
   "execution_count": 19,
   "id": "82aa3d1a",
   "metadata": {
    "scrolled": true
   },
   "outputs": [
    {
     "data": {
      "text/plain": [
       "100000 * {\"nMuon\": uint32, \"Muon_pt\": var * float32, \"Muon_eta\": var * float32, \"Muon_phi\": var * float32, \"Muon_mass\": var * float32, \"Muon_charge\": var * int32}"
      ]
     },
     "execution_count": 19,
     "metadata": {},
     "output_type": "execute_result"
    }
   ],
   "source": [
    "branches.type"
   ]
  },
  {
   "cell_type": "markdown",
   "id": "7229dc31",
   "metadata": {},
   "source": [
    "This is a `Record` object, which is another special type provided by Awkward Array. It functions basically the same way as a standard Python dictionary (dict). Unfortunately, most of the interesting information is still hidden in the above output to save space. A little trick we can use to force printing all the data is adding `.tolist()`:"
   ]
  },
  {
   "cell_type": "code",
   "execution_count": 20,
   "id": "8cd72f21",
   "metadata": {},
   "outputs": [
    {
     "data": {
      "text/plain": [
       "{'nMuon': 2,\n",
       " 'Muon_pt': [10.763696670532227, 15.736522674560547],\n",
       " 'Muon_eta': [1.0668272972106934, -0.563786506652832],\n",
       " 'Muon_phi': [-0.03427272289991379, 2.5426154136657715],\n",
       " 'Muon_mass': [0.10565836727619171, 0.10565836727619171],\n",
       " 'Muon_charge': [-1, -1]}"
      ]
     },
     "execution_count": 20,
     "metadata": {},
     "output_type": "execute_result"
    }
   ],
   "source": [
    "branches[0].tolist()"
   ]
  },
  {
   "cell_type": "markdown",
   "id": "9c68234a",
   "metadata": {},
   "source": [
    "There we go. Now we can see the whole picture for an individual event.\n",
    "\n",
    "`.tolist()` is a NumPy function that has been extended to Awkward Array objects. As the name suggests, it converts NumPy arrays to Python lists. In the case of trees, which have named branches, it actually converts to a dictionary of lists. It can be very useful when you want to understand exactly what’s in an Array or Record. Be careful when using it, though–trying to print out an entire branch or tree could cause Python to crash if it’s large enough. Therefore it’s best to only use `tolist()` on one or a few events at a time to be safe."
   ]
  },
  {
   "cell_type": "markdown",
   "id": "b04cec4c",
   "metadata": {},
   "source": [
    "# Histogramming"
   ]
  },
  {
   "cell_type": "markdown",
   "id": "7c6a48df",
   "metadata": {},
   "source": [
    "Histograms are a critical component of analysis in HEP. Here, we create histograms via Hist, which uses the powerful `boost-histogram` library. Hist provides the interface for defining histograms and filling them. Generating the actual graphical plots of histograms is handled by mplhep and matplotlib. mplhep is a package that extends matplotlib with several convenient features that are specifically important for HEP data analysis.\n",
    "\n",
    "For example, since we're looking for dimuon events, let's make a histogram of the number of muons in each event:"
   ]
  },
  {
   "cell_type": "code",
   "execution_count": 21,
   "id": "fd276dc7",
   "metadata": {
    "scrolled": false
   },
   "outputs": [
    {
     "name": "stderr",
     "output_type": "stream",
     "text": [
      "/home/user/miniconda3/envs/agc-foundation-demo/lib/python3.10/site-packages/mplhep/utils.py:211: UserWarning: Integer weights indicate poissonian data. Will calculate Garwood interval if ``scipy`` is installed. Otherwise errors will be set to ``sqrt(w2)``.\n",
      "  warnings.warn(\n"
     ]
    },
    {
     "data": {
      "image/png": "[encoded data removed]",
      "text/plain": [
       "<Figure size 900x600 with 1 Axes>"
      ]
     },
     "metadata": {
      "needs_background": "light"
     },
     "output_type": "display_data"
    }
   ],
   "source": [
    "h = hist.Hist(hist.axis.Regular(10, 0, 10, label='Number of muons in event'))\n",
    "h.fill((branches['nMuon']))\n",
    "h.plot()\n",
    "plt.ylabel('Number of events')\n",
    "plt.show()"
   ]
  },
  {
   "cell_type": "markdown",
   "id": "273e6e17",
   "metadata": {},
   "source": [
    "So almost half of the events have exactly two muons, but there are plenty with zero, one, or more than two."
   ]
  },
  {
   "cell_type": "markdown",
   "id": "625f92bc",
   "metadata": {},
   "source": [
    "# Manipulating data"
   ]
  },
  {
   "cell_type": "markdown",
   "id": "f07b7154",
   "metadata": {},
   "source": [
    "Uproot and Awkward Array are designed for columnar analysis, which means performing operations on entire columns (branches) at a time, rather than operating on every event individually like in traditional event loop frameworks. This shift can take some getting used to at first, but it is generally much more computationally efficient."
   ]
  },
  {
   "cell_type": "markdown",
   "id": "8dfc5c37",
   "metadata": {},
   "source": [
    "## Counting"
   ]
  },
  {
   "cell_type": "markdown",
   "id": "c5368fe1",
   "metadata": {},
   "source": [
    "The simplest task we need for analysis is counting (i.e., cutflow). To count the total number of events, we can use the Python built-in function `len()` on any of the following:\n",
    "\n",
    "```python\n",
    "len(branches)\n",
    "len(branches['nMuon'])\n",
    "len(branches['Muon_pt']) # or any of the other branches...\n",
    "```\n",
    "\n",
    "which will output `100000`. So there are 100,000 events."
   ]
  },
  {
   "cell_type": "markdown",
   "id": "6041f605",
   "metadata": {},
   "source": [
    "Note that `len` will only tell you the length of the outermost dimension. The `Muon_pt` branch has more than 100,000 numbers in it. We can see this by flattening the array. `np.ravel` is a simple way to completely flatten an array:"
   ]
  },
  {
   "cell_type": "code",
   "execution_count": 22,
   "id": "af56159e",
   "metadata": {},
   "outputs": [
    {
     "data": {
      "text/plain": [
       "<Array [10.8, 15.7, 10.5, ... 11.4, 3.08, 4.97] type='235286 * float32'>"
      ]
     },
     "execution_count": 22,
     "metadata": {},
     "output_type": "execute_result"
    }
   ],
   "source": [
    "np.ravel(branches['Muon_pt'])"
   ]
  },
  {
   "cell_type": "markdown",
   "id": "9619a20a",
   "metadata": {},
   "source": [
    "Note that I've used a NumPy function here on an `ak.Array`. Most of the standard NumPy functions work fine on Awkward `Array`s, although there are also equivalent Awkward functions like `ak.ravel`. Generally speaking, the default behavior between these NumPy and Awkward functions is the same, but the `ak` versions have optional parameters for functionality that is specific to jagged arrays. "
   ]
  },
  {
   "cell_type": "markdown",
   "id": "e858587d",
   "metadata": {},
   "source": [
    "Awkward Array also has functions that wouldn't make sense in NumPy. For counting the number of entries in each event for a branch, there's `ak.num`:"
   ]
  },
  {
   "cell_type": "code",
   "execution_count": 23,
   "id": "951e6c9b",
   "metadata": {},
   "outputs": [
    {
     "data": {
      "text/plain": [
       "<Array [2, 2, 1, 4, 4, 3, ... 0, 3, 2, 3, 2, 3] type='100000 * int64'>"
      ]
     },
     "execution_count": 23,
     "metadata": {},
     "output_type": "execute_result"
    }
   ],
   "source": [
    "ak.num(branches['Muon_pt'])"
   ]
  },
  {
   "cell_type": "markdown",
   "id": "64b1215c",
   "metadata": {},
   "source": [
    "which in this case is equal to already existing `branches['nMuon']`. In NumPy, there's no need for this function, since it would be the same number over and over, and you could just get it from `np.ndarray.shape`."
   ]
  },
  {
   "cell_type": "markdown",
   "id": "b884745d",
   "metadata": {},
   "source": [
    "## Selections"
   ]
  },
  {
   "cell_type": "markdown",
   "id": "778c0338",
   "metadata": {},
   "source": [
    "### Selections from 1D arrays"
   ]
  },
  {
   "cell_type": "markdown",
   "id": "13dcffa9",
   "metadata": {},
   "source": [
    "To do more interesting counting or plotting, we want to be able to select only events or muons that pass some criteria. Just as you can compare two numbers, like `1 < 2` and get a `True` or `False` value, you can put arrays in comparisons as well. Let’s look at this case:"
   ]
  },
  {
   "cell_type": "code",
   "execution_count": 24,
   "id": "fce11527",
   "metadata": {},
   "outputs": [
    {
     "data": {
      "text/plain": [
       "<Array [False, False, True, ... False, False] type='100000 * bool'>"
      ]
     },
     "execution_count": 24,
     "metadata": {},
     "output_type": "execute_result"
    }
   ],
   "source": [
    "branches['nMuon'] == 1"
   ]
  },
  {
   "cell_type": "markdown",
   "id": "b902fc60",
   "metadata": {},
   "source": [
    "This is checking for equality between an array and the number 1. Of course these are different types (array vs. scalar), so the Python objects are certainly not identical, but you can see the return value is not just False. What happens is that each element in the array is compared to the scalar value, and the return value is a new array (of the same shape) filled with all these comparison results. So we can interpret the output as the result of testing whether each event has exactly one muon or not. The first two events do not, the third does, and so on.\n",
    "\n",
    "This array of Boolean values is called a mask because we can use it to pick out only the elements in the array that satisfy some criteria (like having exactly one muon). This is very useful, and we will save it to a variable to save typing later:"
   ]
  },
  {
   "cell_type": "code",
   "execution_count": 25,
   "id": "bb806bcc",
   "metadata": {},
   "outputs": [],
   "source": [
    "single_muon_mask = branches['nMuon'] == 1"
   ]
  },
  {
   "cell_type": "markdown",
   "id": "75bfea57",
   "metadata": {},
   "source": [
    "### Counting with selections"
   ]
  },
  {
   "cell_type": "markdown",
   "id": "78312779",
   "metadata": {},
   "source": [
    "Now let’s say we want to know how many of these single-muon events there are. Note that `len()` won’t work because the length of the array is still 100,000. That is, there’s a value for every event (even if that value is `False`). We need the number of `True`s in the array. There are multiple ways to do this, but my favorite is:"
   ]
  },
  {
   "cell_type": "code",
   "execution_count": 26,
   "id": "9ab66fc4",
   "metadata": {},
   "outputs": [
    {
     "data": {
      "text/plain": [
       "13447"
      ]
     },
     "execution_count": 26,
     "metadata": {},
     "output_type": "execute_result"
    }
   ],
   "source": [
    "np.sum(single_muon_mask)"
   ]
  },
  {
   "cell_type": "markdown",
   "id": "7ba4e076",
   "metadata": {},
   "source": [
    "`sum()` adds all the array values together. `True` is interpreted as `1` and `False` is interpreted as `0`, thus `sum()` is just the number of True entries. So there are 13,447 events with exactly one muon."
   ]
  },
  {
   "cell_type": "markdown",
   "id": "e7f052e4",
   "metadata": {},
   "source": [
    "### Applying a mask to an array"
   ]
  },
  {
   "cell_type": "markdown",
   "id": "90385fc7",
   "metadata": {},
   "source": [
    "If we want to apply some selection to an array (i.e., cut out events or muons that don’t pass), we just act like the selection mask is an index. For example, if we want the pT of only those muons in events with exactly one muon (so they’re the only muon in that event):"
   ]
  },
  {
   "cell_type": "code",
   "execution_count": 27,
   "id": "b8f08d4d",
   "metadata": {},
   "outputs": [
    {
     "data": {
      "text/plain": [
       "<Array [[3.28], [3.84], ... [13.3], [9.48]] type='13447 * var * float32'>"
      ]
     },
     "execution_count": 27,
     "metadata": {},
     "output_type": "execute_result"
    }
   ],
   "source": [
    "branches['Muon_pt'][single_muon_mask]"
   ]
  },
  {
   "cell_type": "markdown",
   "id": "309ea63a",
   "metadata": {},
   "source": [
    "We can check that we really are only looking at the events that pass the selection by looking the number of rows:"
   ]
  },
  {
   "cell_type": "code",
   "execution_count": 28,
   "id": "22f1a7db",
   "metadata": {},
   "outputs": [
    {
     "data": {
      "text/plain": [
       "13447"
      ]
     },
     "execution_count": 28,
     "metadata": {},
     "output_type": "execute_result"
    }
   ],
   "source": [
    "len(branches['Muon_pt'][single_muon_mask])"
   ]
  },
  {
   "cell_type": "markdown",
   "id": "77242ed1",
   "metadata": {},
   "source": [
    "Yep, this matches the counting from single_muon_mask.sum() above."
   ]
  },
  {
   "cell_type": "markdown",
   "id": "9f79ad1a",
   "metadata": {},
   "source": [
    "### Plotting with selections"
   ]
  },
  {
   "cell_type": "markdown",
   "id": "4eba1a5b",
   "metadata": {},
   "source": [
    "We can also use masks to plot quantities after some selection. For example, let’s plot the muon $p_\\mathrm{T}$ for only the single-muon events. Note that, just like for multidimensional NumPy arrays, `Array`s must be flattened before histogramming."
   ]
  },
  {
   "cell_type": "code",
   "execution_count": 29,
   "id": "50f75825",
   "metadata": {},
   "outputs": [
    {
     "name": "stderr",
     "output_type": "stream",
     "text": [
      "/home/user/miniconda3/envs/agc-foundation-demo/lib/python3.10/site-packages/mplhep/utils.py:211: UserWarning: Integer weights indicate poissonian data. Will calculate Garwood interval if ``scipy`` is installed. Otherwise errors will be set to ``sqrt(w2)``.\n",
      "  warnings.warn(\n"
     ]
    },
    {
     "data": {
      "image/png": "[encoded data removed]",
      "text/plain": [
       "<Figure size 900x600 with 1 Axes>"
      ]
     },
     "metadata": {
      "needs_background": "light"
     },
     "output_type": "display_data"
    }
   ],
   "source": [
    "h = hist.Hist(hist.axis.Regular(100, 0, 100, label='Muon $p_{\\mathrm{T}}$ [GeV]'))\n",
    "h.fill(np.ravel(branches['Muon_pt'][single_muon_mask]))\n",
    "h.plot()\n",
    "plt.yscale('log')\n",
    "plt.ylabel('Number of single muons / 1 GeV')\n",
    "plt.show()"
   ]
  },
  {
   "cell_type": "markdown",
   "id": "65ebf643",
   "metadata": {},
   "source": [
    "### Selections from a jagged array"
   ]
  },
  {
   "cell_type": "markdown",
   "id": "7a292319",
   "metadata": {},
   "source": [
    "Let’s look at a comparison for a jagged array, using the absolute value of muon eta:"
   ]
  },
  {
   "cell_type": "code",
   "execution_count": 30,
   "id": "1c852351",
   "metadata": {},
   "outputs": [
    {
     "data": {
      "text/plain": [
       "<Array [[True, True], ... True, True, True]] type='100000 * var * bool'>"
      ]
     },
     "execution_count": 30,
     "metadata": {},
     "output_type": "execute_result"
    }
   ],
   "source": [
    "eta_mask = abs(branches['Muon_eta']) < 2\n",
    "eta_mask"
   ]
  },
  {
   "cell_type": "markdown",
   "id": "ec80a106",
   "metadata": {},
   "source": [
    "Again, the mask array has the same dimensions as the original array. There’s one Boolean value for each muon, corresponding to whether its eta is less than 2 in absolute value."
   ]
  },
  {
   "cell_type": "markdown",
   "id": "26ea9d42",
   "metadata": {},
   "source": [
    "We can do counting and plotting just as before:"
   ]
  },
  {
   "cell_type": "code",
   "execution_count": 31,
   "id": "50563ac8",
   "metadata": {},
   "outputs": [
    {
     "data": {
      "text/plain": [
       "204564"
      ]
     },
     "execution_count": 31,
     "metadata": {},
     "output_type": "execute_result"
    }
   ],
   "source": [
    "np.sum(eta_mask)"
   ]
  },
  {
   "cell_type": "markdown",
   "id": "a1f8ffcf",
   "metadata": {},
   "source": [
    "This is the number of muons that pass the eta cut."
   ]
  },
  {
   "cell_type": "markdown",
   "id": "5291da21",
   "metadata": {},
   "source": [
    "### Plotting"
   ]
  },
  {
   "cell_type": "markdown",
   "id": "48841bb4",
   "metadata": {},
   "source": [
    "Let’s plot both the original eta distribution and the one after the cut to verify its effect:"
   ]
  },
  {
   "cell_type": "code",
   "execution_count": 32,
   "id": "54f2f57f",
   "metadata": {},
   "outputs": [],
   "source": [
    "eta_hist = hist.Hist(hist.axis.Regular(50, -2.5, 2.5, label=r'Muon $\\eta$'))"
   ]
  },
  {
   "cell_type": "code",
   "execution_count": 33,
   "id": "031f6319",
   "metadata": {},
   "outputs": [
    {
     "name": "stderr",
     "output_type": "stream",
     "text": [
      "/home/user/miniconda3/envs/agc-foundation-demo/lib/python3.10/site-packages/mplhep/utils.py:211: UserWarning: Integer weights indicate poissonian data. Will calculate Garwood interval if ``scipy`` is installed. Otherwise errors will be set to ``sqrt(w2)``.\n",
      "  warnings.warn(\n"
     ]
    },
    {
     "data": {
      "image/png": "[encoded data removed]",
      "text/plain": [
       "<Figure size 900x600 with 1 Axes>"
      ]
     },
     "metadata": {
      "needs_background": "light"
     },
     "output_type": "display_data"
    }
   ],
   "source": [
    "eta_hist.fill(np.ravel(branches['Muon_eta']))\n",
    "eta_hist.plot()\n",
    "plt.title('No selection')\n",
    "plt.ylabel('Number of muons')\n",
    "plt.show()"
   ]
  },
  {
   "cell_type": "code",
   "execution_count": 34,
   "id": "146fea94",
   "metadata": {},
   "outputs": [
    {
     "data": {
      "text/html": [
       "<html>\n",
       "<div style=\"display:flex; align-items:center;\">\n",
       "<div style=\"width:290px;\">\n",
       "<svg xmlns=\"http://www.w3.org/2000/svg\" viewBox=\"-10 -105 270 120\">\n",
       "<line x1=\"-5\" y1=\"0\" x2=\"255\" y2=\"0\" style=\"fill:none;stroke-width:2;stroke:currentColor\"/>\n",
       "<text text-anchor=\"middle\" x=\"0\" y=\"15\" style=\"fill:currentColor;\">\n",
       "-2.5\n",
       "</text>\n",
       "<text text-anchor=\"middle\" x=\"250\" y=\"15\" style=\"fill:currentColor;\">\n",
       "2.5\n",
       "</text>\n",
       "<text text-anchor=\"middle\" x=\"125.0\" y=\"15\" style=\"fill:currentColor;\">\n",
       "Muon $\\eta$\n",
       "</text>\n",
       "<polyline points=\"  0,0   0,-0   5,-0   5,-0  10,-0  10,-0  15,-0  15,-0  20,-0  20,-0  25,-0  25,-0  30,-0  30,-0  35,-0  35,-0  40,-0  40,-0  45,-0  45,-0  50,-0  50,-0  55,-0  55,-0  60,-0  60,-0  65,-0  65,-0  70,-0  70,-0  75,-0  75,-0  80,-0  80,-0  85,-0  85,-0  90,-0  90,-0  95,-0  95,-0 100,-0 100,-0 105,-0 105,-0 110,-0 110,-0 115,-0 115,-0 120,-0 120,-0 125,-0 125,-0 130,-0 130,-0 135,-0 135,-0 140,-0 140,-0 145,-0 145,-0 150,-0 150,-0 155,-0 155,-0 160,-0 160,-0 165,-0 165,-0 170,-0 170,-0 175,-0 175,-0 180,-0 180,-0 185,-0 185,-0 190,-0 190,-0 195,-0 195,-0 200,-0 200,-0 205,-0 205,-0 210,-0 210,-0 215,-0 215,-0 220,-0 220,-0 225,-0 225,-0 230,-0 230,-0 235,-0 235,-0 240,-0 240,-0 245,-0 245,-0 250,-0 250,0\" style=\"fill:none; stroke:currentColor;\"/>\n",
       "</svg>\n",
       "</div>\n",
       "<div style=\"flex=grow:1;\">\n",
       "Regular(50, -2.5, 2.5, label='Muon $\\\\eta$')<br/>\n",
       "<hr style=\"margin-top:.2em; margin-bottom:.2em;\"/>\n",
       "Double() Σ=0.0\n",
       "\n",
       "</div>\n",
       "</div>\n",
       "</html>"
      ],
      "text/plain": [
       "Hist(Regular(50, -2.5, 2.5, label='Muon $\\\\eta$'), storage=Double())"
      ]
     },
     "execution_count": 34,
     "metadata": {},
     "output_type": "execute_result"
    }
   ],
   "source": [
    "eta_hist.reset()"
   ]
  },
  {
   "cell_type": "code",
   "execution_count": 35,
   "id": "6fdea233",
   "metadata": {},
   "outputs": [
    {
     "name": "stderr",
     "output_type": "stream",
     "text": [
      "/home/user/miniconda3/envs/agc-foundation-demo/lib/python3.10/site-packages/mplhep/utils.py:211: UserWarning: Integer weights indicate poissonian data. Will calculate Garwood interval if ``scipy`` is installed. Otherwise errors will be set to ``sqrt(w2)``.\n",
      "  warnings.warn(\n"
     ]
    },
    {
     "data": {
      "image/png": "[encoded data removed]",
      "text/plain": [
       "<Figure size 900x600 with 1 Axes>"
      ]
     },
     "metadata": {
      "needs_background": "light"
     },
     "output_type": "display_data"
    }
   ],
   "source": [
    "eta_hist.fill(np.ravel(branches['Muon_eta'][eta_mask]))\n",
    "eta_hist.plot()\n",
    "plt.title('With $|\\eta| < 2$ selection')\n",
    "plt.ylabel('Number of muons')\n",
    "plt.show()"
   ]
  },
  {
   "cell_type": "markdown",
   "id": "94186dce",
   "metadata": {},
   "source": [
    "You can see the second plot just has both ends past 2 cut off, demonstrating that we’ve cut those muons out."
   ]
  },
  {
   "cell_type": "markdown",
   "id": "2a0b17cb",
   "metadata": {},
   "source": [
    "### Operations on selections"
   ]
  },
  {
   "cell_type": "markdown",
   "id": "8bcc1b2c",
   "metadata": {},
   "source": [
    "We can invert selections with `~` (the NOT operator):"
   ]
  },
  {
   "cell_type": "code",
   "execution_count": 36,
   "id": "4043ee61",
   "metadata": {},
   "outputs": [
    {
     "data": {
      "text/plain": [
       "<Array [True, True, False, ... True, True] type='100000 * bool'>"
      ]
     },
     "execution_count": 36,
     "metadata": {},
     "output_type": "execute_result"
    }
   ],
   "source": [
    "~single_muon_mask"
   ]
  },
  {
   "cell_type": "markdown",
   "id": "80d66f19",
   "metadata": {},
   "source": [
    "This new mask is False only for events with exactly one muon and True otherwise.\n",
    "\n",
    "We can get the intersection of selections with `&` (the AND operator):"
   ]
  },
  {
   "cell_type": "code",
   "execution_count": 37,
   "id": "fc8e6419",
   "metadata": {},
   "outputs": [
    {
     "data": {
      "text/plain": [
       "<Array [[False, False], ... False, False]] type='100000 * var * bool'>"
      ]
     },
     "execution_count": 37,
     "metadata": {},
     "output_type": "execute_result"
    }
   ],
   "source": [
    "single_muon_mask & eta_mask"
   ]
  },
  {
   "cell_type": "markdown",
   "id": "3cec9900",
   "metadata": {},
   "source": [
    "This mask is True only for muons with no other muons in their event and `abs(eta) < 2`.\n",
    "\n",
    "Or we can get the union of selections with `|` (the OR operator):"
   ]
  },
  {
   "cell_type": "code",
   "execution_count": 38,
   "id": "2192e6ef",
   "metadata": {},
   "outputs": [
    {
     "data": {
      "text/plain": [
       "<Array [[True, True], ... True, True, True]] type='100000 * var * bool'>"
      ]
     },
     "execution_count": 38,
     "metadata": {},
     "output_type": "execute_result"
    }
   ],
   "source": [
    "single_muon_mask | eta_mask"
   ]
  },
  {
   "cell_type": "markdown",
   "id": "598dd5e3",
   "metadata": {},
   "source": [
    "This mask is True for muons which are the only muon in their event or which have `abs(eta) < 2`."
   ]
  },
  {
   "cell_type": "markdown",
   "id": "1496d871",
   "metadata": {},
   "source": [
    "### Comparing histograms"
   ]
  },
  {
   "cell_type": "markdown",
   "id": "c5add9f7",
   "metadata": {},
   "source": [
    "Now we can use these operations to compare distributions for different selections. Let’s look at the $p_\\mathrm{T}$ of single-event muons split into two groups by whether or not `abs(eta) < 2`. All we have to do is provide a list of arrays as the first argument to hist rather than just one array. Note the square brackets around the two arrays:"
   ]
  },
  {
   "cell_type": "code",
   "execution_count": 39,
   "id": "26d6e614",
   "metadata": {},
   "outputs": [
    {
     "name": "stderr",
     "output_type": "stream",
     "text": [
      "/home/user/miniconda3/envs/agc-foundation-demo/lib/python3.10/site-packages/mplhep/utils.py:211: UserWarning: Integer weights indicate poissonian data. Will calculate Garwood interval if ``scipy`` is installed. Otherwise errors will be set to ``sqrt(w2)``.\n",
      "  warnings.warn(\n"
     ]
    },
    {
     "data": {
      "image/png": "[encoded data removed]",
      "text/plain": [
       "<Figure size 900x600 with 1 Axes>"
      ]
     },
     "metadata": {
      "needs_background": "light"
     },
     "output_type": "display_data"
    }
   ],
   "source": [
    "pt_hist = hist.Hist(hist.axis.Regular(25, 0, 50, label='Muon $p_{\\mathrm{T}}$ [GeV]'),\n",
    "                    hist.axis.StrCategory([], growth=True, name='category'))\n",
    "\n",
    "pt_hist.fill(np.ravel(branches['Muon_pt'][single_muon_mask & eta_mask]), category='$|\\eta| < 2$')\n",
    "pt_hist.fill(np.ravel(branches['Muon_pt'][single_muon_mask & ~eta_mask]), category='$|\\eta| \\geq 2$')\n",
    "pt_hist.plot(density=True)\n",
    "plt.legend()\n",
    "plt.show()"
   ]
  },
  {
   "cell_type": "markdown",
   "id": "eec00421",
   "metadata": {},
   "source": [
    "Now we can clearly see there’s a significantly higher fraction of muons with `abs(eta) >= 2` at lower pT compared to muons with `abs(eta) < 2`. This makes geometric sense, since muons at higher `abs(eta)` are traveling in a direction less perpendicular to the beam."
   ]
  },
  {
   "cell_type": "markdown",
   "id": "493d37fc",
   "metadata": {},
   "source": [
    "# Analyzing data"
   ]
  },
  {
   "cell_type": "markdown",
   "id": "593675b1",
   "metadata": {},
   "source": [
    "Okay, we’re finally ready to look for resonances in dimuon events.\n",
    "\n",
    "We need a mask that selects events with exactly two muons:"
   ]
  },
  {
   "cell_type": "code",
   "execution_count": 40,
   "id": "779db89d",
   "metadata": {},
   "outputs": [],
   "source": [
    "two_muons_mask = branches['nMuon'] == 2"
   ]
  },
  {
   "cell_type": "markdown",
   "id": "bb0e7545",
   "metadata": {},
   "source": [
    "## Aside: Interpretation of arrays"
   ]
  },
  {
   "cell_type": "markdown",
   "id": "fee201a1",
   "metadata": {},
   "source": [
    "Awkward Array allows for defining _behaviors_ for certain kinds of arrays. This can provide domain-specific functionality for interpreting specialized arrays. For example, we often need to perform four-vector manipulations in HEP analyses, so it would be convenient to have functions available for calculationg common quantities like $\\Delta R$ and to override Python addition to perform four-vector sums. This kind of specialization can be configured with `ak.behaviors`. For the example case of four-vectors, this is already provided by a package called Vector."
   ]
  },
  {
   "cell_type": "markdown",
   "id": "eea05ac7",
   "metadata": {},
   "source": [
    "## Vectors"
   ]
  },
  {
   "cell_type": "markdown",
   "id": "90295a88",
   "metadata": {},
   "source": [
    "We need to construct the four-momenta of each muon. Vector is a package that provides an interface to operate on 2D, 3D, and 4D vectors. We can get the four-momenta of all muons in the tree by using `vector.zip` and passing it the $p_\\mathrm{T}$, eta, phi, and mass arrays:"
   ]
  },
  {
   "cell_type": "code",
   "execution_count": 41,
   "id": "2083a679",
   "metadata": {},
   "outputs": [],
   "source": [
    "muon_p4 = vector.zip({'pt': branches['Muon_pt'], 'eta': branches['Muon_eta'], 'phi': branches['Muon_phi'], 'mass': branches['Muon_mass']})"
   ]
  },
  {
   "cell_type": "markdown",
   "id": "c42ac0ac",
   "metadata": {},
   "source": [
    "We’ll go ahead and filter out events that don’t contain exactly two muons:"
   ]
  },
  {
   "cell_type": "code",
   "execution_count": 42,
   "id": "6fe5e515",
   "metadata": {},
   "outputs": [],
   "source": [
    "two_muons_p4 = muon_p4[two_muons_mask]"
   ]
  },
  {
   "cell_type": "markdown",
   "id": "c61ee263",
   "metadata": {},
   "source": [
    "Then let’s take a look at it:"
   ]
  },
  {
   "cell_type": "code",
   "execution_count": 43,
   "id": "f1206a90",
   "metadata": {},
   "outputs": [
    {
     "data": {
      "text/plain": [
       "<MomentumArray4D [[{rho: 10.8, ... tau: 0.106}]] type='48976 * var * Momentum4D[...'>"
      ]
     },
     "execution_count": 43,
     "metadata": {},
     "output_type": "execute_result"
    }
   ],
   "source": [
    "two_muons_p4"
   ]
  },
  {
   "cell_type": "markdown",
   "id": "d4c5bd40",
   "metadata": {},
   "source": [
    "This is an array of 4D momenta. We can get the components back out with these properties:"
   ]
  },
  {
   "cell_type": "markdown",
   "id": "929f6b98",
   "metadata": {},
   "source": [
    "```python\n",
    "two_muons_p4.pt\n",
    "two_muons_p4.eta\n",
    "two_muons_p4.phi\n",
    "two_muons_p4.E\n",
    "two_muons_p4.mass\n",
    "```"
   ]
  },
  {
   "cell_type": "markdown",
   "id": "e06dcffb",
   "metadata": {},
   "source": [
    "What we want is the invariant mass of the two muons in each of these events. To do that, we need the sum of their four-vectors. First, we pick out the first muon in each event with 2D slice:"
   ]
  },
  {
   "cell_type": "code",
   "execution_count": 44,
   "id": "8164eccf",
   "metadata": {},
   "outputs": [],
   "source": [
    "first_muon_p4 = two_muons_p4[:, 0]"
   ]
  },
  {
   "cell_type": "markdown",
   "id": "e5df16be",
   "metadata": {},
   "source": [
    "In the notation `[:, 0]`, : means “include every row in the first dimension” (i.e., all events in the array). The comma separates the selection along the first dimension from the selection along the second dimension. The second dimension is the muons in each event, so we want the first, or the one at the 0 index. Then we do the same to get the second muon in each event, just changing the 0 index to 1:"
   ]
  },
  {
   "cell_type": "code",
   "execution_count": 45,
   "id": "8db0ba0f",
   "metadata": {},
   "outputs": [],
   "source": [
    "second_muon_p4 = two_muons_p4[:, 1]"
   ]
  },
  {
   "cell_type": "markdown",
   "id": "8ea7b24a",
   "metadata": {},
   "source": [
    "### $\\Delta R$"
   ]
  },
  {
   "cell_type": "markdown",
   "id": "7ee49c5b",
   "metadata": {},
   "source": [
    "Another useful feature of these four-vector arrays is being able to compute $\\Delta R$ ($= \\sqrt{{\\Delta \\eta}^2 + {\\Delta \\phi}^2}$):"
   ]
  },
  {
   "cell_type": "code",
   "execution_count": 46,
   "id": "0d20ff91",
   "metadata": {
    "scrolled": true
   },
   "outputs": [
    {
     "data": {
      "text/plain": [
       "<Array [3.05, 2.92, 3.16, ... 4.47, 3.06, 2.88] type='48976 * float32'>"
      ]
     },
     "execution_count": 46,
     "metadata": {},
     "output_type": "execute_result"
    }
   ],
   "source": [
    "first_muon_p4.deltaR(second_muon_p4)"
   ]
  },
  {
   "cell_type": "code",
   "execution_count": 47,
   "id": "7ba60507",
   "metadata": {},
   "outputs": [
    {
     "name": "stderr",
     "output_type": "stream",
     "text": [
      "/home/user/miniconda3/envs/agc-foundation-demo/lib/python3.10/site-packages/mplhep/utils.py:211: UserWarning: Integer weights indicate poissonian data. Will calculate Garwood interval if ``scipy`` is installed. Otherwise errors will be set to ``sqrt(w2)``.\n",
      "  warnings.warn(\n"
     ]
    },
    {
     "data": {
      "image/png": "[encoded data removed]",
      "text/plain": [
       "<Figure size 900x600 with 1 Axes>"
      ]
     },
     "metadata": {
      "needs_background": "light"
     },
     "output_type": "display_data"
    }
   ],
   "source": [
    "deltaR_hist = hist.Hist(hist.axis.Regular(100, 0, 6, label='$\\Delta R$ between muons'))\n",
    "deltaR_hist.fill(first_muon_p4.deltaR(second_muon_p4))\n",
    "deltaR_hist.plot()\n",
    "plt.ylabel('Number of two-muon events')\n",
    "plt.show()"
   ]
  },
  {
   "cell_type": "markdown",
   "id": "8d9d48bd",
   "metadata": {},
   "source": [
    "In principle, we could use this to clean up our invariant mass distribution, but we’ll skip that for simplicity."
   ]
  },
  {
   "cell_type": "markdown",
   "id": "ab838504",
   "metadata": {},
   "source": [
    "### Dimuon mass"
   ]
  },
  {
   "cell_type": "markdown",
   "id": "6abba670",
   "metadata": {},
   "source": [
    "Adding the four-vectors of the first muon and the second muon for all events is really as easy as:"
   ]
  },
  {
   "cell_type": "code",
   "execution_count": 48,
   "id": "7eb0c171",
   "metadata": {},
   "outputs": [
    {
     "data": {
      "text/plain": [
       "<MomentumArray4D [{rho: 8.79, phi: 1.83, ... tau: 16.5}] type='48976 * Momentum4...'>"
      ]
     },
     "execution_count": 48,
     "metadata": {},
     "output_type": "execute_result"
    }
   ],
   "source": [
    "sum_p4 = first_muon_p4 + second_muon_p4\n",
    "sum_p4"
   ]
  },
  {
   "cell_type": "markdown",
   "id": "6337b660",
   "metadata": {},
   "source": [
    "This is a 1D array of the four-vector sum for each event."
   ]
  },
  {
   "cell_type": "markdown",
   "id": "e54ea5ad",
   "metadata": {},
   "source": [
    "## Physics"
   ]
  },
  {
   "cell_type": "markdown",
   "id": "61a9fbe8",
   "metadata": {},
   "source": [
    "Finally, we want to pick out the opposite-charge dimuon events and look at the distribution of invariant mass. This was our original physics goal in this toy analysis."
   ]
  },
  {
   "cell_type": "markdown",
   "id": "29a79fdf",
   "metadata": {},
   "source": [
    "We create the necessary event mask:"
   ]
  },
  {
   "cell_type": "code",
   "execution_count": 49,
   "id": "aefc4874",
   "metadata": {},
   "outputs": [],
   "source": [
    "two_muons_charges = branches['Muon_charge'][two_muons_mask]\n",
    "opposite_sign_muons_mask = two_muons_charges[:, 0] != two_muons_charges[:, 1]"
   ]
  },
  {
   "cell_type": "markdown",
   "id": "5896c35c",
   "metadata": {},
   "source": [
    "We apply this selection to the four-vector sums to get the dimuon four-vectors:"
   ]
  },
  {
   "cell_type": "code",
   "execution_count": 50,
   "id": "7e33a210",
   "metadata": {},
   "outputs": [],
   "source": [
    "dimuon_p4 = sum_p4[opposite_sign_muons_mask]"
   ]
  },
  {
   "cell_type": "markdown",
   "id": "6cc3eece",
   "metadata": {},
   "source": [
    "And plot:"
   ]
  },
  {
   "cell_type": "code",
   "execution_count": 51,
   "id": "e8c34c62",
   "metadata": {},
   "outputs": [
    {
     "data": {
      "image/png": "[encoded data removed]",
      "text/plain": [
       "<Figure size 900x600 with 1 Axes>"
      ]
     },
     "metadata": {
      "needs_background": "light"
     },
     "output_type": "display_data"
    }
   ],
   "source": [
    "dimuon_mass_hist = hist.Hist(hist.axis.Variable(np.logspace(-1, 3, 200), label='Dimuon invariant mass [GeV]'))\n",
    "dimuon_mass_hist.fill(dimuon_p4.mass)\n",
    "hep.histplot(dimuon_mass_hist, histtype='fill')\n",
    "plt.xscale('log')\n",
    "plt.ylabel('Number of dimuon events')\n",
    "plt.yscale('log')"
   ]
  },
  {
   "cell_type": "markdown",
   "id": "192d0de4",
   "metadata": {},
   "source": [
    "How many dimuon events were selected in total?"
   ]
  },
  {
   "cell_type": "code",
   "execution_count": 52,
   "id": "afb2c852",
   "metadata": {},
   "outputs": [
    {
     "data": {
      "text/plain": [
       "37183"
      ]
     },
     "execution_count": 52,
     "metadata": {},
     "output_type": "execute_result"
    }
   ],
   "source": [
    "len(dimuon_p4)"
   ]
  },
  {
   "cell_type": "markdown",
   "id": "a3b50321",
   "metadata": {},
   "source": [
    "The plot should look like this, where the resonances have been labeled below:"
   ]
  },
  {
   "attachments": {
    "dimuon_invariant_mass_hist_2_labeled.png": {
     "image/png": "[encoded data removed]"
    }
   },
   "cell_type": "markdown",
   "id": "508af98e",
   "metadata": {},
   "source": [
    "![dimuon_invariant_mass_hist_2_labeled.png](attachment:dimuon_invariant_mass_hist_2_labeled.png)"
   ]
  },
  {
   "cell_type": "markdown",
   "id": "c20097be",
   "metadata": {},
   "source": [
    "One of the main features of mplhep is that it provides functions to style histograms to match experiment-specific conventions and labels:"
   ]
  },
  {
   "cell_type": "code",
   "execution_count": 53,
   "id": "4020bc99",
   "metadata": {},
   "outputs": [
    {
     "data": {
      "image/png": "[encoded data removed]",
      "text/plain": [
       "<Figure size 1500x1500 with 1 Axes>"
      ]
     },
     "metadata": {
      "needs_background": "light"
     },
     "output_type": "display_data"
    }
   ],
   "source": [
    "dimuon_mass_hist = hist.Hist(hist.axis.Variable(np.logspace(-1, 3, 200), label='Dimuon invariant mass [GeV]'))\n",
    "dimuon_mass_hist.fill(dimuon_p4.mass)\n",
    "hep.style.use('CMS')\n",
    "hep.histplot(dimuon_mass_hist, histtype='fill')\n",
    "hep.cms.label(data=True, label='Open Data', year=2012, com=8)\n",
    "plt.xscale('log')\n",
    "plt.ylabel('Number of dimuon events')\n",
    "plt.yscale('log')"
   ]
  },
  {
   "cell_type": "markdown",
   "id": "bed2cb92",
   "metadata": {},
   "source": [
    "## Multiple files and large files"
   ]
  },
  {
   "cell_type": "markdown",
   "id": "3d460be4",
   "metadata": {},
   "source": [
    "`uproot.open()` and `tree.arrays()` work fine for looking at one file at a time, but often trees are spread across several ROOT files. There are a few options to deal with this in Uproot."
   ]
  },
  {
   "cell_type": "markdown",
   "id": "995ae176",
   "metadata": {},
   "source": [
    "The simplest is to join all the arrays:"
   ]
  },
  {
   "cell_type": "markdown",
   "id": "e5c3fda6",
   "metadata": {},
   "source": [
    "`uproot.concatenate({'*.root': 'Events'})`"
   ]
  },
  {
   "cell_type": "markdown",
   "id": "af39f698",
   "metadata": {},
   "source": [
    "Another method is to iterate through the entries across all files:\n",
    "\n",
    "```python\n",
    "for events in uproot.iterate({'*.root': 'Events'}, step_size=100):\n",
    "    # do something with events\n",
    "```\n",
    "In each iteration of the loop, `events` is a 100-row chunk of the full tree. This avoids loading all entries at the same time. This is important if the files are too large to fit into memory."
   ]
  },
  {
   "cell_type": "markdown",
   "id": "d62e9d0a",
   "metadata": {},
   "source": [
    "There are also some other techniques to reduce the memory usage. If you are only interested in looking at a few events, you can do:"
   ]
  },
  {
   "cell_type": "code",
   "execution_count": 54,
   "id": "4c8c7d70",
   "metadata": {},
   "outputs": [
    {
     "data": {
      "text/plain": [
       "<Array [{nMuon: 2, Muon_pt: [10.8, ... 1, -1]}] type='100 * {\"nMuon\": uint32, \"M...'>"
      ]
     },
     "execution_count": 54,
     "metadata": {},
     "output_type": "execute_result"
    }
   ],
   "source": [
    "tree.arrays(entry_stop=100)"
   ]
  },
  {
   "cell_type": "markdown",
   "id": "4c5cdc55",
   "metadata": {},
   "source": [
    "If you only need a subset of the branches from the tree, you can load each branch into an array individually, like:"
   ]
  },
  {
   "cell_type": "code",
   "execution_count": 55,
   "id": "a0967969",
   "metadata": {},
   "outputs": [
    {
     "data": {
      "text/plain": [
       "<Array [2, 2, 1, 4, 4, 3, ... 0, 3, 2, 3, 2, 3] type='100000 * uint32'>"
      ]
     },
     "execution_count": 55,
     "metadata": {},
     "output_type": "execute_result"
    }
   ],
   "source": [
    "tree['nMuon'].array()"
   ]
  },
  {
   "cell_type": "markdown",
   "id": "41c0aa73",
   "metadata": {},
   "source": [
    "or you can provide a list of branch names to `arrays` to get only those branches:"
   ]
  },
  {
   "cell_type": "code",
   "execution_count": 56,
   "id": "33bd2e8a",
   "metadata": {},
   "outputs": [
    {
     "data": {
      "text/plain": [
       "<Array [{Muon_pt: [10.8, 15.7, ... 0.764]}] type='100000 * {\"Muon_pt\": var * flo...'>"
      ]
     },
     "execution_count": 56,
     "metadata": {},
     "output_type": "execute_result"
    }
   ],
   "source": [
    "tree.arrays(['Muon_pt', 'Muon_eta'])"
   ]
  },
  {
   "cell_type": "markdown",
   "id": "a13727e5",
   "metadata": {},
   "source": [
    "My preference is to use `uproot.lazy()`:"
   ]
  },
  {
   "cell_type": "code",
   "execution_count": 57,
   "id": "da0990e3",
   "metadata": {},
   "outputs": [],
   "source": [
    "lazy_branches = uproot.lazy({'open-data-example.root': 'Events'}, step_size=100000)"
   ]
  },
  {
   "cell_type": "markdown",
   "id": "ab5943dc",
   "metadata": {},
   "source": [
    "# New objects and files"
   ]
  },
  {
   "cell_type": "markdown",
   "id": "4e899f18",
   "metadata": {},
   "source": [
    "So far, we've seen how Uproot, Awkward, and Vector can be used to read and manipulate data from already existing ROOT files. In this section, we'll look at how these packages can also be used to construct new objects and write data to files."
   ]
  },
  {
   "cell_type": "markdown",
   "id": "b254b22a",
   "metadata": {},
   "source": [
    "## Arrays"
   ]
  },
  {
   "cell_type": "markdown",
   "id": "3a7eff64",
   "metadata": {},
   "source": [
    "New `Arrays` can be easily be created like NumPy's `np.array`:"
   ]
  },
  {
   "cell_type": "code",
   "execution_count": 58,
   "id": "a713c64a",
   "metadata": {},
   "outputs": [
    {
     "data": {
      "text/plain": [
       "<Array [[1], [2, 3], [], [4]] type='4 * var * int64'>"
      ]
     },
     "execution_count": 58,
     "metadata": {},
     "output_type": "execute_result"
    }
   ],
   "source": [
    "ak.Array([[1],\n",
    "          [2, 3],\n",
    "          [],\n",
    "          [4]])"
   ]
  },
  {
   "cell_type": "markdown",
   "id": "9882fb3f",
   "metadata": {},
   "source": [
    "## Vectors"
   ]
  },
  {
   "cell_type": "markdown",
   "id": "6479e506",
   "metadata": {},
   "source": [
    "Individual vectors can be created with `vector.obj`:"
   ]
  },
  {
   "cell_type": "code",
   "execution_count": 59,
   "id": "21b813ee",
   "metadata": {},
   "outputs": [
    {
     "data": {
      "text/plain": [
       "vector.obj(pt=1, phi=1, eta=1, E=2)"
      ]
     },
     "execution_count": 59,
     "metadata": {},
     "output_type": "execute_result"
    }
   ],
   "source": [
    "vector.obj(pt=1, eta=1, phi=1, e=2)"
   ]
  },
  {
   "cell_type": "markdown",
   "id": "c3d55330",
   "metadata": {},
   "source": [
    "And we've already seen a way to make arrays of vectors:"
   ]
  },
  {
   "cell_type": "code",
   "execution_count": 60,
   "id": "8e929821",
   "metadata": {},
   "outputs": [
    {
     "data": {
      "text/plain": [
       "<MomentumArray4D [{rho: 1, phi: 1, eta: 1, t: 2}] type='1 * Momentum4D[\"rho\": in...'>"
      ]
     },
     "execution_count": 60,
     "metadata": {},
     "output_type": "execute_result"
    }
   ],
   "source": [
    "vector.zip({'pt': ak.Array([1]),\n",
    "            'eta': ak.Array([1]),\n",
    "            'phi': ak.Array([1]),\n",
    "            'e': ak.Array([2])})"
   ]
  },
  {
   "cell_type": "markdown",
   "id": "497e7e4b",
   "metadata": {},
   "source": [
    "## Files"
   ]
  },
  {
   "cell_type": "markdown",
   "id": "3b12812b",
   "metadata": {},
   "source": [
    "To write to a ROOT file, use `uproot.create()`, `uproot.recreate()`, or `uproot.update()`, which correspond to the same modes as in the `option` parameter of ROOT's `TFile.Open()`. For example, to create or replace `new_file.root`:"
   ]
  },
  {
   "cell_type": "code",
   "execution_count": 61,
   "id": "22b4629d",
   "metadata": {},
   "outputs": [
    {
     "data": {
      "text/plain": [
       "<WritableDirectory '/' at 0x7f1d18beb3a0>"
      ]
     },
     "execution_count": 61,
     "metadata": {},
     "output_type": "execute_result"
    }
   ],
   "source": [
    "uproot.recreate('new_file.root')"
   ]
  },
  {
   "cell_type": "markdown",
   "id": "b5598c22",
   "metadata": {},
   "source": [
    "Writable file objects allow an assignment syntax for new elements, similar to a dictionary:\n",
    "```\n",
    "file['new_object_name'] = new_object\n",
    "```"
   ]
  },
  {
   "cell_type": "markdown",
   "id": "ac12fcac",
   "metadata": {},
   "source": [
    "## Trees"
   ]
  },
  {
   "cell_type": "markdown",
   "id": "bb02015b",
   "metadata": {},
   "source": [
    "Trees can be specified by an `Array` or a dictionary of arrays:"
   ]
  },
  {
   "cell_type": "code",
   "execution_count": 62,
   "id": "2f77a2fc",
   "metadata": {},
   "outputs": [],
   "source": [
    "with uproot.update('new_file.root') as new_file:\n",
    "    new_file['new_tree'] = {'branch1': ak.Array([1]), 'branch2': ak.Array([2])}"
   ]
  },
  {
   "cell_type": "markdown",
   "id": "3079922b",
   "metadata": {},
   "source": [
    "And just to make sure we can read this back:"
   ]
  },
  {
   "cell_type": "code",
   "execution_count": 63,
   "id": "f3e8d552",
   "metadata": {},
   "outputs": [
    {
     "data": {
      "text/plain": [
       "<Array [{branch1: 1, branch2: 2}] type='1 * {\"branch1\": int64, \"branch2\": int64}'>"
      ]
     },
     "execution_count": 63,
     "metadata": {},
     "output_type": "execute_result"
    }
   ],
   "source": [
    "uproot.open('new_file.root')['new_tree'].arrays()"
   ]
  },
  {
   "cell_type": "markdown",
   "id": "14654436",
   "metadata": {},
   "source": [
    "## Histograms"
   ]
  },
  {
   "cell_type": "markdown",
   "id": "25d6b02d",
   "metadata": {},
   "source": [
    "Histograms from Hist (or NumPy) can be interpreted into ROOT's `TH1`. Let's save our dimuon mass histogram to this new ROOT file:"
   ]
  },
  {
   "cell_type": "code",
   "execution_count": 64,
   "id": "248f6aef",
   "metadata": {},
   "outputs": [],
   "source": [
    "with uproot.update('new_file.root') as new_file:\n",
    "    new_file['new_histogram'] = dimuon_mass_hist"
   ]
  },
  {
   "cell_type": "markdown",
   "id": "d6a7b051",
   "metadata": {},
   "source": [
    "## Reopening"
   ]
  },
  {
   "cell_type": "markdown",
   "id": "6a602cd4",
   "metadata": {},
   "source": [
    "And again make sure we can read it back correctly:"
   ]
  },
  {
   "cell_type": "code",
   "execution_count": 65,
   "id": "f524745c",
   "metadata": {},
   "outputs": [],
   "source": [
    "t = uproot.open('new_file.root')['new_histogram']"
   ]
  },
  {
   "cell_type": "code",
   "execution_count": 66,
   "id": "30aa7c9a",
   "metadata": {},
   "outputs": [
    {
     "name": "stderr",
     "output_type": "stream",
     "text": [
      "/home/user/miniconda3/envs/agc-foundation-demo/lib/python3.10/site-packages/mplhep/utils.py:211: UserWarning: Integer weights indicate poissonian data. Will calculate Garwood interval if ``scipy`` is installed. Otherwise errors will be set to ``sqrt(w2)``.\n",
      "  warnings.warn(\n"
     ]
    },
    {
     "data": {
      "image/png": "[encoded data removed]",
      "text/plain": [
       "<Figure size 1500x1500 with 1 Axes>"
      ]
     },
     "metadata": {
      "needs_background": "light"
     },
     "output_type": "display_data"
    }
   ],
   "source": [
    "new_histogram = uproot.open('new_file.root')['new_histogram'].to_hist()\n",
    "new_histogram.plot()\n",
    "plt.ylabel('Number of dimuon events')\n",
    "plt.xscale('log')\n",
    "plt.yscale('log')\n",
    "plt.show()"
   ]
  },
  {
   "cell_type": "markdown",
   "id": "ff0b05da",
   "metadata": {},
   "source": [
    "Of course ROOT can read these newly created files as well, which makes it easy to drop in an Uproot-based replacement for any part of an analysis, even if later steps still expect ROOT files as input."
   ]
  },
  {
   "cell_type": "markdown",
   "id": "003ed898",
   "metadata": {},
   "source": [
    "# Aside: Numba support"
   ]
  },
  {
   "cell_type": "markdown",
   "id": "e2812082",
   "metadata": {},
   "source": [
    "Awkward Array also supports Numba, which is a library that just-in-time (JIT) compiles Python functions. This means that you can write loops in Python but use Numba to get close to C++ performance. This can be particularly helpful for analysis algorithms that are difficult to translate into fully columnar operations."
   ]
  },
  {
   "cell_type": "markdown",
   "id": "c55d8ee3",
   "metadata": {},
   "source": [
    "# Conclusion"
   ]
  },
  {
   "cell_type": "markdown",
   "id": "2e1999e9",
   "metadata": {},
   "source": [
    "There are many powerful Python packages available for HEP data analysis, and I've only breifly gone through a few of the most popular ones here. In summary, these packages (roughly) do the following:\n",
    "\n",
    "- Uproot: read and write ROOT files\n",
    "- Awkward Array: manipulate jagged arrays\n",
    "- Vector: four-vector operations\n",
    "- Hist: define and fill histograms\n",
    "- mplhep: plot and style histograms"
   ]
  },
  {
   "cell_type": "markdown",
   "id": "a9135208",
   "metadata": {},
   "source": [
    "# Links to more detailed resources"
   ]
  },
  {
   "cell_type": "markdown",
   "id": "b361e138",
   "metadata": {},
   "source": [
    "- Uproot\n",
    "    - [GitHub repository](https://github.com/scikit-hep/uproot4)\n",
    "    - [Documentation](https://uproot.readthedocs.io/en/latest/)\n",
    "- Awkward\n",
    "    - [GitHub repository](https://github.com/scikit-hep/awkward-1.0)\n",
    "        - Contains several links to other presentations/tutorials\n",
    "    - [Documentation](https://awkward-array.org/quickstart.html)\n",
    "- Vector\n",
    "    - [GitHub repository](https://github.com/scikit-hep/vector)\n",
    "    - [Documentation](https://vector.readthedocs.io/en/latest/)\n",
    "- Hist\n",
    "    - [GitHub repository](https://github.com/scikit-hep/hist)\n",
    "    - [Documentation](https://hist.readthedocs.io/en/latest/)\n",
    "- mplhep\n",
    "    - [GitHub repository](https://github.com/scikit-hep/mplhep)\n",
    "    - [Documentation](https://mplhep.readthedocs.io/en/latest/)"
   ]
  }
 ],
 "metadata": {
  "kernelspec": {
   "display_name": "Python 3 (ipykernel)",
   "language": "python",
   "name": "python3"
  },
  "language_info": {
   "codemirror_mode": {
    "name": "ipython",
    "version": 3
   },
   "file_extension": ".py",
   "mimetype": "text/x-python",
   "name": "python",
   "nbconvert_exporter": "python",
   "pygments_lexer": "ipython3",
   "version": "3.10.4"
  }
 },
 "nbformat": 4,
 "nbformat_minor": 5
}
